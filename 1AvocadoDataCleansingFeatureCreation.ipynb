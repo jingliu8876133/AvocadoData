{
  "nbformat": 4,
  "nbformat_minor": 0,
  "metadata": {
    "kernelspec": {
      "display_name": "Python 3",
      "language": "python",
      "name": "python3"
    },
    "language_info": {
      "codemirror_mode": {
        "name": "ipython",
        "version": 3
      },
      "file_extension": ".py",
      "mimetype": "text/x-python",
      "name": "python",
      "nbconvert_exporter": "python",
      "pygments_lexer": "ipython3",
      "version": "3.7.5"
    },
    "colab": {
      "name": "1AvocadoDataCleansingFeatureCreation.ipynb",
      "provenance": [],
      "include_colab_link": true
    }
  },
  "cells": [
    {
      "cell_type": "markdown",
      "metadata": {
        "id": "view-in-github",
        "colab_type": "text"
      },
      "source": [
        "<a href=\"https://colab.research.google.com/github/jingliu8876133/AvocadoData/blob/master/1AvocadoDataCleansingFeatureCreation.ipynb\" target=\"_parent\"><img src=\"https://colab.research.google.com/assets/colab-badge.svg\" alt=\"Open In Colab\"/></a>"
      ]
    },
    {
      "cell_type": "markdown",
      "metadata": {
        "id": "v0kdX2qNLda9",
        "colab_type": "text"
      },
      "source": [
        "# AvocadoPriceAnalysisAndPrediction_Part1\n",
        "## [Data Cleansing and Feature Creation]\n",
        "#### Avocado Prices and Sales Volume in multiple US markets (2015-2020)\n",
        "\n",
        "\n",
        "### Use case\n",
        "\n",
        "Our stake holder is in the avocado trading businees. \n",
        "The most interesting thing for him/her at the moment is whether the avocado price in the next week will go up or down.\n",
        "\n",
        "### Content\n",
        "\n",
        "1. [Import data](#Import-data)\n",
        "2. [Data Cleansing and Feature Creation](#Data-Cleansing-and-Feature-Creation):\n",
        "(1) [Column_Date](#Column_Date);\n",
        "(2) [Column_AveragePrice](#Column_AveragePrice);\n",
        "(3) [Column_Total_Volume](#Column_Total_Volume); \n",
        "(4) [Column_Region](#Column_Region);\n",
        "(5) [Column_Types](#Column_Types);\n",
        "3. [Export data](#Export-data)\n",
        "\n",
        "\n",
        "##### Input Data resource AvocadoPriceTotalUS20152019.csv#####\n",
        "    The data I used in this project is from Kaggle page (https://www.kaggle.com/alanluo418/avocado-prices-20152019). All the data was obtained from the Hass Avocado Board website in January of 2020.\n",
        "    The above page refers to an earlier Kaggle page about Avocado price (https://www.kaggle.com/neuromusic/avocado-prices).\n",
        "\n",
        "##### Columns in the input dataset AvocadoPriceTotalUS20152019.csv#####\n",
        "    Date - The date of the observation\n",
        "    AveragePrice - The Average Sales Price of Current Year\n",
        "    Total Volume - Total Bulk and Bags Units\n",
        "    4046 - Total number of avocados with PLU 4046 sold\n",
        "    4225 - Total number of avocados with PLU 4225 sold\n",
        "    4770 - Total number of avocados with PLU 4770 sold\n",
        "    type - conventional or organic\n",
        "    year - the current year\n",
        "    region - the city or region of the observation\n",
        "    \n",
        "    -------------------------------------------------------\n",
        "\n",
        "    TotalVolume = 4046 + 4225 + 4770 + TotalBags\n",
        "    TotalBags = SmallBags + LargeBags + XLargeBags\n",
        "\n",
        "##### Output dataset after cleansing and feature creation #####\n",
        "    From the Kaggle dataset AvocadoPriceTotalUS20152019.csv, I created a dataset for my analysis, which is called AfterCleansingFeatureCreation_AvocadoPriceUSA20152019.csv. \n",
        "    \n",
        "    Following points have been addressed:\n",
        "    \n",
        "    1. Identify different naming ways for the region columns. For example,'TotalUS' (before 2016) vs 'Total U.S.'(since 2016). Solution: Unifying the naming ways and create a new columns called Region by removing all the non-letter compoenent in the region name.\n",
        "    \n",
        "    2. Identify the regions with different geographic levels, countries, states, cities. Conclude to use city level region data for the analysis for three reasons. First, choosing a level to work with is to avoid multiple counting of the same data. Second, city level data gives more insight about the geographic distribution. Third, the country level data has anomaly in the AveragePrice and Total Volumne columns, while the state-level data is far away from complete.\n",
        "    \n",
        "    3. I added columns of the geograhic information of the region based on the information here: https://raw.githubusercontent.com/plotly/datasets/master/2014_us_cities.csv\n",
        "    \n",
        "    4. I forced the date to be have pandas date format, so it is easiler to be used.\n",
        "    \n",
        "    \n",
        "##### Columns in the output dataset AfterCleansingFeatureCreation_AvocadoPriceUSA20152019.csv#####\n",
        "    Date - The date of the observation\n",
        "    AveragePrice - The Average Sales Price of Current Year\n",
        "    Total Volume - Total Bulk and Bags Units\n",
        "    4046 - Total number of avocados with PLU 4046 sold\n",
        "    4225 - Total number of avocados with PLU 4225 sold\n",
        "    4770 - Total number of avocados with PLU 4770 sold\n",
        "    Total Bags - \n",
        "    Small Bags - \n",
        "    Large Bags - \n",
        "    XLarge Bags - \n",
        "    type - conventional or organic\n",
        "    year - the current year\n",
        "    region - original region name with not consistent name\n",
        "    Month - the current month\n",
        "    Region - region names after unification\n",
        "    name - region name in the orginal geo_dataframe\n",
        "    pop - population of the region\n",
        "    lat - latitude of the region\n",
        "    lon - longitude of the region\n",
        "    \n",
        " "
      ]
    },
    {
      "cell_type": "code",
      "metadata": {
        "id": "8BDwqZXnLdbA",
        "colab_type": "code",
        "colab": {}
      },
      "source": [
        "import numpy as np\n",
        "import pandas as pd\n",
        "import seaborn as sns\n",
        "sns.set_style('white')\n",
        "import matplotlib.pyplot as plt\n",
        "import tensorflow as tf\n",
        "import numpy as np\n",
        "from numpy import concatenate\n",
        "from matplotlib import pyplot\n",
        "from pandas import read_csv\n",
        "from pandas import DataFrame\n",
        "from pandas import concat\n",
        "import sklearn\n",
        "from sklearn.preprocessing import MinMaxScaler\n",
        "from sklearn.metrics import mean_squared_error\n",
        "from tensorflow.keras.models import Sequential\n",
        "from tensorflow.keras.layers import Dense, Dropout\n",
        "from tensorflow.keras.layers import LSTM\n",
        "from tensorflow.keras.callbacks import Callback\n",
        "from tensorflow.keras.models import Sequential\n",
        "from tensorflow.keras.layers import LSTM, Dense, Activation\n",
        "import pickle\n",
        "import matplotlib.pyplot as plt\n",
        "from mpl_toolkits.mplot3d import Axes3D\n",
        "import sys\n",
        "from queue import Queue\n",
        "import pandas as pd\n",
        "import json\n",
        "%matplotlib inline"
      ],
      "execution_count": 0,
      "outputs": []
    },
    {
      "cell_type": "markdown",
      "metadata": {
        "id": "a4eHSixkLdbE",
        "colab_type": "text"
      },
      "source": [
        "## Import data"
      ]
    },
    {
      "cell_type": "code",
      "metadata": {
        "id": "0GmYXsECLdbF",
        "colab_type": "code",
        "colab": {},
        "outputId": "e9916408-2311-4867-f7c7-beae794ca652"
      },
      "source": [
        "df = pd.read_csv('../Captone/Avocado20152020.csv')\n",
        "df.head()"
      ],
      "execution_count": 0,
      "outputs": [
        {
          "output_type": "execute_result",
          "data": {
            "text/html": [
              "<div>\n",
              "<style scoped>\n",
              "    .dataframe tbody tr th:only-of-type {\n",
              "        vertical-align: middle;\n",
              "    }\n",
              "\n",
              "    .dataframe tbody tr th {\n",
              "        vertical-align: top;\n",
              "    }\n",
              "\n",
              "    .dataframe thead th {\n",
              "        text-align: right;\n",
              "    }\n",
              "</style>\n",
              "<table border=\"1\" class=\"dataframe\">\n",
              "  <thead>\n",
              "    <tr style=\"text-align: right;\">\n",
              "      <th></th>\n",
              "      <th>Date</th>\n",
              "      <th>AveragePrice</th>\n",
              "      <th>Total Volume</th>\n",
              "      <th>4046</th>\n",
              "      <th>4225</th>\n",
              "      <th>4770</th>\n",
              "      <th>Total Bags</th>\n",
              "      <th>Small Bags</th>\n",
              "      <th>Large Bags</th>\n",
              "      <th>XLarge Bags</th>\n",
              "      <th>type</th>\n",
              "      <th>year</th>\n",
              "      <th>region</th>\n",
              "    </tr>\n",
              "  </thead>\n",
              "  <tbody>\n",
              "    <tr>\n",
              "      <th>0</th>\n",
              "      <td>2015-01-04</td>\n",
              "      <td>1.22</td>\n",
              "      <td>40873.28</td>\n",
              "      <td>2819.50</td>\n",
              "      <td>28287.42</td>\n",
              "      <td>49.90</td>\n",
              "      <td>9716.46</td>\n",
              "      <td>9186.93</td>\n",
              "      <td>529.53</td>\n",
              "      <td>0.0</td>\n",
              "      <td>conventional</td>\n",
              "      <td>2015</td>\n",
              "      <td>Albany</td>\n",
              "    </tr>\n",
              "    <tr>\n",
              "      <th>1</th>\n",
              "      <td>2015-01-11</td>\n",
              "      <td>1.24</td>\n",
              "      <td>41195.08</td>\n",
              "      <td>1002.85</td>\n",
              "      <td>31640.34</td>\n",
              "      <td>127.12</td>\n",
              "      <td>8424.77</td>\n",
              "      <td>8036.04</td>\n",
              "      <td>388.73</td>\n",
              "      <td>0.0</td>\n",
              "      <td>conventional</td>\n",
              "      <td>2015</td>\n",
              "      <td>Albany</td>\n",
              "    </tr>\n",
              "    <tr>\n",
              "      <th>2</th>\n",
              "      <td>2015-01-18</td>\n",
              "      <td>1.17</td>\n",
              "      <td>44511.28</td>\n",
              "      <td>914.14</td>\n",
              "      <td>31540.32</td>\n",
              "      <td>135.77</td>\n",
              "      <td>11921.05</td>\n",
              "      <td>11651.09</td>\n",
              "      <td>269.96</td>\n",
              "      <td>0.0</td>\n",
              "      <td>conventional</td>\n",
              "      <td>2015</td>\n",
              "      <td>Albany</td>\n",
              "    </tr>\n",
              "    <tr>\n",
              "      <th>3</th>\n",
              "      <td>2015-01-25</td>\n",
              "      <td>1.06</td>\n",
              "      <td>45147.50</td>\n",
              "      <td>941.38</td>\n",
              "      <td>33196.16</td>\n",
              "      <td>164.14</td>\n",
              "      <td>10845.82</td>\n",
              "      <td>10103.35</td>\n",
              "      <td>742.47</td>\n",
              "      <td>0.0</td>\n",
              "      <td>conventional</td>\n",
              "      <td>2015</td>\n",
              "      <td>Albany</td>\n",
              "    </tr>\n",
              "    <tr>\n",
              "      <th>4</th>\n",
              "      <td>2015-02-01</td>\n",
              "      <td>0.99</td>\n",
              "      <td>70873.60</td>\n",
              "      <td>1353.90</td>\n",
              "      <td>60017.20</td>\n",
              "      <td>179.32</td>\n",
              "      <td>9323.18</td>\n",
              "      <td>9170.82</td>\n",
              "      <td>152.36</td>\n",
              "      <td>0.0</td>\n",
              "      <td>conventional</td>\n",
              "      <td>2015</td>\n",
              "      <td>Albany</td>\n",
              "    </tr>\n",
              "  </tbody>\n",
              "</table>\n",
              "</div>"
            ],
            "text/plain": [
              "         Date  AveragePrice  Total Volume     4046      4225    4770  \\\n",
              "0  2015-01-04          1.22      40873.28  2819.50  28287.42   49.90   \n",
              "1  2015-01-11          1.24      41195.08  1002.85  31640.34  127.12   \n",
              "2  2015-01-18          1.17      44511.28   914.14  31540.32  135.77   \n",
              "3  2015-01-25          1.06      45147.50   941.38  33196.16  164.14   \n",
              "4  2015-02-01          0.99      70873.60  1353.90  60017.20  179.32   \n",
              "\n",
              "   Total Bags  Small Bags  Large Bags  XLarge Bags          type  year  region  \n",
              "0     9716.46     9186.93      529.53          0.0  conventional  2015  Albany  \n",
              "1     8424.77     8036.04      388.73          0.0  conventional  2015  Albany  \n",
              "2    11921.05    11651.09      269.96          0.0  conventional  2015  Albany  \n",
              "3    10845.82    10103.35      742.47          0.0  conventional  2015  Albany  \n",
              "4     9323.18     9170.82      152.36          0.0  conventional  2015  Albany  "
            ]
          },
          "metadata": {
            "tags": []
          },
          "execution_count": 2
        }
      ]
    },
    {
      "cell_type": "code",
      "metadata": {
        "id": "7QlVmF8ELdbJ",
        "colab_type": "code",
        "colab": {},
        "outputId": "f48bcbdf-7b49-4db7-e926-31eba1340277"
      },
      "source": [
        "df.info()"
      ],
      "execution_count": 0,
      "outputs": [
        {
          "output_type": "stream",
          "text": [
            "<class 'pandas.core.frame.DataFrame'>\n",
            "RangeIndex: 27323 entries, 0 to 27322\n",
            "Data columns (total 13 columns):\n",
            "Date            27323 non-null object\n",
            "AveragePrice    27323 non-null float64\n",
            "Total Volume    27323 non-null float64\n",
            "4046            27323 non-null float64\n",
            "4225            27323 non-null float64\n",
            "4770            27323 non-null float64\n",
            "Total Bags      27323 non-null float64\n",
            "Small Bags      27323 non-null float64\n",
            "Large Bags      27323 non-null float64\n",
            "XLarge Bags     27323 non-null float64\n",
            "type            27323 non-null object\n",
            "year            27323 non-null int64\n",
            "region          27323 non-null object\n",
            "dtypes: float64(9), int64(1), object(3)\n",
            "memory usage: 2.7+ MB\n"
          ],
          "name": "stdout"
        }
      ]
    },
    {
      "cell_type": "markdown",
      "metadata": {
        "id": "aKhaElE2LdbN",
        "colab_type": "text"
      },
      "source": [
        "## Data Cleansing and Feature Creation"
      ]
    },
    {
      "cell_type": "markdown",
      "metadata": {
        "id": "YL1MLCIqLdbO",
        "colab_type": "text"
      },
      "source": [
        "Check if there is null values"
      ]
    },
    {
      "cell_type": "code",
      "metadata": {
        "id": "1lxtENpQLdbP",
        "colab_type": "code",
        "colab": {},
        "outputId": "eadad880-4331-42ae-bfc3-2c101b5c6060"
      },
      "source": [
        "sns.heatmap(df.isnull(),yticklabels=False,cbar=False,cmap='viridis')\n"
      ],
      "execution_count": 0,
      "outputs": [
        {
          "output_type": "execute_result",
          "data": {
            "text/plain": [
              "<matplotlib.axes._subplots.AxesSubplot at 0x1a304fa710>"
            ]
          },
          "metadata": {
            "tags": []
          },
          "execution_count": 4
        },
        {
          "output_type": "display_data",
          "data": {
            "image/png": "[encoded data removed]",
            "text/plain": [
              "<Figure size 432x288 with 1 Axes>"
            ]
          },
          "metadata": {
            "tags": [],
            "needs_background": "light"
          }
        }
      ]
    },
    {
      "cell_type": "markdown",
      "metadata": {
        "id": "nmPez2sYLdbS",
        "colab_type": "text"
      },
      "source": [
        "    It seems that we do not have null data here. But we still need to check carefully."
      ]
    },
    {
      "cell_type": "markdown",
      "metadata": {
        "id": "Eia_WTVVLdbT",
        "colab_type": "text"
      },
      "source": [
        "### Column_Date"
      ]
    },
    {
      "cell_type": "markdown",
      "metadata": {
        "id": "8hVi0TctLdbU",
        "colab_type": "text"
      },
      "source": [
        "Let's force the date to be a pandas datetime columns, so that we can also have monthly, yearly data more easily."
      ]
    },
    {
      "cell_type": "code",
      "metadata": {
        "id": "_Ib_GmPmLdbU",
        "colab_type": "code",
        "colab": {}
      },
      "source": [
        "df['Date'] = pd.to_datetime(df['Date'])\n",
        "df['Month'] = df['Date'].dt.month\n",
        "df.head()"
      ],
      "execution_count": 0,
      "outputs": []
    },
    {
      "cell_type": "markdown",
      "metadata": {
        "id": "AHLlOUj6LdbY",
        "colab_type": "text"
      },
      "source": [
        "### Column_AveragePrice"
      ]
    },
    {
      "cell_type": "markdown",
      "metadata": {
        "id": "1xusOlSoLdbY",
        "colab_type": "text"
      },
      "source": [
        " This is one of the most interesting data for us in this dataset. "
      ]
    },
    {
      "cell_type": "code",
      "metadata": {
        "id": "Uwc16isPLdbZ",
        "colab_type": "code",
        "colab": {},
        "outputId": "f6a22429-ef32-4e58-a70f-66a8ea232f84"
      },
      "source": [
        "#Let's plot a overall time series for the Average Price.\n",
        "\n",
        "import plotly\n",
        "from plotly.offline import init_notebook_mode, iplot\n",
        "import plotly.graph_objs as go\n",
        "init_notebook_mode(connected=True)\n",
        "\n",
        "groupBy_Overall = df.groupby('Date').mean()\n",
        "\n",
        "scatter = go.Scatter(x=groupBy_Overall.AveragePrice.index, y=groupBy_Overall.AveragePrice,mode='lines+markers',\n",
        "                    marker=dict(\n",
        "                                 color='rgb(248,146,146)',\n",
        "                                 line=dict(\n",
        "                                 color='rgb(249,52,52)',\n",
        "                                 width=1.5)),\n",
        "                                opacity=0.8)\n",
        "data = [scatter]\n",
        "layout = go.Layout(title='Time Series Plot for Mean Daily Price',\n",
        "                  xaxis={'title':'Date'},yaxis={'title':'Prices'})\n",
        "\n",
        "figure = go.Figure(data=data, layout=layout)\n",
        "iplot(figure)\n"
      ],
      "execution_count": 0,
      "outputs": [
        {
          "output_type": "display_data",
          "data": {
            "text/html": [
              "        <script type=\"text/javascript\">\n",
              "        window.PlotlyConfig = {MathJaxConfig: 'local'};\n",
              "        if (window.MathJax) {MathJax.Hub.Config({SVG: {font: \"STIX-Web\"}});}\n",
              "        if (typeof require !== 'undefined') {\n",
              "        require.undef(\"plotly\");\n",
              "        requirejs.config({\n",
              "            paths: {\n",
              "                'plotly': ['https://cdn.plot.ly/plotly-latest.min']\n",
              "            }\n",
              "        });\n",
              "        require(['plotly'], function(Plotly) {\n",
              "            window._Plotly = Plotly;\n",
              "        });\n",
              "        }\n",
              "        </script>\n",
              "        "
            ]
          },
          "metadata": {
            "tags": []
          }
        },
        {
          "output_type": "display_data",
          "data": {
            "application/vnd.plotly.v1+json": {
              "config": {
                "linkText": "Export to plot.ly",
                "plotlyServerURL": "https://plot.ly",
                "showLink": false
              },
              "data": [
                {
                  "marker": {
                    "color": "rgb(248,146,146)",
                    "line": {
                      "color": "rgb(249,52,52)",
                      "width": 1.5
                    }
                  },
                  "mode": "lines+markers",
                  "opacity": 0.8,
                  "type": "scatter",
                  "x": [
                    "2015-01-04T00:00:00",
                    "2015-01-11T00:00:00",
                    "2015-01-18T00:00:00",
                    "2015-01-25T00:00:00",
                    "2015-02-01T00:00:00",
                    "2015-02-08T00:00:00",
                    "2015-02-15T00:00:00",
                    "2015-02-22T00:00:00",
                    "2015-03-01T00:00:00",
                    "2015-03-08T00:00:00",
                    "2015-03-15T00:00:00",
                    "2015-03-22T00:00:00",
                    "2015-03-29T00:00:00",
                    "2015-04-05T00:00:00",
                    "2015-04-12T00:00:00",
                    "2015-04-19T00:00:00",
                    "2015-04-26T00:00:00",
                    "2015-05-03T00:00:00",
                    "2015-05-10T00:00:00",
                    "2015-05-17T00:00:00",
                    "2015-05-24T00:00:00",
                    "2015-05-31T00:00:00",
                    "2015-06-07T00:00:00",
                    "2015-06-14T00:00:00",
                    "2015-06-21T00:00:00",
                    "2015-06-28T00:00:00",
                    "2015-07-05T00:00:00",
                    "2015-07-12T00:00:00",
                    "2015-07-19T00:00:00",
                    "2015-07-26T00:00:00",
                    "2015-08-02T00:00:00",
                    "2015-08-09T00:00:00",
                    "2015-08-16T00:00:00",
                    "2015-08-23T00:00:00",
                    "2015-08-30T00:00:00",
                    "2015-09-06T00:00:00",
                    "2015-09-13T00:00:00",
                    "2015-09-20T00:00:00",
                    "2015-09-27T00:00:00",
                    "2015-10-04T00:00:00",
                    "2015-10-11T00:00:00",
                    "2015-10-18T00:00:00",
                    "2015-10-25T00:00:00",
                    "2015-11-01T00:00:00",
                    "2015-11-08T00:00:00",
                    "2015-11-15T00:00:00",
                    "2015-11-22T00:00:00",
                    "2015-11-29T00:00:00",
                    "2015-12-06T00:00:00",
                    "2015-12-13T00:00:00",
                    "2015-12-20T00:00:00",
                    "2015-12-27T00:00:00",
                    "2016-01-04T00:00:00",
                    "2016-01-10T00:00:00",
                    "2016-01-17T00:00:00",
                    "2016-01-24T00:00:00",
                    "2016-01-31T00:00:00",
                    "2016-02-07T00:00:00",
                    "2016-02-14T00:00:00",
                    "2016-02-21T00:00:00",
                    "2016-02-28T00:00:00",
                    "2016-03-06T00:00:00",
                    "2016-03-13T00:00:00",
                    "2016-03-20T00:00:00",
                    "2016-03-27T00:00:00",
                    "2016-04-03T00:00:00",
                    "2016-04-10T00:00:00",
                    "2016-04-17T00:00:00",
                    "2016-04-24T00:00:00",
                    "2016-05-01T00:00:00",
                    "2016-05-08T00:00:00",
                    "2016-05-15T00:00:00",
                    "2016-05-22T00:00:00",
                    "2016-05-29T00:00:00",
                    "2016-06-05T00:00:00",
                    "2016-06-12T00:00:00",
                    "2016-06-19T00:00:00",
                    "2016-06-26T00:00:00",
                    "2016-07-03T00:00:00",
                    "2016-07-10T00:00:00",
                    "2016-07-17T00:00:00",
                    "2016-07-24T00:00:00",
                    "2016-07-31T00:00:00",
                    "2016-08-07T00:00:00",
                    "2016-08-14T00:00:00",
                    "2016-08-21T00:00:00",
                    "2016-08-28T00:00:00",
                    "2016-09-04T00:00:00",
                    "2016-09-11T00:00:00",
                    "2016-09-18T00:00:00",
                    "2016-09-25T00:00:00",
                    "2016-10-02T00:00:00",
                    "2016-10-09T00:00:00",
                    "2016-10-16T00:00:00",
                    "2016-10-23T00:00:00",
                    "2016-10-30T00:00:00",
                    "2016-11-06T00:00:00",
                    "2016-11-13T00:00:00",
                    "2016-11-20T00:00:00",
                    "2016-11-27T00:00:00",
                    "2016-12-04T00:00:00",
                    "2016-12-11T00:00:00",
                    "2016-12-18T00:00:00",
                    "2016-12-25T00:00:00",
                    "2017-01-02T00:00:00",
                    "2017-01-08T00:00:00",
                    "2017-01-15T00:00:00",
                    "2017-01-22T00:00:00",
                    "2017-01-29T00:00:00",
                    "2017-02-05T00:00:00",
                    "2017-02-12T00:00:00",
                    "2017-02-19T00:00:00",
                    "2017-02-26T00:00:00",
                    "2017-03-05T00:00:00",
                    "2017-03-12T00:00:00",
                    "2017-03-19T00:00:00",
                    "2017-03-26T00:00:00",
                    "2017-04-02T00:00:00",
                    "2017-04-09T00:00:00",
                    "2017-04-16T00:00:00",
                    "2017-04-23T00:00:00",
                    "2017-04-30T00:00:00",
                    "2017-05-07T00:00:00",
                    "2017-05-14T00:00:00",
                    "2017-05-21T00:00:00",
                    "2017-05-28T00:00:00",
                    "2017-06-04T00:00:00",
                    "2017-06-11T00:00:00",
                    "2017-06-18T00:00:00",
                    "2017-06-25T00:00:00",
                    "2017-07-02T00:00:00",
                    "2017-07-09T00:00:00",
                    "2017-07-16T00:00:00",
                    "2017-07-23T00:00:00",
                    "2017-07-30T00:00:00",
                    "2017-08-06T00:00:00",
                    "2017-08-13T00:00:00",
                    "2017-08-20T00:00:00",
                    "2017-08-27T00:00:00",
                    "2017-09-03T00:00:00",
                    "2017-09-10T00:00:00",
                    "2017-09-17T00:00:00",
                    "2017-09-24T00:00:00",
                    "2017-10-01T00:00:00",
                    "2017-10-08T00:00:00",
                    "2017-10-15T00:00:00",
                    "2017-10-22T00:00:00",
                    "2017-10-29T00:00:00",
                    "2017-11-05T00:00:00",
                    "2017-11-12T00:00:00",
                    "2017-11-19T00:00:00",
                    "2017-11-26T00:00:00",
                    "2017-12-03T00:00:00",
                    "2017-12-10T00:00:00",
                    "2017-12-17T00:00:00",
                    "2017-12-24T00:00:00",
                    "2018-01-01T00:00:00",
                    "2018-01-07T00:00:00",
                    "2018-01-14T00:00:00",
                    "2018-01-21T00:00:00",
                    "2018-01-28T00:00:00",
                    "2018-02-04T00:00:00",
                    "2018-02-11T00:00:00",
                    "2018-02-18T00:00:00",
                    "2018-02-25T00:00:00",
                    "2018-03-04T00:00:00",
                    "2018-03-11T00:00:00",
                    "2018-03-18T00:00:00",
                    "2018-03-25T00:00:00",
                    "2018-04-01T00:00:00",
                    "2018-04-08T00:00:00",
                    "2018-04-15T00:00:00",
                    "2018-04-22T00:00:00",
                    "2018-04-29T00:00:00",
                    "2018-05-06T00:00:00",
                    "2018-05-13T00:00:00",
                    "2018-05-20T00:00:00",
                    "2018-05-27T00:00:00",
                    "2018-06-03T00:00:00",
                    "2018-06-10T00:00:00",
                    "2018-06-17T00:00:00",
                    "2018-06-24T00:00:00",
                    "2018-07-01T00:00:00",
                    "2018-07-08T00:00:00",
                    "2018-07-15T00:00:00",
                    "2018-07-22T00:00:00",
                    "2018-07-29T00:00:00",
                    "2018-08-05T00:00:00",
                    "2018-08-12T00:00:00",
                    "2018-08-19T00:00:00",
                    "2018-08-26T00:00:00",
                    "2018-09-02T00:00:00",
                    "2018-09-09T00:00:00",
                    "2018-09-16T00:00:00",
                    "2018-09-23T00:00:00",
                    "2018-09-30T00:00:00",
                    "2018-10-07T00:00:00",
                    "2018-10-14T00:00:00",
                    "2018-10-21T00:00:00",
                    "2018-10-28T00:00:00",
                    "2018-11-04T00:00:00",
                    "2018-11-11T00:00:00",
                    "2018-11-18T00:00:00",
                    "2018-11-25T00:00:00",
                    "2018-12-02T00:00:00",
                    "2019-01-07T00:00:00",
                    "2019-01-13T00:00:00",
                    "2019-01-20T00:00:00",
                    "2019-01-27T00:00:00",
                    "2019-02-03T00:00:00",
                    "2019-02-10T00:00:00",
                    "2019-02-17T00:00:00",
                    "2019-02-24T00:00:00",
                    "2019-03-03T00:00:00",
                    "2019-03-10T00:00:00",
                    "2019-03-17T00:00:00",
                    "2019-03-24T00:00:00",
                    "2019-03-31T00:00:00",
                    "2019-04-07T00:00:00",
                    "2019-04-14T00:00:00",
                    "2019-04-21T00:00:00",
                    "2019-04-28T00:00:00",
                    "2019-05-05T00:00:00",
                    "2019-05-12T00:00:00",
                    "2019-05-19T00:00:00",
                    "2019-05-26T00:00:00",
                    "2019-06-02T00:00:00",
                    "2019-06-09T00:00:00",
                    "2019-06-16T00:00:00",
                    "2019-06-23T00:00:00",
                    "2019-06-30T00:00:00",
                    "2019-07-07T00:00:00",
                    "2019-07-14T00:00:00",
                    "2019-07-21T00:00:00",
                    "2019-07-28T00:00:00",
                    "2019-08-04T00:00:00",
                    "2019-08-11T00:00:00",
                    "2019-08-18T00:00:00",
                    "2019-08-25T00:00:00",
                    "2019-09-01T00:00:00",
                    "2019-09-08T00:00:00",
                    "2019-09-15T00:00:00",
                    "2019-09-22T00:00:00",
                    "2019-09-29T00:00:00",
                    "2019-10-06T00:00:00",
                    "2019-10-13T00:00:00",
                    "2019-10-20T00:00:00",
                    "2019-10-27T00:00:00",
                    "2019-11-03T00:00:00",
                    "2019-11-10T00:00:00",
                    "2019-11-17T00:00:00",
                    "2019-11-24T00:00:00",
                    "2019-12-01T00:00:00"
                  ],
                  "y": [
                    1.3012962962962962,
                    1.3706481481481485,
                    1.391111111111111,
                    1.3971296296296296,
                    1.2470370370370376,
                    1.310462962962963,
                    1.3875925925925925,
                    1.3626851851851853,
                    1.3110185185185188,
                    1.360092592592593,
                    1.3919444444444447,
                    1.3492592592592596,
                    1.3975925925925925,
                    1.4129629629629628,
                    1.3639814814814817,
                    1.3716666666666668,
                    1.385185185185185,
                    1.2838888888888889,
                    1.3235185185185185,
                    1.3531481481481475,
                    1.3804629629629628,
                    1.3824074074074078,
                    1.3809259259259254,
                    1.400462962962963,
                    1.408425925925926,
                    1.4064814814814826,
                    1.4137962962962969,
                    1.4156481481481482,
                    1.3875,
                    1.420833333333333,
                    1.4773148148148147,
                    1.4312962962962965,
                    1.4498148148148144,
                    1.4445370370370372,
                    1.4194444444444447,
                    1.434351851851852,
                    1.4632407407407415,
                    1.4480555555555554,
                    1.450925925925925,
                    1.4191666666666671,
                    1.373333333333333,
                    1.3923148148148148,
                    1.3830555555555557,
                    1.304907407407407,
                    1.334351851851851,
                    1.3400000000000003,
                    1.3309259259259258,
                    1.3428703703703706,
                    1.2891588785046726,
                    1.2878703703703707,
                    1.3453703703703699,
                    1.2984259259259257,
                    1.2063888888888892,
                    1.2276851851851853,
                    1.2716666666666665,
                    1.2422222222222221,
                    1.2529629629629626,
                    1.1738888888888885,
                    1.2323148148148149,
                    1.2766666666666666,
                    1.265555555555556,
                    1.2569444444444444,
                    1.1970370370370373,
                    1.1976851851851853,
                    1.2451851851851852,
                    1.2353703703703702,
                    1.1737962962962962,
                    1.2212962962962965,
                    1.1896296296296296,
                    1.163703703703704,
                    1.1485185185185185,
                    1.2158333333333333,
                    1.2246296296296302,
                    1.2459259259259254,
                    1.2426851851851852,
                    1.3009259259259256,
                    1.2777777777777781,
                    1.3108333333333333,
                    1.294722222222222,
                    1.3532407407407407,
                    1.4280555555555554,
                    1.4823148148148144,
                    1.4483333333333335,
                    1.4160185185185181,
                    1.4188888888888889,
                    1.4156481481481482,
                    1.393888888888888,
                    1.3720370370370376,
                    1.3568518518518518,
                    1.4481481481481482,
                    1.5344444444444445,
                    1.575277777777777,
                    1.4829629629629626,
                    1.4844444444444447,
                    1.540740740740741,
                    1.7020370370370363,
                    1.6194444444444442,
                    1.5844444444444448,
                    1.4997222222222217,
                    1.4964814814814817,
                    1.369166666666666,
                    1.3077777777777777,
                    1.2771296296296295,
                    1.309907407407408,
                    1.2766666666666668,
                    1.2944444444444445,
                    1.3186111111111107,
                    1.2232407407407406,
                    1.2745370370370372,
                    1.1447222222222224,
                    1.2039814814814815,
                    1.269351851851852,
                    1.240366972477064,
                    1.2868807339449544,
                    1.4361111111111113,
                    1.4681481481481486,
                    1.4040740740740743,
                    1.448055555555555,
                    1.4659259259259256,
                    1.5048148148148146,
                    1.5437037037037034,
                    1.5505555555555564,
                    1.461666666666667,
                    1.5283333333333344,
                    1.5608333333333337,
                    1.5795370370370367,
                    1.5646296296296294,
                    1.521574074074074,
                    1.5385046728971974,
                    1.556915887850467,
                    1.5695370370370378,
                    1.540277777777778,
                    1.5810185185185188,
                    1.5634259259259256,
                    1.57037037037037,
                    1.606203703703704,
                    1.6415740740740736,
                    1.7368518518518519,
                    1.8112037037037036,
                    1.8551851851851848,
                    1.8438888888888891,
                    1.8313888888888892,
                    1.833333333333333,
                    1.8712962962962971,
                    1.8433333333333337,
                    1.7828703703703699,
                    1.6645370370370371,
                    1.600185185185185,
                    1.5590740740740738,
                    1.508796296296296,
                    1.4991666666666663,
                    1.5021296296296298,
                    1.3853703703703704,
                    1.341481481481482,
                    1.3689814814814814,
                    1.439907407407407,
                    1.2835185185185183,
                    1.357777777777778,
                    1.4225925925925924,
                    1.3771296296296298,
                    1.3922222222222234,
                    1.2340740740740739,
                    1.307037037037037,
                    1.3740740740740738,
                    1.3596296296296293,
                    1.3501851851851854,
                    1.335092592592593,
                    1.3137037037037034,
                    1.3468518518518513,
                    1.3596296296296297,
                    1.316851851851852,
                    1.3049999999999997,
                    1.3062037037037035,
                    1.3312962962962962,
                    1.2406481481481484,
                    1.2859259259259264,
                    1.2924074074074072,
                    1.2882407407407404,
                    1.3085185185185177,
                    1.3132407407407412,
                    1.3149074074074074,
                    1.3012037037037043,
                    1.314444444444444,
                    1.3250925925925925,
                    1.3365740740740744,
                    1.3414814814814808,
                    1.3629629629629632,
                    1.3892592592592596,
                    1.39287037037037,
                    1.411666666666666,
                    1.471481481481482,
                    1.5178703703703702,
                    1.5006481481481477,
                    1.4785185185185186,
                    1.463796296296296,
                    1.4144444444444444,
                    1.3932407407407406,
                    1.351574074074074,
                    1.3508333333333338,
                    1.2850925925925927,
                    1.2940740740740737,
                    1.3045370370370368,
                    1.37925925925926,
                    1.462685185185185,
                    1.4355555555555564,
                    1.2811111111111109,
                    1.2608333333333333,
                    1.272592592592592,
                    1.2785185185185186,
                    1.1387962962962968,
                    1.1690740740740746,
                    1.230185185185185,
                    1.233425925925926,
                    1.2254629629629623,
                    1.2161111111111111,
                    1.1885185185185188,
                    1.2060185185185182,
                    1.254629629629629,
                    1.2375925925925917,
                    1.2982407407407408,
                    1.5300925925925928,
                    1.633055555555555,
                    1.5263888888888884,
                    1.506574074074074,
                    1.54638888888889,
                    1.5443518518518515,
                    1.4280555555555556,
                    1.428148148148148,
                    1.538333333333333,
                    1.5964814814814805,
                    1.6265740740740748,
                    1.6912962962962963,
                    1.7155555555555553,
                    1.7436111111111114,
                    1.7499074074074088,
                    1.7126851851851852,
                    1.6440740740740738,
                    1.5523148148148143,
                    1.5337037037037038,
                    1.5201851851851855,
                    1.4895370370370369,
                    1.436481481481482,
                    1.4424074074074074,
                    1.4231481481481478,
                    1.3587037037037037,
                    1.3490740740740734,
                    1.3145370370370373,
                    1.26,
                    1.25787037037037,
                    1.3124999999999998,
                    1.2955555555555553,
                    1.3192592592592598,
                    1.2936111111111113
                  ]
                }
              ],
              "layout": {
                "template": {
                  "data": {
                    "bar": [
                      {
                        "error_x": {
                          "color": "#2a3f5f"
                        },
                        "error_y": {
                          "color": "#2a3f5f"
                        },
                        "marker": {
                          "line": {
                            "color": "#E5ECF6",
                            "width": 0.5
                          }
                        },
                        "type": "bar"
                      }
                    ],
                    "barpolar": [
                      {
                        "marker": {
                          "line": {
                            "color": "#E5ECF6",
                            "width": 0.5
                          }
                        },
                        "type": "barpolar"
                      }
                    ],
                    "carpet": [
                      {
                        "aaxis": {
                          "endlinecolor": "#2a3f5f",
                          "gridcolor": "white",
                          "linecolor": "white",
                          "minorgridcolor": "white",
                          "startlinecolor": "#2a3f5f"
                        },
                        "baxis": {
                          "endlinecolor": "#2a3f5f",
                          "gridcolor": "white",
                          "linecolor": "white",
                          "minorgridcolor": "white",
                          "startlinecolor": "#2a3f5f"
                        },
                        "type": "carpet"
                      }
                    ],
                    "choropleth": [
                      {
                        "colorbar": {
                          "outlinewidth": 0,
                          "ticks": ""
                        },
                        "type": "choropleth"
                      }
                    ],
                    "contour": [
                      {
                        "colorbar": {
                          "outlinewidth": 0,
                          "ticks": ""
                        },
                        "colorscale": [
                          [
                            0,
                            "#0d0887"
                          ],
                          [
                            0.1111111111111111,
                            "#46039f"
                          ],
                          [
                            0.2222222222222222,
                            "#7201a8"
                          ],
                          [
                            0.3333333333333333,
                            "#9c179e"
                          ],
                          [
                            0.4444444444444444,
                            "#bd3786"
                          ],
                          [
                            0.5555555555555556,
                            "#d8576b"
                          ],
                          [
                            0.6666666666666666,
                            "#ed7953"
                          ],
                          [
                            0.7777777777777778,
                            "#fb9f3a"
                          ],
                          [
                            0.8888888888888888,
                            "#fdca26"
                          ],
                          [
                            1,
                            "#f0f921"
                          ]
                        ],
                        "type": "contour"
                      }
                    ],
                    "contourcarpet": [
                      {
                        "colorbar": {
                          "outlinewidth": 0,
                          "ticks": ""
                        },
                        "type": "contourcarpet"
                      }
                    ],
                    "heatmap": [
                      {
                        "colorbar": {
                          "outlinewidth": 0,
                          "ticks": ""
                        },
                        "colorscale": [
                          [
                            0,
                            "#0d0887"
                          ],
                          [
                            0.1111111111111111,
                            "#46039f"
                          ],
                          [
                            0.2222222222222222,
                            "#7201a8"
                          ],
                          [
                            0.3333333333333333,
                            "#9c179e"
                          ],
                          [
                            0.4444444444444444,
                            "#bd3786"
                          ],
                          [
                            0.5555555555555556,
                            "#d8576b"
                          ],
                          [
                            0.6666666666666666,
                            "#ed7953"
                          ],
                          [
                            0.7777777777777778,
                            "#fb9f3a"
                          ],
                          [
                            0.8888888888888888,
                            "#fdca26"
                          ],
                          [
                            1,
                            "#f0f921"
                          ]
                        ],
                        "type": "heatmap"
                      }
                    ],
                    "heatmapgl": [
                      {
                        "colorbar": {
                          "outlinewidth": 0,
                          "ticks": ""
                        },
                        "colorscale": [
                          [
                            0,
                            "#0d0887"
                          ],
                          [
                            0.1111111111111111,
                            "#46039f"
                          ],
                          [
                            0.2222222222222222,
                            "#7201a8"
                          ],
                          [
                            0.3333333333333333,
                            "#9c179e"
                          ],
                          [
                            0.4444444444444444,
                            "#bd3786"
                          ],
                          [
                            0.5555555555555556,
                            "#d8576b"
                          ],
                          [
                            0.6666666666666666,
                            "#ed7953"
                          ],
                          [
                            0.7777777777777778,
                            "#fb9f3a"
                          ],
                          [
                            0.8888888888888888,
                            "#fdca26"
                          ],
                          [
                            1,
                            "#f0f921"
                          ]
                        ],
                        "type": "heatmapgl"
                      }
                    ],
                    "histogram": [
                      {
                        "marker": {
                          "colorbar": {
                            "outlinewidth": 0,
                            "ticks": ""
                          }
                        },
                        "type": "histogram"
                      }
                    ],
                    "histogram2d": [
                      {
                        "colorbar": {
                          "outlinewidth": 0,
                          "ticks": ""
                        },
                        "colorscale": [
                          [
                            0,
                            "#0d0887"
                          ],
                          [
                            0.1111111111111111,
                            "#46039f"
                          ],
                          [
                            0.2222222222222222,
                            "#7201a8"
                          ],
                          [
                            0.3333333333333333,
                            "#9c179e"
                          ],
                          [
                            0.4444444444444444,
                            "#bd3786"
                          ],
                          [
                            0.5555555555555556,
                            "#d8576b"
                          ],
                          [
                            0.6666666666666666,
                            "#ed7953"
                          ],
                          [
                            0.7777777777777778,
                            "#fb9f3a"
                          ],
                          [
                            0.8888888888888888,
                            "#fdca26"
                          ],
                          [
                            1,
                            "#f0f921"
                          ]
                        ],
                        "type": "histogram2d"
                      }
                    ],
                    "histogram2dcontour": [
                      {
                        "colorbar": {
                          "outlinewidth": 0,
                          "ticks": ""
                        },
                        "colorscale": [
                          [
                            0,
                            "#0d0887"
                          ],
                          [
                            0.1111111111111111,
                            "#46039f"
                          ],
                          [
                            0.2222222222222222,
                            "#7201a8"
                          ],
                          [
                            0.3333333333333333,
                            "#9c179e"
                          ],
                          [
                            0.4444444444444444,
                            "#bd3786"
                          ],
                          [
                            0.5555555555555556,
                            "#d8576b"
                          ],
                          [
                            0.6666666666666666,
                            "#ed7953"
                          ],
                          [
                            0.7777777777777778,
                            "#fb9f3a"
                          ],
                          [
                            0.8888888888888888,
                            "#fdca26"
                          ],
                          [
                            1,
                            "#f0f921"
                          ]
                        ],
                        "type": "histogram2dcontour"
                      }
                    ],
                    "mesh3d": [
                      {
                        "colorbar": {
                          "outlinewidth": 0,
                          "ticks": ""
                        },
                        "type": "mesh3d"
                      }
                    ],
                    "parcoords": [
                      {
                        "line": {
                          "colorbar": {
                            "outlinewidth": 0,
                            "ticks": ""
                          }
                        },
                        "type": "parcoords"
                      }
                    ],
                    "pie": [
                      {
                        "automargin": true,
                        "type": "pie"
                      }
                    ],
                    "scatter": [
                      {
                        "marker": {
                          "colorbar": {
                            "outlinewidth": 0,
                            "ticks": ""
                          }
                        },
                        "type": "scatter"
                      }
                    ],
                    "scatter3d": [
                      {
                        "line": {
                          "colorbar": {
                            "outlinewidth": 0,
                            "ticks": ""
                          }
                        },
                        "marker": {
                          "colorbar": {
                            "outlinewidth": 0,
                            "ticks": ""
                          }
                        },
                        "type": "scatter3d"
                      }
                    ],
                    "scattercarpet": [
                      {
                        "marker": {
                          "colorbar": {
                            "outlinewidth": 0,
                            "ticks": ""
                          }
                        },
                        "type": "scattercarpet"
                      }
                    ],
                    "scattergeo": [
                      {
                        "marker": {
                          "colorbar": {
                            "outlinewidth": 0,
                            "ticks": ""
                          }
                        },
                        "type": "scattergeo"
                      }
                    ],
                    "scattergl": [
                      {
                        "marker": {
                          "colorbar": {
                            "outlinewidth": 0,
                            "ticks": ""
                          }
                        },
                        "type": "scattergl"
                      }
                    ],
                    "scattermapbox": [
                      {
                        "marker": {
                          "colorbar": {
                            "outlinewidth": 0,
                            "ticks": ""
                          }
                        },
                        "type": "scattermapbox"
                      }
                    ],
                    "scatterpolar": [
                      {
                        "marker": {
                          "colorbar": {
                            "outlinewidth": 0,
                            "ticks": ""
                          }
                        },
                        "type": "scatterpolar"
                      }
                    ],
                    "scatterpolargl": [
                      {
                        "marker": {
                          "colorbar": {
                            "outlinewidth": 0,
                            "ticks": ""
                          }
                        },
                        "type": "scatterpolargl"
                      }
                    ],
                    "scatterternary": [
                      {
                        "marker": {
                          "colorbar": {
                            "outlinewidth": 0,
                            "ticks": ""
                          }
                        },
                        "type": "scatterternary"
                      }
                    ],
                    "surface": [
                      {
                        "colorbar": {
                          "outlinewidth": 0,
                          "ticks": ""
                        },
                        "colorscale": [
                          [
                            0,
                            "#0d0887"
                          ],
                          [
                            0.1111111111111111,
                            "#46039f"
                          ],
                          [
                            0.2222222222222222,
                            "#7201a8"
                          ],
                          [
                            0.3333333333333333,
                            "#9c179e"
                          ],
                          [
                            0.4444444444444444,
                            "#bd3786"
                          ],
                          [
                            0.5555555555555556,
                            "#d8576b"
                          ],
                          [
                            0.6666666666666666,
                            "#ed7953"
                          ],
                          [
                            0.7777777777777778,
                            "#fb9f3a"
                          ],
                          [
                            0.8888888888888888,
                            "#fdca26"
                          ],
                          [
                            1,
                            "#f0f921"
                          ]
                        ],
                        "type": "surface"
                      }
                    ],
                    "table": [
                      {
                        "cells": {
                          "fill": {
                            "color": "#EBF0F8"
                          },
                          "line": {
                            "color": "white"
                          }
                        },
                        "header": {
                          "fill": {
                            "color": "#C8D4E3"
                          },
                          "line": {
                            "color": "white"
                          }
                        },
                        "type": "table"
                      }
                    ]
                  },
                  "layout": {
                    "annotationdefaults": {
                      "arrowcolor": "#2a3f5f",
                      "arrowhead": 0,
                      "arrowwidth": 1
                    },
                    "coloraxis": {
                      "colorbar": {
                        "outlinewidth": 0,
                        "ticks": ""
                      }
                    },
                    "colorscale": {
                      "diverging": [
                        [
                          0,
                          "#8e0152"
                        ],
                        [
                          0.1,
                          "#c51b7d"
                        ],
                        [
                          0.2,
                          "#de77ae"
                        ],
                        [
                          0.3,
                          "#f1b6da"
                        ],
                        [
                          0.4,
                          "#fde0ef"
                        ],
                        [
                          0.5,
                          "#f7f7f7"
                        ],
                        [
                          0.6,
                          "#e6f5d0"
                        ],
                        [
                          0.7,
                          "#b8e186"
                        ],
                        [
                          0.8,
                          "#7fbc41"
                        ],
                        [
                          0.9,
                          "#4d9221"
                        ],
                        [
                          1,
                          "#276419"
                        ]
                      ],
                      "sequential": [
                        [
                          0,
                          "#0d0887"
                        ],
                        [
                          0.1111111111111111,
                          "#46039f"
                        ],
                        [
                          0.2222222222222222,
                          "#7201a8"
                        ],
                        [
                          0.3333333333333333,
                          "#9c179e"
                        ],
                        [
                          0.4444444444444444,
                          "#bd3786"
                        ],
                        [
                          0.5555555555555556,
                          "#d8576b"
                        ],
                        [
                          0.6666666666666666,
                          "#ed7953"
                        ],
                        [
                          0.7777777777777778,
                          "#fb9f3a"
                        ],
                        [
                          0.8888888888888888,
                          "#fdca26"
                        ],
                        [
                          1,
                          "#f0f921"
                        ]
                      ],
                      "sequentialminus": [
                        [
                          0,
                          "#0d0887"
                        ],
                        [
                          0.1111111111111111,
                          "#46039f"
                        ],
                        [
                          0.2222222222222222,
                          "#7201a8"
                        ],
                        [
                          0.3333333333333333,
                          "#9c179e"
                        ],
                        [
                          0.4444444444444444,
                          "#bd3786"
                        ],
                        [
                          0.5555555555555556,
                          "#d8576b"
                        ],
                        [
                          0.6666666666666666,
                          "#ed7953"
                        ],
                        [
                          0.7777777777777778,
                          "#fb9f3a"
                        ],
                        [
                          0.8888888888888888,
                          "#fdca26"
                        ],
                        [
                          1,
                          "#f0f921"
                        ]
                      ]
                    },
                    "colorway": [
                      "#636efa",
                      "#EF553B",
                      "#00cc96",
                      "#ab63fa",
                      "#FFA15A",
                      "#19d3f3",
                      "#FF6692",
                      "#B6E880",
                      "#FF97FF",
                      "#FECB52"
                    ],
                    "font": {
                      "color": "#2a3f5f"
                    },
                    "geo": {
                      "bgcolor": "white",
                      "lakecolor": "white",
                      "landcolor": "#E5ECF6",
                      "showlakes": true,
                      "showland": true,
                      "subunitcolor": "white"
                    },
                    "hoverlabel": {
                      "align": "left"
                    },
                    "hovermode": "closest",
                    "mapbox": {
                      "style": "light"
                    },
                    "paper_bgcolor": "white",
                    "plot_bgcolor": "#E5ECF6",
                    "polar": {
                      "angularaxis": {
                        "gridcolor": "white",
                        "linecolor": "white",
                        "ticks": ""
                      },
                      "bgcolor": "#E5ECF6",
                      "radialaxis": {
                        "gridcolor": "white",
                        "linecolor": "white",
                        "ticks": ""
                      }
                    },
                    "scene": {
                      "xaxis": {
                        "backgroundcolor": "#E5ECF6",
                        "gridcolor": "white",
                        "gridwidth": 2,
                        "linecolor": "white",
                        "showbackground": true,
                        "ticks": "",
                        "zerolinecolor": "white"
                      },
                      "yaxis": {
                        "backgroundcolor": "#E5ECF6",
                        "gridcolor": "white",
                        "gridwidth": 2,
                        "linecolor": "white",
                        "showbackground": true,
                        "ticks": "",
                        "zerolinecolor": "white"
                      },
                      "zaxis": {
                        "backgroundcolor": "#E5ECF6",
                        "gridcolor": "white",
                        "gridwidth": 2,
                        "linecolor": "white",
                        "showbackground": true,
                        "ticks": "",
                        "zerolinecolor": "white"
                      }
                    },
                    "shapedefaults": {
                      "line": {
                        "color": "#2a3f5f"
                      }
                    },
                    "ternary": {
                      "aaxis": {
                        "gridcolor": "white",
                        "linecolor": "white",
                        "ticks": ""
                      },
                      "baxis": {
                        "gridcolor": "white",
                        "linecolor": "white",
                        "ticks": ""
                      },
                      "bgcolor": "#E5ECF6",
                      "caxis": {
                        "gridcolor": "white",
                        "linecolor": "white",
                        "ticks": ""
                      }
                    },
                    "title": {
                      "x": 0.05
                    },
                    "xaxis": {
                      "automargin": true,
                      "gridcolor": "white",
                      "linecolor": "white",
                      "ticks": "",
                      "title": {
                        "standoff": 15
                      },
                      "zerolinecolor": "white",
                      "zerolinewidth": 2
                    },
                    "yaxis": {
                      "automargin": true,
                      "gridcolor": "white",
                      "linecolor": "white",
                      "ticks": "",
                      "title": {
                        "standoff": 15
                      },
                      "zerolinecolor": "white",
                      "zerolinewidth": 2
                    }
                  }
                },
                "title": {
                  "text": "Time Series Plot for Mean Daily Price"
                },
                "xaxis": {
                  "title": {
                    "text": "Date"
                  }
                },
                "yaxis": {
                  "title": {
                    "text": "Prices"
                  }
                }
              }
            },
            "text/html": [
              "<div>\n",
              "        \n",
              "        \n",
              "            <div id=\"fd23fd72-6ece-4730-94c8-8c8866f7cdf9\" class=\"plotly-graph-div\" style=\"height:525px; width:100%;\"></div>\n",
              "            <script type=\"text/javascript\">\n",
              "                require([\"plotly\"], function(Plotly) {\n",
              "                    window.PLOTLYENV=window.PLOTLYENV || {};\n",
              "                    \n",
              "                if (document.getElementById(\"fd23fd72-6ece-4730-94c8-8c8866f7cdf9\")) {\n",
              "                    Plotly.newPlot(\n",
              "                        'fd23fd72-6ece-4730-94c8-8c8866f7cdf9',\n",
              "                        [{\"marker\": {\"color\": \"rgb(248,146,146)\", \"line\": {\"color\": \"rgb(249,52,52)\", \"width\": 1.5}}, \"mode\": \"lines+markers\", \"opacity\": 0.8, \"type\": \"scatter\", \"x\": [\"2015-01-04T00:00:00\", \"2015-01-11T00:00:00\", \"2015-01-18T00:00:00\", \"2015-01-25T00:00:00\", \"2015-02-01T00:00:00\", \"2015-02-08T00:00:00\", \"2015-02-15T00:00:00\", \"2015-02-22T00:00:00\", \"2015-03-01T00:00:00\", \"2015-03-08T00:00:00\", \"2015-03-15T00:00:00\", \"2015-03-22T00:00:00\", \"2015-03-29T00:00:00\", \"2015-04-05T00:00:00\", \"2015-04-12T00:00:00\", \"2015-04-19T00:00:00\", \"2015-04-26T00:00:00\", \"2015-05-03T00:00:00\", \"2015-05-10T00:00:00\", \"2015-05-17T00:00:00\", \"2015-05-24T00:00:00\", \"2015-05-31T00:00:00\", \"2015-06-07T00:00:00\", \"2015-06-14T00:00:00\", \"2015-06-21T00:00:00\", \"2015-06-28T00:00:00\", \"2015-07-05T00:00:00\", \"2015-07-12T00:00:00\", \"2015-07-19T00:00:00\", \"2015-07-26T00:00:00\", \"2015-08-02T00:00:00\", \"2015-08-09T00:00:00\", \"2015-08-16T00:00:00\", \"2015-08-23T00:00:00\", \"2015-08-30T00:00:00\", \"2015-09-06T00:00:00\", \"2015-09-13T00:00:00\", \"2015-09-20T00:00:00\", \"2015-09-27T00:00:00\", \"2015-10-04T00:00:00\", \"2015-10-11T00:00:00\", \"2015-10-18T00:00:00\", \"2015-10-25T00:00:00\", \"2015-11-01T00:00:00\", \"2015-11-08T00:00:00\", \"2015-11-15T00:00:00\", \"2015-11-22T00:00:00\", \"2015-11-29T00:00:00\", \"2015-12-06T00:00:00\", \"2015-12-13T00:00:00\", \"2015-12-20T00:00:00\", \"2015-12-27T00:00:00\", \"2016-01-04T00:00:00\", \"2016-01-10T00:00:00\", \"2016-01-17T00:00:00\", \"2016-01-24T00:00:00\", \"2016-01-31T00:00:00\", \"2016-02-07T00:00:00\", \"2016-02-14T00:00:00\", \"2016-02-21T00:00:00\", \"2016-02-28T00:00:00\", \"2016-03-06T00:00:00\", \"2016-03-13T00:00:00\", \"2016-03-20T00:00:00\", \"2016-03-27T00:00:00\", \"2016-04-03T00:00:00\", \"2016-04-10T00:00:00\", \"2016-04-17T00:00:00\", \"2016-04-24T00:00:00\", \"2016-05-01T00:00:00\", \"2016-05-08T00:00:00\", \"2016-05-15T00:00:00\", \"2016-05-22T00:00:00\", \"2016-05-29T00:00:00\", \"2016-06-05T00:00:00\", \"2016-06-12T00:00:00\", \"2016-06-19T00:00:00\", \"2016-06-26T00:00:00\", \"2016-07-03T00:00:00\", \"2016-07-10T00:00:00\", \"2016-07-17T00:00:00\", \"2016-07-24T00:00:00\", \"2016-07-31T00:00:00\", \"2016-08-07T00:00:00\", \"2016-08-14T00:00:00\", \"2016-08-21T00:00:00\", \"2016-08-28T00:00:00\", \"2016-09-04T00:00:00\", \"2016-09-11T00:00:00\", \"2016-09-18T00:00:00\", \"2016-09-25T00:00:00\", \"2016-10-02T00:00:00\", \"2016-10-09T00:00:00\", \"2016-10-16T00:00:00\", \"2016-10-23T00:00:00\", \"2016-10-30T00:00:00\", \"2016-11-06T00:00:00\", \"2016-11-13T00:00:00\", \"2016-11-20T00:00:00\", \"2016-11-27T00:00:00\", \"2016-12-04T00:00:00\", \"2016-12-11T00:00:00\", \"2016-12-18T00:00:00\", \"2016-12-25T00:00:00\", \"2017-01-02T00:00:00\", \"2017-01-08T00:00:00\", \"2017-01-15T00:00:00\", \"2017-01-22T00:00:00\", \"2017-01-29T00:00:00\", \"2017-02-05T00:00:00\", \"2017-02-12T00:00:00\", \"2017-02-19T00:00:00\", \"2017-02-26T00:00:00\", \"2017-03-05T00:00:00\", \"2017-03-12T00:00:00\", \"2017-03-19T00:00:00\", \"2017-03-26T00:00:00\", \"2017-04-02T00:00:00\", \"2017-04-09T00:00:00\", \"2017-04-16T00:00:00\", \"2017-04-23T00:00:00\", \"2017-04-30T00:00:00\", \"2017-05-07T00:00:00\", \"2017-05-14T00:00:00\", \"2017-05-21T00:00:00\", \"2017-05-28T00:00:00\", \"2017-06-04T00:00:00\", \"2017-06-11T00:00:00\", \"2017-06-18T00:00:00\", \"2017-06-25T00:00:00\", \"2017-07-02T00:00:00\", \"2017-07-09T00:00:00\", \"2017-07-16T00:00:00\", \"2017-07-23T00:00:00\", \"2017-07-30T00:00:00\", \"2017-08-06T00:00:00\", \"2017-08-13T00:00:00\", \"2017-08-20T00:00:00\", \"2017-08-27T00:00:00\", \"2017-09-03T00:00:00\", \"2017-09-10T00:00:00\", \"2017-09-17T00:00:00\", \"2017-09-24T00:00:00\", \"2017-10-01T00:00:00\", \"2017-10-08T00:00:00\", \"2017-10-15T00:00:00\", \"2017-10-22T00:00:00\", \"2017-10-29T00:00:00\", \"2017-11-05T00:00:00\", \"2017-11-12T00:00:00\", \"2017-11-19T00:00:00\", \"2017-11-26T00:00:00\", \"2017-12-03T00:00:00\", \"2017-12-10T00:00:00\", \"2017-12-17T00:00:00\", \"2017-12-24T00:00:00\", \"2018-01-01T00:00:00\", \"2018-01-07T00:00:00\", \"2018-01-14T00:00:00\", \"2018-01-21T00:00:00\", \"2018-01-28T00:00:00\", \"2018-02-04T00:00:00\", \"2018-02-11T00:00:00\", \"2018-02-18T00:00:00\", \"2018-02-25T00:00:00\", \"2018-03-04T00:00:00\", \"2018-03-11T00:00:00\", \"2018-03-18T00:00:00\", \"2018-03-25T00:00:00\", \"2018-04-01T00:00:00\", \"2018-04-08T00:00:00\", \"2018-04-15T00:00:00\", \"2018-04-22T00:00:00\", \"2018-04-29T00:00:00\", \"2018-05-06T00:00:00\", \"2018-05-13T00:00:00\", \"2018-05-20T00:00:00\", \"2018-05-27T00:00:00\", \"2018-06-03T00:00:00\", \"2018-06-10T00:00:00\", \"2018-06-17T00:00:00\", \"2018-06-24T00:00:00\", \"2018-07-01T00:00:00\", \"2018-07-08T00:00:00\", \"2018-07-15T00:00:00\", \"2018-07-22T00:00:00\", \"2018-07-29T00:00:00\", \"2018-08-05T00:00:00\", \"2018-08-12T00:00:00\", \"2018-08-19T00:00:00\", \"2018-08-26T00:00:00\", \"2018-09-02T00:00:00\", \"2018-09-09T00:00:00\", \"2018-09-16T00:00:00\", \"2018-09-23T00:00:00\", \"2018-09-30T00:00:00\", \"2018-10-07T00:00:00\", \"2018-10-14T00:00:00\", \"2018-10-21T00:00:00\", \"2018-10-28T00:00:00\", \"2018-11-04T00:00:00\", \"2018-11-11T00:00:00\", \"2018-11-18T00:00:00\", \"2018-11-25T00:00:00\", \"2018-12-02T00:00:00\", \"2019-01-07T00:00:00\", \"2019-01-13T00:00:00\", \"2019-01-20T00:00:00\", \"2019-01-27T00:00:00\", \"2019-02-03T00:00:00\", \"2019-02-10T00:00:00\", \"2019-02-17T00:00:00\", \"2019-02-24T00:00:00\", \"2019-03-03T00:00:00\", \"2019-03-10T00:00:00\", \"2019-03-17T00:00:00\", \"2019-03-24T00:00:00\", \"2019-03-31T00:00:00\", \"2019-04-07T00:00:00\", \"2019-04-14T00:00:00\", \"2019-04-21T00:00:00\", \"2019-04-28T00:00:00\", \"2019-05-05T00:00:00\", \"2019-05-12T00:00:00\", \"2019-05-19T00:00:00\", \"2019-05-26T00:00:00\", \"2019-06-02T00:00:00\", \"2019-06-09T00:00:00\", \"2019-06-16T00:00:00\", \"2019-06-23T00:00:00\", \"2019-06-30T00:00:00\", \"2019-07-07T00:00:00\", \"2019-07-14T00:00:00\", \"2019-07-21T00:00:00\", \"2019-07-28T00:00:00\", \"2019-08-04T00:00:00\", \"2019-08-11T00:00:00\", \"2019-08-18T00:00:00\", \"2019-08-25T00:00:00\", \"2019-09-01T00:00:00\", \"2019-09-08T00:00:00\", \"2019-09-15T00:00:00\", \"2019-09-22T00:00:00\", \"2019-09-29T00:00:00\", \"2019-10-06T00:00:00\", \"2019-10-13T00:00:00\", \"2019-10-20T00:00:00\", \"2019-10-27T00:00:00\", \"2019-11-03T00:00:00\", \"2019-11-10T00:00:00\", \"2019-11-17T00:00:00\", \"2019-11-24T00:00:00\", \"2019-12-01T00:00:00\"], \"y\": [1.3012962962962962, 1.3706481481481485, 1.391111111111111, 1.3971296296296296, 1.2470370370370376, 1.310462962962963, 1.3875925925925925, 1.3626851851851853, 1.3110185185185188, 1.360092592592593, 1.3919444444444447, 1.3492592592592596, 1.3975925925925925, 1.4129629629629628, 1.3639814814814817, 1.3716666666666668, 1.385185185185185, 1.2838888888888889, 1.3235185185185185, 1.3531481481481475, 1.3804629629629628, 1.3824074074074078, 1.3809259259259254, 1.400462962962963, 1.408425925925926, 1.4064814814814826, 1.4137962962962969, 1.4156481481481482, 1.3875, 1.420833333333333, 1.4773148148148147, 1.4312962962962965, 1.4498148148148144, 1.4445370370370372, 1.4194444444444447, 1.434351851851852, 1.4632407407407415, 1.4480555555555554, 1.450925925925925, 1.4191666666666671, 1.373333333333333, 1.3923148148148148, 1.3830555555555557, 1.304907407407407, 1.334351851851851, 1.3400000000000003, 1.3309259259259258, 1.3428703703703706, 1.2891588785046726, 1.2878703703703707, 1.3453703703703699, 1.2984259259259257, 1.2063888888888892, 1.2276851851851853, 1.2716666666666665, 1.2422222222222221, 1.2529629629629626, 1.1738888888888885, 1.2323148148148149, 1.2766666666666666, 1.265555555555556, 1.2569444444444444, 1.1970370370370373, 1.1976851851851853, 1.2451851851851852, 1.2353703703703702, 1.1737962962962962, 1.2212962962962965, 1.1896296296296296, 1.163703703703704, 1.1485185185185185, 1.2158333333333333, 1.2246296296296302, 1.2459259259259254, 1.2426851851851852, 1.3009259259259256, 1.2777777777777781, 1.3108333333333333, 1.294722222222222, 1.3532407407407407, 1.4280555555555554, 1.4823148148148144, 1.4483333333333335, 1.4160185185185181, 1.4188888888888889, 1.4156481481481482, 1.393888888888888, 1.3720370370370376, 1.3568518518518518, 1.4481481481481482, 1.5344444444444445, 1.575277777777777, 1.4829629629629626, 1.4844444444444447, 1.540740740740741, 1.7020370370370363, 1.6194444444444442, 1.5844444444444448, 1.4997222222222217, 1.4964814814814817, 1.369166666666666, 1.3077777777777777, 1.2771296296296295, 1.309907407407408, 1.2766666666666668, 1.2944444444444445, 1.3186111111111107, 1.2232407407407406, 1.2745370370370372, 1.1447222222222224, 1.2039814814814815, 1.269351851851852, 1.240366972477064, 1.2868807339449544, 1.4361111111111113, 1.4681481481481486, 1.4040740740740743, 1.448055555555555, 1.4659259259259256, 1.5048148148148146, 1.5437037037037034, 1.5505555555555564, 1.461666666666667, 1.5283333333333344, 1.5608333333333337, 1.5795370370370367, 1.5646296296296294, 1.521574074074074, 1.5385046728971974, 1.556915887850467, 1.5695370370370378, 1.540277777777778, 1.5810185185185188, 1.5634259259259256, 1.57037037037037, 1.606203703703704, 1.6415740740740736, 1.7368518518518519, 1.8112037037037036, 1.8551851851851848, 1.8438888888888891, 1.8313888888888892, 1.833333333333333, 1.8712962962962971, 1.8433333333333337, 1.7828703703703699, 1.6645370370370371, 1.600185185185185, 1.5590740740740738, 1.508796296296296, 1.4991666666666663, 1.5021296296296298, 1.3853703703703704, 1.341481481481482, 1.3689814814814814, 1.439907407407407, 1.2835185185185183, 1.357777777777778, 1.4225925925925924, 1.3771296296296298, 1.3922222222222234, 1.2340740740740739, 1.307037037037037, 1.3740740740740738, 1.3596296296296293, 1.3501851851851854, 1.335092592592593, 1.3137037037037034, 1.3468518518518513, 1.3596296296296297, 1.316851851851852, 1.3049999999999997, 1.3062037037037035, 1.3312962962962962, 1.2406481481481484, 1.2859259259259264, 1.2924074074074072, 1.2882407407407404, 1.3085185185185177, 1.3132407407407412, 1.3149074074074074, 1.3012037037037043, 1.314444444444444, 1.3250925925925925, 1.3365740740740744, 1.3414814814814808, 1.3629629629629632, 1.3892592592592596, 1.39287037037037, 1.411666666666666, 1.471481481481482, 1.5178703703703702, 1.5006481481481477, 1.4785185185185186, 1.463796296296296, 1.4144444444444444, 1.3932407407407406, 1.351574074074074, 1.3508333333333338, 1.2850925925925927, 1.2940740740740737, 1.3045370370370368, 1.37925925925926, 1.462685185185185, 1.4355555555555564, 1.2811111111111109, 1.2608333333333333, 1.272592592592592, 1.2785185185185186, 1.1387962962962968, 1.1690740740740746, 1.230185185185185, 1.233425925925926, 1.2254629629629623, 1.2161111111111111, 1.1885185185185188, 1.2060185185185182, 1.254629629629629, 1.2375925925925917, 1.2982407407407408, 1.5300925925925928, 1.633055555555555, 1.5263888888888884, 1.506574074074074, 1.54638888888889, 1.5443518518518515, 1.4280555555555556, 1.428148148148148, 1.538333333333333, 1.5964814814814805, 1.6265740740740748, 1.6912962962962963, 1.7155555555555553, 1.7436111111111114, 1.7499074074074088, 1.7126851851851852, 1.6440740740740738, 1.5523148148148143, 1.5337037037037038, 1.5201851851851855, 1.4895370370370369, 1.436481481481482, 1.4424074074074074, 1.4231481481481478, 1.3587037037037037, 1.3490740740740734, 1.3145370370370373, 1.26, 1.25787037037037, 1.3124999999999998, 1.2955555555555553, 1.3192592592592598, 1.2936111111111113]}],\n",
              "                        {\"template\": {\"data\": {\"bar\": [{\"error_x\": {\"color\": \"#2a3f5f\"}, \"error_y\": {\"color\": \"#2a3f5f\"}, \"marker\": {\"line\": {\"color\": \"#E5ECF6\", \"width\": 0.5}}, \"type\": \"bar\"}], \"barpolar\": [{\"marker\": {\"line\": {\"color\": \"#E5ECF6\", \"width\": 0.5}}, \"type\": \"barpolar\"}], \"carpet\": [{\"aaxis\": {\"endlinecolor\": \"#2a3f5f\", \"gridcolor\": \"white\", \"linecolor\": \"white\", \"minorgridcolor\": \"white\", \"startlinecolor\": \"#2a3f5f\"}, \"baxis\": {\"endlinecolor\": \"#2a3f5f\", \"gridcolor\": \"white\", \"linecolor\": \"white\", \"minorgridcolor\": \"white\", \"startlinecolor\": \"#2a3f5f\"}, \"type\": \"carpet\"}], \"choropleth\": [{\"colorbar\": {\"outlinewidth\": 0, \"ticks\": \"\"}, \"type\": \"choropleth\"}], \"contour\": [{\"colorbar\": {\"outlinewidth\": 0, \"ticks\": \"\"}, \"colorscale\": [[0.0, \"#0d0887\"], [0.1111111111111111, \"#46039f\"], [0.2222222222222222, \"#7201a8\"], [0.3333333333333333, \"#9c179e\"], [0.4444444444444444, \"#bd3786\"], [0.5555555555555556, \"#d8576b\"], [0.6666666666666666, \"#ed7953\"], [0.7777777777777778, \"#fb9f3a\"], [0.8888888888888888, \"#fdca26\"], [1.0, \"#f0f921\"]], \"type\": \"contour\"}], \"contourcarpet\": [{\"colorbar\": {\"outlinewidth\": 0, \"ticks\": \"\"}, \"type\": \"contourcarpet\"}], \"heatmap\": [{\"colorbar\": {\"outlinewidth\": 0, \"ticks\": \"\"}, \"colorscale\": [[0.0, \"#0d0887\"], [0.1111111111111111, \"#46039f\"], [0.2222222222222222, \"#7201a8\"], [0.3333333333333333, \"#9c179e\"], [0.4444444444444444, \"#bd3786\"], [0.5555555555555556, \"#d8576b\"], [0.6666666666666666, \"#ed7953\"], [0.7777777777777778, \"#fb9f3a\"], [0.8888888888888888, \"#fdca26\"], [1.0, \"#f0f921\"]], \"type\": \"heatmap\"}], \"heatmapgl\": [{\"colorbar\": {\"outlinewidth\": 0, \"ticks\": \"\"}, \"colorscale\": [[0.0, \"#0d0887\"], [0.1111111111111111, \"#46039f\"], [0.2222222222222222, \"#7201a8\"], [0.3333333333333333, \"#9c179e\"], [0.4444444444444444, \"#bd3786\"], [0.5555555555555556, \"#d8576b\"], [0.6666666666666666, \"#ed7953\"], [0.7777777777777778, \"#fb9f3a\"], [0.8888888888888888, \"#fdca26\"], [1.0, \"#f0f921\"]], \"type\": \"heatmapgl\"}], \"histogram\": [{\"marker\": {\"colorbar\": {\"outlinewidth\": 0, \"ticks\": \"\"}}, \"type\": \"histogram\"}], \"histogram2d\": [{\"colorbar\": {\"outlinewidth\": 0, \"ticks\": \"\"}, \"colorscale\": [[0.0, \"#0d0887\"], [0.1111111111111111, \"#46039f\"], [0.2222222222222222, \"#7201a8\"], [0.3333333333333333, \"#9c179e\"], [0.4444444444444444, \"#bd3786\"], [0.5555555555555556, \"#d8576b\"], [0.6666666666666666, \"#ed7953\"], [0.7777777777777778, \"#fb9f3a\"], [0.8888888888888888, \"#fdca26\"], [1.0, \"#f0f921\"]], \"type\": \"histogram2d\"}], \"histogram2dcontour\": [{\"colorbar\": {\"outlinewidth\": 0, \"ticks\": \"\"}, \"colorscale\": [[0.0, \"#0d0887\"], [0.1111111111111111, \"#46039f\"], [0.2222222222222222, \"#7201a8\"], [0.3333333333333333, \"#9c179e\"], [0.4444444444444444, \"#bd3786\"], [0.5555555555555556, \"#d8576b\"], [0.6666666666666666, \"#ed7953\"], [0.7777777777777778, \"#fb9f3a\"], [0.8888888888888888, \"#fdca26\"], [1.0, \"#f0f921\"]], \"type\": \"histogram2dcontour\"}], \"mesh3d\": [{\"colorbar\": {\"outlinewidth\": 0, \"ticks\": \"\"}, \"type\": \"mesh3d\"}], \"parcoords\": [{\"line\": {\"colorbar\": {\"outlinewidth\": 0, \"ticks\": \"\"}}, \"type\": \"parcoords\"}], \"pie\": [{\"automargin\": true, \"type\": \"pie\"}], \"scatter\": [{\"marker\": {\"colorbar\": {\"outlinewidth\": 0, \"ticks\": \"\"}}, \"type\": \"scatter\"}], \"scatter3d\": [{\"line\": {\"colorbar\": {\"outlinewidth\": 0, \"ticks\": \"\"}}, \"marker\": {\"colorbar\": {\"outlinewidth\": 0, \"ticks\": \"\"}}, \"type\": \"scatter3d\"}], \"scattercarpet\": [{\"marker\": {\"colorbar\": {\"outlinewidth\": 0, \"ticks\": \"\"}}, \"type\": \"scattercarpet\"}], \"scattergeo\": [{\"marker\": {\"colorbar\": {\"outlinewidth\": 0, \"ticks\": \"\"}}, \"type\": \"scattergeo\"}], \"scattergl\": [{\"marker\": {\"colorbar\": {\"outlinewidth\": 0, \"ticks\": \"\"}}, \"type\": \"scattergl\"}], \"scattermapbox\": [{\"marker\": {\"colorbar\": {\"outlinewidth\": 0, \"ticks\": \"\"}}, \"type\": \"scattermapbox\"}], \"scatterpolar\": [{\"marker\": {\"colorbar\": {\"outlinewidth\": 0, \"ticks\": \"\"}}, \"type\": \"scatterpolar\"}], \"scatterpolargl\": [{\"marker\": {\"colorbar\": {\"outlinewidth\": 0, \"ticks\": \"\"}}, \"type\": \"scatterpolargl\"}], \"scatterternary\": [{\"marker\": {\"colorbar\": {\"outlinewidth\": 0, \"ticks\": \"\"}}, \"type\": \"scatterternary\"}], \"surface\": [{\"colorbar\": {\"outlinewidth\": 0, \"ticks\": \"\"}, \"colorscale\": [[0.0, \"#0d0887\"], [0.1111111111111111, \"#46039f\"], [0.2222222222222222, \"#7201a8\"], [0.3333333333333333, \"#9c179e\"], [0.4444444444444444, \"#bd3786\"], [0.5555555555555556, \"#d8576b\"], [0.6666666666666666, \"#ed7953\"], [0.7777777777777778, \"#fb9f3a\"], [0.8888888888888888, \"#fdca26\"], [1.0, \"#f0f921\"]], \"type\": \"surface\"}], \"table\": [{\"cells\": {\"fill\": {\"color\": \"#EBF0F8\"}, \"line\": {\"color\": \"white\"}}, \"header\": {\"fill\": {\"color\": \"#C8D4E3\"}, \"line\": {\"color\": \"white\"}}, \"type\": \"table\"}]}, \"layout\": {\"annotationdefaults\": {\"arrowcolor\": \"#2a3f5f\", \"arrowhead\": 0, \"arrowwidth\": 1}, \"coloraxis\": {\"colorbar\": {\"outlinewidth\": 0, \"ticks\": \"\"}}, \"colorscale\": {\"diverging\": [[0, \"#8e0152\"], [0.1, \"#c51b7d\"], [0.2, \"#de77ae\"], [0.3, \"#f1b6da\"], [0.4, \"#fde0ef\"], [0.5, \"#f7f7f7\"], [0.6, \"#e6f5d0\"], [0.7, \"#b8e186\"], [0.8, \"#7fbc41\"], [0.9, \"#4d9221\"], [1, \"#276419\"]], \"sequential\": [[0.0, \"#0d0887\"], [0.1111111111111111, \"#46039f\"], [0.2222222222222222, \"#7201a8\"], [0.3333333333333333, \"#9c179e\"], [0.4444444444444444, \"#bd3786\"], [0.5555555555555556, \"#d8576b\"], [0.6666666666666666, \"#ed7953\"], [0.7777777777777778, \"#fb9f3a\"], [0.8888888888888888, \"#fdca26\"], [1.0, \"#f0f921\"]], \"sequentialminus\": [[0.0, \"#0d0887\"], [0.1111111111111111, \"#46039f\"], [0.2222222222222222, \"#7201a8\"], [0.3333333333333333, \"#9c179e\"], [0.4444444444444444, \"#bd3786\"], [0.5555555555555556, \"#d8576b\"], [0.6666666666666666, \"#ed7953\"], [0.7777777777777778, \"#fb9f3a\"], [0.8888888888888888, \"#fdca26\"], [1.0, \"#f0f921\"]]}, \"colorway\": [\"#636efa\", \"#EF553B\", \"#00cc96\", \"#ab63fa\", \"#FFA15A\", \"#19d3f3\", \"#FF6692\", \"#B6E880\", \"#FF97FF\", \"#FECB52\"], \"font\": {\"color\": \"#2a3f5f\"}, \"geo\": {\"bgcolor\": \"white\", \"lakecolor\": \"white\", \"landcolor\": \"#E5ECF6\", \"showlakes\": true, \"showland\": true, \"subunitcolor\": \"white\"}, \"hoverlabel\": {\"align\": \"left\"}, \"hovermode\": \"closest\", \"mapbox\": {\"style\": \"light\"}, \"paper_bgcolor\": \"white\", \"plot_bgcolor\": \"#E5ECF6\", \"polar\": {\"angularaxis\": {\"gridcolor\": \"white\", \"linecolor\": \"white\", \"ticks\": \"\"}, \"bgcolor\": \"#E5ECF6\", \"radialaxis\": {\"gridcolor\": \"white\", \"linecolor\": \"white\", \"ticks\": \"\"}}, \"scene\": {\"xaxis\": {\"backgroundcolor\": \"#E5ECF6\", \"gridcolor\": \"white\", \"gridwidth\": 2, \"linecolor\": \"white\", \"showbackground\": true, \"ticks\": \"\", \"zerolinecolor\": \"white\"}, \"yaxis\": {\"backgroundcolor\": \"#E5ECF6\", \"gridcolor\": \"white\", \"gridwidth\": 2, \"linecolor\": \"white\", \"showbackground\": true, \"ticks\": \"\", \"zerolinecolor\": \"white\"}, \"zaxis\": {\"backgroundcolor\": \"#E5ECF6\", \"gridcolor\": \"white\", \"gridwidth\": 2, \"linecolor\": \"white\", \"showbackground\": true, \"ticks\": \"\", \"zerolinecolor\": \"white\"}}, \"shapedefaults\": {\"line\": {\"color\": \"#2a3f5f\"}}, \"ternary\": {\"aaxis\": {\"gridcolor\": \"white\", \"linecolor\": \"white\", \"ticks\": \"\"}, \"baxis\": {\"gridcolor\": \"white\", \"linecolor\": \"white\", \"ticks\": \"\"}, \"bgcolor\": \"#E5ECF6\", \"caxis\": {\"gridcolor\": \"white\", \"linecolor\": \"white\", \"ticks\": \"\"}}, \"title\": {\"x\": 0.05}, \"xaxis\": {\"automargin\": true, \"gridcolor\": \"white\", \"linecolor\": \"white\", \"ticks\": \"\", \"title\": {\"standoff\": 15}, \"zerolinecolor\": \"white\", \"zerolinewidth\": 2}, \"yaxis\": {\"automargin\": true, \"gridcolor\": \"white\", \"linecolor\": \"white\", \"ticks\": \"\", \"title\": {\"standoff\": 15}, \"zerolinecolor\": \"white\", \"zerolinewidth\": 2}}}, \"title\": {\"text\": \"Time Series Plot for Mean Daily Price\"}, \"xaxis\": {\"title\": {\"text\": \"Date\"}}, \"yaxis\": {\"title\": {\"text\": \"Prices\"}}},\n",
              "                        {\"responsive\": true}\n",
              "                    ).then(function(){\n",
              "                            \n",
              "var gd = document.getElementById('fd23fd72-6ece-4730-94c8-8c8866f7cdf9');\n",
              "var x = new MutationObserver(function (mutations, observer) {{\n",
              "        var display = window.getComputedStyle(gd).display;\n",
              "        if (!display || display === 'none') {{\n",
              "            console.log([gd, 'removed!']);\n",
              "            Plotly.purge(gd);\n",
              "            observer.disconnect();\n",
              "        }}\n",
              "}});\n",
              "\n",
              "// Listen for the removal of the full notebook cells\n",
              "var notebookContainer = gd.closest('#notebook-container');\n",
              "if (notebookContainer) {{\n",
              "    x.observe(notebookContainer, {childList: true});\n",
              "}}\n",
              "\n",
              "// Listen for the clearing of the current output cell\n",
              "var outputEl = gd.closest('.output');\n",
              "if (outputEl) {{\n",
              "    x.observe(outputEl, {childList: true});\n",
              "}}\n",
              "\n",
              "                        })\n",
              "                };\n",
              "                });\n",
              "            </script>\n",
              "        </div>"
            ]
          },
          "metadata": {
            "tags": []
          }
        }
      ]
    },
    {
      "cell_type": "markdown",
      "metadata": {
        "id": "6zP1Hd4zLdbd",
        "colab_type": "text"
      },
      "source": [
        "    It seems like that there is a period changes. On top of that, the price in 2017 seems relatively higher."
      ]
    },
    {
      "cell_type": "markdown",
      "metadata": {
        "id": "-eIvXGynLdbe",
        "colab_type": "text"
      },
      "source": [
        "### Column_Total_Volume"
      ]
    },
    {
      "cell_type": "markdown",
      "metadata": {
        "id": "nkUT8MLZLdbe",
        "colab_type": "text"
      },
      "source": [
        " The Total Volume sold is also an ineresting time series."
      ]
    },
    {
      "cell_type": "code",
      "metadata": {
        "id": "sK46w8f9Ldbf",
        "colab_type": "code",
        "colab": {},
        "outputId": "7cdc642f-ccf6-4869-ca8e-0436c4db7e1a"
      },
      "source": [
        "#Let's plot a overall time series for the Average Price.\n",
        "\n",
        "import plotly\n",
        "from plotly.offline import init_notebook_mode, iplot\n",
        "import plotly.graph_objs as go\n",
        "init_notebook_mode(connected=True)\n",
        "\n",
        "groupBy_Overall = df.groupby('Date').mean()\n",
        "\n",
        "scatter = go.Scatter(x=groupBy_Overall['Total Volume'].index, y=groupBy_Overall['Total Volume'],mode='lines+markers',\n",
        "                    marker=dict(\n",
        "                                 color='rgb(158,202,225)',\n",
        "                                 line=dict(\n",
        "                                 color='rgb(8,48,107)',\n",
        "                                 width=1.5)),\n",
        "                                opacity=0.8)\n",
        "data = [scatter]\n",
        "layout = go.Layout(title='Time Series Plot for Mean Daily Total Volume',\n",
        "                  xaxis={'title':'Date'},yaxis={'title':'Total Volume'})\n",
        "\n",
        "figure = go.Figure(data=data, layout=layout)\n",
        "iplot(figure)\n"
      ],
      "execution_count": 0,
      "outputs": [
        {
          "output_type": "display_data",
          "data": {
            "text/html": [
              "        <script type=\"text/javascript\">\n",
              "        window.PlotlyConfig = {MathJaxConfig: 'local'};\n",
              "        if (window.MathJax) {MathJax.Hub.Config({SVG: {font: \"STIX-Web\"}});}\n",
              "        if (typeof require !== 'undefined') {\n",
              "        require.undef(\"plotly\");\n",
              "        requirejs.config({\n",
              "            paths: {\n",
              "                'plotly': ['https://cdn.plot.ly/plotly-latest.min']\n",
              "            }\n",
              "        });\n",
              "        require(['plotly'], function(Plotly) {\n",
              "            window._Plotly = Plotly;\n",
              "        });\n",
              "        }\n",
              "        </script>\n",
              "        "
            ]
          },
          "metadata": {
            "tags": []
          }
        },
        {
          "output_type": "display_data",
          "data": {
            "application/vnd.plotly.v1+json": {
              "config": {
                "linkText": "Export to plot.ly",
                "plotlyServerURL": "https://plot.ly",
                "showLink": false
              },
              "data": [
                {
                  "marker": {
                    "color": "rgb(158,202,225)",
                    "line": {
                      "color": "rgb(8,48,107)",
                      "width": 1.5
                    }
                  },
                  "mode": "lines+markers",
                  "opacity": 0.8,
                  "type": "scatter",
                  "x": [
                    "2015-01-04T00:00:00",
                    "2015-01-11T00:00:00",
                    "2015-01-18T00:00:00",
                    "2015-01-25T00:00:00",
                    "2015-02-01T00:00:00",
                    "2015-02-08T00:00:00",
                    "2015-02-15T00:00:00",
                    "2015-02-22T00:00:00",
                    "2015-03-01T00:00:00",
                    "2015-03-08T00:00:00",
                    "2015-03-15T00:00:00",
                    "2015-03-22T00:00:00",
                    "2015-03-29T00:00:00",
                    "2015-04-05T00:00:00",
                    "2015-04-12T00:00:00",
                    "2015-04-19T00:00:00",
                    "2015-04-26T00:00:00",
                    "2015-05-03T00:00:00",
                    "2015-05-10T00:00:00",
                    "2015-05-17T00:00:00",
                    "2015-05-24T00:00:00",
                    "2015-05-31T00:00:00",
                    "2015-06-07T00:00:00",
                    "2015-06-14T00:00:00",
                    "2015-06-21T00:00:00",
                    "2015-06-28T00:00:00",
                    "2015-07-05T00:00:00",
                    "2015-07-12T00:00:00",
                    "2015-07-19T00:00:00",
                    "2015-07-26T00:00:00",
                    "2015-08-02T00:00:00",
                    "2015-08-09T00:00:00",
                    "2015-08-16T00:00:00",
                    "2015-08-23T00:00:00",
                    "2015-08-30T00:00:00",
                    "2015-09-06T00:00:00",
                    "2015-09-13T00:00:00",
                    "2015-09-20T00:00:00",
                    "2015-09-27T00:00:00",
                    "2015-10-04T00:00:00",
                    "2015-10-11T00:00:00",
                    "2015-10-18T00:00:00",
                    "2015-10-25T00:00:00",
                    "2015-11-01T00:00:00",
                    "2015-11-08T00:00:00",
                    "2015-11-15T00:00:00",
                    "2015-11-22T00:00:00",
                    "2015-11-29T00:00:00",
                    "2015-12-06T00:00:00",
                    "2015-12-13T00:00:00",
                    "2015-12-20T00:00:00",
                    "2015-12-27T00:00:00",
                    "2016-01-04T00:00:00",
                    "2016-01-10T00:00:00",
                    "2016-01-17T00:00:00",
                    "2016-01-24T00:00:00",
                    "2016-01-31T00:00:00",
                    "2016-02-07T00:00:00",
                    "2016-02-14T00:00:00",
                    "2016-02-21T00:00:00",
                    "2016-02-28T00:00:00",
                    "2016-03-06T00:00:00",
                    "2016-03-13T00:00:00",
                    "2016-03-20T00:00:00",
                    "2016-03-27T00:00:00",
                    "2016-04-03T00:00:00",
                    "2016-04-10T00:00:00",
                    "2016-04-17T00:00:00",
                    "2016-04-24T00:00:00",
                    "2016-05-01T00:00:00",
                    "2016-05-08T00:00:00",
                    "2016-05-15T00:00:00",
                    "2016-05-22T00:00:00",
                    "2016-05-29T00:00:00",
                    "2016-06-05T00:00:00",
                    "2016-06-12T00:00:00",
                    "2016-06-19T00:00:00",
                    "2016-06-26T00:00:00",
                    "2016-07-03T00:00:00",
                    "2016-07-10T00:00:00",
                    "2016-07-17T00:00:00",
                    "2016-07-24T00:00:00",
                    "2016-07-31T00:00:00",
                    "2016-08-07T00:00:00",
                    "2016-08-14T00:00:00",
                    "2016-08-21T00:00:00",
                    "2016-08-28T00:00:00",
                    "2016-09-04T00:00:00",
                    "2016-09-11T00:00:00",
                    "2016-09-18T00:00:00",
                    "2016-09-25T00:00:00",
                    "2016-10-02T00:00:00",
                    "2016-10-09T00:00:00",
                    "2016-10-16T00:00:00",
                    "2016-10-23T00:00:00",
                    "2016-10-30T00:00:00",
                    "2016-11-06T00:00:00",
                    "2016-11-13T00:00:00",
                    "2016-11-20T00:00:00",
                    "2016-11-27T00:00:00",
                    "2016-12-04T00:00:00",
                    "2016-12-11T00:00:00",
                    "2016-12-18T00:00:00",
                    "2016-12-25T00:00:00",
                    "2017-01-02T00:00:00",
                    "2017-01-08T00:00:00",
                    "2017-01-15T00:00:00",
                    "2017-01-22T00:00:00",
                    "2017-01-29T00:00:00",
                    "2017-02-05T00:00:00",
                    "2017-02-12T00:00:00",
                    "2017-02-19T00:00:00",
                    "2017-02-26T00:00:00",
                    "2017-03-05T00:00:00",
                    "2017-03-12T00:00:00",
                    "2017-03-19T00:00:00",
                    "2017-03-26T00:00:00",
                    "2017-04-02T00:00:00",
                    "2017-04-09T00:00:00",
                    "2017-04-16T00:00:00",
                    "2017-04-23T00:00:00",
                    "2017-04-30T00:00:00",
                    "2017-05-07T00:00:00",
                    "2017-05-14T00:00:00",
                    "2017-05-21T00:00:00",
                    "2017-05-28T00:00:00",
                    "2017-06-04T00:00:00",
                    "2017-06-11T00:00:00",
                    "2017-06-18T00:00:00",
                    "2017-06-25T00:00:00",
                    "2017-07-02T00:00:00",
                    "2017-07-09T00:00:00",
                    "2017-07-16T00:00:00",
                    "2017-07-23T00:00:00",
                    "2017-07-30T00:00:00",
                    "2017-08-06T00:00:00",
                    "2017-08-13T00:00:00",
                    "2017-08-20T00:00:00",
                    "2017-08-27T00:00:00",
                    "2017-09-03T00:00:00",
                    "2017-09-10T00:00:00",
                    "2017-09-17T00:00:00",
                    "2017-09-24T00:00:00",
                    "2017-10-01T00:00:00",
                    "2017-10-08T00:00:00",
                    "2017-10-15T00:00:00",
                    "2017-10-22T00:00:00",
                    "2017-10-29T00:00:00",
                    "2017-11-05T00:00:00",
                    "2017-11-12T00:00:00",
                    "2017-11-19T00:00:00",
                    "2017-11-26T00:00:00",
                    "2017-12-03T00:00:00",
                    "2017-12-10T00:00:00",
                    "2017-12-17T00:00:00",
                    "2017-12-24T00:00:00",
                    "2018-01-01T00:00:00",
                    "2018-01-07T00:00:00",
                    "2018-01-14T00:00:00",
                    "2018-01-21T00:00:00",
                    "2018-01-28T00:00:00",
                    "2018-02-04T00:00:00",
                    "2018-02-11T00:00:00",
                    "2018-02-18T00:00:00",
                    "2018-02-25T00:00:00",
                    "2018-03-04T00:00:00",
                    "2018-03-11T00:00:00",
                    "2018-03-18T00:00:00",
                    "2018-03-25T00:00:00",
                    "2018-04-01T00:00:00",
                    "2018-04-08T00:00:00",
                    "2018-04-15T00:00:00",
                    "2018-04-22T00:00:00",
                    "2018-04-29T00:00:00",
                    "2018-05-06T00:00:00",
                    "2018-05-13T00:00:00",
                    "2018-05-20T00:00:00",
                    "2018-05-27T00:00:00",
                    "2018-06-03T00:00:00",
                    "2018-06-10T00:00:00",
                    "2018-06-17T00:00:00",
                    "2018-06-24T00:00:00",
                    "2018-07-01T00:00:00",
                    "2018-07-08T00:00:00",
                    "2018-07-15T00:00:00",
                    "2018-07-22T00:00:00",
                    "2018-07-29T00:00:00",
                    "2018-08-05T00:00:00",
                    "2018-08-12T00:00:00",
                    "2018-08-19T00:00:00",
                    "2018-08-26T00:00:00",
                    "2018-09-02T00:00:00",
                    "2018-09-09T00:00:00",
                    "2018-09-16T00:00:00",
                    "2018-09-23T00:00:00",
                    "2018-09-30T00:00:00",
                    "2018-10-07T00:00:00",
                    "2018-10-14T00:00:00",
                    "2018-10-21T00:00:00",
                    "2018-10-28T00:00:00",
                    "2018-11-04T00:00:00",
                    "2018-11-11T00:00:00",
                    "2018-11-18T00:00:00",
                    "2018-11-25T00:00:00",
                    "2018-12-02T00:00:00",
                    "2019-01-07T00:00:00",
                    "2019-01-13T00:00:00",
                    "2019-01-20T00:00:00",
                    "2019-01-27T00:00:00",
                    "2019-02-03T00:00:00",
                    "2019-02-10T00:00:00",
                    "2019-02-17T00:00:00",
                    "2019-02-24T00:00:00",
                    "2019-03-03T00:00:00",
                    "2019-03-10T00:00:00",
                    "2019-03-17T00:00:00",
                    "2019-03-24T00:00:00",
                    "2019-03-31T00:00:00",
                    "2019-04-07T00:00:00",
                    "2019-04-14T00:00:00",
                    "2019-04-21T00:00:00",
                    "2019-04-28T00:00:00",
                    "2019-05-05T00:00:00",
                    "2019-05-12T00:00:00",
                    "2019-05-19T00:00:00",
                    "2019-05-26T00:00:00",
                    "2019-06-02T00:00:00",
                    "2019-06-09T00:00:00",
                    "2019-06-16T00:00:00",
                    "2019-06-23T00:00:00",
                    "2019-06-30T00:00:00",
                    "2019-07-07T00:00:00",
                    "2019-07-14T00:00:00",
                    "2019-07-21T00:00:00",
                    "2019-07-28T00:00:00",
                    "2019-08-04T00:00:00",
                    "2019-08-11T00:00:00",
                    "2019-08-18T00:00:00",
                    "2019-08-25T00:00:00",
                    "2019-09-01T00:00:00",
                    "2019-09-08T00:00:00",
                    "2019-09-15T00:00:00",
                    "2019-09-22T00:00:00",
                    "2019-09-29T00:00:00",
                    "2019-10-06T00:00:00",
                    "2019-10-13T00:00:00",
                    "2019-10-20T00:00:00",
                    "2019-10-27T00:00:00",
                    "2019-11-03T00:00:00",
                    "2019-11-10T00:00:00",
                    "2019-11-17T00:00:00",
                    "2019-11-24T00:00:00",
                    "2019-12-01T00:00:00"
                  ],
                  "y": [
                    784021.6407407402,
                    727368.5855555556,
                    725822.0748148152,
                    708021.1210185178,
                    1106048.4745370364,
                    802510.2425925924,
                    700344.1021296292,
                    748852.7291666671,
                    828100.4005555562,
                    752608.0896296297,
                    737748.366481482,
                    808762.1941666664,
                    748550.1137037039,
                    784658.177222222,
                    800099.0296296298,
                    825706.433888889,
                    776058.5365740738,
                    1035109.6470370373,
                    915498.7124999993,
                    799786.9718518519,
                    882835.42537037,
                    846251.1394444444,
                    911650.7462962967,
                    923645.2245370374,
                    892056.7410185182,
                    808080.1002777779,
                    945342.3471296295,
                    788499.5027777774,
                    806820.4899074076,
                    762132.7771296293,
                    758508.6253703712,
                    833913.5186111109,
                    798868.3995370376,
                    743671.0748148141,
                    746934.8151851855,
                    835940.8673148149,
                    780596.1666666677,
                    738147.2821296299,
                    693638.2121296293,
                    706513.2257407407,
                    729145.8215740735,
                    739266.0325925929,
                    656335.2073148146,
                    783793.0668518516,
                    717158.1525925929,
                    718254.6263888888,
                    632290.883888889,
                    569244.3479629633,
                    729407.3766355141,
                    704985.4563888891,
                    629943.6060185177,
                    683398.1837962962,
                    952571.7744444447,
                    886305.693518518,
                    862885.5478703701,
                    829675.4087037037,
                    870466.812314815,
                    1300835.218148147,
                    917531.6418518523,
                    824460.1984259257,
                    926115.5524999994,
                    884748.3197222219,
                    916448.2954629632,
                    917024.6092592592,
                    904115.8892592596,
                    848139.9877777778,
                    926095.0074074077,
                    939689.3243518522,
                    1006749.3081481479,
                    1085952.7887962966,
                    1167639.6069444444,
                    1002902.0551851856,
                    931766.1194444445,
                    1008318.4163888892,
                    1011721.7580555553,
                    895657.0112962967,
                    968148.2768518513,
                    923807.7137962962,
                    1004985.0836111108,
                    896416.371851852,
                    823593.1409259255,
                    814396.5536111114,
                    787232.4076851857,
                    854046.6525925928,
                    870083.7660185182,
                    850390.388425926,
                    858784.4427777777,
                    935817.0631481479,
                    866604.743055556,
                    787441.8486111107,
                    764796.3033333333,
                    749183.3482407411,
                    730195.3209259259,
                    702703.1262962965,
                    623854.6450925927,
                    529265.4509259257,
                    572273.290648148,
                    612916.6241666666,
                    639391.9629629626,
                    584763.8324074072,
                    794915.1335185188,
                    762037.0199999998,
                    747510.2326851852,
                    764498.2793518518,
                    967115.713333333,
                    957732.4977777782,
                    961451.9683333331,
                    1062385.9000925927,
                    989582.7483333334,
                    1522268.6348148147,
                    1035123.4825000002,
                    868716.8835185184,
                    931068.6475229358,
                    858286.8901834865,
                    816482.4283333333,
                    805476.4091666668,
                    835217.829351852,
                    880354.9281481481,
                    884558.7083333334,
                    897844.7878703706,
                    902971.376203703,
                    969589.9174074075,
                    1193743.8361111116,
                    933895.9536111108,
                    873679.7322222225,
                    940629.9374074072,
                    950101.7017592592,
                    940674.1662962966,
                    976770.1065420561,
                    950396.78317757,
                    956120.512407408,
                    990300.9668518513,
                    821021.4024074076,
                    827420.9715740745,
                    802392.7241666673,
                    820592.5782407406,
                    827457.167592593,
                    757221.3132407409,
                    727441.8129629629,
                    682122.612685185,
                    673187.7136111109,
                    648733.9475000002,
                    632803.2848148147,
                    630707.8089814815,
                    627873.3163888892,
                    644159.1200000001,
                    684803.4100000008,
                    771511.4996296299,
                    813010.6082407403,
                    818504.4220370373,
                    741695.6745370368,
                    631597.7075000001,
                    856581.9294444444,
                    908187.185648148,
                    783216.1463888886,
                    740718.336388889,
                    964378.4394444441,
                    933306.8917592593,
                    944701.2003703701,
                    1084140.2884259261,
                    1016620.9122222225,
                    1566461.404537038,
                    1088681.6515740745,
                    942512.0612962962,
                    1011402.2568518515,
                    1035601.2014814811,
                    1032085.1775925928,
                    1052536.8442592593,
                    1095082.8898148146,
                    1042443.6796296294,
                    1090281.4914814814,
                    1193141.502037038,
                    1125256.340648148,
                    1119407.7166666663,
                    1598463.3867592597,
                    1175562.6128703703,
                    1129160.3025000002,
                    1205248.1166666665,
                    1146223.6712037043,
                    1163714.9537962966,
                    1128285.869074075,
                    1135295.7310185183,
                    1152483.3005555554,
                    1205887.2764814815,
                    1093142.8582407406,
                    1062010.0626851856,
                    1030237.0136111112,
                    1004143.2640740746,
                    1037787.3163888888,
                    1029122.6836111109,
                    938128.8211111113,
                    924300.6418518516,
                    955155.0669444444,
                    910081.382777777,
                    887699.6781481483,
                    959796.2847222224,
                    967623.2983333337,
                    943435.9891666669,
                    870290.9917592594,
                    1006757.8651851848,
                    973013.8050925919,
                    987588.2558333332,
                    774431.9906481478,
                    564969.3924074073,
                    706946.5997222223,
                    1137379.3112037035,
                    1217950.9501851848,
                    1194421.475648148,
                    1107401.912777778,
                    1569369.3822222224,
                    1187695.4299074078,
                    1076449.3835185184,
                    1107907.9981481486,
                    1129054.7762962966,
                    1170575.2069444442,
                    1233602.4816666667,
                    1192786.4321296297,
                    1145895.596574074,
                    1245677.5470370373,
                    1175496.8900925925,
                    989572.4178703704,
                    892695.2508333335,
                    1238696.5650925925,
                    1088636.0862037037,
                    967640.4569444446,
                    1026465.411944445,
                    1092192.8581481483,
                    1092072.6164814818,
                    995637.683888889,
                    972041.9585185185,
                    964981.5832407408,
                    984115.2292592595,
                    886686.2064814812,
                    858503.548796296,
                    879152.3099999997,
                    905952.6726851846,
                    945127.5875925928,
                    953467.846388889,
                    998215.6958333335,
                    1016947.2019444448,
                    987046.9348148146,
                    988358.1659259254,
                    950497.8538888885,
                    997793.739537037,
                    1008814.271111111,
                    987042.7276851849,
                    985184.0182407402,
                    1002825.9587037041,
                    957102.463425926,
                    994230.4074074074,
                    965200.5277777778,
                    881614.8796296297,
                    799416.7222222222
                  ]
                }
              ],
              "layout": {
                "template": {
                  "data": {
                    "bar": [
                      {
                        "error_x": {
                          "color": "#2a3f5f"
                        },
                        "error_y": {
                          "color": "#2a3f5f"
                        },
                        "marker": {
                          "line": {
                            "color": "#E5ECF6",
                            "width": 0.5
                          }
                        },
                        "type": "bar"
                      }
                    ],
                    "barpolar": [
                      {
                        "marker": {
                          "line": {
                            "color": "#E5ECF6",
                            "width": 0.5
                          }
                        },
                        "type": "barpolar"
                      }
                    ],
                    "carpet": [
                      {
                        "aaxis": {
                          "endlinecolor": "#2a3f5f",
                          "gridcolor": "white",
                          "linecolor": "white",
                          "minorgridcolor": "white",
                          "startlinecolor": "#2a3f5f"
                        },
                        "baxis": {
                          "endlinecolor": "#2a3f5f",
                          "gridcolor": "white",
                          "linecolor": "white",
                          "minorgridcolor": "white",
                          "startlinecolor": "#2a3f5f"
                        },
                        "type": "carpet"
                      }
                    ],
                    "choropleth": [
                      {
                        "colorbar": {
                          "outlinewidth": 0,
                          "ticks": ""
                        },
                        "type": "choropleth"
                      }
                    ],
                    "contour": [
                      {
                        "colorbar": {
                          "outlinewidth": 0,
                          "ticks": ""
                        },
                        "colorscale": [
                          [
                            0,
                            "#0d0887"
                          ],
                          [
                            0.1111111111111111,
                            "#46039f"
                          ],
                          [
                            0.2222222222222222,
                            "#7201a8"
                          ],
                          [
                            0.3333333333333333,
                            "#9c179e"
                          ],
                          [
                            0.4444444444444444,
                            "#bd3786"
                          ],
                          [
                            0.5555555555555556,
                            "#d8576b"
                          ],
                          [
                            0.6666666666666666,
                            "#ed7953"
                          ],
                          [
                            0.7777777777777778,
                            "#fb9f3a"
                          ],
                          [
                            0.8888888888888888,
                            "#fdca26"
                          ],
                          [
                            1,
                            "#f0f921"
                          ]
                        ],
                        "type": "contour"
                      }
                    ],
                    "contourcarpet": [
                      {
                        "colorbar": {
                          "outlinewidth": 0,
                          "ticks": ""
                        },
                        "type": "contourcarpet"
                      }
                    ],
                    "heatmap": [
                      {
                        "colorbar": {
                          "outlinewidth": 0,
                          "ticks": ""
                        },
                        "colorscale": [
                          [
                            0,
                            "#0d0887"
                          ],
                          [
                            0.1111111111111111,
                            "#46039f"
                          ],
                          [
                            0.2222222222222222,
                            "#7201a8"
                          ],
                          [
                            0.3333333333333333,
                            "#9c179e"
                          ],
                          [
                            0.4444444444444444,
                            "#bd3786"
                          ],
                          [
                            0.5555555555555556,
                            "#d8576b"
                          ],
                          [
                            0.6666666666666666,
                            "#ed7953"
                          ],
                          [
                            0.7777777777777778,
                            "#fb9f3a"
                          ],
                          [
                            0.8888888888888888,
                            "#fdca26"
                          ],
                          [
                            1,
                            "#f0f921"
                          ]
                        ],
                        "type": "heatmap"
                      }
                    ],
                    "heatmapgl": [
                      {
                        "colorbar": {
                          "outlinewidth": 0,
                          "ticks": ""
                        },
                        "colorscale": [
                          [
                            0,
                            "#0d0887"
                          ],
                          [
                            0.1111111111111111,
                            "#46039f"
                          ],
                          [
                            0.2222222222222222,
                            "#7201a8"
                          ],
                          [
                            0.3333333333333333,
                            "#9c179e"
                          ],
                          [
                            0.4444444444444444,
                            "#bd3786"
                          ],
                          [
                            0.5555555555555556,
                            "#d8576b"
                          ],
                          [
                            0.6666666666666666,
                            "#ed7953"
                          ],
                          [
                            0.7777777777777778,
                            "#fb9f3a"
                          ],
                          [
                            0.8888888888888888,
                            "#fdca26"
                          ],
                          [
                            1,
                            "#f0f921"
                          ]
                        ],
                        "type": "heatmapgl"
                      }
                    ],
                    "histogram": [
                      {
                        "marker": {
                          "colorbar": {
                            "outlinewidth": 0,
                            "ticks": ""
                          }
                        },
                        "type": "histogram"
                      }
                    ],
                    "histogram2d": [
                      {
                        "colorbar": {
                          "outlinewidth": 0,
                          "ticks": ""
                        },
                        "colorscale": [
                          [
                            0,
                            "#0d0887"
                          ],
                          [
                            0.1111111111111111,
                            "#46039f"
                          ],
                          [
                            0.2222222222222222,
                            "#7201a8"
                          ],
                          [
                            0.3333333333333333,
                            "#9c179e"
                          ],
                          [
                            0.4444444444444444,
                            "#bd3786"
                          ],
                          [
                            0.5555555555555556,
                            "#d8576b"
                          ],
                          [
                            0.6666666666666666,
                            "#ed7953"
                          ],
                          [
                            0.7777777777777778,
                            "#fb9f3a"
                          ],
                          [
                            0.8888888888888888,
                            "#fdca26"
                          ],
                          [
                            1,
                            "#f0f921"
                          ]
                        ],
                        "type": "histogram2d"
                      }
                    ],
                    "histogram2dcontour": [
                      {
                        "colorbar": {
                          "outlinewidth": 0,
                          "ticks": ""
                        },
                        "colorscale": [
                          [
                            0,
                            "#0d0887"
                          ],
                          [
                            0.1111111111111111,
                            "#46039f"
                          ],
                          [
                            0.2222222222222222,
                            "#7201a8"
                          ],
                          [
                            0.3333333333333333,
                            "#9c179e"
                          ],
                          [
                            0.4444444444444444,
                            "#bd3786"
                          ],
                          [
                            0.5555555555555556,
                            "#d8576b"
                          ],
                          [
                            0.6666666666666666,
                            "#ed7953"
                          ],
                          [
                            0.7777777777777778,
                            "#fb9f3a"
                          ],
                          [
                            0.8888888888888888,
                            "#fdca26"
                          ],
                          [
                            1,
                            "#f0f921"
                          ]
                        ],
                        "type": "histogram2dcontour"
                      }
                    ],
                    "mesh3d": [
                      {
                        "colorbar": {
                          "outlinewidth": 0,
                          "ticks": ""
                        },
                        "type": "mesh3d"
                      }
                    ],
                    "parcoords": [
                      {
                        "line": {
                          "colorbar": {
                            "outlinewidth": 0,
                            "ticks": ""
                          }
                        },
                        "type": "parcoords"
                      }
                    ],
                    "pie": [
                      {
                        "automargin": true,
                        "type": "pie"
                      }
                    ],
                    "scatter": [
                      {
                        "marker": {
                          "colorbar": {
                            "outlinewidth": 0,
                            "ticks": ""
                          }
                        },
                        "type": "scatter"
                      }
                    ],
                    "scatter3d": [
                      {
                        "line": {
                          "colorbar": {
                            "outlinewidth": 0,
                            "ticks": ""
                          }
                        },
                        "marker": {
                          "colorbar": {
                            "outlinewidth": 0,
                            "ticks": ""
                          }
                        },
                        "type": "scatter3d"
                      }
                    ],
                    "scattercarpet": [
                      {
                        "marker": {
                          "colorbar": {
                            "outlinewidth": 0,
                            "ticks": ""
                          }
                        },
                        "type": "scattercarpet"
                      }
                    ],
                    "scattergeo": [
                      {
                        "marker": {
                          "colorbar": {
                            "outlinewidth": 0,
                            "ticks": ""
                          }
                        },
                        "type": "scattergeo"
                      }
                    ],
                    "scattergl": [
                      {
                        "marker": {
                          "colorbar": {
                            "outlinewidth": 0,
                            "ticks": ""
                          }
                        },
                        "type": "scattergl"
                      }
                    ],
                    "scattermapbox": [
                      {
                        "marker": {
                          "colorbar": {
                            "outlinewidth": 0,
                            "ticks": ""
                          }
                        },
                        "type": "scattermapbox"
                      }
                    ],
                    "scatterpolar": [
                      {
                        "marker": {
                          "colorbar": {
                            "outlinewidth": 0,
                            "ticks": ""
                          }
                        },
                        "type": "scatterpolar"
                      }
                    ],
                    "scatterpolargl": [
                      {
                        "marker": {
                          "colorbar": {
                            "outlinewidth": 0,
                            "ticks": ""
                          }
                        },
                        "type": "scatterpolargl"
                      }
                    ],
                    "scatterternary": [
                      {
                        "marker": {
                          "colorbar": {
                            "outlinewidth": 0,
                            "ticks": ""
                          }
                        },
                        "type": "scatterternary"
                      }
                    ],
                    "surface": [
                      {
                        "colorbar": {
                          "outlinewidth": 0,
                          "ticks": ""
                        },
                        "colorscale": [
                          [
                            0,
                            "#0d0887"
                          ],
                          [
                            0.1111111111111111,
                            "#46039f"
                          ],
                          [
                            0.2222222222222222,
                            "#7201a8"
                          ],
                          [
                            0.3333333333333333,
                            "#9c179e"
                          ],
                          [
                            0.4444444444444444,
                            "#bd3786"
                          ],
                          [
                            0.5555555555555556,
                            "#d8576b"
                          ],
                          [
                            0.6666666666666666,
                            "#ed7953"
                          ],
                          [
                            0.7777777777777778,
                            "#fb9f3a"
                          ],
                          [
                            0.8888888888888888,
                            "#fdca26"
                          ],
                          [
                            1,
                            "#f0f921"
                          ]
                        ],
                        "type": "surface"
                      }
                    ],
                    "table": [
                      {
                        "cells": {
                          "fill": {
                            "color": "#EBF0F8"
                          },
                          "line": {
                            "color": "white"
                          }
                        },
                        "header": {
                          "fill": {
                            "color": "#C8D4E3"
                          },
                          "line": {
                            "color": "white"
                          }
                        },
                        "type": "table"
                      }
                    ]
                  },
                  "layout": {
                    "annotationdefaults": {
                      "arrowcolor": "#2a3f5f",
                      "arrowhead": 0,
                      "arrowwidth": 1
                    },
                    "coloraxis": {
                      "colorbar": {
                        "outlinewidth": 0,
                        "ticks": ""
                      }
                    },
                    "colorscale": {
                      "diverging": [
                        [
                          0,
                          "#8e0152"
                        ],
                        [
                          0.1,
                          "#c51b7d"
                        ],
                        [
                          0.2,
                          "#de77ae"
                        ],
                        [
                          0.3,
                          "#f1b6da"
                        ],
                        [
                          0.4,
                          "#fde0ef"
                        ],
                        [
                          0.5,
                          "#f7f7f7"
                        ],
                        [
                          0.6,
                          "#e6f5d0"
                        ],
                        [
                          0.7,
                          "#b8e186"
                        ],
                        [
                          0.8,
                          "#7fbc41"
                        ],
                        [
                          0.9,
                          "#4d9221"
                        ],
                        [
                          1,
                          "#276419"
                        ]
                      ],
                      "sequential": [
                        [
                          0,
                          "#0d0887"
                        ],
                        [
                          0.1111111111111111,
                          "#46039f"
                        ],
                        [
                          0.2222222222222222,
                          "#7201a8"
                        ],
                        [
                          0.3333333333333333,
                          "#9c179e"
                        ],
                        [
                          0.4444444444444444,
                          "#bd3786"
                        ],
                        [
                          0.5555555555555556,
                          "#d8576b"
                        ],
                        [
                          0.6666666666666666,
                          "#ed7953"
                        ],
                        [
                          0.7777777777777778,
                          "#fb9f3a"
                        ],
                        [
                          0.8888888888888888,
                          "#fdca26"
                        ],
                        [
                          1,
                          "#f0f921"
                        ]
                      ],
                      "sequentialminus": [
                        [
                          0,
                          "#0d0887"
                        ],
                        [
                          0.1111111111111111,
                          "#46039f"
                        ],
                        [
                          0.2222222222222222,
                          "#7201a8"
                        ],
                        [
                          0.3333333333333333,
                          "#9c179e"
                        ],
                        [
                          0.4444444444444444,
                          "#bd3786"
                        ],
                        [
                          0.5555555555555556,
                          "#d8576b"
                        ],
                        [
                          0.6666666666666666,
                          "#ed7953"
                        ],
                        [
                          0.7777777777777778,
                          "#fb9f3a"
                        ],
                        [
                          0.8888888888888888,
                          "#fdca26"
                        ],
                        [
                          1,
                          "#f0f921"
                        ]
                      ]
                    },
                    "colorway": [
                      "#636efa",
                      "#EF553B",
                      "#00cc96",
                      "#ab63fa",
                      "#FFA15A",
                      "#19d3f3",
                      "#FF6692",
                      "#B6E880",
                      "#FF97FF",
                      "#FECB52"
                    ],
                    "font": {
                      "color": "#2a3f5f"
                    },
                    "geo": {
                      "bgcolor": "white",
                      "lakecolor": "white",
                      "landcolor": "#E5ECF6",
                      "showlakes": true,
                      "showland": true,
                      "subunitcolor": "white"
                    },
                    "hoverlabel": {
                      "align": "left"
                    },
                    "hovermode": "closest",
                    "mapbox": {
                      "style": "light"
                    },
                    "paper_bgcolor": "white",
                    "plot_bgcolor": "#E5ECF6",
                    "polar": {
                      "angularaxis": {
                        "gridcolor": "white",
                        "linecolor": "white",
                        "ticks": ""
                      },
                      "bgcolor": "#E5ECF6",
                      "radialaxis": {
                        "gridcolor": "white",
                        "linecolor": "white",
                        "ticks": ""
                      }
                    },
                    "scene": {
                      "xaxis": {
                        "backgroundcolor": "#E5ECF6",
                        "gridcolor": "white",
                        "gridwidth": 2,
                        "linecolor": "white",
                        "showbackground": true,
                        "ticks": "",
                        "zerolinecolor": "white"
                      },
                      "yaxis": {
                        "backgroundcolor": "#E5ECF6",
                        "gridcolor": "white",
                        "gridwidth": 2,
                        "linecolor": "white",
                        "showbackground": true,
                        "ticks": "",
                        "zerolinecolor": "white"
                      },
                      "zaxis": {
                        "backgroundcolor": "#E5ECF6",
                        "gridcolor": "white",
                        "gridwidth": 2,
                        "linecolor": "white",
                        "showbackground": true,
                        "ticks": "",
                        "zerolinecolor": "white"
                      }
                    },
                    "shapedefaults": {
                      "line": {
                        "color": "#2a3f5f"
                      }
                    },
                    "ternary": {
                      "aaxis": {
                        "gridcolor": "white",
                        "linecolor": "white",
                        "ticks": ""
                      },
                      "baxis": {
                        "gridcolor": "white",
                        "linecolor": "white",
                        "ticks": ""
                      },
                      "bgcolor": "#E5ECF6",
                      "caxis": {
                        "gridcolor": "white",
                        "linecolor": "white",
                        "ticks": ""
                      }
                    },
                    "title": {
                      "x": 0.05
                    },
                    "xaxis": {
                      "automargin": true,
                      "gridcolor": "white",
                      "linecolor": "white",
                      "ticks": "",
                      "title": {
                        "standoff": 15
                      },
                      "zerolinecolor": "white",
                      "zerolinewidth": 2
                    },
                    "yaxis": {
                      "automargin": true,
                      "gridcolor": "white",
                      "linecolor": "white",
                      "ticks": "",
                      "title": {
                        "standoff": 15
                      },
                      "zerolinecolor": "white",
                      "zerolinewidth": 2
                    }
                  }
                },
                "title": {
                  "text": "Time Series Plot for Mean Daily Total Volume"
                },
                "xaxis": {
                  "title": {
                    "text": "Date"
                  }
                },
                "yaxis": {
                  "title": {
                    "text": "Total Volume"
                  }
                }
              }
            },
            "text/html": [
              "<div>\n",
              "        \n",
              "        \n",
              "            <div id=\"e360f4b0-079c-4e2e-aab9-6c0468f605bc\" class=\"plotly-graph-div\" style=\"height:525px; width:100%;\"></div>\n",
              "            <script type=\"text/javascript\">\n",
              "                require([\"plotly\"], function(Plotly) {\n",
              "                    window.PLOTLYENV=window.PLOTLYENV || {};\n",
              "                    \n",
              "                if (document.getElementById(\"e360f4b0-079c-4e2e-aab9-6c0468f605bc\")) {\n",
              "                    Plotly.newPlot(\n",
              "                        'e360f4b0-079c-4e2e-aab9-6c0468f605bc',\n",
              "                        [{\"marker\": {\"color\": \"rgb(158,202,225)\", \"line\": {\"color\": \"rgb(8,48,107)\", \"width\": 1.5}}, \"mode\": \"lines+markers\", \"opacity\": 0.8, \"type\": \"scatter\", \"x\": [\"2015-01-04T00:00:00\", \"2015-01-11T00:00:00\", \"2015-01-18T00:00:00\", \"2015-01-25T00:00:00\", \"2015-02-01T00:00:00\", \"2015-02-08T00:00:00\", \"2015-02-15T00:00:00\", \"2015-02-22T00:00:00\", \"2015-03-01T00:00:00\", \"2015-03-08T00:00:00\", \"2015-03-15T00:00:00\", \"2015-03-22T00:00:00\", \"2015-03-29T00:00:00\", \"2015-04-05T00:00:00\", \"2015-04-12T00:00:00\", \"2015-04-19T00:00:00\", \"2015-04-26T00:00:00\", \"2015-05-03T00:00:00\", \"2015-05-10T00:00:00\", \"2015-05-17T00:00:00\", \"2015-05-24T00:00:00\", \"2015-05-31T00:00:00\", \"2015-06-07T00:00:00\", \"2015-06-14T00:00:00\", \"2015-06-21T00:00:00\", \"2015-06-28T00:00:00\", \"2015-07-05T00:00:00\", \"2015-07-12T00:00:00\", \"2015-07-19T00:00:00\", \"2015-07-26T00:00:00\", \"2015-08-02T00:00:00\", \"2015-08-09T00:00:00\", \"2015-08-16T00:00:00\", \"2015-08-23T00:00:00\", \"2015-08-30T00:00:00\", \"2015-09-06T00:00:00\", \"2015-09-13T00:00:00\", \"2015-09-20T00:00:00\", \"2015-09-27T00:00:00\", \"2015-10-04T00:00:00\", \"2015-10-11T00:00:00\", \"2015-10-18T00:00:00\", \"2015-10-25T00:00:00\", \"2015-11-01T00:00:00\", \"2015-11-08T00:00:00\", \"2015-11-15T00:00:00\", \"2015-11-22T00:00:00\", \"2015-11-29T00:00:00\", \"2015-12-06T00:00:00\", \"2015-12-13T00:00:00\", \"2015-12-20T00:00:00\", \"2015-12-27T00:00:00\", \"2016-01-04T00:00:00\", \"2016-01-10T00:00:00\", \"2016-01-17T00:00:00\", \"2016-01-24T00:00:00\", \"2016-01-31T00:00:00\", \"2016-02-07T00:00:00\", \"2016-02-14T00:00:00\", \"2016-02-21T00:00:00\", \"2016-02-28T00:00:00\", \"2016-03-06T00:00:00\", \"2016-03-13T00:00:00\", \"2016-03-20T00:00:00\", \"2016-03-27T00:00:00\", \"2016-04-03T00:00:00\", \"2016-04-10T00:00:00\", \"2016-04-17T00:00:00\", \"2016-04-24T00:00:00\", \"2016-05-01T00:00:00\", \"2016-05-08T00:00:00\", \"2016-05-15T00:00:00\", \"2016-05-22T00:00:00\", \"2016-05-29T00:00:00\", \"2016-06-05T00:00:00\", \"2016-06-12T00:00:00\", \"2016-06-19T00:00:00\", \"2016-06-26T00:00:00\", \"2016-07-03T00:00:00\", \"2016-07-10T00:00:00\", \"2016-07-17T00:00:00\", \"2016-07-24T00:00:00\", \"2016-07-31T00:00:00\", \"2016-08-07T00:00:00\", \"2016-08-14T00:00:00\", \"2016-08-21T00:00:00\", \"2016-08-28T00:00:00\", \"2016-09-04T00:00:00\", \"2016-09-11T00:00:00\", \"2016-09-18T00:00:00\", \"2016-09-25T00:00:00\", \"2016-10-02T00:00:00\", \"2016-10-09T00:00:00\", \"2016-10-16T00:00:00\", \"2016-10-23T00:00:00\", \"2016-10-30T00:00:00\", \"2016-11-06T00:00:00\", \"2016-11-13T00:00:00\", \"2016-11-20T00:00:00\", \"2016-11-27T00:00:00\", \"2016-12-04T00:00:00\", \"2016-12-11T00:00:00\", \"2016-12-18T00:00:00\", \"2016-12-25T00:00:00\", \"2017-01-02T00:00:00\", \"2017-01-08T00:00:00\", \"2017-01-15T00:00:00\", \"2017-01-22T00:00:00\", \"2017-01-29T00:00:00\", \"2017-02-05T00:00:00\", \"2017-02-12T00:00:00\", \"2017-02-19T00:00:00\", \"2017-02-26T00:00:00\", \"2017-03-05T00:00:00\", \"2017-03-12T00:00:00\", \"2017-03-19T00:00:00\", \"2017-03-26T00:00:00\", \"2017-04-02T00:00:00\", \"2017-04-09T00:00:00\", \"2017-04-16T00:00:00\", \"2017-04-23T00:00:00\", \"2017-04-30T00:00:00\", \"2017-05-07T00:00:00\", \"2017-05-14T00:00:00\", \"2017-05-21T00:00:00\", \"2017-05-28T00:00:00\", \"2017-06-04T00:00:00\", \"2017-06-11T00:00:00\", \"2017-06-18T00:00:00\", \"2017-06-25T00:00:00\", \"2017-07-02T00:00:00\", \"2017-07-09T00:00:00\", \"2017-07-16T00:00:00\", \"2017-07-23T00:00:00\", \"2017-07-30T00:00:00\", \"2017-08-06T00:00:00\", \"2017-08-13T00:00:00\", \"2017-08-20T00:00:00\", \"2017-08-27T00:00:00\", \"2017-09-03T00:00:00\", \"2017-09-10T00:00:00\", \"2017-09-17T00:00:00\", \"2017-09-24T00:00:00\", \"2017-10-01T00:00:00\", \"2017-10-08T00:00:00\", \"2017-10-15T00:00:00\", \"2017-10-22T00:00:00\", \"2017-10-29T00:00:00\", \"2017-11-05T00:00:00\", \"2017-11-12T00:00:00\", \"2017-11-19T00:00:00\", \"2017-11-26T00:00:00\", \"2017-12-03T00:00:00\", \"2017-12-10T00:00:00\", \"2017-12-17T00:00:00\", \"2017-12-24T00:00:00\", \"2018-01-01T00:00:00\", \"2018-01-07T00:00:00\", \"2018-01-14T00:00:00\", \"2018-01-21T00:00:00\", \"2018-01-28T00:00:00\", \"2018-02-04T00:00:00\", \"2018-02-11T00:00:00\", \"2018-02-18T00:00:00\", \"2018-02-25T00:00:00\", \"2018-03-04T00:00:00\", \"2018-03-11T00:00:00\", \"2018-03-18T00:00:00\", \"2018-03-25T00:00:00\", \"2018-04-01T00:00:00\", \"2018-04-08T00:00:00\", \"2018-04-15T00:00:00\", \"2018-04-22T00:00:00\", \"2018-04-29T00:00:00\", \"2018-05-06T00:00:00\", \"2018-05-13T00:00:00\", \"2018-05-20T00:00:00\", \"2018-05-27T00:00:00\", \"2018-06-03T00:00:00\", \"2018-06-10T00:00:00\", \"2018-06-17T00:00:00\", \"2018-06-24T00:00:00\", \"2018-07-01T00:00:00\", \"2018-07-08T00:00:00\", \"2018-07-15T00:00:00\", \"2018-07-22T00:00:00\", \"2018-07-29T00:00:00\", \"2018-08-05T00:00:00\", \"2018-08-12T00:00:00\", \"2018-08-19T00:00:00\", \"2018-08-26T00:00:00\", \"2018-09-02T00:00:00\", \"2018-09-09T00:00:00\", \"2018-09-16T00:00:00\", \"2018-09-23T00:00:00\", \"2018-09-30T00:00:00\", \"2018-10-07T00:00:00\", \"2018-10-14T00:00:00\", \"2018-10-21T00:00:00\", \"2018-10-28T00:00:00\", \"2018-11-04T00:00:00\", \"2018-11-11T00:00:00\", \"2018-11-18T00:00:00\", \"2018-11-25T00:00:00\", \"2018-12-02T00:00:00\", \"2019-01-07T00:00:00\", \"2019-01-13T00:00:00\", \"2019-01-20T00:00:00\", \"2019-01-27T00:00:00\", \"2019-02-03T00:00:00\", \"2019-02-10T00:00:00\", \"2019-02-17T00:00:00\", \"2019-02-24T00:00:00\", \"2019-03-03T00:00:00\", \"2019-03-10T00:00:00\", \"2019-03-17T00:00:00\", \"2019-03-24T00:00:00\", \"2019-03-31T00:00:00\", \"2019-04-07T00:00:00\", \"2019-04-14T00:00:00\", \"2019-04-21T00:00:00\", \"2019-04-28T00:00:00\", \"2019-05-05T00:00:00\", \"2019-05-12T00:00:00\", \"2019-05-19T00:00:00\", \"2019-05-26T00:00:00\", \"2019-06-02T00:00:00\", \"2019-06-09T00:00:00\", \"2019-06-16T00:00:00\", \"2019-06-23T00:00:00\", \"2019-06-30T00:00:00\", \"2019-07-07T00:00:00\", \"2019-07-14T00:00:00\", \"2019-07-21T00:00:00\", \"2019-07-28T00:00:00\", \"2019-08-04T00:00:00\", \"2019-08-11T00:00:00\", \"2019-08-18T00:00:00\", \"2019-08-25T00:00:00\", \"2019-09-01T00:00:00\", \"2019-09-08T00:00:00\", \"2019-09-15T00:00:00\", \"2019-09-22T00:00:00\", \"2019-09-29T00:00:00\", \"2019-10-06T00:00:00\", \"2019-10-13T00:00:00\", \"2019-10-20T00:00:00\", \"2019-10-27T00:00:00\", \"2019-11-03T00:00:00\", \"2019-11-10T00:00:00\", \"2019-11-17T00:00:00\", \"2019-11-24T00:00:00\", \"2019-12-01T00:00:00\"], \"y\": [784021.6407407402, 727368.5855555556, 725822.0748148152, 708021.1210185178, 1106048.4745370364, 802510.2425925924, 700344.1021296292, 748852.7291666671, 828100.4005555562, 752608.0896296297, 737748.366481482, 808762.1941666664, 748550.1137037039, 784658.177222222, 800099.0296296298, 825706.433888889, 776058.5365740738, 1035109.6470370373, 915498.7124999993, 799786.9718518519, 882835.42537037, 846251.1394444444, 911650.7462962967, 923645.2245370374, 892056.7410185182, 808080.1002777779, 945342.3471296295, 788499.5027777774, 806820.4899074076, 762132.7771296293, 758508.6253703712, 833913.5186111109, 798868.3995370376, 743671.0748148141, 746934.8151851855, 835940.8673148149, 780596.1666666677, 738147.2821296299, 693638.2121296293, 706513.2257407407, 729145.8215740735, 739266.0325925929, 656335.2073148146, 783793.0668518516, 717158.1525925929, 718254.6263888888, 632290.883888889, 569244.3479629633, 729407.3766355141, 704985.4563888891, 629943.6060185177, 683398.1837962962, 952571.7744444447, 886305.693518518, 862885.5478703701, 829675.4087037037, 870466.812314815, 1300835.218148147, 917531.6418518523, 824460.1984259257, 926115.5524999994, 884748.3197222219, 916448.2954629632, 917024.6092592592, 904115.8892592596, 848139.9877777778, 926095.0074074077, 939689.3243518522, 1006749.3081481479, 1085952.7887962966, 1167639.6069444444, 1002902.0551851856, 931766.1194444445, 1008318.4163888892, 1011721.7580555553, 895657.0112962967, 968148.2768518513, 923807.7137962962, 1004985.0836111108, 896416.371851852, 823593.1409259255, 814396.5536111114, 787232.4076851857, 854046.6525925928, 870083.7660185182, 850390.388425926, 858784.4427777777, 935817.0631481479, 866604.743055556, 787441.8486111107, 764796.3033333333, 749183.3482407411, 730195.3209259259, 702703.1262962965, 623854.6450925927, 529265.4509259257, 572273.290648148, 612916.6241666666, 639391.9629629626, 584763.8324074072, 794915.1335185188, 762037.0199999998, 747510.2326851852, 764498.2793518518, 967115.713333333, 957732.4977777782, 961451.9683333331, 1062385.9000925927, 989582.7483333334, 1522268.6348148147, 1035123.4825000002, 868716.8835185184, 931068.6475229358, 858286.8901834865, 816482.4283333333, 805476.4091666668, 835217.829351852, 880354.9281481481, 884558.7083333334, 897844.7878703706, 902971.376203703, 969589.9174074075, 1193743.8361111116, 933895.9536111108, 873679.7322222225, 940629.9374074072, 950101.7017592592, 940674.1662962966, 976770.1065420561, 950396.78317757, 956120.512407408, 990300.9668518513, 821021.4024074076, 827420.9715740745, 802392.7241666673, 820592.5782407406, 827457.167592593, 757221.3132407409, 727441.8129629629, 682122.612685185, 673187.7136111109, 648733.9475000002, 632803.2848148147, 630707.8089814815, 627873.3163888892, 644159.1200000001, 684803.4100000008, 771511.4996296299, 813010.6082407403, 818504.4220370373, 741695.6745370368, 631597.7075000001, 856581.9294444444, 908187.185648148, 783216.1463888886, 740718.336388889, 964378.4394444441, 933306.8917592593, 944701.2003703701, 1084140.2884259261, 1016620.9122222225, 1566461.404537038, 1088681.6515740745, 942512.0612962962, 1011402.2568518515, 1035601.2014814811, 1032085.1775925928, 1052536.8442592593, 1095082.8898148146, 1042443.6796296294, 1090281.4914814814, 1193141.502037038, 1125256.340648148, 1119407.7166666663, 1598463.3867592597, 1175562.6128703703, 1129160.3025000002, 1205248.1166666665, 1146223.6712037043, 1163714.9537962966, 1128285.869074075, 1135295.7310185183, 1152483.3005555554, 1205887.2764814815, 1093142.8582407406, 1062010.0626851856, 1030237.0136111112, 1004143.2640740746, 1037787.3163888888, 1029122.6836111109, 938128.8211111113, 924300.6418518516, 955155.0669444444, 910081.382777777, 887699.6781481483, 959796.2847222224, 967623.2983333337, 943435.9891666669, 870290.9917592594, 1006757.8651851848, 973013.8050925919, 987588.2558333332, 774431.9906481478, 564969.3924074073, 706946.5997222223, 1137379.3112037035, 1217950.9501851848, 1194421.475648148, 1107401.912777778, 1569369.3822222224, 1187695.4299074078, 1076449.3835185184, 1107907.9981481486, 1129054.7762962966, 1170575.2069444442, 1233602.4816666667, 1192786.4321296297, 1145895.596574074, 1245677.5470370373, 1175496.8900925925, 989572.4178703704, 892695.2508333335, 1238696.5650925925, 1088636.0862037037, 967640.4569444446, 1026465.411944445, 1092192.8581481483, 1092072.6164814818, 995637.683888889, 972041.9585185185, 964981.5832407408, 984115.2292592595, 886686.2064814812, 858503.548796296, 879152.3099999997, 905952.6726851846, 945127.5875925928, 953467.846388889, 998215.6958333335, 1016947.2019444448, 987046.9348148146, 988358.1659259254, 950497.8538888885, 997793.739537037, 1008814.271111111, 987042.7276851849, 985184.0182407402, 1002825.9587037041, 957102.463425926, 994230.4074074074, 965200.5277777778, 881614.8796296297, 799416.7222222222]}],\n",
              "                        {\"template\": {\"data\": {\"bar\": [{\"error_x\": {\"color\": \"#2a3f5f\"}, \"error_y\": {\"color\": \"#2a3f5f\"}, \"marker\": {\"line\": {\"color\": \"#E5ECF6\", \"width\": 0.5}}, \"type\": \"bar\"}], \"barpolar\": [{\"marker\": {\"line\": {\"color\": \"#E5ECF6\", \"width\": 0.5}}, \"type\": \"barpolar\"}], \"carpet\": [{\"aaxis\": {\"endlinecolor\": \"#2a3f5f\", \"gridcolor\": \"white\", \"linecolor\": \"white\", \"minorgridcolor\": \"white\", \"startlinecolor\": \"#2a3f5f\"}, \"baxis\": {\"endlinecolor\": \"#2a3f5f\", \"gridcolor\": \"white\", \"linecolor\": \"white\", \"minorgridcolor\": \"white\", \"startlinecolor\": \"#2a3f5f\"}, \"type\": \"carpet\"}], \"choropleth\": [{\"colorbar\": {\"outlinewidth\": 0, \"ticks\": \"\"}, \"type\": \"choropleth\"}], \"contour\": [{\"colorbar\": {\"outlinewidth\": 0, \"ticks\": \"\"}, \"colorscale\": [[0.0, \"#0d0887\"], [0.1111111111111111, \"#46039f\"], [0.2222222222222222, \"#7201a8\"], [0.3333333333333333, \"#9c179e\"], [0.4444444444444444, \"#bd3786\"], [0.5555555555555556, \"#d8576b\"], [0.6666666666666666, \"#ed7953\"], [0.7777777777777778, \"#fb9f3a\"], [0.8888888888888888, \"#fdca26\"], [1.0, \"#f0f921\"]], \"type\": \"contour\"}], \"contourcarpet\": [{\"colorbar\": {\"outlinewidth\": 0, \"ticks\": \"\"}, \"type\": \"contourcarpet\"}], \"heatmap\": [{\"colorbar\": {\"outlinewidth\": 0, \"ticks\": \"\"}, \"colorscale\": [[0.0, \"#0d0887\"], [0.1111111111111111, \"#46039f\"], [0.2222222222222222, \"#7201a8\"], [0.3333333333333333, \"#9c179e\"], [0.4444444444444444, \"#bd3786\"], [0.5555555555555556, \"#d8576b\"], [0.6666666666666666, \"#ed7953\"], [0.7777777777777778, \"#fb9f3a\"], [0.8888888888888888, \"#fdca26\"], [1.0, \"#f0f921\"]], \"type\": \"heatmap\"}], \"heatmapgl\": [{\"colorbar\": {\"outlinewidth\": 0, \"ticks\": \"\"}, \"colorscale\": [[0.0, \"#0d0887\"], [0.1111111111111111, \"#46039f\"], [0.2222222222222222, \"#7201a8\"], [0.3333333333333333, \"#9c179e\"], [0.4444444444444444, \"#bd3786\"], [0.5555555555555556, \"#d8576b\"], [0.6666666666666666, \"#ed7953\"], [0.7777777777777778, \"#fb9f3a\"], [0.8888888888888888, \"#fdca26\"], [1.0, \"#f0f921\"]], \"type\": \"heatmapgl\"}], \"histogram\": [{\"marker\": {\"colorbar\": {\"outlinewidth\": 0, \"ticks\": \"\"}}, \"type\": \"histogram\"}], \"histogram2d\": [{\"colorbar\": {\"outlinewidth\": 0, \"ticks\": \"\"}, \"colorscale\": [[0.0, \"#0d0887\"], [0.1111111111111111, \"#46039f\"], [0.2222222222222222, \"#7201a8\"], [0.3333333333333333, \"#9c179e\"], [0.4444444444444444, \"#bd3786\"], [0.5555555555555556, \"#d8576b\"], [0.6666666666666666, \"#ed7953\"], [0.7777777777777778, \"#fb9f3a\"], [0.8888888888888888, \"#fdca26\"], [1.0, \"#f0f921\"]], \"type\": \"histogram2d\"}], \"histogram2dcontour\": [{\"colorbar\": {\"outlinewidth\": 0, \"ticks\": \"\"}, \"colorscale\": [[0.0, \"#0d0887\"], [0.1111111111111111, \"#46039f\"], [0.2222222222222222, \"#7201a8\"], [0.3333333333333333, \"#9c179e\"], [0.4444444444444444, \"#bd3786\"], [0.5555555555555556, \"#d8576b\"], [0.6666666666666666, \"#ed7953\"], [0.7777777777777778, \"#fb9f3a\"], [0.8888888888888888, \"#fdca26\"], [1.0, \"#f0f921\"]], \"type\": \"histogram2dcontour\"}], \"mesh3d\": [{\"colorbar\": {\"outlinewidth\": 0, \"ticks\": \"\"}, \"type\": \"mesh3d\"}], \"parcoords\": [{\"line\": {\"colorbar\": {\"outlinewidth\": 0, \"ticks\": \"\"}}, \"type\": \"parcoords\"}], \"pie\": [{\"automargin\": true, \"type\": \"pie\"}], \"scatter\": [{\"marker\": {\"colorbar\": {\"outlinewidth\": 0, \"ticks\": \"\"}}, \"type\": \"scatter\"}], \"scatter3d\": [{\"line\": {\"colorbar\": {\"outlinewidth\": 0, \"ticks\": \"\"}}, \"marker\": {\"colorbar\": {\"outlinewidth\": 0, \"ticks\": \"\"}}, \"type\": \"scatter3d\"}], \"scattercarpet\": [{\"marker\": {\"colorbar\": {\"outlinewidth\": 0, \"ticks\": \"\"}}, \"type\": \"scattercarpet\"}], \"scattergeo\": [{\"marker\": {\"colorbar\": {\"outlinewidth\": 0, \"ticks\": \"\"}}, \"type\": \"scattergeo\"}], \"scattergl\": [{\"marker\": {\"colorbar\": {\"outlinewidth\": 0, \"ticks\": \"\"}}, \"type\": \"scattergl\"}], \"scattermapbox\": [{\"marker\": {\"colorbar\": {\"outlinewidth\": 0, \"ticks\": \"\"}}, \"type\": \"scattermapbox\"}], \"scatterpolar\": [{\"marker\": {\"colorbar\": {\"outlinewidth\": 0, \"ticks\": \"\"}}, \"type\": \"scatterpolar\"}], \"scatterpolargl\": [{\"marker\": {\"colorbar\": {\"outlinewidth\": 0, \"ticks\": \"\"}}, \"type\": \"scatterpolargl\"}], \"scatterternary\": [{\"marker\": {\"colorbar\": {\"outlinewidth\": 0, \"ticks\": \"\"}}, \"type\": \"scatterternary\"}], \"surface\": [{\"colorbar\": {\"outlinewidth\": 0, \"ticks\": \"\"}, \"colorscale\": [[0.0, \"#0d0887\"], [0.1111111111111111, \"#46039f\"], [0.2222222222222222, \"#7201a8\"], [0.3333333333333333, \"#9c179e\"], [0.4444444444444444, \"#bd3786\"], [0.5555555555555556, \"#d8576b\"], [0.6666666666666666, \"#ed7953\"], [0.7777777777777778, \"#fb9f3a\"], [0.8888888888888888, \"#fdca26\"], [1.0, \"#f0f921\"]], \"type\": \"surface\"}], \"table\": [{\"cells\": {\"fill\": {\"color\": \"#EBF0F8\"}, \"line\": {\"color\": \"white\"}}, \"header\": {\"fill\": {\"color\": \"#C8D4E3\"}, \"line\": {\"color\": \"white\"}}, \"type\": \"table\"}]}, \"layout\": {\"annotationdefaults\": {\"arrowcolor\": \"#2a3f5f\", \"arrowhead\": 0, \"arrowwidth\": 1}, \"coloraxis\": {\"colorbar\": {\"outlinewidth\": 0, \"ticks\": \"\"}}, \"colorscale\": {\"diverging\": [[0, \"#8e0152\"], [0.1, \"#c51b7d\"], [0.2, \"#de77ae\"], [0.3, \"#f1b6da\"], [0.4, \"#fde0ef\"], [0.5, \"#f7f7f7\"], [0.6, \"#e6f5d0\"], [0.7, \"#b8e186\"], [0.8, \"#7fbc41\"], [0.9, \"#4d9221\"], [1, \"#276419\"]], \"sequential\": [[0.0, \"#0d0887\"], [0.1111111111111111, \"#46039f\"], [0.2222222222222222, \"#7201a8\"], [0.3333333333333333, \"#9c179e\"], [0.4444444444444444, \"#bd3786\"], [0.5555555555555556, \"#d8576b\"], [0.6666666666666666, \"#ed7953\"], [0.7777777777777778, \"#fb9f3a\"], [0.8888888888888888, \"#fdca26\"], [1.0, \"#f0f921\"]], \"sequentialminus\": [[0.0, \"#0d0887\"], [0.1111111111111111, \"#46039f\"], [0.2222222222222222, \"#7201a8\"], [0.3333333333333333, \"#9c179e\"], [0.4444444444444444, \"#bd3786\"], [0.5555555555555556, \"#d8576b\"], [0.6666666666666666, \"#ed7953\"], [0.7777777777777778, \"#fb9f3a\"], [0.8888888888888888, \"#fdca26\"], [1.0, \"#f0f921\"]]}, \"colorway\": [\"#636efa\", \"#EF553B\", \"#00cc96\", \"#ab63fa\", \"#FFA15A\", \"#19d3f3\", \"#FF6692\", \"#B6E880\", \"#FF97FF\", \"#FECB52\"], \"font\": {\"color\": \"#2a3f5f\"}, \"geo\": {\"bgcolor\": \"white\", \"lakecolor\": \"white\", \"landcolor\": \"#E5ECF6\", \"showlakes\": true, \"showland\": true, \"subunitcolor\": \"white\"}, \"hoverlabel\": {\"align\": \"left\"}, \"hovermode\": \"closest\", \"mapbox\": {\"style\": \"light\"}, \"paper_bgcolor\": \"white\", \"plot_bgcolor\": \"#E5ECF6\", \"polar\": {\"angularaxis\": {\"gridcolor\": \"white\", \"linecolor\": \"white\", \"ticks\": \"\"}, \"bgcolor\": \"#E5ECF6\", \"radialaxis\": {\"gridcolor\": \"white\", \"linecolor\": \"white\", \"ticks\": \"\"}}, \"scene\": {\"xaxis\": {\"backgroundcolor\": \"#E5ECF6\", \"gridcolor\": \"white\", \"gridwidth\": 2, \"linecolor\": \"white\", \"showbackground\": true, \"ticks\": \"\", \"zerolinecolor\": \"white\"}, \"yaxis\": {\"backgroundcolor\": \"#E5ECF6\", \"gridcolor\": \"white\", \"gridwidth\": 2, \"linecolor\": \"white\", \"showbackground\": true, \"ticks\": \"\", \"zerolinecolor\": \"white\"}, \"zaxis\": {\"backgroundcolor\": \"#E5ECF6\", \"gridcolor\": \"white\", \"gridwidth\": 2, \"linecolor\": \"white\", \"showbackground\": true, \"ticks\": \"\", \"zerolinecolor\": \"white\"}}, \"shapedefaults\": {\"line\": {\"color\": \"#2a3f5f\"}}, \"ternary\": {\"aaxis\": {\"gridcolor\": \"white\", \"linecolor\": \"white\", \"ticks\": \"\"}, \"baxis\": {\"gridcolor\": \"white\", \"linecolor\": \"white\", \"ticks\": \"\"}, \"bgcolor\": \"#E5ECF6\", \"caxis\": {\"gridcolor\": \"white\", \"linecolor\": \"white\", \"ticks\": \"\"}}, \"title\": {\"x\": 0.05}, \"xaxis\": {\"automargin\": true, \"gridcolor\": \"white\", \"linecolor\": \"white\", \"ticks\": \"\", \"title\": {\"standoff\": 15}, \"zerolinecolor\": \"white\", \"zerolinewidth\": 2}, \"yaxis\": {\"automargin\": true, \"gridcolor\": \"white\", \"linecolor\": \"white\", \"ticks\": \"\", \"title\": {\"standoff\": 15}, \"zerolinecolor\": \"white\", \"zerolinewidth\": 2}}}, \"title\": {\"text\": \"Time Series Plot for Mean Daily Total Volume\"}, \"xaxis\": {\"title\": {\"text\": \"Date\"}}, \"yaxis\": {\"title\": {\"text\": \"Total Volume\"}}},\n",
              "                        {\"responsive\": true}\n",
              "                    ).then(function(){\n",
              "                            \n",
              "var gd = document.getElementById('e360f4b0-079c-4e2e-aab9-6c0468f605bc');\n",
              "var x = new MutationObserver(function (mutations, observer) {{\n",
              "        var display = window.getComputedStyle(gd).display;\n",
              "        if (!display || display === 'none') {{\n",
              "            console.log([gd, 'removed!']);\n",
              "            Plotly.purge(gd);\n",
              "            observer.disconnect();\n",
              "        }}\n",
              "}});\n",
              "\n",
              "// Listen for the removal of the full notebook cells\n",
              "var notebookContainer = gd.closest('#notebook-container');\n",
              "if (notebookContainer) {{\n",
              "    x.observe(notebookContainer, {childList: true});\n",
              "}}\n",
              "\n",
              "// Listen for the clearing of the current output cell\n",
              "var outputEl = gd.closest('.output');\n",
              "if (outputEl) {{\n",
              "    x.observe(outputEl, {childList: true});\n",
              "}}\n",
              "\n",
              "                        })\n",
              "                };\n",
              "                });\n",
              "            </script>\n",
              "        </div>"
            ]
          },
          "metadata": {
            "tags": []
          }
        }
      ]
    },
    {
      "cell_type": "markdown",
      "metadata": {
        "id": "BIfyqUA3Ldbi",
        "colab_type": "text"
      },
      "source": [
        "    It seems like that there is a period changes. On top of that, the total volumns has seen an overall increase in the past five years."
      ]
    },
    {
      "cell_type": "markdown",
      "metadata": {
        "id": "db601QElLdbi",
        "colab_type": "text"
      },
      "source": [
        "###  Column_Region"
      ]
    },
    {
      "cell_type": "markdown",
      "metadata": {
        "id": "iXPkTWwYLdbj",
        "colab_type": "text"
      },
      "source": [
        "Here I would like to add the geographic information for different regions of the USA. We can get the latitude and longitude of the USA region so that we visualzation can be applied on a map."
      ]
    },
    {
      "cell_type": "code",
      "metadata": {
        "id": "zEkq_RM_Ldbk",
        "colab_type": "code",
        "colab": {},
        "outputId": "1106ef7d-667f-46b0-99f7-c1dadb18b768"
      },
      "source": [
        "#Let's first check what kind of regions are there.\n",
        "df.region.unique()"
      ],
      "execution_count": 0,
      "outputs": [
        {
          "output_type": "execute_result",
          "data": {
            "text/plain": [
              "array(['Albany', 'Atlanta', 'Baltimore/Washington', 'BaltimoreWashington',\n",
              "       'Boise', 'Boston', 'Buffalo/Rochester', 'BuffaloRochester',\n",
              "       'California', 'Charlotte', 'Chicago', 'Cincinnati/Dayton',\n",
              "       'CincinnatiDayton', 'Columbus', 'Dallas/Ft. Worth',\n",
              "       'DallasFtWorth', 'Denver', 'Detroit', 'Grand Rapids',\n",
              "       'GrandRapids', 'Great Lakes', 'GreatLakes', 'Harrisburg/Scranton',\n",
              "       'HarrisburgScranton', 'Hartford/Springfield',\n",
              "       'HartfordSpringfield', 'Houston', 'Indianapolis', 'Jacksonville',\n",
              "       'Las Vegas', 'LasVegas', 'Los Angeles', 'LosAngeles', 'Louisville',\n",
              "       'Miami/Ft. Lauderdale', 'MiamiFtLauderdale', 'Midsouth',\n",
              "       'Nashville', 'New Orleans/Mobile', 'New York', 'NewOrleansMobile',\n",
              "       'NewYork', 'Northeast', 'Northern New England',\n",
              "       'NorthernNewEngland', 'Orlando', 'Philadelphia', 'Phoenix/Tucson',\n",
              "       'PhoenixTucson', 'Pittsburgh', 'Plains', 'Portland',\n",
              "       'Raleigh/Greensboro', 'RaleighGreensboro', 'Richmond/Norfolk',\n",
              "       'RichmondNorfolk', 'Roanoke', 'Sacramento', 'San Diego',\n",
              "       'San Francisco', 'SanDiego', 'SanFrancisco', 'Seattle',\n",
              "       'South Carolina', 'South Central', 'SouthCarolina', 'SouthCentral',\n",
              "       'Southeast', 'Spokane', 'St. Louis', 'StLouis', 'Syracuse',\n",
              "       'Tampa', 'Total U.S.', 'TotalUS', 'West', 'West Tex/New Mexico',\n",
              "       'WestTexNewMexico'], dtype=object)"
            ]
          },
          "metadata": {
            "tags": []
          },
          "execution_count": 8
        }
      ]
    },
    {
      "cell_type": "markdown",
      "metadata": {
        "id": "Tkq3xDxVLdbn",
        "colab_type": "text"
      },
      "source": [
        "    After a glance we can see that there are a few things a want to point out in this data:\n",
        "    \n",
        "    1. For one region there are two ways of naming it. For exmaple : 'TotalUS' and 'Total U.S.' And you plot these two dataset, you will find out 'TotalUS' corresponds to the time window before 2016, while 'Total U.S.' are for the data after 2016.\n",
        "    \n",
        "    2. Regions are in different geographic levels: whole country, some regions includig a few states, states and city. So some records of data are the aggregation of the other datas, for example TotalUS."
      ]
    },
    {
      "cell_type": "code",
      "metadata": {
        "id": "j3ShteqyLdbo",
        "colab_type": "code",
        "colab": {}
      },
      "source": [
        "#For the first point:\n",
        "#Let's unify the name of the region by removing all the space in the name of the region by using the following function:\n",
        "def letter_only(mixedstring):\n",
        "    return ''.join(x for x in mixedstring if x.isalpha())"
      ],
      "execution_count": 0,
      "outputs": []
    },
    {
      "cell_type": "code",
      "metadata": {
        "id": "ik7LHZP2Ldbr",
        "colab_type": "code",
        "colab": {},
        "outputId": "e090576d-5986-48de-d466-244cca9ae111"
      },
      "source": [
        "#Let's create a new colonm for the df.\n",
        "df['Region'] = df['region'].apply(letter_only)\n",
        "df.head()"
      ],
      "execution_count": 0,
      "outputs": [
        {
          "output_type": "execute_result",
          "data": {
            "text/html": [
              "<div>\n",
              "<style scoped>\n",
              "    .dataframe tbody tr th:only-of-type {\n",
              "        vertical-align: middle;\n",
              "    }\n",
              "\n",
              "    .dataframe tbody tr th {\n",
              "        vertical-align: top;\n",
              "    }\n",
              "\n",
              "    .dataframe thead th {\n",
              "        text-align: right;\n",
              "    }\n",
              "</style>\n",
              "<table border=\"1\" class=\"dataframe\">\n",
              "  <thead>\n",
              "    <tr style=\"text-align: right;\">\n",
              "      <th></th>\n",
              "      <th>Date</th>\n",
              "      <th>AveragePrice</th>\n",
              "      <th>Total Volume</th>\n",
              "      <th>4046</th>\n",
              "      <th>4225</th>\n",
              "      <th>4770</th>\n",
              "      <th>Total Bags</th>\n",
              "      <th>Small Bags</th>\n",
              "      <th>Large Bags</th>\n",
              "      <th>XLarge Bags</th>\n",
              "      <th>type</th>\n",
              "      <th>year</th>\n",
              "      <th>region</th>\n",
              "      <th>Month</th>\n",
              "      <th>Region</th>\n",
              "    </tr>\n",
              "  </thead>\n",
              "  <tbody>\n",
              "    <tr>\n",
              "      <th>0</th>\n",
              "      <td>2015-01-04</td>\n",
              "      <td>1.22</td>\n",
              "      <td>40873.28</td>\n",
              "      <td>2819.50</td>\n",
              "      <td>28287.42</td>\n",
              "      <td>49.90</td>\n",
              "      <td>9716.46</td>\n",
              "      <td>9186.93</td>\n",
              "      <td>529.53</td>\n",
              "      <td>0.0</td>\n",
              "      <td>conventional</td>\n",
              "      <td>2015</td>\n",
              "      <td>Albany</td>\n",
              "      <td>1</td>\n",
              "      <td>Albany</td>\n",
              "    </tr>\n",
              "    <tr>\n",
              "      <th>1</th>\n",
              "      <td>2015-01-11</td>\n",
              "      <td>1.24</td>\n",
              "      <td>41195.08</td>\n",
              "      <td>1002.85</td>\n",
              "      <td>31640.34</td>\n",
              "      <td>127.12</td>\n",
              "      <td>8424.77</td>\n",
              "      <td>8036.04</td>\n",
              "      <td>388.73</td>\n",
              "      <td>0.0</td>\n",
              "      <td>conventional</td>\n",
              "      <td>2015</td>\n",
              "      <td>Albany</td>\n",
              "      <td>1</td>\n",
              "      <td>Albany</td>\n",
              "    </tr>\n",
              "    <tr>\n",
              "      <th>2</th>\n",
              "      <td>2015-01-18</td>\n",
              "      <td>1.17</td>\n",
              "      <td>44511.28</td>\n",
              "      <td>914.14</td>\n",
              "      <td>31540.32</td>\n",
              "      <td>135.77</td>\n",
              "      <td>11921.05</td>\n",
              "      <td>11651.09</td>\n",
              "      <td>269.96</td>\n",
              "      <td>0.0</td>\n",
              "      <td>conventional</td>\n",
              "      <td>2015</td>\n",
              "      <td>Albany</td>\n",
              "      <td>1</td>\n",
              "      <td>Albany</td>\n",
              "    </tr>\n",
              "    <tr>\n",
              "      <th>3</th>\n",
              "      <td>2015-01-25</td>\n",
              "      <td>1.06</td>\n",
              "      <td>45147.50</td>\n",
              "      <td>941.38</td>\n",
              "      <td>33196.16</td>\n",
              "      <td>164.14</td>\n",
              "      <td>10845.82</td>\n",
              "      <td>10103.35</td>\n",
              "      <td>742.47</td>\n",
              "      <td>0.0</td>\n",
              "      <td>conventional</td>\n",
              "      <td>2015</td>\n",
              "      <td>Albany</td>\n",
              "      <td>1</td>\n",
              "      <td>Albany</td>\n",
              "    </tr>\n",
              "    <tr>\n",
              "      <th>4</th>\n",
              "      <td>2015-02-01</td>\n",
              "      <td>0.99</td>\n",
              "      <td>70873.60</td>\n",
              "      <td>1353.90</td>\n",
              "      <td>60017.20</td>\n",
              "      <td>179.32</td>\n",
              "      <td>9323.18</td>\n",
              "      <td>9170.82</td>\n",
              "      <td>152.36</td>\n",
              "      <td>0.0</td>\n",
              "      <td>conventional</td>\n",
              "      <td>2015</td>\n",
              "      <td>Albany</td>\n",
              "      <td>2</td>\n",
              "      <td>Albany</td>\n",
              "    </tr>\n",
              "  </tbody>\n",
              "</table>\n",
              "</div>"
            ],
            "text/plain": [
              "        Date  AveragePrice  Total Volume     4046      4225    4770  \\\n",
              "0 2015-01-04          1.22      40873.28  2819.50  28287.42   49.90   \n",
              "1 2015-01-11          1.24      41195.08  1002.85  31640.34  127.12   \n",
              "2 2015-01-18          1.17      44511.28   914.14  31540.32  135.77   \n",
              "3 2015-01-25          1.06      45147.50   941.38  33196.16  164.14   \n",
              "4 2015-02-01          0.99      70873.60  1353.90  60017.20  179.32   \n",
              "\n",
              "   Total Bags  Small Bags  Large Bags  XLarge Bags          type  year  \\\n",
              "0     9716.46     9186.93      529.53          0.0  conventional  2015   \n",
              "1     8424.77     8036.04      388.73          0.0  conventional  2015   \n",
              "2    11921.05    11651.09      269.96          0.0  conventional  2015   \n",
              "3    10845.82    10103.35      742.47          0.0  conventional  2015   \n",
              "4     9323.18     9170.82      152.36          0.0  conventional  2015   \n",
              "\n",
              "   region  Month  Region  \n",
              "0  Albany      1  Albany  \n",
              "1  Albany      1  Albany  \n",
              "2  Albany      1  Albany  \n",
              "3  Albany      1  Albany  \n",
              "4  Albany      2  Albany  "
            ]
          },
          "metadata": {
            "tags": []
          },
          "execution_count": 10
        }
      ]
    },
    {
      "cell_type": "code",
      "metadata": {
        "id": "I-J-Xq-XLdbu",
        "colab_type": "code",
        "colab": {}
      },
      "source": [
        "# #Drop out the not unified region label.\n",
        "# df.drop('region',inplace=True)"
      ],
      "execution_count": 0,
      "outputs": []
    },
    {
      "cell_type": "markdown",
      "metadata": {
        "id": "r74tLdKWLdbx",
        "colab_type": "text"
      },
      "source": [
        "For the second point:\n",
        "Let's stick to one level of geographic unit, so that we do not count a data multiple times. The question is which level to choose: country? States? or City? Maybe we can go for the better data or the data gives more valuable insight?\n"
      ]
    },
    {
      "cell_type": "code",
      "metadata": {
        "id": "-Ry3sBloLdby",
        "colab_type": "code",
        "colab": {},
        "outputId": "01e2a4aa-a2a2-4ab9-edee-95280e275fed"
      },
      "source": [
        "#Let's plot a overall time series for the Average Price for TotalUS.\n",
        "\n",
        "import plotly\n",
        "from plotly.offline import init_notebook_mode, iplot\n",
        "import plotly.graph_objs as go\n",
        "init_notebook_mode(connected=True)\n",
        "\n",
        "groupBy_Overall = df[df.Region=='TotalUS'].groupby('Date').mean()\n",
        "\n",
        "scatter = go.Scatter(x=groupBy_Overall.AveragePrice.index, y=groupBy_Overall.AveragePrice,mode='lines+markers',\n",
        "                    marker=dict(\n",
        "                                 color='rgb(248,146,146)',\n",
        "                                 line=dict(\n",
        "                                 color='rgb(249,52,52)',\n",
        "                                 width=1.5)),\n",
        "                                opacity=0.8)\n",
        "data = [scatter]\n",
        "layout = go.Layout(title='Time Series Plot for Mean Daily Price',\n",
        "                  xaxis={'title':'Date'},yaxis={'title':'Prices'})\n",
        "\n",
        "figure = go.Figure(data=data, layout=layout)\n",
        "iplot(figure)\n"
      ],
      "execution_count": 0,
      "outputs": [
        {
          "output_type": "display_data",
          "data": {
            "text/html": [
              "        <script type=\"text/javascript\">\n",
              "        window.PlotlyConfig = {MathJaxConfig: 'local'};\n",
              "        if (window.MathJax) {MathJax.Hub.Config({SVG: {font: \"STIX-Web\"}});}\n",
              "        if (typeof require !== 'undefined') {\n",
              "        require.undef(\"plotly\");\n",
              "        requirejs.config({\n",
              "            paths: {\n",
              "                'plotly': ['https://cdn.plot.ly/plotly-latest.min']\n",
              "            }\n",
              "        });\n",
              "        require(['plotly'], function(Plotly) {\n",
              "            window._Plotly = Plotly;\n",
              "        });\n",
              "        }\n",
              "        </script>\n",
              "        "
            ]
          },
          "metadata": {
            "tags": []
          }
        },
        {
          "output_type": "display_data",
          "data": {
            "application/vnd.plotly.v1+json": {
              "config": {
                "linkText": "Export to plot.ly",
                "plotlyServerURL": "https://plot.ly",
                "showLink": false
              },
              "data": [
                {
                  "marker": {
                    "color": "rgb(248,146,146)",
                    "line": {
                      "color": "rgb(249,52,52)",
                      "width": 1.5
                    }
                  },
                  "mode": "lines+markers",
                  "opacity": 0.8,
                  "type": "scatter",
                  "x": [
                    "2015-01-04T00:00:00",
                    "2015-01-11T00:00:00",
                    "2015-01-18T00:00:00",
                    "2015-01-25T00:00:00",
                    "2015-02-01T00:00:00",
                    "2015-02-08T00:00:00",
                    "2015-02-15T00:00:00",
                    "2015-02-22T00:00:00",
                    "2015-03-01T00:00:00",
                    "2015-03-08T00:00:00",
                    "2015-03-15T00:00:00",
                    "2015-03-22T00:00:00",
                    "2015-03-29T00:00:00",
                    "2015-04-05T00:00:00",
                    "2015-04-12T00:00:00",
                    "2015-04-19T00:00:00",
                    "2015-04-26T00:00:00",
                    "2015-05-03T00:00:00",
                    "2015-05-10T00:00:00",
                    "2015-05-17T00:00:00",
                    "2015-05-24T00:00:00",
                    "2015-05-31T00:00:00",
                    "2015-06-07T00:00:00",
                    "2015-06-14T00:00:00",
                    "2015-06-21T00:00:00",
                    "2015-06-28T00:00:00",
                    "2015-07-05T00:00:00",
                    "2015-07-12T00:00:00",
                    "2015-07-19T00:00:00",
                    "2015-07-26T00:00:00",
                    "2015-08-02T00:00:00",
                    "2015-08-09T00:00:00",
                    "2015-08-16T00:00:00",
                    "2015-08-23T00:00:00",
                    "2015-08-30T00:00:00",
                    "2015-09-06T00:00:00",
                    "2015-09-13T00:00:00",
                    "2015-09-20T00:00:00",
                    "2015-09-27T00:00:00",
                    "2015-10-04T00:00:00",
                    "2015-10-11T00:00:00",
                    "2015-10-18T00:00:00",
                    "2015-10-25T00:00:00",
                    "2015-11-01T00:00:00",
                    "2015-11-08T00:00:00",
                    "2015-11-15T00:00:00",
                    "2015-11-22T00:00:00",
                    "2015-11-29T00:00:00",
                    "2015-12-06T00:00:00",
                    "2015-12-13T00:00:00",
                    "2015-12-20T00:00:00",
                    "2015-12-27T00:00:00",
                    "2016-01-04T00:00:00",
                    "2016-01-10T00:00:00",
                    "2016-01-17T00:00:00",
                    "2016-01-24T00:00:00",
                    "2016-01-31T00:00:00",
                    "2016-02-07T00:00:00",
                    "2016-02-14T00:00:00",
                    "2016-02-21T00:00:00",
                    "2016-02-28T00:00:00",
                    "2016-03-06T00:00:00",
                    "2016-03-13T00:00:00",
                    "2016-03-20T00:00:00",
                    "2016-03-27T00:00:00",
                    "2016-04-03T00:00:00",
                    "2016-04-10T00:00:00",
                    "2016-04-17T00:00:00",
                    "2016-04-24T00:00:00",
                    "2016-05-01T00:00:00",
                    "2016-05-08T00:00:00",
                    "2016-05-15T00:00:00",
                    "2016-05-22T00:00:00",
                    "2016-05-29T00:00:00",
                    "2016-06-05T00:00:00",
                    "2016-06-12T00:00:00",
                    "2016-06-19T00:00:00",
                    "2016-06-26T00:00:00",
                    "2016-07-03T00:00:00",
                    "2016-07-10T00:00:00",
                    "2016-07-17T00:00:00",
                    "2016-07-24T00:00:00",
                    "2016-07-31T00:00:00",
                    "2016-08-07T00:00:00",
                    "2016-08-14T00:00:00",
                    "2016-08-21T00:00:00",
                    "2016-08-28T00:00:00",
                    "2016-09-04T00:00:00",
                    "2016-09-11T00:00:00",
                    "2016-09-18T00:00:00",
                    "2016-09-25T00:00:00",
                    "2016-10-02T00:00:00",
                    "2016-10-09T00:00:00",
                    "2016-10-16T00:00:00",
                    "2016-10-23T00:00:00",
                    "2016-10-30T00:00:00",
                    "2016-11-06T00:00:00",
                    "2016-11-13T00:00:00",
                    "2016-11-20T00:00:00",
                    "2016-11-27T00:00:00",
                    "2016-12-04T00:00:00",
                    "2016-12-11T00:00:00",
                    "2016-12-18T00:00:00",
                    "2016-12-25T00:00:00",
                    "2017-01-02T00:00:00",
                    "2017-01-08T00:00:00",
                    "2017-01-15T00:00:00",
                    "2017-01-22T00:00:00",
                    "2017-01-29T00:00:00",
                    "2017-02-05T00:00:00",
                    "2017-02-12T00:00:00",
                    "2017-02-19T00:00:00",
                    "2017-02-26T00:00:00",
                    "2017-03-05T00:00:00",
                    "2017-03-12T00:00:00",
                    "2017-03-19T00:00:00",
                    "2017-03-26T00:00:00",
                    "2017-04-02T00:00:00",
                    "2017-04-09T00:00:00",
                    "2017-04-16T00:00:00",
                    "2017-04-23T00:00:00",
                    "2017-04-30T00:00:00",
                    "2017-05-07T00:00:00",
                    "2017-05-14T00:00:00",
                    "2017-05-21T00:00:00",
                    "2017-05-28T00:00:00",
                    "2017-06-04T00:00:00",
                    "2017-06-11T00:00:00",
                    "2017-06-18T00:00:00",
                    "2017-06-25T00:00:00",
                    "2017-07-02T00:00:00",
                    "2017-07-09T00:00:00",
                    "2017-07-16T00:00:00",
                    "2017-07-23T00:00:00",
                    "2017-07-30T00:00:00",
                    "2017-08-06T00:00:00",
                    "2017-08-13T00:00:00",
                    "2017-08-20T00:00:00",
                    "2017-08-27T00:00:00",
                    "2017-09-03T00:00:00",
                    "2017-09-10T00:00:00",
                    "2017-09-17T00:00:00",
                    "2017-09-24T00:00:00",
                    "2017-10-01T00:00:00",
                    "2017-10-08T00:00:00",
                    "2017-10-15T00:00:00",
                    "2017-10-22T00:00:00",
                    "2017-10-29T00:00:00",
                    "2017-11-05T00:00:00",
                    "2017-11-12T00:00:00",
                    "2017-11-19T00:00:00",
                    "2017-11-26T00:00:00",
                    "2017-12-03T00:00:00",
                    "2017-12-10T00:00:00",
                    "2017-12-17T00:00:00",
                    "2017-12-24T00:00:00",
                    "2018-01-01T00:00:00",
                    "2018-01-07T00:00:00",
                    "2018-01-14T00:00:00",
                    "2018-01-21T00:00:00",
                    "2018-01-28T00:00:00",
                    "2018-02-04T00:00:00",
                    "2018-02-11T00:00:00",
                    "2018-02-18T00:00:00",
                    "2018-02-25T00:00:00",
                    "2018-03-04T00:00:00",
                    "2018-03-11T00:00:00",
                    "2018-03-18T00:00:00",
                    "2018-03-25T00:00:00",
                    "2018-04-01T00:00:00",
                    "2018-04-08T00:00:00",
                    "2018-04-15T00:00:00",
                    "2018-04-22T00:00:00",
                    "2018-04-29T00:00:00",
                    "2018-05-06T00:00:00",
                    "2018-05-13T00:00:00",
                    "2018-05-20T00:00:00",
                    "2018-05-27T00:00:00",
                    "2018-06-03T00:00:00",
                    "2018-06-10T00:00:00",
                    "2018-06-17T00:00:00",
                    "2018-06-24T00:00:00",
                    "2018-07-01T00:00:00",
                    "2018-07-08T00:00:00",
                    "2018-07-15T00:00:00",
                    "2018-07-22T00:00:00",
                    "2018-07-29T00:00:00",
                    "2018-08-05T00:00:00",
                    "2018-08-12T00:00:00",
                    "2018-08-19T00:00:00",
                    "2018-08-26T00:00:00",
                    "2018-09-02T00:00:00",
                    "2018-09-09T00:00:00",
                    "2018-09-16T00:00:00",
                    "2018-09-23T00:00:00",
                    "2018-09-30T00:00:00",
                    "2018-10-07T00:00:00",
                    "2018-10-14T00:00:00",
                    "2018-10-21T00:00:00",
                    "2018-10-28T00:00:00",
                    "2018-11-04T00:00:00",
                    "2018-11-11T00:00:00",
                    "2018-11-18T00:00:00",
                    "2018-11-25T00:00:00",
                    "2018-12-02T00:00:00",
                    "2019-01-07T00:00:00",
                    "2019-01-13T00:00:00",
                    "2019-01-20T00:00:00",
                    "2019-01-27T00:00:00",
                    "2019-02-03T00:00:00",
                    "2019-02-10T00:00:00",
                    "2019-02-17T00:00:00",
                    "2019-02-24T00:00:00",
                    "2019-03-03T00:00:00",
                    "2019-03-10T00:00:00",
                    "2019-03-17T00:00:00",
                    "2019-03-24T00:00:00",
                    "2019-03-31T00:00:00",
                    "2019-04-07T00:00:00",
                    "2019-04-14T00:00:00",
                    "2019-04-21T00:00:00",
                    "2019-04-28T00:00:00",
                    "2019-05-05T00:00:00",
                    "2019-05-12T00:00:00",
                    "2019-05-19T00:00:00",
                    "2019-05-26T00:00:00",
                    "2019-06-02T00:00:00",
                    "2019-06-09T00:00:00",
                    "2019-06-16T00:00:00",
                    "2019-06-23T00:00:00",
                    "2019-06-30T00:00:00",
                    "2019-07-07T00:00:00",
                    "2019-07-14T00:00:00",
                    "2019-07-21T00:00:00",
                    "2019-07-28T00:00:00",
                    "2019-08-04T00:00:00",
                    "2019-08-11T00:00:00",
                    "2019-08-18T00:00:00",
                    "2019-08-25T00:00:00",
                    "2019-09-01T00:00:00",
                    "2019-09-08T00:00:00",
                    "2019-09-15T00:00:00",
                    "2019-09-22T00:00:00",
                    "2019-09-29T00:00:00",
                    "2019-10-06T00:00:00",
                    "2019-10-13T00:00:00",
                    "2019-10-20T00:00:00",
                    "2019-10-27T00:00:00",
                    "2019-11-03T00:00:00",
                    "2019-11-10T00:00:00",
                    "2019-11-17T00:00:00",
                    "2019-11-24T00:00:00",
                    "2019-12-01T00:00:00"
                  ],
                  "y": [
                    1.205,
                    1.2149999999999999,
                    1.225,
                    1.2850000000000001,
                    1.125,
                    1.2149999999999999,
                    1.3050000000000002,
                    1.2650000000000001,
                    1.185,
                    1.255,
                    1.27,
                    1.25,
                    1.32,
                    1.345,
                    1.275,
                    1.31,
                    1.26,
                    1.165,
                    1.22,
                    1.28,
                    1.315,
                    1.3050000000000002,
                    1.335,
                    1.33,
                    1.3399999999999999,
                    1.35,
                    1.02,
                    1.0350000000000001,
                    1.0350000000000001,
                    1.0350000000000001,
                    1.045,
                    1.025,
                    1.4,
                    1.4,
                    1.365,
                    1.4,
                    1.415,
                    1.395,
                    1.3900000000000001,
                    1.37,
                    1.345,
                    1.35,
                    1.33,
                    1.22,
                    1.255,
                    1.26,
                    1.225,
                    1.245,
                    1.205,
                    1.18,
                    1.255,
                    1.2349999999999999,
                    1.145,
                    1.1400000000000001,
                    1.19,
                    1.18,
                    1.18,
                    1.1,
                    1.125,
                    1.1949999999999998,
                    1.175,
                    1.115,
                    1.11,
                    1.1,
                    1.19,
                    1.19,
                    1.08,
                    1.14,
                    1.06,
                    1.06,
                    1.06,
                    1.17,
                    1.145,
                    1.1749999999999998,
                    1.2,
                    1.245,
                    1.2349999999999999,
                    1.27,
                    1.2650000000000001,
                    1.3050000000000002,
                    1.39,
                    1.4249999999999998,
                    1.405,
                    1.35,
                    1.3,
                    1.3050000000000002,
                    1.29,
                    1.29,
                    1.3,
                    1.41,
                    1.455,
                    1.47,
                    1.395,
                    1.4,
                    1.4849999999999999,
                    1.68,
                    1.56,
                    1.53,
                    1.45,
                    1.4249999999999998,
                    1.28,
                    1.2,
                    1.1949999999999998,
                    1.17,
                    1.185,
                    1.21,
                    1.21,
                    1.155,
                    1.1949999999999998,
                    1.065,
                    1.14,
                    1.15,
                    1.1,
                    1.145,
                    1.2999999999999998,
                    1.375,
                    1.2650000000000001,
                    1.315,
                    1.3199999999999998,
                    1.3599999999999999,
                    1.395,
                    1.43,
                    1.33,
                    1.37,
                    1.4849999999999999,
                    1.4849999999999999,
                    1.44,
                    1.385,
                    1.4449999999999998,
                    1.47,
                    1.475,
                    1.44,
                    1.5550000000000002,
                    1.5350000000000001,
                    1.55,
                    1.58,
                    1.605,
                    1.685,
                    1.7799999999999998,
                    1.815,
                    1.795,
                    1.48,
                    1.5299999999999998,
                    1.6400000000000001,
                    1.5899999999999999,
                    1.715,
                    1.63,
                    1.565,
                    1.505,
                    1.48,
                    1.47,
                    1.48,
                    1.355,
                    1.2850000000000001,
                    1.32,
                    1.41,
                    1.25,
                    1.3199999999999998,
                    1.395,
                    1.355,
                    1.35,
                    1.2,
                    1.2650000000000001,
                    1.3,
                    1.315,
                    1.295,
                    1.3050000000000002,
                    1.295,
                    1.29,
                    1.3250000000000002,
                    1.295,
                    1.27,
                    1.27,
                    1.31,
                    1.22,
                    1.2650000000000001,
                    1.2650000000000001,
                    1.225,
                    1.26,
                    1.275,
                    1.25,
                    1.27,
                    1.3050000000000002,
                    1.3,
                    1.3250000000000002,
                    1.335,
                    1.355,
                    1.35,
                    1.38,
                    1.3849999999999998,
                    1.435,
                    1.5,
                    1.47,
                    1.46,
                    1.435,
                    1.385,
                    1.355,
                    1.3250000000000002,
                    1.325,
                    1.255,
                    1.255,
                    1.245,
                    1.3399999999999999,
                    1.455,
                    1.4,
                    1.245,
                    1.225,
                    1.255,
                    1.245,
                    1.105,
                    1.1400000000000001,
                    1.205,
                    1.2149999999999999,
                    1.21,
                    1.1949999999999998,
                    1.1749999999999998,
                    1.185,
                    1.2149999999999999,
                    1.22,
                    1.23,
                    1.4849999999999999,
                    1.625,
                    1.53,
                    1.4849999999999999,
                    1.53,
                    1.5350000000000001,
                    1.4100000000000001,
                    1.4249999999999998,
                    1.54,
                    1.5950000000000002,
                    1.605,
                    1.705,
                    1.73,
                    1.77,
                    1.7599999999999998,
                    1.7149999999999999,
                    1.655,
                    1.5350000000000001,
                    1.505,
                    1.5150000000000001,
                    1.47,
                    1.4100000000000001,
                    1.405,
                    1.39,
                    1.335,
                    1.315,
                    1.27,
                    1.185,
                    1.21,
                    1.29,
                    1.275,
                    1.315,
                    1.28
                  ]
                }
              ],
              "layout": {
                "template": {
                  "data": {
                    "bar": [
                      {
                        "error_x": {
                          "color": "#2a3f5f"
                        },
                        "error_y": {
                          "color": "#2a3f5f"
                        },
                        "marker": {
                          "line": {
                            "color": "#E5ECF6",
                            "width": 0.5
                          }
                        },
                        "type": "bar"
                      }
                    ],
                    "barpolar": [
                      {
                        "marker": {
                          "line": {
                            "color": "#E5ECF6",
                            "width": 0.5
                          }
                        },
                        "type": "barpolar"
                      }
                    ],
                    "carpet": [
                      {
                        "aaxis": {
                          "endlinecolor": "#2a3f5f",
                          "gridcolor": "white",
                          "linecolor": "white",
                          "minorgridcolor": "white",
                          "startlinecolor": "#2a3f5f"
                        },
                        "baxis": {
                          "endlinecolor": "#2a3f5f",
                          "gridcolor": "white",
                          "linecolor": "white",
                          "minorgridcolor": "white",
                          "startlinecolor": "#2a3f5f"
                        },
                        "type": "carpet"
                      }
                    ],
                    "choropleth": [
                      {
                        "colorbar": {
                          "outlinewidth": 0,
                          "ticks": ""
                        },
                        "type": "choropleth"
                      }
                    ],
                    "contour": [
                      {
                        "colorbar": {
                          "outlinewidth": 0,
                          "ticks": ""
                        },
                        "colorscale": [
                          [
                            0,
                            "#0d0887"
                          ],
                          [
                            0.1111111111111111,
                            "#46039f"
                          ],
                          [
                            0.2222222222222222,
                            "#7201a8"
                          ],
                          [
                            0.3333333333333333,
                            "#9c179e"
                          ],
                          [
                            0.4444444444444444,
                            "#bd3786"
                          ],
                          [
                            0.5555555555555556,
                            "#d8576b"
                          ],
                          [
                            0.6666666666666666,
                            "#ed7953"
                          ],
                          [
                            0.7777777777777778,
                            "#fb9f3a"
                          ],
                          [
                            0.8888888888888888,
                            "#fdca26"
                          ],
                          [
                            1,
                            "#f0f921"
                          ]
                        ],
                        "type": "contour"
                      }
                    ],
                    "contourcarpet": [
                      {
                        "colorbar": {
                          "outlinewidth": 0,
                          "ticks": ""
                        },
                        "type": "contourcarpet"
                      }
                    ],
                    "heatmap": [
                      {
                        "colorbar": {
                          "outlinewidth": 0,
                          "ticks": ""
                        },
                        "colorscale": [
                          [
                            0,
                            "#0d0887"
                          ],
                          [
                            0.1111111111111111,
                            "#46039f"
                          ],
                          [
                            0.2222222222222222,
                            "#7201a8"
                          ],
                          [
                            0.3333333333333333,
                            "#9c179e"
                          ],
                          [
                            0.4444444444444444,
                            "#bd3786"
                          ],
                          [
                            0.5555555555555556,
                            "#d8576b"
                          ],
                          [
                            0.6666666666666666,
                            "#ed7953"
                          ],
                          [
                            0.7777777777777778,
                            "#fb9f3a"
                          ],
                          [
                            0.8888888888888888,
                            "#fdca26"
                          ],
                          [
                            1,
                            "#f0f921"
                          ]
                        ],
                        "type": "heatmap"
                      }
                    ],
                    "heatmapgl": [
                      {
                        "colorbar": {
                          "outlinewidth": 0,
                          "ticks": ""
                        },
                        "colorscale": [
                          [
                            0,
                            "#0d0887"
                          ],
                          [
                            0.1111111111111111,
                            "#46039f"
                          ],
                          [
                            0.2222222222222222,
                            "#7201a8"
                          ],
                          [
                            0.3333333333333333,
                            "#9c179e"
                          ],
                          [
                            0.4444444444444444,
                            "#bd3786"
                          ],
                          [
                            0.5555555555555556,
                            "#d8576b"
                          ],
                          [
                            0.6666666666666666,
                            "#ed7953"
                          ],
                          [
                            0.7777777777777778,
                            "#fb9f3a"
                          ],
                          [
                            0.8888888888888888,
                            "#fdca26"
                          ],
                          [
                            1,
                            "#f0f921"
                          ]
                        ],
                        "type": "heatmapgl"
                      }
                    ],
                    "histogram": [
                      {
                        "marker": {
                          "colorbar": {
                            "outlinewidth": 0,
                            "ticks": ""
                          }
                        },
                        "type": "histogram"
                      }
                    ],
                    "histogram2d": [
                      {
                        "colorbar": {
                          "outlinewidth": 0,
                          "ticks": ""
                        },
                        "colorscale": [
                          [
                            0,
                            "#0d0887"
                          ],
                          [
                            0.1111111111111111,
                            "#46039f"
                          ],
                          [
                            0.2222222222222222,
                            "#7201a8"
                          ],
                          [
                            0.3333333333333333,
                            "#9c179e"
                          ],
                          [
                            0.4444444444444444,
                            "#bd3786"
                          ],
                          [
                            0.5555555555555556,
                            "#d8576b"
                          ],
                          [
                            0.6666666666666666,
                            "#ed7953"
                          ],
                          [
                            0.7777777777777778,
                            "#fb9f3a"
                          ],
                          [
                            0.8888888888888888,
                            "#fdca26"
                          ],
                          [
                            1,
                            "#f0f921"
                          ]
                        ],
                        "type": "histogram2d"
                      }
                    ],
                    "histogram2dcontour": [
                      {
                        "colorbar": {
                          "outlinewidth": 0,
                          "ticks": ""
                        },
                        "colorscale": [
                          [
                            0,
                            "#0d0887"
                          ],
                          [
                            0.1111111111111111,
                            "#46039f"
                          ],
                          [
                            0.2222222222222222,
                            "#7201a8"
                          ],
                          [
                            0.3333333333333333,
                            "#9c179e"
                          ],
                          [
                            0.4444444444444444,
                            "#bd3786"
                          ],
                          [
                            0.5555555555555556,
                            "#d8576b"
                          ],
                          [
                            0.6666666666666666,
                            "#ed7953"
                          ],
                          [
                            0.7777777777777778,
                            "#fb9f3a"
                          ],
                          [
                            0.8888888888888888,
                            "#fdca26"
                          ],
                          [
                            1,
                            "#f0f921"
                          ]
                        ],
                        "type": "histogram2dcontour"
                      }
                    ],
                    "mesh3d": [
                      {
                        "colorbar": {
                          "outlinewidth": 0,
                          "ticks": ""
                        },
                        "type": "mesh3d"
                      }
                    ],
                    "parcoords": [
                      {
                        "line": {
                          "colorbar": {
                            "outlinewidth": 0,
                            "ticks": ""
                          }
                        },
                        "type": "parcoords"
                      }
                    ],
                    "pie": [
                      {
                        "automargin": true,
                        "type": "pie"
                      }
                    ],
                    "scatter": [
                      {
                        "marker": {
                          "colorbar": {
                            "outlinewidth": 0,
                            "ticks": ""
                          }
                        },
                        "type": "scatter"
                      }
                    ],
                    "scatter3d": [
                      {
                        "line": {
                          "colorbar": {
                            "outlinewidth": 0,
                            "ticks": ""
                          }
                        },
                        "marker": {
                          "colorbar": {
                            "outlinewidth": 0,
                            "ticks": ""
                          }
                        },
                        "type": "scatter3d"
                      }
                    ],
                    "scattercarpet": [
                      {
                        "marker": {
                          "colorbar": {
                            "outlinewidth": 0,
                            "ticks": ""
                          }
                        },
                        "type": "scattercarpet"
                      }
                    ],
                    "scattergeo": [
                      {
                        "marker": {
                          "colorbar": {
                            "outlinewidth": 0,
                            "ticks": ""
                          }
                        },
                        "type": "scattergeo"
                      }
                    ],
                    "scattergl": [
                      {
                        "marker": {
                          "colorbar": {
                            "outlinewidth": 0,
                            "ticks": ""
                          }
                        },
                        "type": "scattergl"
                      }
                    ],
                    "scattermapbox": [
                      {
                        "marker": {
                          "colorbar": {
                            "outlinewidth": 0,
                            "ticks": ""
                          }
                        },
                        "type": "scattermapbox"
                      }
                    ],
                    "scatterpolar": [
                      {
                        "marker": {
                          "colorbar": {
                            "outlinewidth": 0,
                            "ticks": ""
                          }
                        },
                        "type": "scatterpolar"
                      }
                    ],
                    "scatterpolargl": [
                      {
                        "marker": {
                          "colorbar": {
                            "outlinewidth": 0,
                            "ticks": ""
                          }
                        },
                        "type": "scatterpolargl"
                      }
                    ],
                    "scatterternary": [
                      {
                        "marker": {
                          "colorbar": {
                            "outlinewidth": 0,
                            "ticks": ""
                          }
                        },
                        "type": "scatterternary"
                      }
                    ],
                    "surface": [
                      {
                        "colorbar": {
                          "outlinewidth": 0,
                          "ticks": ""
                        },
                        "colorscale": [
                          [
                            0,
                            "#0d0887"
                          ],
                          [
                            0.1111111111111111,
                            "#46039f"
                          ],
                          [
                            0.2222222222222222,
                            "#7201a8"
                          ],
                          [
                            0.3333333333333333,
                            "#9c179e"
                          ],
                          [
                            0.4444444444444444,
                            "#bd3786"
                          ],
                          [
                            0.5555555555555556,
                            "#d8576b"
                          ],
                          [
                            0.6666666666666666,
                            "#ed7953"
                          ],
                          [
                            0.7777777777777778,
                            "#fb9f3a"
                          ],
                          [
                            0.8888888888888888,
                            "#fdca26"
                          ],
                          [
                            1,
                            "#f0f921"
                          ]
                        ],
                        "type": "surface"
                      }
                    ],
                    "table": [
                      {
                        "cells": {
                          "fill": {
                            "color": "#EBF0F8"
                          },
                          "line": {
                            "color": "white"
                          }
                        },
                        "header": {
                          "fill": {
                            "color": "#C8D4E3"
                          },
                          "line": {
                            "color": "white"
                          }
                        },
                        "type": "table"
                      }
                    ]
                  },
                  "layout": {
                    "annotationdefaults": {
                      "arrowcolor": "#2a3f5f",
                      "arrowhead": 0,
                      "arrowwidth": 1
                    },
                    "coloraxis": {
                      "colorbar": {
                        "outlinewidth": 0,
                        "ticks": ""
                      }
                    },
                    "colorscale": {
                      "diverging": [
                        [
                          0,
                          "#8e0152"
                        ],
                        [
                          0.1,
                          "#c51b7d"
                        ],
                        [
                          0.2,
                          "#de77ae"
                        ],
                        [
                          0.3,
                          "#f1b6da"
                        ],
                        [
                          0.4,
                          "#fde0ef"
                        ],
                        [
                          0.5,
                          "#f7f7f7"
                        ],
                        [
                          0.6,
                          "#e6f5d0"
                        ],
                        [
                          0.7,
                          "#b8e186"
                        ],
                        [
                          0.8,
                          "#7fbc41"
                        ],
                        [
                          0.9,
                          "#4d9221"
                        ],
                        [
                          1,
                          "#276419"
                        ]
                      ],
                      "sequential": [
                        [
                          0,
                          "#0d0887"
                        ],
                        [
                          0.1111111111111111,
                          "#46039f"
                        ],
                        [
                          0.2222222222222222,
                          "#7201a8"
                        ],
                        [
                          0.3333333333333333,
                          "#9c179e"
                        ],
                        [
                          0.4444444444444444,
                          "#bd3786"
                        ],
                        [
                          0.5555555555555556,
                          "#d8576b"
                        ],
                        [
                          0.6666666666666666,
                          "#ed7953"
                        ],
                        [
                          0.7777777777777778,
                          "#fb9f3a"
                        ],
                        [
                          0.8888888888888888,
                          "#fdca26"
                        ],
                        [
                          1,
                          "#f0f921"
                        ]
                      ],
                      "sequentialminus": [
                        [
                          0,
                          "#0d0887"
                        ],
                        [
                          0.1111111111111111,
                          "#46039f"
                        ],
                        [
                          0.2222222222222222,
                          "#7201a8"
                        ],
                        [
                          0.3333333333333333,
                          "#9c179e"
                        ],
                        [
                          0.4444444444444444,
                          "#bd3786"
                        ],
                        [
                          0.5555555555555556,
                          "#d8576b"
                        ],
                        [
                          0.6666666666666666,
                          "#ed7953"
                        ],
                        [
                          0.7777777777777778,
                          "#fb9f3a"
                        ],
                        [
                          0.8888888888888888,
                          "#fdca26"
                        ],
                        [
                          1,
                          "#f0f921"
                        ]
                      ]
                    },
                    "colorway": [
                      "#636efa",
                      "#EF553B",
                      "#00cc96",
                      "#ab63fa",
                      "#FFA15A",
                      "#19d3f3",
                      "#FF6692",
                      "#B6E880",
                      "#FF97FF",
                      "#FECB52"
                    ],
                    "font": {
                      "color": "#2a3f5f"
                    },
                    "geo": {
                      "bgcolor": "white",
                      "lakecolor": "white",
                      "landcolor": "#E5ECF6",
                      "showlakes": true,
                      "showland": true,
                      "subunitcolor": "white"
                    },
                    "hoverlabel": {
                      "align": "left"
                    },
                    "hovermode": "closest",
                    "mapbox": {
                      "style": "light"
                    },
                    "paper_bgcolor": "white",
                    "plot_bgcolor": "#E5ECF6",
                    "polar": {
                      "angularaxis": {
                        "gridcolor": "white",
                        "linecolor": "white",
                        "ticks": ""
                      },
                      "bgcolor": "#E5ECF6",
                      "radialaxis": {
                        "gridcolor": "white",
                        "linecolor": "white",
                        "ticks": ""
                      }
                    },
                    "scene": {
                      "xaxis": {
                        "backgroundcolor": "#E5ECF6",
                        "gridcolor": "white",
                        "gridwidth": 2,
                        "linecolor": "white",
                        "showbackground": true,
                        "ticks": "",
                        "zerolinecolor": "white"
                      },
                      "yaxis": {
                        "backgroundcolor": "#E5ECF6",
                        "gridcolor": "white",
                        "gridwidth": 2,
                        "linecolor": "white",
                        "showbackground": true,
                        "ticks": "",
                        "zerolinecolor": "white"
                      },
                      "zaxis": {
                        "backgroundcolor": "#E5ECF6",
                        "gridcolor": "white",
                        "gridwidth": 2,
                        "linecolor": "white",
                        "showbackground": true,
                        "ticks": "",
                        "zerolinecolor": "white"
                      }
                    },
                    "shapedefaults": {
                      "line": {
                        "color": "#2a3f5f"
                      }
                    },
                    "ternary": {
                      "aaxis": {
                        "gridcolor": "white",
                        "linecolor": "white",
                        "ticks": ""
                      },
                      "baxis": {
                        "gridcolor": "white",
                        "linecolor": "white",
                        "ticks": ""
                      },
                      "bgcolor": "#E5ECF6",
                      "caxis": {
                        "gridcolor": "white",
                        "linecolor": "white",
                        "ticks": ""
                      }
                    },
                    "title": {
                      "x": 0.05
                    },
                    "xaxis": {
                      "automargin": true,
                      "gridcolor": "white",
                      "linecolor": "white",
                      "ticks": "",
                      "title": {
                        "standoff": 15
                      },
                      "zerolinecolor": "white",
                      "zerolinewidth": 2
                    },
                    "yaxis": {
                      "automargin": true,
                      "gridcolor": "white",
                      "linecolor": "white",
                      "ticks": "",
                      "title": {
                        "standoff": 15
                      },
                      "zerolinecolor": "white",
                      "zerolinewidth": 2
                    }
                  }
                },
                "title": {
                  "text": "Time Series Plot for Mean Daily Price"
                },
                "xaxis": {
                  "title": {
                    "text": "Date"
                  }
                },
                "yaxis": {
                  "title": {
                    "text": "Prices"
                  }
                }
              }
            },
            "text/html": [
              "<div>\n",
              "        \n",
              "        \n",
              "            <div id=\"c975eb98-97c1-49f2-984f-a00a78abd133\" class=\"plotly-graph-div\" style=\"height:525px; width:100%;\"></div>\n",
              "            <script type=\"text/javascript\">\n",
              "                require([\"plotly\"], function(Plotly) {\n",
              "                    window.PLOTLYENV=window.PLOTLYENV || {};\n",
              "                    \n",
              "                if (document.getElementById(\"c975eb98-97c1-49f2-984f-a00a78abd133\")) {\n",
              "                    Plotly.newPlot(\n",
              "                        'c975eb98-97c1-49f2-984f-a00a78abd133',\n",
              "                        [{\"marker\": {\"color\": \"rgb(248,146,146)\", \"line\": {\"color\": \"rgb(249,52,52)\", \"width\": 1.5}}, \"mode\": \"lines+markers\", \"opacity\": 0.8, \"type\": \"scatter\", \"x\": [\"2015-01-04T00:00:00\", \"2015-01-11T00:00:00\", \"2015-01-18T00:00:00\", \"2015-01-25T00:00:00\", \"2015-02-01T00:00:00\", \"2015-02-08T00:00:00\", \"2015-02-15T00:00:00\", \"2015-02-22T00:00:00\", \"2015-03-01T00:00:00\", \"2015-03-08T00:00:00\", \"2015-03-15T00:00:00\", \"2015-03-22T00:00:00\", \"2015-03-29T00:00:00\", \"2015-04-05T00:00:00\", \"2015-04-12T00:00:00\", \"2015-04-19T00:00:00\", \"2015-04-26T00:00:00\", \"2015-05-03T00:00:00\", \"2015-05-10T00:00:00\", \"2015-05-17T00:00:00\", \"2015-05-24T00:00:00\", \"2015-05-31T00:00:00\", \"2015-06-07T00:00:00\", \"2015-06-14T00:00:00\", \"2015-06-21T00:00:00\", \"2015-06-28T00:00:00\", \"2015-07-05T00:00:00\", \"2015-07-12T00:00:00\", \"2015-07-19T00:00:00\", \"2015-07-26T00:00:00\", \"2015-08-02T00:00:00\", \"2015-08-09T00:00:00\", \"2015-08-16T00:00:00\", \"2015-08-23T00:00:00\", \"2015-08-30T00:00:00\", \"2015-09-06T00:00:00\", \"2015-09-13T00:00:00\", \"2015-09-20T00:00:00\", \"2015-09-27T00:00:00\", \"2015-10-04T00:00:00\", \"2015-10-11T00:00:00\", \"2015-10-18T00:00:00\", \"2015-10-25T00:00:00\", \"2015-11-01T00:00:00\", \"2015-11-08T00:00:00\", \"2015-11-15T00:00:00\", \"2015-11-22T00:00:00\", \"2015-11-29T00:00:00\", \"2015-12-06T00:00:00\", \"2015-12-13T00:00:00\", \"2015-12-20T00:00:00\", \"2015-12-27T00:00:00\", \"2016-01-04T00:00:00\", \"2016-01-10T00:00:00\", \"2016-01-17T00:00:00\", \"2016-01-24T00:00:00\", \"2016-01-31T00:00:00\", \"2016-02-07T00:00:00\", \"2016-02-14T00:00:00\", \"2016-02-21T00:00:00\", \"2016-02-28T00:00:00\", \"2016-03-06T00:00:00\", \"2016-03-13T00:00:00\", \"2016-03-20T00:00:00\", \"2016-03-27T00:00:00\", \"2016-04-03T00:00:00\", \"2016-04-10T00:00:00\", \"2016-04-17T00:00:00\", \"2016-04-24T00:00:00\", \"2016-05-01T00:00:00\", \"2016-05-08T00:00:00\", \"2016-05-15T00:00:00\", \"2016-05-22T00:00:00\", \"2016-05-29T00:00:00\", \"2016-06-05T00:00:00\", \"2016-06-12T00:00:00\", \"2016-06-19T00:00:00\", \"2016-06-26T00:00:00\", \"2016-07-03T00:00:00\", \"2016-07-10T00:00:00\", \"2016-07-17T00:00:00\", \"2016-07-24T00:00:00\", \"2016-07-31T00:00:00\", \"2016-08-07T00:00:00\", \"2016-08-14T00:00:00\", \"2016-08-21T00:00:00\", \"2016-08-28T00:00:00\", \"2016-09-04T00:00:00\", \"2016-09-11T00:00:00\", \"2016-09-18T00:00:00\", \"2016-09-25T00:00:00\", \"2016-10-02T00:00:00\", \"2016-10-09T00:00:00\", \"2016-10-16T00:00:00\", \"2016-10-23T00:00:00\", \"2016-10-30T00:00:00\", \"2016-11-06T00:00:00\", \"2016-11-13T00:00:00\", \"2016-11-20T00:00:00\", \"2016-11-27T00:00:00\", \"2016-12-04T00:00:00\", \"2016-12-11T00:00:00\", \"2016-12-18T00:00:00\", \"2016-12-25T00:00:00\", \"2017-01-02T00:00:00\", \"2017-01-08T00:00:00\", \"2017-01-15T00:00:00\", \"2017-01-22T00:00:00\", \"2017-01-29T00:00:00\", \"2017-02-05T00:00:00\", \"2017-02-12T00:00:00\", \"2017-02-19T00:00:00\", \"2017-02-26T00:00:00\", \"2017-03-05T00:00:00\", \"2017-03-12T00:00:00\", \"2017-03-19T00:00:00\", \"2017-03-26T00:00:00\", \"2017-04-02T00:00:00\", \"2017-04-09T00:00:00\", \"2017-04-16T00:00:00\", \"2017-04-23T00:00:00\", \"2017-04-30T00:00:00\", \"2017-05-07T00:00:00\", \"2017-05-14T00:00:00\", \"2017-05-21T00:00:00\", \"2017-05-28T00:00:00\", \"2017-06-04T00:00:00\", \"2017-06-11T00:00:00\", \"2017-06-18T00:00:00\", \"2017-06-25T00:00:00\", \"2017-07-02T00:00:00\", \"2017-07-09T00:00:00\", \"2017-07-16T00:00:00\", \"2017-07-23T00:00:00\", \"2017-07-30T00:00:00\", \"2017-08-06T00:00:00\", \"2017-08-13T00:00:00\", \"2017-08-20T00:00:00\", \"2017-08-27T00:00:00\", \"2017-09-03T00:00:00\", \"2017-09-10T00:00:00\", \"2017-09-17T00:00:00\", \"2017-09-24T00:00:00\", \"2017-10-01T00:00:00\", \"2017-10-08T00:00:00\", \"2017-10-15T00:00:00\", \"2017-10-22T00:00:00\", \"2017-10-29T00:00:00\", \"2017-11-05T00:00:00\", \"2017-11-12T00:00:00\", \"2017-11-19T00:00:00\", \"2017-11-26T00:00:00\", \"2017-12-03T00:00:00\", \"2017-12-10T00:00:00\", \"2017-12-17T00:00:00\", \"2017-12-24T00:00:00\", \"2018-01-01T00:00:00\", \"2018-01-07T00:00:00\", \"2018-01-14T00:00:00\", \"2018-01-21T00:00:00\", \"2018-01-28T00:00:00\", \"2018-02-04T00:00:00\", \"2018-02-11T00:00:00\", \"2018-02-18T00:00:00\", \"2018-02-25T00:00:00\", \"2018-03-04T00:00:00\", \"2018-03-11T00:00:00\", \"2018-03-18T00:00:00\", \"2018-03-25T00:00:00\", \"2018-04-01T00:00:00\", \"2018-04-08T00:00:00\", \"2018-04-15T00:00:00\", \"2018-04-22T00:00:00\", \"2018-04-29T00:00:00\", \"2018-05-06T00:00:00\", \"2018-05-13T00:00:00\", \"2018-05-20T00:00:00\", \"2018-05-27T00:00:00\", \"2018-06-03T00:00:00\", \"2018-06-10T00:00:00\", \"2018-06-17T00:00:00\", \"2018-06-24T00:00:00\", \"2018-07-01T00:00:00\", \"2018-07-08T00:00:00\", \"2018-07-15T00:00:00\", \"2018-07-22T00:00:00\", \"2018-07-29T00:00:00\", \"2018-08-05T00:00:00\", \"2018-08-12T00:00:00\", \"2018-08-19T00:00:00\", \"2018-08-26T00:00:00\", \"2018-09-02T00:00:00\", \"2018-09-09T00:00:00\", \"2018-09-16T00:00:00\", \"2018-09-23T00:00:00\", \"2018-09-30T00:00:00\", \"2018-10-07T00:00:00\", \"2018-10-14T00:00:00\", \"2018-10-21T00:00:00\", \"2018-10-28T00:00:00\", \"2018-11-04T00:00:00\", \"2018-11-11T00:00:00\", \"2018-11-18T00:00:00\", \"2018-11-25T00:00:00\", \"2018-12-02T00:00:00\", \"2019-01-07T00:00:00\", \"2019-01-13T00:00:00\", \"2019-01-20T00:00:00\", \"2019-01-27T00:00:00\", \"2019-02-03T00:00:00\", \"2019-02-10T00:00:00\", \"2019-02-17T00:00:00\", \"2019-02-24T00:00:00\", \"2019-03-03T00:00:00\", \"2019-03-10T00:00:00\", \"2019-03-17T00:00:00\", \"2019-03-24T00:00:00\", \"2019-03-31T00:00:00\", \"2019-04-07T00:00:00\", \"2019-04-14T00:00:00\", \"2019-04-21T00:00:00\", \"2019-04-28T00:00:00\", \"2019-05-05T00:00:00\", \"2019-05-12T00:00:00\", \"2019-05-19T00:00:00\", \"2019-05-26T00:00:00\", \"2019-06-02T00:00:00\", \"2019-06-09T00:00:00\", \"2019-06-16T00:00:00\", \"2019-06-23T00:00:00\", \"2019-06-30T00:00:00\", \"2019-07-07T00:00:00\", \"2019-07-14T00:00:00\", \"2019-07-21T00:00:00\", \"2019-07-28T00:00:00\", \"2019-08-04T00:00:00\", \"2019-08-11T00:00:00\", \"2019-08-18T00:00:00\", \"2019-08-25T00:00:00\", \"2019-09-01T00:00:00\", \"2019-09-08T00:00:00\", \"2019-09-15T00:00:00\", \"2019-09-22T00:00:00\", \"2019-09-29T00:00:00\", \"2019-10-06T00:00:00\", \"2019-10-13T00:00:00\", \"2019-10-20T00:00:00\", \"2019-10-27T00:00:00\", \"2019-11-03T00:00:00\", \"2019-11-10T00:00:00\", \"2019-11-17T00:00:00\", \"2019-11-24T00:00:00\", \"2019-12-01T00:00:00\"], \"y\": [1.205, 1.2149999999999999, 1.225, 1.2850000000000001, 1.125, 1.2149999999999999, 1.3050000000000002, 1.2650000000000001, 1.185, 1.255, 1.27, 1.25, 1.32, 1.345, 1.275, 1.31, 1.26, 1.165, 1.22, 1.28, 1.315, 1.3050000000000002, 1.335, 1.33, 1.3399999999999999, 1.35, 1.02, 1.0350000000000001, 1.0350000000000001, 1.0350000000000001, 1.045, 1.025, 1.4, 1.4, 1.365, 1.4, 1.415, 1.395, 1.3900000000000001, 1.37, 1.345, 1.35, 1.33, 1.22, 1.255, 1.26, 1.225, 1.245, 1.205, 1.18, 1.255, 1.2349999999999999, 1.145, 1.1400000000000001, 1.19, 1.18, 1.18, 1.1, 1.125, 1.1949999999999998, 1.175, 1.115, 1.11, 1.1, 1.19, 1.19, 1.08, 1.14, 1.06, 1.06, 1.06, 1.17, 1.145, 1.1749999999999998, 1.2, 1.245, 1.2349999999999999, 1.27, 1.2650000000000001, 1.3050000000000002, 1.39, 1.4249999999999998, 1.405, 1.35, 1.3, 1.3050000000000002, 1.29, 1.29, 1.3, 1.41, 1.455, 1.47, 1.395, 1.4, 1.4849999999999999, 1.68, 1.56, 1.53, 1.45, 1.4249999999999998, 1.28, 1.2, 1.1949999999999998, 1.17, 1.185, 1.21, 1.21, 1.155, 1.1949999999999998, 1.065, 1.14, 1.15, 1.1, 1.145, 1.2999999999999998, 1.375, 1.2650000000000001, 1.315, 1.3199999999999998, 1.3599999999999999, 1.395, 1.43, 1.33, 1.37, 1.4849999999999999, 1.4849999999999999, 1.44, 1.385, 1.4449999999999998, 1.47, 1.475, 1.44, 1.5550000000000002, 1.5350000000000001, 1.55, 1.58, 1.605, 1.685, 1.7799999999999998, 1.815, 1.795, 1.48, 1.5299999999999998, 1.6400000000000001, 1.5899999999999999, 1.715, 1.63, 1.565, 1.505, 1.48, 1.47, 1.48, 1.355, 1.2850000000000001, 1.32, 1.41, 1.25, 1.3199999999999998, 1.395, 1.355, 1.35, 1.2, 1.2650000000000001, 1.3, 1.315, 1.295, 1.3050000000000002, 1.295, 1.29, 1.3250000000000002, 1.295, 1.27, 1.27, 1.31, 1.22, 1.2650000000000001, 1.2650000000000001, 1.225, 1.26, 1.275, 1.25, 1.27, 1.3050000000000002, 1.3, 1.3250000000000002, 1.335, 1.355, 1.35, 1.38, 1.3849999999999998, 1.435, 1.5, 1.47, 1.46, 1.435, 1.385, 1.355, 1.3250000000000002, 1.325, 1.255, 1.255, 1.245, 1.3399999999999999, 1.455, 1.4, 1.245, 1.225, 1.255, 1.245, 1.105, 1.1400000000000001, 1.205, 1.2149999999999999, 1.21, 1.1949999999999998, 1.1749999999999998, 1.185, 1.2149999999999999, 1.22, 1.23, 1.4849999999999999, 1.625, 1.53, 1.4849999999999999, 1.53, 1.5350000000000001, 1.4100000000000001, 1.4249999999999998, 1.54, 1.5950000000000002, 1.605, 1.705, 1.73, 1.77, 1.7599999999999998, 1.7149999999999999, 1.655, 1.5350000000000001, 1.505, 1.5150000000000001, 1.47, 1.4100000000000001, 1.405, 1.39, 1.335, 1.315, 1.27, 1.185, 1.21, 1.29, 1.275, 1.315, 1.28]}],\n",
              "                        {\"template\": {\"data\": {\"bar\": [{\"error_x\": {\"color\": \"#2a3f5f\"}, \"error_y\": {\"color\": \"#2a3f5f\"}, \"marker\": {\"line\": {\"color\": \"#E5ECF6\", \"width\": 0.5}}, \"type\": \"bar\"}], \"barpolar\": [{\"marker\": {\"line\": {\"color\": \"#E5ECF6\", \"width\": 0.5}}, \"type\": \"barpolar\"}], \"carpet\": [{\"aaxis\": {\"endlinecolor\": \"#2a3f5f\", \"gridcolor\": \"white\", \"linecolor\": \"white\", \"minorgridcolor\": \"white\", \"startlinecolor\": \"#2a3f5f\"}, \"baxis\": {\"endlinecolor\": \"#2a3f5f\", \"gridcolor\": \"white\", \"linecolor\": \"white\", \"minorgridcolor\": \"white\", \"startlinecolor\": \"#2a3f5f\"}, \"type\": \"carpet\"}], \"choropleth\": [{\"colorbar\": {\"outlinewidth\": 0, \"ticks\": \"\"}, \"type\": \"choropleth\"}], \"contour\": [{\"colorbar\": {\"outlinewidth\": 0, \"ticks\": \"\"}, \"colorscale\": [[0.0, \"#0d0887\"], [0.1111111111111111, \"#46039f\"], [0.2222222222222222, \"#7201a8\"], [0.3333333333333333, \"#9c179e\"], [0.4444444444444444, \"#bd3786\"], [0.5555555555555556, \"#d8576b\"], [0.6666666666666666, \"#ed7953\"], [0.7777777777777778, \"#fb9f3a\"], [0.8888888888888888, \"#fdca26\"], [1.0, \"#f0f921\"]], \"type\": \"contour\"}], \"contourcarpet\": [{\"colorbar\": {\"outlinewidth\": 0, \"ticks\": \"\"}, \"type\": \"contourcarpet\"}], \"heatmap\": [{\"colorbar\": {\"outlinewidth\": 0, \"ticks\": \"\"}, \"colorscale\": [[0.0, \"#0d0887\"], [0.1111111111111111, \"#46039f\"], [0.2222222222222222, \"#7201a8\"], [0.3333333333333333, \"#9c179e\"], [0.4444444444444444, \"#bd3786\"], [0.5555555555555556, \"#d8576b\"], [0.6666666666666666, \"#ed7953\"], [0.7777777777777778, \"#fb9f3a\"], [0.8888888888888888, \"#fdca26\"], [1.0, \"#f0f921\"]], \"type\": \"heatmap\"}], \"heatmapgl\": [{\"colorbar\": {\"outlinewidth\": 0, \"ticks\": \"\"}, \"colorscale\": [[0.0, \"#0d0887\"], [0.1111111111111111, \"#46039f\"], [0.2222222222222222, \"#7201a8\"], [0.3333333333333333, \"#9c179e\"], [0.4444444444444444, \"#bd3786\"], [0.5555555555555556, \"#d8576b\"], [0.6666666666666666, \"#ed7953\"], [0.7777777777777778, \"#fb9f3a\"], [0.8888888888888888, \"#fdca26\"], [1.0, \"#f0f921\"]], \"type\": \"heatmapgl\"}], \"histogram\": [{\"marker\": {\"colorbar\": {\"outlinewidth\": 0, \"ticks\": \"\"}}, \"type\": \"histogram\"}], \"histogram2d\": [{\"colorbar\": {\"outlinewidth\": 0, \"ticks\": \"\"}, \"colorscale\": [[0.0, \"#0d0887\"], [0.1111111111111111, \"#46039f\"], [0.2222222222222222, \"#7201a8\"], [0.3333333333333333, \"#9c179e\"], [0.4444444444444444, \"#bd3786\"], [0.5555555555555556, \"#d8576b\"], [0.6666666666666666, \"#ed7953\"], [0.7777777777777778, \"#fb9f3a\"], [0.8888888888888888, \"#fdca26\"], [1.0, \"#f0f921\"]], \"type\": \"histogram2d\"}], \"histogram2dcontour\": [{\"colorbar\": {\"outlinewidth\": 0, \"ticks\": \"\"}, \"colorscale\": [[0.0, \"#0d0887\"], [0.1111111111111111, \"#46039f\"], [0.2222222222222222, \"#7201a8\"], [0.3333333333333333, \"#9c179e\"], [0.4444444444444444, \"#bd3786\"], [0.5555555555555556, \"#d8576b\"], [0.6666666666666666, \"#ed7953\"], [0.7777777777777778, \"#fb9f3a\"], [0.8888888888888888, \"#fdca26\"], [1.0, \"#f0f921\"]], \"type\": \"histogram2dcontour\"}], \"mesh3d\": [{\"colorbar\": {\"outlinewidth\": 0, \"ticks\": \"\"}, \"type\": \"mesh3d\"}], \"parcoords\": [{\"line\": {\"colorbar\": {\"outlinewidth\": 0, \"ticks\": \"\"}}, \"type\": \"parcoords\"}], \"pie\": [{\"automargin\": true, \"type\": \"pie\"}], \"scatter\": [{\"marker\": {\"colorbar\": {\"outlinewidth\": 0, \"ticks\": \"\"}}, \"type\": \"scatter\"}], \"scatter3d\": [{\"line\": {\"colorbar\": {\"outlinewidth\": 0, \"ticks\": \"\"}}, \"marker\": {\"colorbar\": {\"outlinewidth\": 0, \"ticks\": \"\"}}, \"type\": \"scatter3d\"}], \"scattercarpet\": [{\"marker\": {\"colorbar\": {\"outlinewidth\": 0, \"ticks\": \"\"}}, \"type\": \"scattercarpet\"}], \"scattergeo\": [{\"marker\": {\"colorbar\": {\"outlinewidth\": 0, \"ticks\": \"\"}}, \"type\": \"scattergeo\"}], \"scattergl\": [{\"marker\": {\"colorbar\": {\"outlinewidth\": 0, \"ticks\": \"\"}}, \"type\": \"scattergl\"}], \"scattermapbox\": [{\"marker\": {\"colorbar\": {\"outlinewidth\": 0, \"ticks\": \"\"}}, \"type\": \"scattermapbox\"}], \"scatterpolar\": [{\"marker\": {\"colorbar\": {\"outlinewidth\": 0, \"ticks\": \"\"}}, \"type\": \"scatterpolar\"}], \"scatterpolargl\": [{\"marker\": {\"colorbar\": {\"outlinewidth\": 0, \"ticks\": \"\"}}, \"type\": \"scatterpolargl\"}], \"scatterternary\": [{\"marker\": {\"colorbar\": {\"outlinewidth\": 0, \"ticks\": \"\"}}, \"type\": \"scatterternary\"}], \"surface\": [{\"colorbar\": {\"outlinewidth\": 0, \"ticks\": \"\"}, \"colorscale\": [[0.0, \"#0d0887\"], [0.1111111111111111, \"#46039f\"], [0.2222222222222222, \"#7201a8\"], [0.3333333333333333, \"#9c179e\"], [0.4444444444444444, \"#bd3786\"], [0.5555555555555556, \"#d8576b\"], [0.6666666666666666, \"#ed7953\"], [0.7777777777777778, \"#fb9f3a\"], [0.8888888888888888, \"#fdca26\"], [1.0, \"#f0f921\"]], \"type\": \"surface\"}], \"table\": [{\"cells\": {\"fill\": {\"color\": \"#EBF0F8\"}, \"line\": {\"color\": \"white\"}}, \"header\": {\"fill\": {\"color\": \"#C8D4E3\"}, \"line\": {\"color\": \"white\"}}, \"type\": \"table\"}]}, \"layout\": {\"annotationdefaults\": {\"arrowcolor\": \"#2a3f5f\", \"arrowhead\": 0, \"arrowwidth\": 1}, \"coloraxis\": {\"colorbar\": {\"outlinewidth\": 0, \"ticks\": \"\"}}, \"colorscale\": {\"diverging\": [[0, \"#8e0152\"], [0.1, \"#c51b7d\"], [0.2, \"#de77ae\"], [0.3, \"#f1b6da\"], [0.4, \"#fde0ef\"], [0.5, \"#f7f7f7\"], [0.6, \"#e6f5d0\"], [0.7, \"#b8e186\"], [0.8, \"#7fbc41\"], [0.9, \"#4d9221\"], [1, \"#276419\"]], \"sequential\": [[0.0, \"#0d0887\"], [0.1111111111111111, \"#46039f\"], [0.2222222222222222, \"#7201a8\"], [0.3333333333333333, \"#9c179e\"], [0.4444444444444444, \"#bd3786\"], [0.5555555555555556, \"#d8576b\"], [0.6666666666666666, \"#ed7953\"], [0.7777777777777778, \"#fb9f3a\"], [0.8888888888888888, \"#fdca26\"], [1.0, \"#f0f921\"]], \"sequentialminus\": [[0.0, \"#0d0887\"], [0.1111111111111111, \"#46039f\"], [0.2222222222222222, \"#7201a8\"], [0.3333333333333333, \"#9c179e\"], [0.4444444444444444, \"#bd3786\"], [0.5555555555555556, \"#d8576b\"], [0.6666666666666666, \"#ed7953\"], [0.7777777777777778, \"#fb9f3a\"], [0.8888888888888888, \"#fdca26\"], [1.0, \"#f0f921\"]]}, \"colorway\": [\"#636efa\", \"#EF553B\", \"#00cc96\", \"#ab63fa\", \"#FFA15A\", \"#19d3f3\", \"#FF6692\", \"#B6E880\", \"#FF97FF\", \"#FECB52\"], \"font\": {\"color\": \"#2a3f5f\"}, \"geo\": {\"bgcolor\": \"white\", \"lakecolor\": \"white\", \"landcolor\": \"#E5ECF6\", \"showlakes\": true, \"showland\": true, \"subunitcolor\": \"white\"}, \"hoverlabel\": {\"align\": \"left\"}, \"hovermode\": \"closest\", \"mapbox\": {\"style\": \"light\"}, \"paper_bgcolor\": \"white\", \"plot_bgcolor\": \"#E5ECF6\", \"polar\": {\"angularaxis\": {\"gridcolor\": \"white\", \"linecolor\": \"white\", \"ticks\": \"\"}, \"bgcolor\": \"#E5ECF6\", \"radialaxis\": {\"gridcolor\": \"white\", \"linecolor\": \"white\", \"ticks\": \"\"}}, \"scene\": {\"xaxis\": {\"backgroundcolor\": \"#E5ECF6\", \"gridcolor\": \"white\", \"gridwidth\": 2, \"linecolor\": \"white\", \"showbackground\": true, \"ticks\": \"\", \"zerolinecolor\": \"white\"}, \"yaxis\": {\"backgroundcolor\": \"#E5ECF6\", \"gridcolor\": \"white\", \"gridwidth\": 2, \"linecolor\": \"white\", \"showbackground\": true, \"ticks\": \"\", \"zerolinecolor\": \"white\"}, \"zaxis\": {\"backgroundcolor\": \"#E5ECF6\", \"gridcolor\": \"white\", \"gridwidth\": 2, \"linecolor\": \"white\", \"showbackground\": true, \"ticks\": \"\", \"zerolinecolor\": \"white\"}}, \"shapedefaults\": {\"line\": {\"color\": \"#2a3f5f\"}}, \"ternary\": {\"aaxis\": {\"gridcolor\": \"white\", \"linecolor\": \"white\", \"ticks\": \"\"}, \"baxis\": {\"gridcolor\": \"white\", \"linecolor\": \"white\", \"ticks\": \"\"}, \"bgcolor\": \"#E5ECF6\", \"caxis\": {\"gridcolor\": \"white\", \"linecolor\": \"white\", \"ticks\": \"\"}}, \"title\": {\"x\": 0.05}, \"xaxis\": {\"automargin\": true, \"gridcolor\": \"white\", \"linecolor\": \"white\", \"ticks\": \"\", \"title\": {\"standoff\": 15}, \"zerolinecolor\": \"white\", \"zerolinewidth\": 2}, \"yaxis\": {\"automargin\": true, \"gridcolor\": \"white\", \"linecolor\": \"white\", \"ticks\": \"\", \"title\": {\"standoff\": 15}, \"zerolinecolor\": \"white\", \"zerolinewidth\": 2}}}, \"title\": {\"text\": \"Time Series Plot for Mean Daily Price\"}, \"xaxis\": {\"title\": {\"text\": \"Date\"}}, \"yaxis\": {\"title\": {\"text\": \"Prices\"}}},\n",
              "                        {\"responsive\": true}\n",
              "                    ).then(function(){\n",
              "                            \n",
              "var gd = document.getElementById('c975eb98-97c1-49f2-984f-a00a78abd133');\n",
              "var x = new MutationObserver(function (mutations, observer) {{\n",
              "        var display = window.getComputedStyle(gd).display;\n",
              "        if (!display || display === 'none') {{\n",
              "            console.log([gd, 'removed!']);\n",
              "            Plotly.purge(gd);\n",
              "            observer.disconnect();\n",
              "        }}\n",
              "}});\n",
              "\n",
              "// Listen for the removal of the full notebook cells\n",
              "var notebookContainer = gd.closest('#notebook-container');\n",
              "if (notebookContainer) {{\n",
              "    x.observe(notebookContainer, {childList: true});\n",
              "}}\n",
              "\n",
              "// Listen for the clearing of the current output cell\n",
              "var outputEl = gd.closest('.output');\n",
              "if (outputEl) {{\n",
              "    x.observe(outputEl, {childList: true});\n",
              "}}\n",
              "\n",
              "                        })\n",
              "                };\n",
              "                });\n",
              "            </script>\n",
              "        </div>"
            ]
          },
          "metadata": {
            "tags": []
          }
        }
      ]
    },
    {
      "cell_type": "markdown",
      "metadata": {
        "id": "mBqQO9G5Ldb0",
        "colab_type": "text"
      },
      "source": [
        "    Clearly there are some bad data July 2015."
      ]
    },
    {
      "cell_type": "code",
      "metadata": {
        "id": "P91SA5bDLdb1",
        "colab_type": "code",
        "colab": {}
      },
      "source": [
        "#If we use the city level data.\n",
        "\n",
        "#Let's delete the already aggregated regions.\n",
        "df = df[df.Region!='TotalUS']\n",
        "df = df[df.Region!='Southeast']\n",
        "df = df[df.Region!='West']\n",
        "df = df[df.Region!='SouthCentral']\n",
        "df = df[df.Region!='Northeast']\n",
        "df = df[df.Region!='GreatLakes']\n",
        "df = df[df.Region!='Plains']\n",
        "df = df[df.Region!='Midsouth']\n",
        "df = df[df.Region!='California']\n",
        "df = df[df.Region!='NorthernNewEngland']\n",
        "df = df[df.Region!='SouthCarolina']\n",
        "df = df[df.Region!='WestTexNewMexico']"
      ],
      "execution_count": 0,
      "outputs": []
    },
    {
      "cell_type": "code",
      "metadata": {
        "id": "kGOV-h6zLdb4",
        "colab_type": "code",
        "colab": {},
        "outputId": "25fe7307-b449-4762-ccfa-4082a5c5a5cd"
      },
      "source": [
        "#Let's plot a overall time series for the Mean Daily for All cities.\n",
        "\n",
        "import plotly\n",
        "from plotly.offline import init_notebook_mode, iplot\n",
        "import plotly.graph_objs as go\n",
        "init_notebook_mode(connected=True)\n",
        "\n",
        "groupBy_Overall = df.groupby('Date').mean()\n",
        "\n",
        "scatter = go.Scatter(x=groupBy_Overall.AveragePrice.index, y=groupBy_Overall.AveragePrice,mode='lines+markers',\n",
        "                    marker=dict(\n",
        "                                 color='rgb(248,146,146)',\n",
        "                                 line=dict(\n",
        "                                 color='rgb(249,52,52)',\n",
        "                                 width=1.5)),\n",
        "                                opacity=0.8)\n",
        "data = [scatter]\n",
        "layout = go.Layout(title='Time Series Plot for Mean Daily Price for different cities',\n",
        "                  xaxis={'title':'Date'},yaxis={'title':'Prices'})\n",
        "\n",
        "figure = go.Figure(data=data, layout=layout)\n",
        "iplot(figure)"
      ],
      "execution_count": 0,
      "outputs": [
        {
          "output_type": "display_data",
          "data": {
            "text/html": [
              "        <script type=\"text/javascript\">\n",
              "        window.PlotlyConfig = {MathJaxConfig: 'local'};\n",
              "        if (window.MathJax) {MathJax.Hub.Config({SVG: {font: \"STIX-Web\"}});}\n",
              "        if (typeof require !== 'undefined') {\n",
              "        require.undef(\"plotly\");\n",
              "        requirejs.config({\n",
              "            paths: {\n",
              "                'plotly': ['https://cdn.plot.ly/plotly-latest.min']\n",
              "            }\n",
              "        });\n",
              "        require(['plotly'], function(Plotly) {\n",
              "            window._Plotly = Plotly;\n",
              "        });\n",
              "        }\n",
              "        </script>\n",
              "        "
            ]
          },
          "metadata": {
            "tags": []
          }
        },
        {
          "output_type": "display_data",
          "data": {
            "application/vnd.plotly.v1+json": {
              "config": {
                "linkText": "Export to plot.ly",
                "plotlyServerURL": "https://plot.ly",
                "showLink": false
              },
              "data": [
                {
                  "marker": {
                    "color": "rgb(248,146,146)",
                    "line": {
                      "color": "rgb(249,52,52)",
                      "width": 1.5
                    }
                  },
                  "mode": "lines+markers",
                  "opacity": 0.8,
                  "type": "scatter",
                  "x": [
                    "2015-01-04T00:00:00",
                    "2015-01-11T00:00:00",
                    "2015-01-18T00:00:00",
                    "2015-01-25T00:00:00",
                    "2015-02-01T00:00:00",
                    "2015-02-08T00:00:00",
                    "2015-02-15T00:00:00",
                    "2015-02-22T00:00:00",
                    "2015-03-01T00:00:00",
                    "2015-03-08T00:00:00",
                    "2015-03-15T00:00:00",
                    "2015-03-22T00:00:00",
                    "2015-03-29T00:00:00",
                    "2015-04-05T00:00:00",
                    "2015-04-12T00:00:00",
                    "2015-04-19T00:00:00",
                    "2015-04-26T00:00:00",
                    "2015-05-03T00:00:00",
                    "2015-05-10T00:00:00",
                    "2015-05-17T00:00:00",
                    "2015-05-24T00:00:00",
                    "2015-05-31T00:00:00",
                    "2015-06-07T00:00:00",
                    "2015-06-14T00:00:00",
                    "2015-06-21T00:00:00",
                    "2015-06-28T00:00:00",
                    "2015-07-05T00:00:00",
                    "2015-07-12T00:00:00",
                    "2015-07-19T00:00:00",
                    "2015-07-26T00:00:00",
                    "2015-08-02T00:00:00",
                    "2015-08-09T00:00:00",
                    "2015-08-16T00:00:00",
                    "2015-08-23T00:00:00",
                    "2015-08-30T00:00:00",
                    "2015-09-06T00:00:00",
                    "2015-09-13T00:00:00",
                    "2015-09-20T00:00:00",
                    "2015-09-27T00:00:00",
                    "2015-10-04T00:00:00",
                    "2015-10-11T00:00:00",
                    "2015-10-18T00:00:00",
                    "2015-10-25T00:00:00",
                    "2015-11-01T00:00:00",
                    "2015-11-08T00:00:00",
                    "2015-11-15T00:00:00",
                    "2015-11-22T00:00:00",
                    "2015-11-29T00:00:00",
                    "2015-12-06T00:00:00",
                    "2015-12-13T00:00:00",
                    "2015-12-20T00:00:00",
                    "2015-12-27T00:00:00",
                    "2016-01-04T00:00:00",
                    "2016-01-10T00:00:00",
                    "2016-01-17T00:00:00",
                    "2016-01-24T00:00:00",
                    "2016-01-31T00:00:00",
                    "2016-02-07T00:00:00",
                    "2016-02-14T00:00:00",
                    "2016-02-21T00:00:00",
                    "2016-02-28T00:00:00",
                    "2016-03-06T00:00:00",
                    "2016-03-13T00:00:00",
                    "2016-03-20T00:00:00",
                    "2016-03-27T00:00:00",
                    "2016-04-03T00:00:00",
                    "2016-04-10T00:00:00",
                    "2016-04-17T00:00:00",
                    "2016-04-24T00:00:00",
                    "2016-05-01T00:00:00",
                    "2016-05-08T00:00:00",
                    "2016-05-15T00:00:00",
                    "2016-05-22T00:00:00",
                    "2016-05-29T00:00:00",
                    "2016-06-05T00:00:00",
                    "2016-06-12T00:00:00",
                    "2016-06-19T00:00:00",
                    "2016-06-26T00:00:00",
                    "2016-07-03T00:00:00",
                    "2016-07-10T00:00:00",
                    "2016-07-17T00:00:00",
                    "2016-07-24T00:00:00",
                    "2016-07-31T00:00:00",
                    "2016-08-07T00:00:00",
                    "2016-08-14T00:00:00",
                    "2016-08-21T00:00:00",
                    "2016-08-28T00:00:00",
                    "2016-09-04T00:00:00",
                    "2016-09-11T00:00:00",
                    "2016-09-18T00:00:00",
                    "2016-09-25T00:00:00",
                    "2016-10-02T00:00:00",
                    "2016-10-09T00:00:00",
                    "2016-10-16T00:00:00",
                    "2016-10-23T00:00:00",
                    "2016-10-30T00:00:00",
                    "2016-11-06T00:00:00",
                    "2016-11-13T00:00:00",
                    "2016-11-20T00:00:00",
                    "2016-11-27T00:00:00",
                    "2016-12-04T00:00:00",
                    "2016-12-11T00:00:00",
                    "2016-12-18T00:00:00",
                    "2016-12-25T00:00:00",
                    "2017-01-02T00:00:00",
                    "2017-01-08T00:00:00",
                    "2017-01-15T00:00:00",
                    "2017-01-22T00:00:00",
                    "2017-01-29T00:00:00",
                    "2017-02-05T00:00:00",
                    "2017-02-12T00:00:00",
                    "2017-02-19T00:00:00",
                    "2017-02-26T00:00:00",
                    "2017-03-05T00:00:00",
                    "2017-03-12T00:00:00",
                    "2017-03-19T00:00:00",
                    "2017-03-26T00:00:00",
                    "2017-04-02T00:00:00",
                    "2017-04-09T00:00:00",
                    "2017-04-16T00:00:00",
                    "2017-04-23T00:00:00",
                    "2017-04-30T00:00:00",
                    "2017-05-07T00:00:00",
                    "2017-05-14T00:00:00",
                    "2017-05-21T00:00:00",
                    "2017-05-28T00:00:00",
                    "2017-06-04T00:00:00",
                    "2017-06-11T00:00:00",
                    "2017-06-18T00:00:00",
                    "2017-06-25T00:00:00",
                    "2017-07-02T00:00:00",
                    "2017-07-09T00:00:00",
                    "2017-07-16T00:00:00",
                    "2017-07-23T00:00:00",
                    "2017-07-30T00:00:00",
                    "2017-08-06T00:00:00",
                    "2017-08-13T00:00:00",
                    "2017-08-20T00:00:00",
                    "2017-08-27T00:00:00",
                    "2017-09-03T00:00:00",
                    "2017-09-10T00:00:00",
                    "2017-09-17T00:00:00",
                    "2017-09-24T00:00:00",
                    "2017-10-01T00:00:00",
                    "2017-10-08T00:00:00",
                    "2017-10-15T00:00:00",
                    "2017-10-22T00:00:00",
                    "2017-10-29T00:00:00",
                    "2017-11-05T00:00:00",
                    "2017-11-12T00:00:00",
                    "2017-11-19T00:00:00",
                    "2017-11-26T00:00:00",
                    "2017-12-03T00:00:00",
                    "2017-12-10T00:00:00",
                    "2017-12-17T00:00:00",
                    "2017-12-24T00:00:00",
                    "2018-01-01T00:00:00",
                    "2018-01-07T00:00:00",
                    "2018-01-14T00:00:00",
                    "2018-01-21T00:00:00",
                    "2018-01-28T00:00:00",
                    "2018-02-04T00:00:00",
                    "2018-02-11T00:00:00",
                    "2018-02-18T00:00:00",
                    "2018-02-25T00:00:00",
                    "2018-03-04T00:00:00",
                    "2018-03-11T00:00:00",
                    "2018-03-18T00:00:00",
                    "2018-03-25T00:00:00",
                    "2018-04-01T00:00:00",
                    "2018-04-08T00:00:00",
                    "2018-04-15T00:00:00",
                    "2018-04-22T00:00:00",
                    "2018-04-29T00:00:00",
                    "2018-05-06T00:00:00",
                    "2018-05-13T00:00:00",
                    "2018-05-20T00:00:00",
                    "2018-05-27T00:00:00",
                    "2018-06-03T00:00:00",
                    "2018-06-10T00:00:00",
                    "2018-06-17T00:00:00",
                    "2018-06-24T00:00:00",
                    "2018-07-01T00:00:00",
                    "2018-07-08T00:00:00",
                    "2018-07-15T00:00:00",
                    "2018-07-22T00:00:00",
                    "2018-07-29T00:00:00",
                    "2018-08-05T00:00:00",
                    "2018-08-12T00:00:00",
                    "2018-08-19T00:00:00",
                    "2018-08-26T00:00:00",
                    "2018-09-02T00:00:00",
                    "2018-09-09T00:00:00",
                    "2018-09-16T00:00:00",
                    "2018-09-23T00:00:00",
                    "2018-09-30T00:00:00",
                    "2018-10-07T00:00:00",
                    "2018-10-14T00:00:00",
                    "2018-10-21T00:00:00",
                    "2018-10-28T00:00:00",
                    "2018-11-04T00:00:00",
                    "2018-11-11T00:00:00",
                    "2018-11-18T00:00:00",
                    "2018-11-25T00:00:00",
                    "2018-12-02T00:00:00",
                    "2019-01-07T00:00:00",
                    "2019-01-13T00:00:00",
                    "2019-01-20T00:00:00",
                    "2019-01-27T00:00:00",
                    "2019-02-03T00:00:00",
                    "2019-02-10T00:00:00",
                    "2019-02-17T00:00:00",
                    "2019-02-24T00:00:00",
                    "2019-03-03T00:00:00",
                    "2019-03-10T00:00:00",
                    "2019-03-17T00:00:00",
                    "2019-03-24T00:00:00",
                    "2019-03-31T00:00:00",
                    "2019-04-07T00:00:00",
                    "2019-04-14T00:00:00",
                    "2019-04-21T00:00:00",
                    "2019-04-28T00:00:00",
                    "2019-05-05T00:00:00",
                    "2019-05-12T00:00:00",
                    "2019-05-19T00:00:00",
                    "2019-05-26T00:00:00",
                    "2019-06-02T00:00:00",
                    "2019-06-09T00:00:00",
                    "2019-06-16T00:00:00",
                    "2019-06-23T00:00:00",
                    "2019-06-30T00:00:00",
                    "2019-07-07T00:00:00",
                    "2019-07-14T00:00:00",
                    "2019-07-21T00:00:00",
                    "2019-07-28T00:00:00",
                    "2019-08-04T00:00:00",
                    "2019-08-11T00:00:00",
                    "2019-08-18T00:00:00",
                    "2019-08-25T00:00:00",
                    "2019-09-01T00:00:00",
                    "2019-09-08T00:00:00",
                    "2019-09-15T00:00:00",
                    "2019-09-22T00:00:00",
                    "2019-09-29T00:00:00",
                    "2019-10-06T00:00:00",
                    "2019-10-13T00:00:00",
                    "2019-10-20T00:00:00",
                    "2019-10-27T00:00:00",
                    "2019-11-03T00:00:00",
                    "2019-11-10T00:00:00",
                    "2019-11-17T00:00:00",
                    "2019-11-24T00:00:00",
                    "2019-12-01T00:00:00"
                  ],
                  "y": [
                    1.3070238095238098,
                    1.3802380952380955,
                    1.4033333333333335,
                    1.4082142857142852,
                    1.253571428571429,
                    1.3225000000000007,
                    1.400238095238095,
                    1.3741666666666665,
                    1.3217857142857146,
                    1.374047619047619,
                    1.4083333333333334,
                    1.3539285714285714,
                    1.4019047619047615,
                    1.4180952380952379,
                    1.3707142857142858,
                    1.3761904761904766,
                    1.3870238095238097,
                    1.2857142857142851,
                    1.3310714285714287,
                    1.3645238095238095,
                    1.389761904761905,
                    1.3875,
                    1.3873809523809524,
                    1.4110714285714283,
                    1.4129761904761906,
                    1.4138095238095238,
                    1.431190476190476,
                    1.4283333333333332,
                    1.3998809523809523,
                    1.4328571428571424,
                    1.4923809523809521,
                    1.4427380952380948,
                    1.4559523809523809,
                    1.4534523809523805,
                    1.4221428571428572,
                    1.440595238095238,
                    1.4683333333333342,
                    1.4514285714285715,
                    1.4584523809523806,
                    1.4229761904761908,
                    1.3713095238095236,
                    1.3969047619047619,
                    1.3880952380952376,
                    1.3076190476190475,
                    1.3407142857142853,
                    1.347857142857143,
                    1.3353571428571434,
                    1.3490476190476195,
                    1.2977380952380952,
                    1.2940476190476193,
                    1.3516666666666668,
                    1.302619047619047,
                    1.2101190476190475,
                    1.2309523809523812,
                    1.2796428571428573,
                    1.2459523809523811,
                    1.2579761904761906,
                    1.1807142857142856,
                    1.243452380952381,
                    1.2886904761904763,
                    1.2791666666666668,
                    1.2692857142857144,
                    1.2058333333333333,
                    1.203809523809524,
                    1.2536904761904761,
                    1.2433333333333332,
                    1.1828571428571426,
                    1.232261904761905,
                    1.2007142857142856,
                    1.1735714285714287,
                    1.1583333333333334,
                    1.2292857142857143,
                    1.2402380952380956,
                    1.2628571428571422,
                    1.2602380952380952,
                    1.3227380952380954,
                    1.2939285714285715,
                    1.3258333333333334,
                    1.3096428571428573,
                    1.3696428571428572,
                    1.4408333333333332,
                    1.498690476190476,
                    1.458095238095238,
                    1.4302380952380953,
                    1.4367857142857139,
                    1.430357142857143,
                    1.4134523809523807,
                    1.3811904761904767,
                    1.3608333333333336,
                    1.453571428571429,
                    1.5338095238095235,
                    1.5776190476190475,
                    1.4905952380952383,
                    1.4852380952380952,
                    1.5441666666666671,
                    1.7083333333333326,
                    1.6267857142857143,
                    1.5958333333333334,
                    1.5055952380952382,
                    1.5064285714285717,
                    1.3791666666666664,
                    1.3180952380952384,
                    1.2876190476190474,
                    1.323690476190476,
                    1.2888095238095236,
                    1.305476190476191,
                    1.3348809523809526,
                    1.2290476190476192,
                    1.2839285714285718,
                    1.1552380952380954,
                    1.21452380952381,
                    1.2890476190476194,
                    1.266428571428572,
                    1.3145238095238103,
                    1.4636904761904763,
                    1.4941666666666664,
                    1.4191666666666667,
                    1.471428571428571,
                    1.4980952380952381,
                    1.532738095238095,
                    1.5684523809523814,
                    1.5738095238095244,
                    1.4851190476190474,
                    1.5514285714285716,
                    1.5783333333333336,
                    1.596428571428571,
                    1.5916666666666666,
                    1.547619047619047,
                    1.5609523809523806,
                    1.5823809523809529,
                    1.5925000000000005,
                    1.560714285714286,
                    1.5924999999999998,
                    1.5736904761904762,
                    1.5801190476190472,
                    1.6161904761904762,
                    1.6578571428571431,
                    1.7458333333333331,
                    1.8194047619047624,
                    1.865714285714286,
                    1.858571428571429,
                    1.8150000000000004,
                    1.8161904761904761,
                    1.852380952380953,
                    1.8272619047619052,
                    1.7977380952380941,
                    1.6735714285714292,
                    1.609880952380953,
                    1.5683333333333331,
                    1.5185714285714285,
                    1.5078571428571428,
                    1.5079761904761912,
                    1.3938095238095238,
                    1.34952380952381,
                    1.3777380952380955,
                    1.4436904761904765,
                    1.2878571428571426,
                    1.3640476190476192,
                    1.4284523809523801,
                    1.3823809523809523,
                    1.4042857142857148,
                    1.2402380952380951,
                    1.3190476190476192,
                    1.382380952380952,
                    1.367738095238095,
                    1.361309523809524,
                    1.3444047619047619,
                    1.317380952380952,
                    1.3547619047619048,
                    1.3651190476190476,
                    1.3226190476190474,
                    1.3152380952380947,
                    1.3182142857142856,
                    1.3401190476190477,
                    1.2476190476190474,
                    1.2953571428571429,
                    1.3014285714285712,
                    1.3024999999999993,
                    1.3207142857142853,
                    1.326071428571429,
                    1.3294047619047622,
                    1.3109523809523813,
                    1.3226190476190476,
                    1.3339285714285716,
                    1.3458333333333332,
                    1.349285714285715,
                    1.3722619047619051,
                    1.3980952380952383,
                    1.4048809523809527,
                    1.4234523809523807,
                    1.4896428571428566,
                    1.5320238095238092,
                    1.5145238095238094,
                    1.4919047619047618,
                    1.4767857142857146,
                    1.4242857142857144,
                    1.4067857142857143,
                    1.3607142857142864,
                    1.364404761904762,
                    1.2951190476190473,
                    1.3048809523809521,
                    1.3236904761904762,
                    1.3947619047619046,
                    1.4763095238095234,
                    1.4452380952380952,
                    1.2885714285714283,
                    1.2684523809523807,
                    1.28,
                    1.2882142857142855,
                    1.1523809523809527,
                    1.1823809523809525,
                    1.241309523809524,
                    1.24047619047619,
                    1.2380952380952377,
                    1.2283333333333335,
                    1.1926190476190481,
                    1.2157142857142855,
                    1.2661904761904759,
                    1.2461904761904758,
                    1.3055952380952383,
                    1.5401190476190476,
                    1.6392857142857138,
                    1.531190476190476,
                    1.5123809523809526,
                    1.5567857142857147,
                    1.547142857142857,
                    1.4302380952380946,
                    1.4290476190476191,
                    1.545,
                    1.6017857142857141,
                    1.6351190476190476,
                    1.7026190476190481,
                    1.7226190476190475,
                    1.7459523809523805,
                    1.758928571428572,
                    1.7222619047619045,
                    1.6448809523809522,
                    1.5516666666666667,
                    1.5377380952380957,
                    1.5201190476190471,
                    1.489523809523809,
                    1.4429761904761909,
                    1.449285714285715,
                    1.4352380952380952,
                    1.3680952380952385,
                    1.3585714285714285,
                    1.3204761904761904,
                    1.2665476190476193,
                    1.25952380952381,
                    1.3155952380952376,
                    1.2974999999999999,
                    1.318095238095238,
                    1.293809523809524
                  ]
                }
              ],
              "layout": {
                "template": {
                  "data": {
                    "bar": [
                      {
                        "error_x": {
                          "color": "#2a3f5f"
                        },
                        "error_y": {
                          "color": "#2a3f5f"
                        },
                        "marker": {
                          "line": {
                            "color": "#E5ECF6",
                            "width": 0.5
                          }
                        },
                        "type": "bar"
                      }
                    ],
                    "barpolar": [
                      {
                        "marker": {
                          "line": {
                            "color": "#E5ECF6",
                            "width": 0.5
                          }
                        },
                        "type": "barpolar"
                      }
                    ],
                    "carpet": [
                      {
                        "aaxis": {
                          "endlinecolor": "#2a3f5f",
                          "gridcolor": "white",
                          "linecolor": "white",
                          "minorgridcolor": "white",
                          "startlinecolor": "#2a3f5f"
                        },
                        "baxis": {
                          "endlinecolor": "#2a3f5f",
                          "gridcolor": "white",
                          "linecolor": "white",
                          "minorgridcolor": "white",
                          "startlinecolor": "#2a3f5f"
                        },
                        "type": "carpet"
                      }
                    ],
                    "choropleth": [
                      {
                        "colorbar": {
                          "outlinewidth": 0,
                          "ticks": ""
                        },
                        "type": "choropleth"
                      }
                    ],
                    "contour": [
                      {
                        "colorbar": {
                          "outlinewidth": 0,
                          "ticks": ""
                        },
                        "colorscale": [
                          [
                            0,
                            "#0d0887"
                          ],
                          [
                            0.1111111111111111,
                            "#46039f"
                          ],
                          [
                            0.2222222222222222,
                            "#7201a8"
                          ],
                          [
                            0.3333333333333333,
                            "#9c179e"
                          ],
                          [
                            0.4444444444444444,
                            "#bd3786"
                          ],
                          [
                            0.5555555555555556,
                            "#d8576b"
                          ],
                          [
                            0.6666666666666666,
                            "#ed7953"
                          ],
                          [
                            0.7777777777777778,
                            "#fb9f3a"
                          ],
                          [
                            0.8888888888888888,
                            "#fdca26"
                          ],
                          [
                            1,
                            "#f0f921"
                          ]
                        ],
                        "type": "contour"
                      }
                    ],
                    "contourcarpet": [
                      {
                        "colorbar": {
                          "outlinewidth": 0,
                          "ticks": ""
                        },
                        "type": "contourcarpet"
                      }
                    ],
                    "heatmap": [
                      {
                        "colorbar": {
                          "outlinewidth": 0,
                          "ticks": ""
                        },
                        "colorscale": [
                          [
                            0,
                            "#0d0887"
                          ],
                          [
                            0.1111111111111111,
                            "#46039f"
                          ],
                          [
                            0.2222222222222222,
                            "#7201a8"
                          ],
                          [
                            0.3333333333333333,
                            "#9c179e"
                          ],
                          [
                            0.4444444444444444,
                            "#bd3786"
                          ],
                          [
                            0.5555555555555556,
                            "#d8576b"
                          ],
                          [
                            0.6666666666666666,
                            "#ed7953"
                          ],
                          [
                            0.7777777777777778,
                            "#fb9f3a"
                          ],
                          [
                            0.8888888888888888,
                            "#fdca26"
                          ],
                          [
                            1,
                            "#f0f921"
                          ]
                        ],
                        "type": "heatmap"
                      }
                    ],
                    "heatmapgl": [
                      {
                        "colorbar": {
                          "outlinewidth": 0,
                          "ticks": ""
                        },
                        "colorscale": [
                          [
                            0,
                            "#0d0887"
                          ],
                          [
                            0.1111111111111111,
                            "#46039f"
                          ],
                          [
                            0.2222222222222222,
                            "#7201a8"
                          ],
                          [
                            0.3333333333333333,
                            "#9c179e"
                          ],
                          [
                            0.4444444444444444,
                            "#bd3786"
                          ],
                          [
                            0.5555555555555556,
                            "#d8576b"
                          ],
                          [
                            0.6666666666666666,
                            "#ed7953"
                          ],
                          [
                            0.7777777777777778,
                            "#fb9f3a"
                          ],
                          [
                            0.8888888888888888,
                            "#fdca26"
                          ],
                          [
                            1,
                            "#f0f921"
                          ]
                        ],
                        "type": "heatmapgl"
                      }
                    ],
                    "histogram": [
                      {
                        "marker": {
                          "colorbar": {
                            "outlinewidth": 0,
                            "ticks": ""
                          }
                        },
                        "type": "histogram"
                      }
                    ],
                    "histogram2d": [
                      {
                        "colorbar": {
                          "outlinewidth": 0,
                          "ticks": ""
                        },
                        "colorscale": [
                          [
                            0,
                            "#0d0887"
                          ],
                          [
                            0.1111111111111111,
                            "#46039f"
                          ],
                          [
                            0.2222222222222222,
                            "#7201a8"
                          ],
                          [
                            0.3333333333333333,
                            "#9c179e"
                          ],
                          [
                            0.4444444444444444,
                            "#bd3786"
                          ],
                          [
                            0.5555555555555556,
                            "#d8576b"
                          ],
                          [
                            0.6666666666666666,
                            "#ed7953"
                          ],
                          [
                            0.7777777777777778,
                            "#fb9f3a"
                          ],
                          [
                            0.8888888888888888,
                            "#fdca26"
                          ],
                          [
                            1,
                            "#f0f921"
                          ]
                        ],
                        "type": "histogram2d"
                      }
                    ],
                    "histogram2dcontour": [
                      {
                        "colorbar": {
                          "outlinewidth": 0,
                          "ticks": ""
                        },
                        "colorscale": [
                          [
                            0,
                            "#0d0887"
                          ],
                          [
                            0.1111111111111111,
                            "#46039f"
                          ],
                          [
                            0.2222222222222222,
                            "#7201a8"
                          ],
                          [
                            0.3333333333333333,
                            "#9c179e"
                          ],
                          [
                            0.4444444444444444,
                            "#bd3786"
                          ],
                          [
                            0.5555555555555556,
                            "#d8576b"
                          ],
                          [
                            0.6666666666666666,
                            "#ed7953"
                          ],
                          [
                            0.7777777777777778,
                            "#fb9f3a"
                          ],
                          [
                            0.8888888888888888,
                            "#fdca26"
                          ],
                          [
                            1,
                            "#f0f921"
                          ]
                        ],
                        "type": "histogram2dcontour"
                      }
                    ],
                    "mesh3d": [
                      {
                        "colorbar": {
                          "outlinewidth": 0,
                          "ticks": ""
                        },
                        "type": "mesh3d"
                      }
                    ],
                    "parcoords": [
                      {
                        "line": {
                          "colorbar": {
                            "outlinewidth": 0,
                            "ticks": ""
                          }
                        },
                        "type": "parcoords"
                      }
                    ],
                    "pie": [
                      {
                        "automargin": true,
                        "type": "pie"
                      }
                    ],
                    "scatter": [
                      {
                        "marker": {
                          "colorbar": {
                            "outlinewidth": 0,
                            "ticks": ""
                          }
                        },
                        "type": "scatter"
                      }
                    ],
                    "scatter3d": [
                      {
                        "line": {
                          "colorbar": {
                            "outlinewidth": 0,
                            "ticks": ""
                          }
                        },
                        "marker": {
                          "colorbar": {
                            "outlinewidth": 0,
                            "ticks": ""
                          }
                        },
                        "type": "scatter3d"
                      }
                    ],
                    "scattercarpet": [
                      {
                        "marker": {
                          "colorbar": {
                            "outlinewidth": 0,
                            "ticks": ""
                          }
                        },
                        "type": "scattercarpet"
                      }
                    ],
                    "scattergeo": [
                      {
                        "marker": {
                          "colorbar": {
                            "outlinewidth": 0,
                            "ticks": ""
                          }
                        },
                        "type": "scattergeo"
                      }
                    ],
                    "scattergl": [
                      {
                        "marker": {
                          "colorbar": {
                            "outlinewidth": 0,
                            "ticks": ""
                          }
                        },
                        "type": "scattergl"
                      }
                    ],
                    "scattermapbox": [
                      {
                        "marker": {
                          "colorbar": {
                            "outlinewidth": 0,
                            "ticks": ""
                          }
                        },
                        "type": "scattermapbox"
                      }
                    ],
                    "scatterpolar": [
                      {
                        "marker": {
                          "colorbar": {
                            "outlinewidth": 0,
                            "ticks": ""
                          }
                        },
                        "type": "scatterpolar"
                      }
                    ],
                    "scatterpolargl": [
                      {
                        "marker": {
                          "colorbar": {
                            "outlinewidth": 0,
                            "ticks": ""
                          }
                        },
                        "type": "scatterpolargl"
                      }
                    ],
                    "scatterternary": [
                      {
                        "marker": {
                          "colorbar": {
                            "outlinewidth": 0,
                            "ticks": ""
                          }
                        },
                        "type": "scatterternary"
                      }
                    ],
                    "surface": [
                      {
                        "colorbar": {
                          "outlinewidth": 0,
                          "ticks": ""
                        },
                        "colorscale": [
                          [
                            0,
                            "#0d0887"
                          ],
                          [
                            0.1111111111111111,
                            "#46039f"
                          ],
                          [
                            0.2222222222222222,
                            "#7201a8"
                          ],
                          [
                            0.3333333333333333,
                            "#9c179e"
                          ],
                          [
                            0.4444444444444444,
                            "#bd3786"
                          ],
                          [
                            0.5555555555555556,
                            "#d8576b"
                          ],
                          [
                            0.6666666666666666,
                            "#ed7953"
                          ],
                          [
                            0.7777777777777778,
                            "#fb9f3a"
                          ],
                          [
                            0.8888888888888888,
                            "#fdca26"
                          ],
                          [
                            1,
                            "#f0f921"
                          ]
                        ],
                        "type": "surface"
                      }
                    ],
                    "table": [
                      {
                        "cells": {
                          "fill": {
                            "color": "#EBF0F8"
                          },
                          "line": {
                            "color": "white"
                          }
                        },
                        "header": {
                          "fill": {
                            "color": "#C8D4E3"
                          },
                          "line": {
                            "color": "white"
                          }
                        },
                        "type": "table"
                      }
                    ]
                  },
                  "layout": {
                    "annotationdefaults": {
                      "arrowcolor": "#2a3f5f",
                      "arrowhead": 0,
                      "arrowwidth": 1
                    },
                    "coloraxis": {
                      "colorbar": {
                        "outlinewidth": 0,
                        "ticks": ""
                      }
                    },
                    "colorscale": {
                      "diverging": [
                        [
                          0,
                          "#8e0152"
                        ],
                        [
                          0.1,
                          "#c51b7d"
                        ],
                        [
                          0.2,
                          "#de77ae"
                        ],
                        [
                          0.3,
                          "#f1b6da"
                        ],
                        [
                          0.4,
                          "#fde0ef"
                        ],
                        [
                          0.5,
                          "#f7f7f7"
                        ],
                        [
                          0.6,
                          "#e6f5d0"
                        ],
                        [
                          0.7,
                          "#b8e186"
                        ],
                        [
                          0.8,
                          "#7fbc41"
                        ],
                        [
                          0.9,
                          "#4d9221"
                        ],
                        [
                          1,
                          "#276419"
                        ]
                      ],
                      "sequential": [
                        [
                          0,
                          "#0d0887"
                        ],
                        [
                          0.1111111111111111,
                          "#46039f"
                        ],
                        [
                          0.2222222222222222,
                          "#7201a8"
                        ],
                        [
                          0.3333333333333333,
                          "#9c179e"
                        ],
                        [
                          0.4444444444444444,
                          "#bd3786"
                        ],
                        [
                          0.5555555555555556,
                          "#d8576b"
                        ],
                        [
                          0.6666666666666666,
                          "#ed7953"
                        ],
                        [
                          0.7777777777777778,
                          "#fb9f3a"
                        ],
                        [
                          0.8888888888888888,
                          "#fdca26"
                        ],
                        [
                          1,
                          "#f0f921"
                        ]
                      ],
                      "sequentialminus": [
                        [
                          0,
                          "#0d0887"
                        ],
                        [
                          0.1111111111111111,
                          "#46039f"
                        ],
                        [
                          0.2222222222222222,
                          "#7201a8"
                        ],
                        [
                          0.3333333333333333,
                          "#9c179e"
                        ],
                        [
                          0.4444444444444444,
                          "#bd3786"
                        ],
                        [
                          0.5555555555555556,
                          "#d8576b"
                        ],
                        [
                          0.6666666666666666,
                          "#ed7953"
                        ],
                        [
                          0.7777777777777778,
                          "#fb9f3a"
                        ],
                        [
                          0.8888888888888888,
                          "#fdca26"
                        ],
                        [
                          1,
                          "#f0f921"
                        ]
                      ]
                    },
                    "colorway": [
                      "#636efa",
                      "#EF553B",
                      "#00cc96",
                      "#ab63fa",
                      "#FFA15A",
                      "#19d3f3",
                      "#FF6692",
                      "#B6E880",
                      "#FF97FF",
                      "#FECB52"
                    ],
                    "font": {
                      "color": "#2a3f5f"
                    },
                    "geo": {
                      "bgcolor": "white",
                      "lakecolor": "white",
                      "landcolor": "#E5ECF6",
                      "showlakes": true,
                      "showland": true,
                      "subunitcolor": "white"
                    },
                    "hoverlabel": {
                      "align": "left"
                    },
                    "hovermode": "closest",
                    "mapbox": {
                      "style": "light"
                    },
                    "paper_bgcolor": "white",
                    "plot_bgcolor": "#E5ECF6",
                    "polar": {
                      "angularaxis": {
                        "gridcolor": "white",
                        "linecolor": "white",
                        "ticks": ""
                      },
                      "bgcolor": "#E5ECF6",
                      "radialaxis": {
                        "gridcolor": "white",
                        "linecolor": "white",
                        "ticks": ""
                      }
                    },
                    "scene": {
                      "xaxis": {
                        "backgroundcolor": "#E5ECF6",
                        "gridcolor": "white",
                        "gridwidth": 2,
                        "linecolor": "white",
                        "showbackground": true,
                        "ticks": "",
                        "zerolinecolor": "white"
                      },
                      "yaxis": {
                        "backgroundcolor": "#E5ECF6",
                        "gridcolor": "white",
                        "gridwidth": 2,
                        "linecolor": "white",
                        "showbackground": true,
                        "ticks": "",
                        "zerolinecolor": "white"
                      },
                      "zaxis": {
                        "backgroundcolor": "#E5ECF6",
                        "gridcolor": "white",
                        "gridwidth": 2,
                        "linecolor": "white",
                        "showbackground": true,
                        "ticks": "",
                        "zerolinecolor": "white"
                      }
                    },
                    "shapedefaults": {
                      "line": {
                        "color": "#2a3f5f"
                      }
                    },
                    "ternary": {
                      "aaxis": {
                        "gridcolor": "white",
                        "linecolor": "white",
                        "ticks": ""
                      },
                      "baxis": {
                        "gridcolor": "white",
                        "linecolor": "white",
                        "ticks": ""
                      },
                      "bgcolor": "#E5ECF6",
                      "caxis": {
                        "gridcolor": "white",
                        "linecolor": "white",
                        "ticks": ""
                      }
                    },
                    "title": {
                      "x": 0.05
                    },
                    "xaxis": {
                      "automargin": true,
                      "gridcolor": "white",
                      "linecolor": "white",
                      "ticks": "",
                      "title": {
                        "standoff": 15
                      },
                      "zerolinecolor": "white",
                      "zerolinewidth": 2
                    },
                    "yaxis": {
                      "automargin": true,
                      "gridcolor": "white",
                      "linecolor": "white",
                      "ticks": "",
                      "title": {
                        "standoff": 15
                      },
                      "zerolinecolor": "white",
                      "zerolinewidth": 2
                    }
                  }
                },
                "title": {
                  "text": "Time Series Plot for Mean Daily Price for different cities"
                },
                "xaxis": {
                  "title": {
                    "text": "Date"
                  }
                },
                "yaxis": {
                  "title": {
                    "text": "Prices"
                  }
                }
              }
            },
            "text/html": [
              "<div>\n",
              "        \n",
              "        \n",
              "            <div id=\"782240b0-632e-4ff2-8904-cb02d93c280c\" class=\"plotly-graph-div\" style=\"height:525px; width:100%;\"></div>\n",
              "            <script type=\"text/javascript\">\n",
              "                require([\"plotly\"], function(Plotly) {\n",
              "                    window.PLOTLYENV=window.PLOTLYENV || {};\n",
              "                    \n",
              "                if (document.getElementById(\"782240b0-632e-4ff2-8904-cb02d93c280c\")) {\n",
              "                    Plotly.newPlot(\n",
              "                        '782240b0-632e-4ff2-8904-cb02d93c280c',\n",
              "                        [{\"marker\": {\"color\": \"rgb(248,146,146)\", \"line\": {\"color\": \"rgb(249,52,52)\", \"width\": 1.5}}, \"mode\": \"lines+markers\", \"opacity\": 0.8, \"type\": \"scatter\", \"x\": [\"2015-01-04T00:00:00\", \"2015-01-11T00:00:00\", \"2015-01-18T00:00:00\", \"2015-01-25T00:00:00\", \"2015-02-01T00:00:00\", \"2015-02-08T00:00:00\", \"2015-02-15T00:00:00\", \"2015-02-22T00:00:00\", \"2015-03-01T00:00:00\", \"2015-03-08T00:00:00\", \"2015-03-15T00:00:00\", \"2015-03-22T00:00:00\", \"2015-03-29T00:00:00\", \"2015-04-05T00:00:00\", \"2015-04-12T00:00:00\", \"2015-04-19T00:00:00\", \"2015-04-26T00:00:00\", \"2015-05-03T00:00:00\", \"2015-05-10T00:00:00\", \"2015-05-17T00:00:00\", \"2015-05-24T00:00:00\", \"2015-05-31T00:00:00\", \"2015-06-07T00:00:00\", \"2015-06-14T00:00:00\", \"2015-06-21T00:00:00\", \"2015-06-28T00:00:00\", \"2015-07-05T00:00:00\", \"2015-07-12T00:00:00\", \"2015-07-19T00:00:00\", \"2015-07-26T00:00:00\", \"2015-08-02T00:00:00\", \"2015-08-09T00:00:00\", \"2015-08-16T00:00:00\", \"2015-08-23T00:00:00\", \"2015-08-30T00:00:00\", \"2015-09-06T00:00:00\", \"2015-09-13T00:00:00\", \"2015-09-20T00:00:00\", \"2015-09-27T00:00:00\", \"2015-10-04T00:00:00\", \"2015-10-11T00:00:00\", \"2015-10-18T00:00:00\", \"2015-10-25T00:00:00\", \"2015-11-01T00:00:00\", \"2015-11-08T00:00:00\", \"2015-11-15T00:00:00\", \"2015-11-22T00:00:00\", \"2015-11-29T00:00:00\", \"2015-12-06T00:00:00\", \"2015-12-13T00:00:00\", \"2015-12-20T00:00:00\", \"2015-12-27T00:00:00\", \"2016-01-04T00:00:00\", \"2016-01-10T00:00:00\", \"2016-01-17T00:00:00\", \"2016-01-24T00:00:00\", \"2016-01-31T00:00:00\", \"2016-02-07T00:00:00\", \"2016-02-14T00:00:00\", \"2016-02-21T00:00:00\", \"2016-02-28T00:00:00\", \"2016-03-06T00:00:00\", \"2016-03-13T00:00:00\", \"2016-03-20T00:00:00\", \"2016-03-27T00:00:00\", \"2016-04-03T00:00:00\", \"2016-04-10T00:00:00\", \"2016-04-17T00:00:00\", \"2016-04-24T00:00:00\", \"2016-05-01T00:00:00\", \"2016-05-08T00:00:00\", \"2016-05-15T00:00:00\", \"2016-05-22T00:00:00\", \"2016-05-29T00:00:00\", \"2016-06-05T00:00:00\", \"2016-06-12T00:00:00\", \"2016-06-19T00:00:00\", \"2016-06-26T00:00:00\", \"2016-07-03T00:00:00\", \"2016-07-10T00:00:00\", \"2016-07-17T00:00:00\", \"2016-07-24T00:00:00\", \"2016-07-31T00:00:00\", \"2016-08-07T00:00:00\", \"2016-08-14T00:00:00\", \"2016-08-21T00:00:00\", \"2016-08-28T00:00:00\", \"2016-09-04T00:00:00\", \"2016-09-11T00:00:00\", \"2016-09-18T00:00:00\", \"2016-09-25T00:00:00\", \"2016-10-02T00:00:00\", \"2016-10-09T00:00:00\", \"2016-10-16T00:00:00\", \"2016-10-23T00:00:00\", \"2016-10-30T00:00:00\", \"2016-11-06T00:00:00\", \"2016-11-13T00:00:00\", \"2016-11-20T00:00:00\", \"2016-11-27T00:00:00\", \"2016-12-04T00:00:00\", \"2016-12-11T00:00:00\", \"2016-12-18T00:00:00\", \"2016-12-25T00:00:00\", \"2017-01-02T00:00:00\", \"2017-01-08T00:00:00\", \"2017-01-15T00:00:00\", \"2017-01-22T00:00:00\", \"2017-01-29T00:00:00\", \"2017-02-05T00:00:00\", \"2017-02-12T00:00:00\", \"2017-02-19T00:00:00\", \"2017-02-26T00:00:00\", \"2017-03-05T00:00:00\", \"2017-03-12T00:00:00\", \"2017-03-19T00:00:00\", \"2017-03-26T00:00:00\", \"2017-04-02T00:00:00\", \"2017-04-09T00:00:00\", \"2017-04-16T00:00:00\", \"2017-04-23T00:00:00\", \"2017-04-30T00:00:00\", \"2017-05-07T00:00:00\", \"2017-05-14T00:00:00\", \"2017-05-21T00:00:00\", \"2017-05-28T00:00:00\", \"2017-06-04T00:00:00\", \"2017-06-11T00:00:00\", \"2017-06-18T00:00:00\", \"2017-06-25T00:00:00\", \"2017-07-02T00:00:00\", \"2017-07-09T00:00:00\", \"2017-07-16T00:00:00\", \"2017-07-23T00:00:00\", \"2017-07-30T00:00:00\", \"2017-08-06T00:00:00\", \"2017-08-13T00:00:00\", \"2017-08-20T00:00:00\", \"2017-08-27T00:00:00\", \"2017-09-03T00:00:00\", \"2017-09-10T00:00:00\", \"2017-09-17T00:00:00\", \"2017-09-24T00:00:00\", \"2017-10-01T00:00:00\", \"2017-10-08T00:00:00\", \"2017-10-15T00:00:00\", \"2017-10-22T00:00:00\", \"2017-10-29T00:00:00\", \"2017-11-05T00:00:00\", \"2017-11-12T00:00:00\", \"2017-11-19T00:00:00\", \"2017-11-26T00:00:00\", \"2017-12-03T00:00:00\", \"2017-12-10T00:00:00\", \"2017-12-17T00:00:00\", \"2017-12-24T00:00:00\", \"2018-01-01T00:00:00\", \"2018-01-07T00:00:00\", \"2018-01-14T00:00:00\", \"2018-01-21T00:00:00\", \"2018-01-28T00:00:00\", \"2018-02-04T00:00:00\", \"2018-02-11T00:00:00\", \"2018-02-18T00:00:00\", \"2018-02-25T00:00:00\", \"2018-03-04T00:00:00\", \"2018-03-11T00:00:00\", \"2018-03-18T00:00:00\", \"2018-03-25T00:00:00\", \"2018-04-01T00:00:00\", \"2018-04-08T00:00:00\", \"2018-04-15T00:00:00\", \"2018-04-22T00:00:00\", \"2018-04-29T00:00:00\", \"2018-05-06T00:00:00\", \"2018-05-13T00:00:00\", \"2018-05-20T00:00:00\", \"2018-05-27T00:00:00\", \"2018-06-03T00:00:00\", \"2018-06-10T00:00:00\", \"2018-06-17T00:00:00\", \"2018-06-24T00:00:00\", \"2018-07-01T00:00:00\", \"2018-07-08T00:00:00\", \"2018-07-15T00:00:00\", \"2018-07-22T00:00:00\", \"2018-07-29T00:00:00\", \"2018-08-05T00:00:00\", \"2018-08-12T00:00:00\", \"2018-08-19T00:00:00\", \"2018-08-26T00:00:00\", \"2018-09-02T00:00:00\", \"2018-09-09T00:00:00\", \"2018-09-16T00:00:00\", \"2018-09-23T00:00:00\", \"2018-09-30T00:00:00\", \"2018-10-07T00:00:00\", \"2018-10-14T00:00:00\", \"2018-10-21T00:00:00\", \"2018-10-28T00:00:00\", \"2018-11-04T00:00:00\", \"2018-11-11T00:00:00\", \"2018-11-18T00:00:00\", \"2018-11-25T00:00:00\", \"2018-12-02T00:00:00\", \"2019-01-07T00:00:00\", \"2019-01-13T00:00:00\", \"2019-01-20T00:00:00\", \"2019-01-27T00:00:00\", \"2019-02-03T00:00:00\", \"2019-02-10T00:00:00\", \"2019-02-17T00:00:00\", \"2019-02-24T00:00:00\", \"2019-03-03T00:00:00\", \"2019-03-10T00:00:00\", \"2019-03-17T00:00:00\", \"2019-03-24T00:00:00\", \"2019-03-31T00:00:00\", \"2019-04-07T00:00:00\", \"2019-04-14T00:00:00\", \"2019-04-21T00:00:00\", \"2019-04-28T00:00:00\", \"2019-05-05T00:00:00\", \"2019-05-12T00:00:00\", \"2019-05-19T00:00:00\", \"2019-05-26T00:00:00\", \"2019-06-02T00:00:00\", \"2019-06-09T00:00:00\", \"2019-06-16T00:00:00\", \"2019-06-23T00:00:00\", \"2019-06-30T00:00:00\", \"2019-07-07T00:00:00\", \"2019-07-14T00:00:00\", \"2019-07-21T00:00:00\", \"2019-07-28T00:00:00\", \"2019-08-04T00:00:00\", \"2019-08-11T00:00:00\", \"2019-08-18T00:00:00\", \"2019-08-25T00:00:00\", \"2019-09-01T00:00:00\", \"2019-09-08T00:00:00\", \"2019-09-15T00:00:00\", \"2019-09-22T00:00:00\", \"2019-09-29T00:00:00\", \"2019-10-06T00:00:00\", \"2019-10-13T00:00:00\", \"2019-10-20T00:00:00\", \"2019-10-27T00:00:00\", \"2019-11-03T00:00:00\", \"2019-11-10T00:00:00\", \"2019-11-17T00:00:00\", \"2019-11-24T00:00:00\", \"2019-12-01T00:00:00\"], \"y\": [1.3070238095238098, 1.3802380952380955, 1.4033333333333335, 1.4082142857142852, 1.253571428571429, 1.3225000000000007, 1.400238095238095, 1.3741666666666665, 1.3217857142857146, 1.374047619047619, 1.4083333333333334, 1.3539285714285714, 1.4019047619047615, 1.4180952380952379, 1.3707142857142858, 1.3761904761904766, 1.3870238095238097, 1.2857142857142851, 1.3310714285714287, 1.3645238095238095, 1.389761904761905, 1.3875, 1.3873809523809524, 1.4110714285714283, 1.4129761904761906, 1.4138095238095238, 1.431190476190476, 1.4283333333333332, 1.3998809523809523, 1.4328571428571424, 1.4923809523809521, 1.4427380952380948, 1.4559523809523809, 1.4534523809523805, 1.4221428571428572, 1.440595238095238, 1.4683333333333342, 1.4514285714285715, 1.4584523809523806, 1.4229761904761908, 1.3713095238095236, 1.3969047619047619, 1.3880952380952376, 1.3076190476190475, 1.3407142857142853, 1.347857142857143, 1.3353571428571434, 1.3490476190476195, 1.2977380952380952, 1.2940476190476193, 1.3516666666666668, 1.302619047619047, 1.2101190476190475, 1.2309523809523812, 1.2796428571428573, 1.2459523809523811, 1.2579761904761906, 1.1807142857142856, 1.243452380952381, 1.2886904761904763, 1.2791666666666668, 1.2692857142857144, 1.2058333333333333, 1.203809523809524, 1.2536904761904761, 1.2433333333333332, 1.1828571428571426, 1.232261904761905, 1.2007142857142856, 1.1735714285714287, 1.1583333333333334, 1.2292857142857143, 1.2402380952380956, 1.2628571428571422, 1.2602380952380952, 1.3227380952380954, 1.2939285714285715, 1.3258333333333334, 1.3096428571428573, 1.3696428571428572, 1.4408333333333332, 1.498690476190476, 1.458095238095238, 1.4302380952380953, 1.4367857142857139, 1.430357142857143, 1.4134523809523807, 1.3811904761904767, 1.3608333333333336, 1.453571428571429, 1.5338095238095235, 1.5776190476190475, 1.4905952380952383, 1.4852380952380952, 1.5441666666666671, 1.7083333333333326, 1.6267857142857143, 1.5958333333333334, 1.5055952380952382, 1.5064285714285717, 1.3791666666666664, 1.3180952380952384, 1.2876190476190474, 1.323690476190476, 1.2888095238095236, 1.305476190476191, 1.3348809523809526, 1.2290476190476192, 1.2839285714285718, 1.1552380952380954, 1.21452380952381, 1.2890476190476194, 1.266428571428572, 1.3145238095238103, 1.4636904761904763, 1.4941666666666664, 1.4191666666666667, 1.471428571428571, 1.4980952380952381, 1.532738095238095, 1.5684523809523814, 1.5738095238095244, 1.4851190476190474, 1.5514285714285716, 1.5783333333333336, 1.596428571428571, 1.5916666666666666, 1.547619047619047, 1.5609523809523806, 1.5823809523809529, 1.5925000000000005, 1.560714285714286, 1.5924999999999998, 1.5736904761904762, 1.5801190476190472, 1.6161904761904762, 1.6578571428571431, 1.7458333333333331, 1.8194047619047624, 1.865714285714286, 1.858571428571429, 1.8150000000000004, 1.8161904761904761, 1.852380952380953, 1.8272619047619052, 1.7977380952380941, 1.6735714285714292, 1.609880952380953, 1.5683333333333331, 1.5185714285714285, 1.5078571428571428, 1.5079761904761912, 1.3938095238095238, 1.34952380952381, 1.3777380952380955, 1.4436904761904765, 1.2878571428571426, 1.3640476190476192, 1.4284523809523801, 1.3823809523809523, 1.4042857142857148, 1.2402380952380951, 1.3190476190476192, 1.382380952380952, 1.367738095238095, 1.361309523809524, 1.3444047619047619, 1.317380952380952, 1.3547619047619048, 1.3651190476190476, 1.3226190476190474, 1.3152380952380947, 1.3182142857142856, 1.3401190476190477, 1.2476190476190474, 1.2953571428571429, 1.3014285714285712, 1.3024999999999993, 1.3207142857142853, 1.326071428571429, 1.3294047619047622, 1.3109523809523813, 1.3226190476190476, 1.3339285714285716, 1.3458333333333332, 1.349285714285715, 1.3722619047619051, 1.3980952380952383, 1.4048809523809527, 1.4234523809523807, 1.4896428571428566, 1.5320238095238092, 1.5145238095238094, 1.4919047619047618, 1.4767857142857146, 1.4242857142857144, 1.4067857142857143, 1.3607142857142864, 1.364404761904762, 1.2951190476190473, 1.3048809523809521, 1.3236904761904762, 1.3947619047619046, 1.4763095238095234, 1.4452380952380952, 1.2885714285714283, 1.2684523809523807, 1.28, 1.2882142857142855, 1.1523809523809527, 1.1823809523809525, 1.241309523809524, 1.24047619047619, 1.2380952380952377, 1.2283333333333335, 1.1926190476190481, 1.2157142857142855, 1.2661904761904759, 1.2461904761904758, 1.3055952380952383, 1.5401190476190476, 1.6392857142857138, 1.531190476190476, 1.5123809523809526, 1.5567857142857147, 1.547142857142857, 1.4302380952380946, 1.4290476190476191, 1.545, 1.6017857142857141, 1.6351190476190476, 1.7026190476190481, 1.7226190476190475, 1.7459523809523805, 1.758928571428572, 1.7222619047619045, 1.6448809523809522, 1.5516666666666667, 1.5377380952380957, 1.5201190476190471, 1.489523809523809, 1.4429761904761909, 1.449285714285715, 1.4352380952380952, 1.3680952380952385, 1.3585714285714285, 1.3204761904761904, 1.2665476190476193, 1.25952380952381, 1.3155952380952376, 1.2974999999999999, 1.318095238095238, 1.293809523809524]}],\n",
              "                        {\"template\": {\"data\": {\"bar\": [{\"error_x\": {\"color\": \"#2a3f5f\"}, \"error_y\": {\"color\": \"#2a3f5f\"}, \"marker\": {\"line\": {\"color\": \"#E5ECF6\", \"width\": 0.5}}, \"type\": \"bar\"}], \"barpolar\": [{\"marker\": {\"line\": {\"color\": \"#E5ECF6\", \"width\": 0.5}}, \"type\": \"barpolar\"}], \"carpet\": [{\"aaxis\": {\"endlinecolor\": \"#2a3f5f\", \"gridcolor\": \"white\", \"linecolor\": \"white\", \"minorgridcolor\": \"white\", \"startlinecolor\": \"#2a3f5f\"}, \"baxis\": {\"endlinecolor\": \"#2a3f5f\", \"gridcolor\": \"white\", \"linecolor\": \"white\", \"minorgridcolor\": \"white\", \"startlinecolor\": \"#2a3f5f\"}, \"type\": \"carpet\"}], \"choropleth\": [{\"colorbar\": {\"outlinewidth\": 0, \"ticks\": \"\"}, \"type\": \"choropleth\"}], \"contour\": [{\"colorbar\": {\"outlinewidth\": 0, \"ticks\": \"\"}, \"colorscale\": [[0.0, \"#0d0887\"], [0.1111111111111111, \"#46039f\"], [0.2222222222222222, \"#7201a8\"], [0.3333333333333333, \"#9c179e\"], [0.4444444444444444, \"#bd3786\"], [0.5555555555555556, \"#d8576b\"], [0.6666666666666666, \"#ed7953\"], [0.7777777777777778, \"#fb9f3a\"], [0.8888888888888888, \"#fdca26\"], [1.0, \"#f0f921\"]], \"type\": \"contour\"}], \"contourcarpet\": [{\"colorbar\": {\"outlinewidth\": 0, \"ticks\": \"\"}, \"type\": \"contourcarpet\"}], \"heatmap\": [{\"colorbar\": {\"outlinewidth\": 0, \"ticks\": \"\"}, \"colorscale\": [[0.0, \"#0d0887\"], [0.1111111111111111, \"#46039f\"], [0.2222222222222222, \"#7201a8\"], [0.3333333333333333, \"#9c179e\"], [0.4444444444444444, \"#bd3786\"], [0.5555555555555556, \"#d8576b\"], [0.6666666666666666, \"#ed7953\"], [0.7777777777777778, \"#fb9f3a\"], [0.8888888888888888, \"#fdca26\"], [1.0, \"#f0f921\"]], \"type\": \"heatmap\"}], \"heatmapgl\": [{\"colorbar\": {\"outlinewidth\": 0, \"ticks\": \"\"}, \"colorscale\": [[0.0, \"#0d0887\"], [0.1111111111111111, \"#46039f\"], [0.2222222222222222, \"#7201a8\"], [0.3333333333333333, \"#9c179e\"], [0.4444444444444444, \"#bd3786\"], [0.5555555555555556, \"#d8576b\"], [0.6666666666666666, \"#ed7953\"], [0.7777777777777778, \"#fb9f3a\"], [0.8888888888888888, \"#fdca26\"], [1.0, \"#f0f921\"]], \"type\": \"heatmapgl\"}], \"histogram\": [{\"marker\": {\"colorbar\": {\"outlinewidth\": 0, \"ticks\": \"\"}}, \"type\": \"histogram\"}], \"histogram2d\": [{\"colorbar\": {\"outlinewidth\": 0, \"ticks\": \"\"}, \"colorscale\": [[0.0, \"#0d0887\"], [0.1111111111111111, \"#46039f\"], [0.2222222222222222, \"#7201a8\"], [0.3333333333333333, \"#9c179e\"], [0.4444444444444444, \"#bd3786\"], [0.5555555555555556, \"#d8576b\"], [0.6666666666666666, \"#ed7953\"], [0.7777777777777778, \"#fb9f3a\"], [0.8888888888888888, \"#fdca26\"], [1.0, \"#f0f921\"]], \"type\": \"histogram2d\"}], \"histogram2dcontour\": [{\"colorbar\": {\"outlinewidth\": 0, \"ticks\": \"\"}, \"colorscale\": [[0.0, \"#0d0887\"], [0.1111111111111111, \"#46039f\"], [0.2222222222222222, \"#7201a8\"], [0.3333333333333333, \"#9c179e\"], [0.4444444444444444, \"#bd3786\"], [0.5555555555555556, \"#d8576b\"], [0.6666666666666666, \"#ed7953\"], [0.7777777777777778, \"#fb9f3a\"], [0.8888888888888888, \"#fdca26\"], [1.0, \"#f0f921\"]], \"type\": \"histogram2dcontour\"}], \"mesh3d\": [{\"colorbar\": {\"outlinewidth\": 0, \"ticks\": \"\"}, \"type\": \"mesh3d\"}], \"parcoords\": [{\"line\": {\"colorbar\": {\"outlinewidth\": 0, \"ticks\": \"\"}}, \"type\": \"parcoords\"}], \"pie\": [{\"automargin\": true, \"type\": \"pie\"}], \"scatter\": [{\"marker\": {\"colorbar\": {\"outlinewidth\": 0, \"ticks\": \"\"}}, \"type\": \"scatter\"}], \"scatter3d\": [{\"line\": {\"colorbar\": {\"outlinewidth\": 0, \"ticks\": \"\"}}, \"marker\": {\"colorbar\": {\"outlinewidth\": 0, \"ticks\": \"\"}}, \"type\": \"scatter3d\"}], \"scattercarpet\": [{\"marker\": {\"colorbar\": {\"outlinewidth\": 0, \"ticks\": \"\"}}, \"type\": \"scattercarpet\"}], \"scattergeo\": [{\"marker\": {\"colorbar\": {\"outlinewidth\": 0, \"ticks\": \"\"}}, \"type\": \"scattergeo\"}], \"scattergl\": [{\"marker\": {\"colorbar\": {\"outlinewidth\": 0, \"ticks\": \"\"}}, \"type\": \"scattergl\"}], \"scattermapbox\": [{\"marker\": {\"colorbar\": {\"outlinewidth\": 0, \"ticks\": \"\"}}, \"type\": \"scattermapbox\"}], \"scatterpolar\": [{\"marker\": {\"colorbar\": {\"outlinewidth\": 0, \"ticks\": \"\"}}, \"type\": \"scatterpolar\"}], \"scatterpolargl\": [{\"marker\": {\"colorbar\": {\"outlinewidth\": 0, \"ticks\": \"\"}}, \"type\": \"scatterpolargl\"}], \"scatterternary\": [{\"marker\": {\"colorbar\": {\"outlinewidth\": 0, \"ticks\": \"\"}}, \"type\": \"scatterternary\"}], \"surface\": [{\"colorbar\": {\"outlinewidth\": 0, \"ticks\": \"\"}, \"colorscale\": [[0.0, \"#0d0887\"], [0.1111111111111111, \"#46039f\"], [0.2222222222222222, \"#7201a8\"], [0.3333333333333333, \"#9c179e\"], [0.4444444444444444, \"#bd3786\"], [0.5555555555555556, \"#d8576b\"], [0.6666666666666666, \"#ed7953\"], [0.7777777777777778, \"#fb9f3a\"], [0.8888888888888888, \"#fdca26\"], [1.0, \"#f0f921\"]], \"type\": \"surface\"}], \"table\": [{\"cells\": {\"fill\": {\"color\": \"#EBF0F8\"}, \"line\": {\"color\": \"white\"}}, \"header\": {\"fill\": {\"color\": \"#C8D4E3\"}, \"line\": {\"color\": \"white\"}}, \"type\": \"table\"}]}, \"layout\": {\"annotationdefaults\": {\"arrowcolor\": \"#2a3f5f\", \"arrowhead\": 0, \"arrowwidth\": 1}, \"coloraxis\": {\"colorbar\": {\"outlinewidth\": 0, \"ticks\": \"\"}}, \"colorscale\": {\"diverging\": [[0, \"#8e0152\"], [0.1, \"#c51b7d\"], [0.2, \"#de77ae\"], [0.3, \"#f1b6da\"], [0.4, \"#fde0ef\"], [0.5, \"#f7f7f7\"], [0.6, \"#e6f5d0\"], [0.7, \"#b8e186\"], [0.8, \"#7fbc41\"], [0.9, \"#4d9221\"], [1, \"#276419\"]], \"sequential\": [[0.0, \"#0d0887\"], [0.1111111111111111, \"#46039f\"], [0.2222222222222222, \"#7201a8\"], [0.3333333333333333, \"#9c179e\"], [0.4444444444444444, \"#bd3786\"], [0.5555555555555556, \"#d8576b\"], [0.6666666666666666, \"#ed7953\"], [0.7777777777777778, \"#fb9f3a\"], [0.8888888888888888, \"#fdca26\"], [1.0, \"#f0f921\"]], \"sequentialminus\": [[0.0, \"#0d0887\"], [0.1111111111111111, \"#46039f\"], [0.2222222222222222, \"#7201a8\"], [0.3333333333333333, \"#9c179e\"], [0.4444444444444444, \"#bd3786\"], [0.5555555555555556, \"#d8576b\"], [0.6666666666666666, \"#ed7953\"], [0.7777777777777778, \"#fb9f3a\"], [0.8888888888888888, \"#fdca26\"], [1.0, \"#f0f921\"]]}, \"colorway\": [\"#636efa\", \"#EF553B\", \"#00cc96\", \"#ab63fa\", \"#FFA15A\", \"#19d3f3\", \"#FF6692\", \"#B6E880\", \"#FF97FF\", \"#FECB52\"], \"font\": {\"color\": \"#2a3f5f\"}, \"geo\": {\"bgcolor\": \"white\", \"lakecolor\": \"white\", \"landcolor\": \"#E5ECF6\", \"showlakes\": true, \"showland\": true, \"subunitcolor\": \"white\"}, \"hoverlabel\": {\"align\": \"left\"}, \"hovermode\": \"closest\", \"mapbox\": {\"style\": \"light\"}, \"paper_bgcolor\": \"white\", \"plot_bgcolor\": \"#E5ECF6\", \"polar\": {\"angularaxis\": {\"gridcolor\": \"white\", \"linecolor\": \"white\", \"ticks\": \"\"}, \"bgcolor\": \"#E5ECF6\", \"radialaxis\": {\"gridcolor\": \"white\", \"linecolor\": \"white\", \"ticks\": \"\"}}, \"scene\": {\"xaxis\": {\"backgroundcolor\": \"#E5ECF6\", \"gridcolor\": \"white\", \"gridwidth\": 2, \"linecolor\": \"white\", \"showbackground\": true, \"ticks\": \"\", \"zerolinecolor\": \"white\"}, \"yaxis\": {\"backgroundcolor\": \"#E5ECF6\", \"gridcolor\": \"white\", \"gridwidth\": 2, \"linecolor\": \"white\", \"showbackground\": true, \"ticks\": \"\", \"zerolinecolor\": \"white\"}, \"zaxis\": {\"backgroundcolor\": \"#E5ECF6\", \"gridcolor\": \"white\", \"gridwidth\": 2, \"linecolor\": \"white\", \"showbackground\": true, \"ticks\": \"\", \"zerolinecolor\": \"white\"}}, \"shapedefaults\": {\"line\": {\"color\": \"#2a3f5f\"}}, \"ternary\": {\"aaxis\": {\"gridcolor\": \"white\", \"linecolor\": \"white\", \"ticks\": \"\"}, \"baxis\": {\"gridcolor\": \"white\", \"linecolor\": \"white\", \"ticks\": \"\"}, \"bgcolor\": \"#E5ECF6\", \"caxis\": {\"gridcolor\": \"white\", \"linecolor\": \"white\", \"ticks\": \"\"}}, \"title\": {\"x\": 0.05}, \"xaxis\": {\"automargin\": true, \"gridcolor\": \"white\", \"linecolor\": \"white\", \"ticks\": \"\", \"title\": {\"standoff\": 15}, \"zerolinecolor\": \"white\", \"zerolinewidth\": 2}, \"yaxis\": {\"automargin\": true, \"gridcolor\": \"white\", \"linecolor\": \"white\", \"ticks\": \"\", \"title\": {\"standoff\": 15}, \"zerolinecolor\": \"white\", \"zerolinewidth\": 2}}}, \"title\": {\"text\": \"Time Series Plot for Mean Daily Price for different cities\"}, \"xaxis\": {\"title\": {\"text\": \"Date\"}}, \"yaxis\": {\"title\": {\"text\": \"Prices\"}}},\n",
              "                        {\"responsive\": true}\n",
              "                    ).then(function(){\n",
              "                            \n",
              "var gd = document.getElementById('782240b0-632e-4ff2-8904-cb02d93c280c');\n",
              "var x = new MutationObserver(function (mutations, observer) {{\n",
              "        var display = window.getComputedStyle(gd).display;\n",
              "        if (!display || display === 'none') {{\n",
              "            console.log([gd, 'removed!']);\n",
              "            Plotly.purge(gd);\n",
              "            observer.disconnect();\n",
              "        }}\n",
              "}});\n",
              "\n",
              "// Listen for the removal of the full notebook cells\n",
              "var notebookContainer = gd.closest('#notebook-container');\n",
              "if (notebookContainer) {{\n",
              "    x.observe(notebookContainer, {childList: true});\n",
              "}}\n",
              "\n",
              "// Listen for the clearing of the current output cell\n",
              "var outputEl = gd.closest('.output');\n",
              "if (outputEl) {{\n",
              "    x.observe(outputEl, {childList: true});\n",
              "}}\n",
              "\n",
              "                        })\n",
              "                };\n",
              "                });\n",
              "            </script>\n",
              "        </div>"
            ]
          },
          "metadata": {
            "tags": []
          }
        }
      ]
    },
    {
      "cell_type": "markdown",
      "metadata": {
        "id": "pHZbj_0dLdb7",
        "colab_type": "text"
      },
      "source": [
        "    Here the data trend is comparable with the TotalUScase but without a anomaly. Actually if you check the Total Volumn time series, you will also find a few anomalies in the TotalUS case. So it is clear we are not going to use that given here we can get a better view witht he city break down data\n",
        "    Besides, this city break down also provides more geographic information I am actually interested."
      ]
    },
    {
      "cell_type": "code",
      "metadata": {
        "id": "tmgMI2CZLdb8",
        "colab_type": "code",
        "colab": {}
      },
      "source": [
        "#I would like to import the geographic information about different regions."
      ],
      "execution_count": 0,
      "outputs": []
    },
    {
      "cell_type": "code",
      "metadata": {
        "id": "GelS8gkVLdb_",
        "colab_type": "code",
        "colab": {}
      },
      "source": [
        ""
      ],
      "execution_count": 0,
      "outputs": []
    },
    {
      "cell_type": "code",
      "metadata": {
        "id": "8Orbzy51LdcB",
        "colab_type": "code",
        "colab": {}
      },
      "source": [
        "\n",
        "#import a USA geographic dataframe.\n",
        "df_USgeo = pd.read_csv('https://raw.githubusercontent.com/plotly/datasets/master/2014_us_cities.csv')\n",
        "df_USgeo.head()\n",
        "\n",
        "\n",
        "\n",
        "\n",
        "#But the format of the region name is different between this dataframe (df_USgeo) and the avocado price dataframe (df).\n",
        "#Let's make them the same by removing all the space in the name of the region by using the following function:\n",
        "# def letter_only(mixedstring):\n",
        "#     return ''.join(x for x in mixedstring if x.isalpha())\n",
        "\n",
        "#Let's create a new colonm for the df_USgeo.\n",
        "df_USgeo['Region'] = df_USgeo['name'].apply(letter_only)\n",
        "df_USgeo.head()\n",
        "\n",
        "\n",
        "#Let's save the dataframe\n",
        "df_USgeo.to_csv('/Users/liujing/Desktop/Coursera/Captone/usaRegionGeoInfo.csv')"
      ],
      "execution_count": 0,
      "outputs": []
    },
    {
      "cell_type": "code",
      "metadata": {
        "id": "HPEHmRSnLdcD",
        "colab_type": "code",
        "colab": {},
        "outputId": "7778525b-839c-413e-f08a-d3e1c47b8526"
      },
      "source": [
        "#Now we can merge two dataframe so that df can contain the geoinformation\n",
        "df = pd.merge(df, df_USgeo, how='left', on=['Region'])\n",
        "df.head()"
      ],
      "execution_count": 0,
      "outputs": [
        {
          "output_type": "execute_result",
          "data": {
            "text/html": [
              "<div>\n",
              "<style scoped>\n",
              "    .dataframe tbody tr th:only-of-type {\n",
              "        vertical-align: middle;\n",
              "    }\n",
              "\n",
              "    .dataframe tbody tr th {\n",
              "        vertical-align: top;\n",
              "    }\n",
              "\n",
              "    .dataframe thead th {\n",
              "        text-align: right;\n",
              "    }\n",
              "</style>\n",
              "<table border=\"1\" class=\"dataframe\">\n",
              "  <thead>\n",
              "    <tr style=\"text-align: right;\">\n",
              "      <th></th>\n",
              "      <th>Date</th>\n",
              "      <th>AveragePrice</th>\n",
              "      <th>Total Volume</th>\n",
              "      <th>4046</th>\n",
              "      <th>4225</th>\n",
              "      <th>4770</th>\n",
              "      <th>Total Bags</th>\n",
              "      <th>Small Bags</th>\n",
              "      <th>Large Bags</th>\n",
              "      <th>XLarge Bags</th>\n",
              "      <th>type</th>\n",
              "      <th>year</th>\n",
              "      <th>region</th>\n",
              "      <th>Month</th>\n",
              "      <th>Region</th>\n",
              "      <th>name</th>\n",
              "      <th>pop</th>\n",
              "      <th>lat</th>\n",
              "      <th>lon</th>\n",
              "    </tr>\n",
              "  </thead>\n",
              "  <tbody>\n",
              "    <tr>\n",
              "      <th>0</th>\n",
              "      <td>2015-01-04</td>\n",
              "      <td>1.22</td>\n",
              "      <td>40873.28</td>\n",
              "      <td>2819.50</td>\n",
              "      <td>28287.42</td>\n",
              "      <td>49.90</td>\n",
              "      <td>9716.46</td>\n",
              "      <td>9186.93</td>\n",
              "      <td>529.53</td>\n",
              "      <td>0.0</td>\n",
              "      <td>conventional</td>\n",
              "      <td>2015</td>\n",
              "      <td>Albany</td>\n",
              "      <td>1</td>\n",
              "      <td>Albany</td>\n",
              "      <td>Albany</td>\n",
              "      <td>98012.0</td>\n",
              "      <td>42.651167</td>\n",
              "      <td>-73.754968</td>\n",
              "    </tr>\n",
              "    <tr>\n",
              "      <th>1</th>\n",
              "      <td>2015-01-04</td>\n",
              "      <td>1.22</td>\n",
              "      <td>40873.28</td>\n",
              "      <td>2819.50</td>\n",
              "      <td>28287.42</td>\n",
              "      <td>49.90</td>\n",
              "      <td>9716.46</td>\n",
              "      <td>9186.93</td>\n",
              "      <td>529.53</td>\n",
              "      <td>0.0</td>\n",
              "      <td>conventional</td>\n",
              "      <td>2015</td>\n",
              "      <td>Albany</td>\n",
              "      <td>1</td>\n",
              "      <td>Albany</td>\n",
              "      <td>Albany</td>\n",
              "      <td>77746.0</td>\n",
              "      <td>42.651167</td>\n",
              "      <td>-73.754968</td>\n",
              "    </tr>\n",
              "    <tr>\n",
              "      <th>2</th>\n",
              "      <td>2015-01-04</td>\n",
              "      <td>1.22</td>\n",
              "      <td>40873.28</td>\n",
              "      <td>2819.50</td>\n",
              "      <td>28287.42</td>\n",
              "      <td>49.90</td>\n",
              "      <td>9716.46</td>\n",
              "      <td>9186.93</td>\n",
              "      <td>529.53</td>\n",
              "      <td>0.0</td>\n",
              "      <td>conventional</td>\n",
              "      <td>2015</td>\n",
              "      <td>Albany</td>\n",
              "      <td>1</td>\n",
              "      <td>Albany</td>\n",
              "      <td>Albany</td>\n",
              "      <td>51053.0</td>\n",
              "      <td>42.651167</td>\n",
              "      <td>-73.754968</td>\n",
              "    </tr>\n",
              "    <tr>\n",
              "      <th>3</th>\n",
              "      <td>2015-01-04</td>\n",
              "      <td>1.22</td>\n",
              "      <td>40873.28</td>\n",
              "      <td>2819.50</td>\n",
              "      <td>28287.42</td>\n",
              "      <td>49.90</td>\n",
              "      <td>9716.46</td>\n",
              "      <td>9186.93</td>\n",
              "      <td>529.53</td>\n",
              "      <td>0.0</td>\n",
              "      <td>conventional</td>\n",
              "      <td>2015</td>\n",
              "      <td>Albany</td>\n",
              "      <td>1</td>\n",
              "      <td>Albany</td>\n",
              "      <td>Albany</td>\n",
              "      <td>18767.0</td>\n",
              "      <td>42.651167</td>\n",
              "      <td>-73.754968</td>\n",
              "    </tr>\n",
              "    <tr>\n",
              "      <th>4</th>\n",
              "      <td>2015-01-11</td>\n",
              "      <td>1.24</td>\n",
              "      <td>41195.08</td>\n",
              "      <td>1002.85</td>\n",
              "      <td>31640.34</td>\n",
              "      <td>127.12</td>\n",
              "      <td>8424.77</td>\n",
              "      <td>8036.04</td>\n",
              "      <td>388.73</td>\n",
              "      <td>0.0</td>\n",
              "      <td>conventional</td>\n",
              "      <td>2015</td>\n",
              "      <td>Albany</td>\n",
              "      <td>1</td>\n",
              "      <td>Albany</td>\n",
              "      <td>Albany</td>\n",
              "      <td>98012.0</td>\n",
              "      <td>42.651167</td>\n",
              "      <td>-73.754968</td>\n",
              "    </tr>\n",
              "  </tbody>\n",
              "</table>\n",
              "</div>"
            ],
            "text/plain": [
              "        Date  AveragePrice  Total Volume     4046      4225    4770  \\\n",
              "0 2015-01-04          1.22      40873.28  2819.50  28287.42   49.90   \n",
              "1 2015-01-04          1.22      40873.28  2819.50  28287.42   49.90   \n",
              "2 2015-01-04          1.22      40873.28  2819.50  28287.42   49.90   \n",
              "3 2015-01-04          1.22      40873.28  2819.50  28287.42   49.90   \n",
              "4 2015-01-11          1.24      41195.08  1002.85  31640.34  127.12   \n",
              "\n",
              "   Total Bags  Small Bags  Large Bags  XLarge Bags          type  year  \\\n",
              "0     9716.46     9186.93      529.53          0.0  conventional  2015   \n",
              "1     9716.46     9186.93      529.53          0.0  conventional  2015   \n",
              "2     9716.46     9186.93      529.53          0.0  conventional  2015   \n",
              "3     9716.46     9186.93      529.53          0.0  conventional  2015   \n",
              "4     8424.77     8036.04      388.73          0.0  conventional  2015   \n",
              "\n",
              "   region  Month  Region     name      pop        lat        lon  \n",
              "0  Albany      1  Albany  Albany   98012.0  42.651167 -73.754968  \n",
              "1  Albany      1  Albany  Albany   77746.0  42.651167 -73.754968  \n",
              "2  Albany      1  Albany  Albany   51053.0  42.651167 -73.754968  \n",
              "3  Albany      1  Albany  Albany   18767.0  42.651167 -73.754968  \n",
              "4  Albany      1  Albany  Albany   98012.0  42.651167 -73.754968  "
            ]
          },
          "metadata": {
            "tags": []
          },
          "execution_count": 17
        }
      ]
    },
    {
      "cell_type": "code",
      "metadata": {
        "id": "Fq0ws7_vLdcG",
        "colab_type": "code",
        "colab": {},
        "outputId": "3338adda-fe3f-4106-dba8-a22edc8ab27e"
      },
      "source": [
        "#Now let's check if there is null values in the new dataframes or not.\n",
        "sns.heatmap(df.isnull(),yticklabels=False,cbar=False,cmap='viridis')"
      ],
      "execution_count": 0,
      "outputs": [
        {
          "output_type": "execute_result",
          "data": {
            "text/plain": [
              "<matplotlib.axes._subplots.AxesSubplot at 0x1a3204cb50>"
            ]
          },
          "metadata": {
            "tags": []
          },
          "execution_count": 19
        },
        {
          "output_type": "display_data",
          "data": {
            "image/png": "[encoded data removed]",
            "text/plain": [
              "<Figure size 432x288 with 1 Axes>"
            ]
          },
          "metadata": {
            "tags": [],
            "needs_background": "light"
          }
        }
      ]
    },
    {
      "cell_type": "markdown",
      "metadata": {
        "id": "g9Jco1quLdcI",
        "colab_type": "text"
      },
      "source": [
        "    Some regions can not find its geographic informations in the df_USgeo dataframes. Let's see which are they."
      ]
    },
    {
      "cell_type": "code",
      "metadata": {
        "id": "69IiOjl7LdcJ",
        "colab_type": "code",
        "colab": {},
        "outputId": "d17005bf-25a5-4502-ef87-b1182d392581"
      },
      "source": [
        "df[df['pop'].isnull()]['Region'].unique()"
      ],
      "execution_count": 0,
      "outputs": [
        {
          "output_type": "execute_result",
          "data": {
            "text/plain": [
              "array(['BaltimoreWashington', 'Boise', 'BuffaloRochester',\n",
              "       'CincinnatiDayton', 'DallasFtWorth', 'HarrisburgScranton',\n",
              "       'HartfordSpringfield', 'MiamiFtLauderdale', 'Nashville',\n",
              "       'NewOrleansMobile', 'PhoenixTucson', 'RaleighGreensboro',\n",
              "       'RichmondNorfolk'], dtype=object)"
            ]
          },
          "metadata": {
            "tags": []
          },
          "execution_count": 20
        }
      ]
    },
    {
      "cell_type": "code",
      "metadata": {
        "id": "g0fTHd0OLdcL",
        "colab_type": "code",
        "colab": {}
      },
      "source": [
        "#These regions that can not find a geographic information is a combination of two places. \n",
        "#I will keep them as they are."
      ],
      "execution_count": 0,
      "outputs": []
    },
    {
      "cell_type": "code",
      "metadata": {
        "id": "nNA2yjYKLdcQ",
        "colab_type": "code",
        "colab": {},
        "outputId": "3e0511f8-e085-4544-98a3-9ba349cc7952"
      },
      "source": [
        "#Let's have a usa geo info functions so we can easily check in the analysis later:\n",
        "df_usaRegionGeoInfo = pd.read_csv(\n",
        "    '../Captone/usaRegionGeoInfo.csv', \n",
        "    index_col=0\n",
        ")\n",
        "\n",
        "#df_usaRegionGeoInfo.head()\n",
        "def usa_geo_info(RegionNameOrPartOfIt):\n",
        "    return df_usaRegionGeoInfo[df_usaRegionGeoInfo['Region'].str.contains(RegionNameOrPartOfIt)]\n",
        "\n",
        "usa_geo_info('Tam')"
      ],
      "execution_count": 0,
      "outputs": [
        {
          "output_type": "execute_result",
          "data": {
            "text/html": [
              "<div>\n",
              "<style scoped>\n",
              "    .dataframe tbody tr th:only-of-type {\n",
              "        vertical-align: middle;\n",
              "    }\n",
              "\n",
              "    .dataframe tbody tr th {\n",
              "        vertical-align: top;\n",
              "    }\n",
              "\n",
              "    .dataframe thead th {\n",
              "        text-align: right;\n",
              "    }\n",
              "</style>\n",
              "<table border=\"1\" class=\"dataframe\">\n",
              "  <thead>\n",
              "    <tr style=\"text-align: right;\">\n",
              "      <th></th>\n",
              "      <th>name</th>\n",
              "      <th>pop</th>\n",
              "      <th>lat</th>\n",
              "      <th>lon</th>\n",
              "      <th>Region</th>\n",
              "    </tr>\n",
              "  </thead>\n",
              "  <tbody>\n",
              "    <tr>\n",
              "      <th>52</th>\n",
              "      <td>Tampa</td>\n",
              "      <td>346934</td>\n",
              "      <td>27.947760</td>\n",
              "      <td>-82.458444</td>\n",
              "      <td>Tampa</td>\n",
              "    </tr>\n",
              "    <tr>\n",
              "      <th>503</th>\n",
              "      <td>Tamarac</td>\n",
              "      <td>61808</td>\n",
              "      <td>26.205212</td>\n",
              "      <td>-80.271055</td>\n",
              "      <td>Tamarac</td>\n",
              "    </tr>\n",
              "  </tbody>\n",
              "</table>\n",
              "</div>"
            ],
            "text/plain": [
              "         name     pop        lat        lon   Region\n",
              "52     Tampa   346934  27.947760 -82.458444    Tampa\n",
              "503  Tamarac    61808  26.205212 -80.271055  Tamarac"
            ]
          },
          "metadata": {
            "tags": []
          },
          "execution_count": 22
        }
      ]
    },
    {
      "cell_type": "code",
      "metadata": {
        "id": "tIkHnVydLdcT",
        "colab_type": "code",
        "colab": {},
        "outputId": "910f0d83-ca97-407c-e5dc-2f7760894084"
      },
      "source": [
        "#For example with more geographic information, we can make a map plot.\n",
        "group_dfByRegionYear = df.groupby(['Region','year'],as_index=False).mean()\n",
        "df.head()"
      ],
      "execution_count": 0,
      "outputs": [
        {
          "output_type": "execute_result",
          "data": {
            "text/html": [
              "<div>\n",
              "<style scoped>\n",
              "    .dataframe tbody tr th:only-of-type {\n",
              "        vertical-align: middle;\n",
              "    }\n",
              "\n",
              "    .dataframe tbody tr th {\n",
              "        vertical-align: top;\n",
              "    }\n",
              "\n",
              "    .dataframe thead th {\n",
              "        text-align: right;\n",
              "    }\n",
              "</style>\n",
              "<table border=\"1\" class=\"dataframe\">\n",
              "  <thead>\n",
              "    <tr style=\"text-align: right;\">\n",
              "      <th></th>\n",
              "      <th>Date</th>\n",
              "      <th>AveragePrice</th>\n",
              "      <th>Total Volume</th>\n",
              "      <th>4046</th>\n",
              "      <th>4225</th>\n",
              "      <th>4770</th>\n",
              "      <th>Total Bags</th>\n",
              "      <th>Small Bags</th>\n",
              "      <th>Large Bags</th>\n",
              "      <th>XLarge Bags</th>\n",
              "      <th>type</th>\n",
              "      <th>year</th>\n",
              "      <th>region</th>\n",
              "      <th>Month</th>\n",
              "      <th>Region</th>\n",
              "      <th>name</th>\n",
              "      <th>pop</th>\n",
              "      <th>lat</th>\n",
              "      <th>lon</th>\n",
              "    </tr>\n",
              "  </thead>\n",
              "  <tbody>\n",
              "    <tr>\n",
              "      <th>0</th>\n",
              "      <td>2015-01-04</td>\n",
              "      <td>1.22</td>\n",
              "      <td>40873.28</td>\n",
              "      <td>2819.50</td>\n",
              "      <td>28287.42</td>\n",
              "      <td>49.90</td>\n",
              "      <td>9716.46</td>\n",
              "      <td>9186.93</td>\n",
              "      <td>529.53</td>\n",
              "      <td>0.0</td>\n",
              "      <td>conventional</td>\n",
              "      <td>2015</td>\n",
              "      <td>Albany</td>\n",
              "      <td>1</td>\n",
              "      <td>Albany</td>\n",
              "      <td>Albany</td>\n",
              "      <td>98012.0</td>\n",
              "      <td>42.651167</td>\n",
              "      <td>-73.754968</td>\n",
              "    </tr>\n",
              "    <tr>\n",
              "      <th>1</th>\n",
              "      <td>2015-01-04</td>\n",
              "      <td>1.22</td>\n",
              "      <td>40873.28</td>\n",
              "      <td>2819.50</td>\n",
              "      <td>28287.42</td>\n",
              "      <td>49.90</td>\n",
              "      <td>9716.46</td>\n",
              "      <td>9186.93</td>\n",
              "      <td>529.53</td>\n",
              "      <td>0.0</td>\n",
              "      <td>conventional</td>\n",
              "      <td>2015</td>\n",
              "      <td>Albany</td>\n",
              "      <td>1</td>\n",
              "      <td>Albany</td>\n",
              "      <td>Albany</td>\n",
              "      <td>77746.0</td>\n",
              "      <td>42.651167</td>\n",
              "      <td>-73.754968</td>\n",
              "    </tr>\n",
              "    <tr>\n",
              "      <th>2</th>\n",
              "      <td>2015-01-04</td>\n",
              "      <td>1.22</td>\n",
              "      <td>40873.28</td>\n",
              "      <td>2819.50</td>\n",
              "      <td>28287.42</td>\n",
              "      <td>49.90</td>\n",
              "      <td>9716.46</td>\n",
              "      <td>9186.93</td>\n",
              "      <td>529.53</td>\n",
              "      <td>0.0</td>\n",
              "      <td>conventional</td>\n",
              "      <td>2015</td>\n",
              "      <td>Albany</td>\n",
              "      <td>1</td>\n",
              "      <td>Albany</td>\n",
              "      <td>Albany</td>\n",
              "      <td>51053.0</td>\n",
              "      <td>42.651167</td>\n",
              "      <td>-73.754968</td>\n",
              "    </tr>\n",
              "    <tr>\n",
              "      <th>3</th>\n",
              "      <td>2015-01-04</td>\n",
              "      <td>1.22</td>\n",
              "      <td>40873.28</td>\n",
              "      <td>2819.50</td>\n",
              "      <td>28287.42</td>\n",
              "      <td>49.90</td>\n",
              "      <td>9716.46</td>\n",
              "      <td>9186.93</td>\n",
              "      <td>529.53</td>\n",
              "      <td>0.0</td>\n",
              "      <td>conventional</td>\n",
              "      <td>2015</td>\n",
              "      <td>Albany</td>\n",
              "      <td>1</td>\n",
              "      <td>Albany</td>\n",
              "      <td>Albany</td>\n",
              "      <td>18767.0</td>\n",
              "      <td>42.651167</td>\n",
              "      <td>-73.754968</td>\n",
              "    </tr>\n",
              "    <tr>\n",
              "      <th>4</th>\n",
              "      <td>2015-01-11</td>\n",
              "      <td>1.24</td>\n",
              "      <td>41195.08</td>\n",
              "      <td>1002.85</td>\n",
              "      <td>31640.34</td>\n",
              "      <td>127.12</td>\n",
              "      <td>8424.77</td>\n",
              "      <td>8036.04</td>\n",
              "      <td>388.73</td>\n",
              "      <td>0.0</td>\n",
              "      <td>conventional</td>\n",
              "      <td>2015</td>\n",
              "      <td>Albany</td>\n",
              "      <td>1</td>\n",
              "      <td>Albany</td>\n",
              "      <td>Albany</td>\n",
              "      <td>98012.0</td>\n",
              "      <td>42.651167</td>\n",
              "      <td>-73.754968</td>\n",
              "    </tr>\n",
              "  </tbody>\n",
              "</table>\n",
              "</div>"
            ],
            "text/plain": [
              "        Date  AveragePrice  Total Volume     4046      4225    4770  \\\n",
              "0 2015-01-04          1.22      40873.28  2819.50  28287.42   49.90   \n",
              "1 2015-01-04          1.22      40873.28  2819.50  28287.42   49.90   \n",
              "2 2015-01-04          1.22      40873.28  2819.50  28287.42   49.90   \n",
              "3 2015-01-04          1.22      40873.28  2819.50  28287.42   49.90   \n",
              "4 2015-01-11          1.24      41195.08  1002.85  31640.34  127.12   \n",
              "\n",
              "   Total Bags  Small Bags  Large Bags  XLarge Bags          type  year  \\\n",
              "0     9716.46     9186.93      529.53          0.0  conventional  2015   \n",
              "1     9716.46     9186.93      529.53          0.0  conventional  2015   \n",
              "2     9716.46     9186.93      529.53          0.0  conventional  2015   \n",
              "3     9716.46     9186.93      529.53          0.0  conventional  2015   \n",
              "4     8424.77     8036.04      388.73          0.0  conventional  2015   \n",
              "\n",
              "   region  Month  Region     name      pop        lat        lon  \n",
              "0  Albany      1  Albany  Albany   98012.0  42.651167 -73.754968  \n",
              "1  Albany      1  Albany  Albany   77746.0  42.651167 -73.754968  \n",
              "2  Albany      1  Albany  Albany   51053.0  42.651167 -73.754968  \n",
              "3  Albany      1  Albany  Albany   18767.0  42.651167 -73.754968  \n",
              "4  Albany      1  Albany  Albany   98012.0  42.651167 -73.754968  "
            ]
          },
          "metadata": {
            "tags": []
          },
          "execution_count": 23
        }
      ]
    },
    {
      "cell_type": "code",
      "metadata": {
        "id": "azEBRH_2LdcW",
        "colab_type": "code",
        "colab": {},
        "outputId": "30f5dbfc-6178-4ea4-f9e8-9ef2a85789f4"
      },
      "source": [
        "#In order to see the difference and change of the AveragePrice better\n",
        "#Let's normalize them.\n",
        "from sklearn import preprocessing\n",
        "\n",
        "x = group_dfByRegionYear['AveragePrice'].values.reshape(-1, 1) #returns a numpy array\n",
        "min_max_scaler = preprocessing.MinMaxScaler()\n",
        "x_scaled = min_max_scaler.fit_transform(x)\n",
        "group_dfByRegionYear['NormalizedAveragePrice']= pd.DataFrame(x_scaled)\n",
        "\n",
        "group_dfByRegionYear.head()\n"
      ],
      "execution_count": 0,
      "outputs": [
        {
          "output_type": "execute_result",
          "data": {
            "text/html": [
              "<div>\n",
              "<style scoped>\n",
              "    .dataframe tbody tr th:only-of-type {\n",
              "        vertical-align: middle;\n",
              "    }\n",
              "\n",
              "    .dataframe tbody tr th {\n",
              "        vertical-align: top;\n",
              "    }\n",
              "\n",
              "    .dataframe thead th {\n",
              "        text-align: right;\n",
              "    }\n",
              "</style>\n",
              "<table border=\"1\" class=\"dataframe\">\n",
              "  <thead>\n",
              "    <tr style=\"text-align: right;\">\n",
              "      <th></th>\n",
              "      <th>Region</th>\n",
              "      <th>year</th>\n",
              "      <th>AveragePrice</th>\n",
              "      <th>Total Volume</th>\n",
              "      <th>4046</th>\n",
              "      <th>4225</th>\n",
              "      <th>4770</th>\n",
              "      <th>Total Bags</th>\n",
              "      <th>Small Bags</th>\n",
              "      <th>Large Bags</th>\n",
              "      <th>XLarge Bags</th>\n",
              "      <th>Month</th>\n",
              "      <th>pop</th>\n",
              "      <th>lat</th>\n",
              "      <th>lon</th>\n",
              "      <th>NormalizedAveragePrice</th>\n",
              "    </tr>\n",
              "  </thead>\n",
              "  <tbody>\n",
              "    <tr>\n",
              "      <th>0</th>\n",
              "      <td>Albany</td>\n",
              "      <td>2015</td>\n",
              "      <td>1.538750</td>\n",
              "      <td>38749.004135</td>\n",
              "      <td>534.970096</td>\n",
              "      <td>30959.871154</td>\n",
              "      <td>334.397500</td>\n",
              "      <td>6919.765385</td>\n",
              "      <td>6744.927404</td>\n",
              "      <td>173.515865</td>\n",
              "      <td>1.322115</td>\n",
              "      <td>6.519231</td>\n",
              "      <td>61394.5</td>\n",
              "      <td>42.651167</td>\n",
              "      <td>-73.754968</td>\n",
              "      <td>0.532391</td>\n",
              "    </tr>\n",
              "    <tr>\n",
              "      <th>1</th>\n",
              "      <td>Albany</td>\n",
              "      <td>2016</td>\n",
              "      <td>1.533942</td>\n",
              "      <td>50618.611442</td>\n",
              "      <td>2717.872308</td>\n",
              "      <td>39807.862788</td>\n",
              "      <td>32.300288</td>\n",
              "      <td>8060.576058</td>\n",
              "      <td>7629.006154</td>\n",
              "      <td>222.989038</td>\n",
              "      <td>208.590769</td>\n",
              "      <td>6.442308</td>\n",
              "      <td>61394.5</td>\n",
              "      <td>42.651167</td>\n",
              "      <td>-73.754968</td>\n",
              "      <td>0.527710</td>\n",
              "    </tr>\n",
              "    <tr>\n",
              "      <th>2</th>\n",
              "      <td>Albany</td>\n",
              "      <td>2017</td>\n",
              "      <td>1.681154</td>\n",
              "      <td>62645.942404</td>\n",
              "      <td>9789.212500</td>\n",
              "      <td>39132.731731</td>\n",
              "      <td>157.232404</td>\n",
              "      <td>13566.765769</td>\n",
              "      <td>8509.092981</td>\n",
              "      <td>4875.495962</td>\n",
              "      <td>182.186442</td>\n",
              "      <td>6.423077</td>\n",
              "      <td>61394.5</td>\n",
              "      <td>42.651167</td>\n",
              "      <td>-73.754968</td>\n",
              "      <td>0.671035</td>\n",
              "    </tr>\n",
              "    <tr>\n",
              "      <th>3</th>\n",
              "      <td>Albany</td>\n",
              "      <td>2018</td>\n",
              "      <td>1.449592</td>\n",
              "      <td>64017.272245</td>\n",
              "      <td>5076.326735</td>\n",
              "      <td>47879.757143</td>\n",
              "      <td>49.180000</td>\n",
              "      <td>11012.008367</td>\n",
              "      <td>8517.798265</td>\n",
              "      <td>2337.869694</td>\n",
              "      <td>156.340408</td>\n",
              "      <td>6.061224</td>\n",
              "      <td>61394.5</td>\n",
              "      <td>42.651167</td>\n",
              "      <td>-73.754968</td>\n",
              "      <td>0.445587</td>\n",
              "    </tr>\n",
              "    <tr>\n",
              "      <th>4</th>\n",
              "      <td>Albany</td>\n",
              "      <td>2019</td>\n",
              "      <td>1.430938</td>\n",
              "      <td>63269.676667</td>\n",
              "      <td>2334.495417</td>\n",
              "      <td>51967.569271</td>\n",
              "      <td>140.252500</td>\n",
              "      <td>8827.328229</td>\n",
              "      <td>5703.501979</td>\n",
              "      <td>2849.039479</td>\n",
              "      <td>274.807604</td>\n",
              "      <td>6.125000</td>\n",
              "      <td>61394.5</td>\n",
              "      <td>42.651167</td>\n",
              "      <td>-73.754968</td>\n",
              "      <td>0.427425</td>\n",
              "    </tr>\n",
              "  </tbody>\n",
              "</table>\n",
              "</div>"
            ],
            "text/plain": [
              "   Region  year  AveragePrice  Total Volume         4046          4225  \\\n",
              "0  Albany  2015      1.538750  38749.004135   534.970096  30959.871154   \n",
              "1  Albany  2016      1.533942  50618.611442  2717.872308  39807.862788   \n",
              "2  Albany  2017      1.681154  62645.942404  9789.212500  39132.731731   \n",
              "3  Albany  2018      1.449592  64017.272245  5076.326735  47879.757143   \n",
              "4  Albany  2019      1.430938  63269.676667  2334.495417  51967.569271   \n",
              "\n",
              "         4770    Total Bags   Small Bags   Large Bags  XLarge Bags     Month  \\\n",
              "0  334.397500   6919.765385  6744.927404   173.515865     1.322115  6.519231   \n",
              "1   32.300288   8060.576058  7629.006154   222.989038   208.590769  6.442308   \n",
              "2  157.232404  13566.765769  8509.092981  4875.495962   182.186442  6.423077   \n",
              "3   49.180000  11012.008367  8517.798265  2337.869694   156.340408  6.061224   \n",
              "4  140.252500   8827.328229  5703.501979  2849.039479   274.807604  6.125000   \n",
              "\n",
              "       pop        lat        lon  NormalizedAveragePrice  \n",
              "0  61394.5  42.651167 -73.754968                0.532391  \n",
              "1  61394.5  42.651167 -73.754968                0.527710  \n",
              "2  61394.5  42.651167 -73.754968                0.671035  \n",
              "3  61394.5  42.651167 -73.754968                0.445587  \n",
              "4  61394.5  42.651167 -73.754968                0.427425  "
            ]
          },
          "metadata": {
            "tags": []
          },
          "execution_count": 24
        }
      ]
    },
    {
      "cell_type": "code",
      "metadata": {
        "id": "KIfxVgCALdcY",
        "colab_type": "code",
        "colab": {},
        "outputId": "e2a160c5-1b68-44b3-f87c-c1ce758ec6d3"
      },
      "source": [
        "import plotly.graph_objects as go\n",
        "import plotly.express as px\n",
        "\n",
        "desiredMaximumMarkerSize =3\n",
        "\n",
        "sizeref = 2. * max(group_dfByRegionYear['NormalizedAveragePrice']) / (desiredMaximumMarkerSize ** 2)\n",
        "\n",
        "\n",
        "\n",
        "fig = px.scatter_geo(group_dfByRegionYear, \n",
        "                     #locationmode = 'USA-states',\n",
        "                     lon = 'lon',\n",
        "                     lat = 'lat', \n",
        "                     color=\"Total Volume\",\n",
        "                     hover_name=\"Region\", \n",
        "                     size=\"NormalizedAveragePrice\",\n",
        "                     animation_frame = \"year\",\n",
        "                     projection = \"albers usa\",\n",
        "                     scope=\"usa\"\n",
        "                    )\n",
        "\n",
        "\n",
        "\n",
        "fig.show()"
      ],
      "execution_count": 0,
      "outputs": [
        {
          "output_type": "display_data",
          "data": {
            "application/vnd.plotly.v1+json": {
              "config": {
                "plotlyServerURL": "https://plot.ly"
              },
              "data": [
                {
                  "geo": "geo",
                  "hoverlabel": {
                    "namelength": 0
                  },
                  "hovertemplate": "<b>%{hovertext}</b><br><br>year=2015<br>NormalizedAveragePrice=%{marker.size}<br>lat=%{lat}<br>lon=%{lon}<br>Total Volume=%{marker.color}",
                  "hovertext": [
                    "Albany",
                    "Atlanta",
                    "BaltimoreWashington",
                    "Boise",
                    "Boston",
                    "BuffaloRochester",
                    "Charlotte",
                    "Chicago",
                    "CincinnatiDayton",
                    "Columbus",
                    "DallasFtWorth",
                    "Denver",
                    "Detroit",
                    "GrandRapids",
                    "HarrisburgScranton",
                    "HartfordSpringfield",
                    "Houston",
                    "Indianapolis",
                    "Jacksonville",
                    "LasVegas",
                    "LosAngeles",
                    "Louisville",
                    "MiamiFtLauderdale",
                    "Nashville",
                    "NewOrleansMobile",
                    "NewYork",
                    "Orlando",
                    "Philadelphia",
                    "PhoenixTucson",
                    "Pittsburgh",
                    "Portland",
                    "RaleighGreensboro",
                    "RichmondNorfolk",
                    "Roanoke",
                    "Sacramento",
                    "SanDiego",
                    "SanFrancisco",
                    "Seattle",
                    "Spokane",
                    "StLouis",
                    "Syracuse",
                    "Tampa"
                  ],
                  "lat": [
                    42.651167399999736,
                    33.74909870000007,
                    null,
                    null,
                    42.360482300000015,
                    null,
                    35.22708690000012,
                    41.87555460000011,
                    null,
                    39.962260099999924,
                    null,
                    39.7391536,
                    42.34866349999996,
                    42.96324050000008,
                    null,
                    null,
                    29.758938200000063,
                    39.768333099999936,
                    30.332183799999875,
                    36.16628589999988,
                    34.05371699999991,
                    38.25423760000008,
                    null,
                    null,
                    null,
                    40.73059909999996,
                    28.542117500000014,
                    39.952334999999955,
                    null,
                    40.44169409999996,
                    45.52024709999989,
                    null,
                    null,
                    37.27097300000005,
                    38.581571900000085,
                    32.717420899999986,
                    37.77927679999996,
                    47.60383209999999,
                    47.65886030000001,
                    38.627273299999835,
                    43.04812210000007,
                    27.947759499999975
                  ],
                  "legendgroup": "",
                  "lon": [
                    -73.75496800000036,
                    -84.3901849000001,
                    null,
                    null,
                    -71.05956779999998,
                    null,
                    -80.84312680000023,
                    -87.62442120000009,
                    null,
                    -83.00070650000046,
                    null,
                    -104.98470340000001,
                    -83.0567375,
                    -85.66786389999999,
                    null,
                    null,
                    -95.36769740000017,
                    -86.15835020000007,
                    -81.6556510000005,
                    -115.14922500000009,
                    -118.24272659999997,
                    -85.7594069999998,
                    null,
                    null,
                    null,
                    -73.98658119999988,
                    -81.37904619999989,
                    -75.16378900000015,
                    null,
                    -79.99008609999987,
                    -122.6741948999993,
                    null,
                    null,
                    -79.94143129999992,
                    -121.49439960000015,
                    -117.1627714000001,
                    -122.41927039999986,
                    -122.33006240000019,
                    -117.42471339999987,
                    -90.19788889999992,
                    -76.14742440000008,
                    -82.45844399999993
                  ],
                  "marker": {
                    "color": [
                      38749.00413461533,
                      223381.71269230772,
                      390822.8801923079,
                      36388.05134615382,
                      263990.30423076916,
                      56665.71730769232,
                      91224.45596153833,
                      398987.65894230775,
                      113040.15384615383,
                      75478.67423076913,
                      579916.4291346153,
                      376830.22519230755,
                      172880.57057692314,
                      93662.91490384628,
                      111902.93182692307,
                      145790.79798076925,
                      532571.840096154,
                      78740.98105769229,
                      69004.58346153876,
                      149446.42942307697,
                      1425198.9709615386,
                      41240.415096153854,
                      241985.69115384622,
                      83287.65528846146,
                      121772.19173076918,
                      678919.5760576925,
                      141534.38548076927,
                      200886.730673077,
                      549771.9757692305,
                      43653.84221153847,
                      268687.0706730769,
                      123243.59894230767,
                      112029.60307692311,
                      65180.89009615388,
                      211351.32576923078,
                      255631.9809615386,
                      379286.55557692295,
                      279395.18701923074,
                      40208.530480769245,
                      95217.06961538477,
                      26291.665961538478,
                      164726.90240384612
                    ],
                    "coloraxis": "coloraxis",
                    "size": [
                      0.5323909380265883,
                      0.37839355925856544,
                      0.3669724770642191,
                      0.3717468638831676,
                      0.46891967796292766,
                      0.5381014791237599,
                      0.5684328777382519,
                      0.4012357236472568,
                      0.20483055607564093,
                      0.2744804343755862,
                      0.0836921924733196,
                      0.19069462647444313,
                      0.3372027710166634,
                      0.41321849840853875,
                      0.4670473694064785,
                      0.7359108781127122,
                      0.054671409848342956,
                      0.34178992697996624,
                      0.4976596143044394,
                      0.36697247706421976,
                      0.1563377644635835,
                      0.29451413592960196,
                      0.38129563752106366,
                      0.27775697434937285,
                      0.2684890469949446,
                      0.635367908631342,
                      0.4940086126193597,
                      0.5483991761842346,
                      0.16083130499906395,
                      0.4043250327653989,
                      0.3065905261187023,
                      0.445422205579479,
                      0.27513574237034244,
                      0.22898333645384739,
                      0.4499157461149599,
                      0.27485489608687463,
                      0.6125257442426506,
                      0.4189290395057108,
                      0.39767833739000125,
                      0.49794046058790453,
                      0.5229357798165142,
                      0.35508331773076196
                    ],
                    "sizemode": "area",
                    "sizeref": 0.0025
                  },
                  "name": "",
                  "showlegend": false,
                  "type": "scattergeo"
                }
              ],
              "frames": [
                {
                  "data": [
                    {
                      "geo": "geo",
                      "hoverlabel": {
                        "namelength": 0
                      },
                      "hovertemplate": "<b>%{hovertext}</b><br><br>year=2015<br>NormalizedAveragePrice=%{marker.size}<br>lat=%{lat}<br>lon=%{lon}<br>Total Volume=%{marker.color}",
                      "hovertext": [
                        "Albany",
                        "Atlanta",
                        "BaltimoreWashington",
                        "Boise",
                        "Boston",
                        "BuffaloRochester",
                        "Charlotte",
                        "Chicago",
                        "CincinnatiDayton",
                        "Columbus",
                        "DallasFtWorth",
                        "Denver",
                        "Detroit",
                        "GrandRapids",
                        "HarrisburgScranton",
                        "HartfordSpringfield",
                        "Houston",
                        "Indianapolis",
                        "Jacksonville",
                        "LasVegas",
                        "LosAngeles",
                        "Louisville",
                        "MiamiFtLauderdale",
                        "Nashville",
                        "NewOrleansMobile",
                        "NewYork",
                        "Orlando",
                        "Philadelphia",
                        "PhoenixTucson",
                        "Pittsburgh",
                        "Portland",
                        "RaleighGreensboro",
                        "RichmondNorfolk",
                        "Roanoke",
                        "Sacramento",
                        "SanDiego",
                        "SanFrancisco",
                        "Seattle",
                        "Spokane",
                        "StLouis",
                        "Syracuse",
                        "Tampa"
                      ],
                      "lat": [
                        42.651167399999736,
                        33.74909870000007,
                        null,
                        null,
                        42.360482300000015,
                        null,
                        35.22708690000012,
                        41.87555460000011,
                        null,
                        39.962260099999924,
                        null,
                        39.7391536,
                        42.34866349999996,
                        42.96324050000008,
                        null,
                        null,
                        29.758938200000063,
                        39.768333099999936,
                        30.332183799999875,
                        36.16628589999988,
                        34.05371699999991,
                        38.25423760000008,
                        null,
                        null,
                        null,
                        40.73059909999996,
                        28.542117500000014,
                        39.952334999999955,
                        null,
                        40.44169409999996,
                        45.52024709999989,
                        null,
                        null,
                        37.27097300000005,
                        38.581571900000085,
                        32.717420899999986,
                        37.77927679999996,
                        47.60383209999999,
                        47.65886030000001,
                        38.627273299999835,
                        43.04812210000007,
                        27.947759499999975
                      ],
                      "legendgroup": "",
                      "lon": [
                        -73.75496800000036,
                        -84.3901849000001,
                        null,
                        null,
                        -71.05956779999998,
                        null,
                        -80.84312680000023,
                        -87.62442120000009,
                        null,
                        -83.00070650000046,
                        null,
                        -104.98470340000001,
                        -83.0567375,
                        -85.66786389999999,
                        null,
                        null,
                        -95.36769740000017,
                        -86.15835020000007,
                        -81.6556510000005,
                        -115.14922500000009,
                        -118.24272659999997,
                        -85.7594069999998,
                        null,
                        null,
                        null,
                        -73.98658119999988,
                        -81.37904619999989,
                        -75.16378900000015,
                        null,
                        -79.99008609999987,
                        -122.6741948999993,
                        null,
                        null,
                        -79.94143129999992,
                        -121.49439960000015,
                        -117.1627714000001,
                        -122.41927039999986,
                        -122.33006240000019,
                        -117.42471339999987,
                        -90.19788889999992,
                        -76.14742440000008,
                        -82.45844399999993
                      ],
                      "marker": {
                        "color": [
                          38749.00413461533,
                          223381.71269230772,
                          390822.8801923079,
                          36388.05134615382,
                          263990.30423076916,
                          56665.71730769232,
                          91224.45596153833,
                          398987.65894230775,
                          113040.15384615383,
                          75478.67423076913,
                          579916.4291346153,
                          376830.22519230755,
                          172880.57057692314,
                          93662.91490384628,
                          111902.93182692307,
                          145790.79798076925,
                          532571.840096154,
                          78740.98105769229,
                          69004.58346153876,
                          149446.42942307697,
                          1425198.9709615386,
                          41240.415096153854,
                          241985.69115384622,
                          83287.65528846146,
                          121772.19173076918,
                          678919.5760576925,
                          141534.38548076927,
                          200886.730673077,
                          549771.9757692305,
                          43653.84221153847,
                          268687.0706730769,
                          123243.59894230767,
                          112029.60307692311,
                          65180.89009615388,
                          211351.32576923078,
                          255631.9809615386,
                          379286.55557692295,
                          279395.18701923074,
                          40208.530480769245,
                          95217.06961538477,
                          26291.665961538478,
                          164726.90240384612
                        ],
                        "coloraxis": "coloraxis",
                        "size": [
                          0.5323909380265883,
                          0.37839355925856544,
                          0.3669724770642191,
                          0.3717468638831676,
                          0.46891967796292766,
                          0.5381014791237599,
                          0.5684328777382519,
                          0.4012357236472568,
                          0.20483055607564093,
                          0.2744804343755862,
                          0.0836921924733196,
                          0.19069462647444313,
                          0.3372027710166634,
                          0.41321849840853875,
                          0.4670473694064785,
                          0.7359108781127122,
                          0.054671409848342956,
                          0.34178992697996624,
                          0.4976596143044394,
                          0.36697247706421976,
                          0.1563377644635835,
                          0.29451413592960196,
                          0.38129563752106366,
                          0.27775697434937285,
                          0.2684890469949446,
                          0.635367908631342,
                          0.4940086126193597,
                          0.5483991761842346,
                          0.16083130499906395,
                          0.4043250327653989,
                          0.3065905261187023,
                          0.445422205579479,
                          0.27513574237034244,
                          0.22898333645384739,
                          0.4499157461149599,
                          0.27485489608687463,
                          0.6125257442426506,
                          0.4189290395057108,
                          0.39767833739000125,
                          0.49794046058790453,
                          0.5229357798165142,
                          0.35508331773076196
                        ],
                        "sizemode": "area",
                        "sizeref": 0.0025
                      },
                      "name": "",
                      "showlegend": false,
                      "type": "scattergeo"
                    }
                  ],
                  "name": "2015"
                },
                {
                  "data": [
                    {
                      "geo": "geo",
                      "hoverlabel": {
                        "namelength": 0
                      },
                      "hovertemplate": "<b>%{hovertext}</b><br><br>year=2016<br>NormalizedAveragePrice=%{marker.size}<br>lat=%{lat}<br>lon=%{lon}<br>Total Volume=%{marker.color}",
                      "hovertext": [
                        "Albany",
                        "Atlanta",
                        "BaltimoreWashington",
                        "Boise",
                        "Boston",
                        "BuffaloRochester",
                        "Charlotte",
                        "Chicago",
                        "CincinnatiDayton",
                        "Columbus",
                        "DallasFtWorth",
                        "Denver",
                        "Detroit",
                        "GrandRapids",
                        "HarrisburgScranton",
                        "HartfordSpringfield",
                        "Houston",
                        "Indianapolis",
                        "Jacksonville",
                        "LasVegas",
                        "LosAngeles",
                        "Louisville",
                        "MiamiFtLauderdale",
                        "Nashville",
                        "NewOrleansMobile",
                        "NewYork",
                        "Orlando",
                        "Philadelphia",
                        "PhoenixTucson",
                        "Pittsburgh",
                        "Portland",
                        "RaleighGreensboro",
                        "RichmondNorfolk",
                        "Roanoke",
                        "Sacramento",
                        "SanDiego",
                        "SanFrancisco",
                        "Seattle",
                        "Spokane",
                        "StLouis",
                        "Syracuse",
                        "Tampa"
                      ],
                      "lat": [
                        42.651167399999736,
                        33.74909870000007,
                        null,
                        null,
                        42.360482300000015,
                        null,
                        35.22708690000012,
                        41.87555460000011,
                        null,
                        39.962260099999924,
                        null,
                        39.7391536,
                        42.34866349999996,
                        42.96324050000008,
                        null,
                        null,
                        29.758938200000063,
                        39.768333099999936,
                        30.332183799999875,
                        36.16628589999988,
                        34.05371699999991,
                        38.25423760000008,
                        null,
                        null,
                        null,
                        40.73059909999996,
                        28.542117500000014,
                        39.952334999999955,
                        null,
                        40.44169409999996,
                        45.52024709999989,
                        null,
                        null,
                        37.27097300000005,
                        38.581571900000085,
                        32.717420899999986,
                        37.77927679999996,
                        47.60383209999999,
                        47.65886030000001,
                        38.627273299999835,
                        43.04812210000007,
                        27.947759499999975
                      ],
                      "legendgroup": "",
                      "lon": [
                        -73.75496800000036,
                        -84.3901849000001,
                        null,
                        null,
                        -71.05956779999998,
                        null,
                        -80.84312680000023,
                        -87.62442120000009,
                        null,
                        -83.00070650000046,
                        null,
                        -104.98470340000001,
                        -83.0567375,
                        -85.66786389999999,
                        null,
                        null,
                        -95.36769740000017,
                        -86.15835020000007,
                        -81.6556510000005,
                        -115.14922500000009,
                        -118.24272659999997,
                        -85.7594069999998,
                        null,
                        null,
                        null,
                        -73.98658119999988,
                        -81.37904619999989,
                        -75.16378900000015,
                        null,
                        -79.99008609999987,
                        -122.6741948999993,
                        null,
                        null,
                        -79.94143129999992,
                        -121.49439960000015,
                        -117.1627714000001,
                        -122.41927039999986,
                        -122.33006240000019,
                        -117.42471339999987,
                        -90.19788889999992,
                        -76.14742440000008,
                        -82.45844399999993
                      ],
                      "marker": {
                        "color": [
                          50618.61144230799,
                          272373.8298076923,
                          393209.63769230765,
                          44745.283942307695,
                          293954.95259615406,
                          69279.92317307694,
                          101795.39423076925,
                          380890.7309615385,
                          134816.02288461535,
                          87110.25509615379,
                          612454.3257692308,
                          435651.5581730768,
                          181802.48557692315,
                          87950.69028846142,
                          126200.23028846148,
                          150941.82500000004,
                          564469.1002884615,
                          88119.74519230773,
                          93383.03951923051,
                          162567.43807692308,
                          1568675.9886538475,
                          48810.85365384619,
                          306587.1200961538,
                          100953.60480769226,
                          140772.7507692308,
                          687947.7224999996,
                          184757.56538461533,
                          212577.85019230784,
                          570035.4541346154,
                          53040.36384615384,
                          358764.53730769246,
                          140075.5220192308,
                          124404.09346153836,
                          73911.69740384616,
                          222336.830576923,
                          282096.64298076933,
                          399323.3446153845,
                          357580.94634615385,
                          48136.216730769265,
                          102350.72692307673,
                          32974.69942307689,
                          208468.74384615384
                        ],
                        "coloraxis": "coloraxis",
                        "size": [
                          0.5277101666354613,
                          0.216345253697809,
                          0.5799475753604193,
                          0.1460400674031086,
                          0.4227672720464335,
                          0.47893652873993586,
                          0.4926043812020211,
                          0.5407227111027897,
                          0.09389627410597301,
                          0.18929039505710366,
                          0.00411907882419027,
                          0.09857704549709778,
                          0.17571615802284235,
                          0.503744617112901,
                          0.5059913873806399,
                          0.8364538475940833,
                          0,
                          0.30144167758846696,
                          0.36584909193035076,
                          0.3509642389065717,
                          0.089402733570493,
                          0.2138176371466014,
                          0.28028459090058,
                          0.12095113274667657,
                          0.24995319228608892,
                          0.7497659614304437,
                          0.36884478562067,
                          0.6648567683954305,
                          0.2597828122074517,
                          0.34216438869125665,
                          0.19443924358734344,
                          0.44383074330649697,
                          0.21344317543531188,
                          0.15146976221681308,
                          0.6583973038756787,
                          0.31333083692192476,
                          0.8658490919303496,
                          0.300224677026774,
                          0.3326156150533601,
                          0.1884478562067029,
                          0.4980340760157267,
                          0.2653997378768016
                        ],
                        "sizemode": "area",
                        "sizeref": 0.0025
                      },
                      "name": "",
                      "showlegend": false,
                      "type": "scattergeo"
                    }
                  ],
                  "name": "2016"
                },
                {
                  "data": [
                    {
                      "geo": "geo",
                      "hoverlabel": {
                        "namelength": 0
                      },
                      "hovertemplate": "<b>%{hovertext}</b><br><br>year=2017<br>NormalizedAveragePrice=%{marker.size}<br>lat=%{lat}<br>lon=%{lon}<br>Total Volume=%{marker.color}",
                      "hovertext": [
                        "Albany",
                        "Atlanta",
                        "BaltimoreWashington",
                        "Boise",
                        "Boston",
                        "BuffaloRochester",
                        "Charlotte",
                        "Chicago",
                        "CincinnatiDayton",
                        "Columbus",
                        "DallasFtWorth",
                        "Denver",
                        "Detroit",
                        "GrandRapids",
                        "HarrisburgScranton",
                        "HartfordSpringfield",
                        "Houston",
                        "Indianapolis",
                        "Jacksonville",
                        "LasVegas",
                        "LosAngeles",
                        "Louisville",
                        "MiamiFtLauderdale",
                        "Nashville",
                        "NewOrleansMobile",
                        "NewYork",
                        "Orlando",
                        "Philadelphia",
                        "PhoenixTucson",
                        "Pittsburgh",
                        "Portland",
                        "RaleighGreensboro",
                        "RichmondNorfolk",
                        "Roanoke",
                        "Sacramento",
                        "SanDiego",
                        "SanFrancisco",
                        "Seattle",
                        "Spokane",
                        "StLouis",
                        "Syracuse",
                        "Tampa"
                      ],
                      "lat": [
                        42.651167399999736,
                        33.74909870000007,
                        null,
                        null,
                        42.360482300000015,
                        null,
                        35.22708690000012,
                        41.87555460000011,
                        null,
                        39.962260099999924,
                        null,
                        39.7391536,
                        42.34866349999996,
                        42.96324050000008,
                        null,
                        null,
                        29.758938200000063,
                        39.768333099999936,
                        30.332183799999875,
                        36.16628589999988,
                        34.05371699999991,
                        38.25423760000008,
                        null,
                        null,
                        null,
                        40.73059909999996,
                        28.542117500000014,
                        39.952334999999955,
                        null,
                        40.44169409999996,
                        45.52024709999989,
                        null,
                        null,
                        37.27097300000005,
                        38.581571900000085,
                        32.717420899999986,
                        37.77927679999996,
                        47.60383209999999,
                        47.65886030000001,
                        38.627273299999835,
                        43.04812210000007,
                        27.947759499999975
                      ],
                      "legendgroup": "",
                      "lon": [
                        -73.75496800000036,
                        -84.3901849000001,
                        null,
                        null,
                        -71.05956779999998,
                        null,
                        -80.84312680000023,
                        -87.62442120000009,
                        null,
                        -83.00070650000046,
                        null,
                        -104.98470340000001,
                        -83.0567375,
                        -85.66786389999999,
                        null,
                        null,
                        -95.36769740000017,
                        -86.15835020000007,
                        -81.6556510000005,
                        -115.14922500000009,
                        -118.24272659999997,
                        -85.7594069999998,
                        null,
                        null,
                        null,
                        -73.98658119999988,
                        -81.37904619999989,
                        -75.16378900000015,
                        null,
                        -79.99008609999987,
                        -122.6741948999993,
                        null,
                        null,
                        -79.94143129999992,
                        -121.49439960000015,
                        -117.1627714000001,
                        -122.41927039999986,
                        -122.33006240000019,
                        -117.42471339999987,
                        -90.19788889999992,
                        -76.14742440000008,
                        -82.45844399999993
                      ],
                      "marker": {
                        "color": [
                          62645.9424038461,
                          282119.7475000001,
                          360427.13298076915,
                          62018.51778846154,
                          275556.2092307693,
                          228681.1075961538,
                          125560.32846153848,
                          367750.1420192311,
                          140221.98076923078,
                          128159.18971153835,
                          610967.4599999998,
                          387629.48221153824,
                          187258.8826923077,
                          172494.1921153843,
                          125451.54249999997,
                          174240.7037499999,
                          616899.2510576921,
                          94470.87048076926,
                          88638.97057692328,
                          227203.50971153824,
                          1424517.7374999996,
                          63110.885673076875,
                          371446.28980769217,
                          125174.94538461532,
                          172796.11105769238,
                          797604.6129807691,
                          180944.51048076915,
                          222640.68932692322,
                          555508.7792307693,
                          113225.82067307699,
                          344511.87192307797,
                          147482.13192307687,
                          124503.96105769229,
                          84524.36105769234,
                          217292.4781730768,
                          269576.3265384616,
                          379365.44596153864,
                          327344.56894230755,
                          51493.53817307693,
                          81458.25269230774,
                          45311.54788461542,
                          1174944.1158653847
                        ],
                        "coloraxis": "coloraxis",
                        "size": [
                          0.6710353866317165,
                          0.39393372027710205,
                          0.7262684890469937,
                          0.4387755102040811,
                          0.6581164575922116,
                          0.6249765961430447,
                          0.7526680396929413,
                          0.7044560943643507,
                          0.31679460775135704,
                          0.2938588279348413,
                          0.19612432128814783,
                          0.37043624789365226,
                          0.33654746302190564,
                          0.6335892155027145,
                          0.6128065905261186,
                          0.8628533982400295,
                          0.12544467328215658,
                          0.3652873993634145,
                          0.6462272982587547,
                          0.4189290395057095,
                          0.380921175809773,
                          0.3544280097360044,
                          0.6228234413031262,
                          0.22795356674780032,
                          0.4287586594270727,
                          0.7844972851525924,
                          0.6340572926418271,
                          0.6958434750046805,
                          0.26352742932035245,
                          0.4035761093428205,
                          0.4234225800411908,
                          0.7155027148474056,
                          0.41331211383636,
                          0.364538475940835,
                          0.7892716719715411,
                          0.5688073394495399,
                          1,
                          0.5571054109717279,
                          0.5854708856019466,
                          0.5374461711290006,
                          0.6194532859015154,
                          0.6085938962741055
                        ],
                        "sizemode": "area",
                        "sizeref": 0.0025
                      },
                      "name": "",
                      "showlegend": false,
                      "type": "scattergeo"
                    }
                  ],
                  "name": "2017"
                },
                {
                  "data": [
                    {
                      "geo": "geo",
                      "hoverlabel": {
                        "namelength": 0
                      },
                      "hovertemplate": "<b>%{hovertext}</b><br><br>year=2018<br>NormalizedAveragePrice=%{marker.size}<br>lat=%{lat}<br>lon=%{lon}<br>Total Volume=%{marker.color}",
                      "hovertext": [
                        "Albany",
                        "Atlanta",
                        "BaltimoreWashington",
                        "Boise",
                        "Boston",
                        "BuffaloRochester",
                        "Charlotte",
                        "Chicago",
                        "CincinnatiDayton",
                        "Columbus",
                        "DallasFtWorth",
                        "Denver",
                        "Detroit",
                        "GrandRapids",
                        "HarrisburgScranton",
                        "HartfordSpringfield",
                        "Houston",
                        "Indianapolis",
                        "Jacksonville",
                        "LasVegas",
                        "LosAngeles",
                        "Louisville",
                        "MiamiFtLauderdale",
                        "Nashville",
                        "NewOrleansMobile",
                        "NewYork",
                        "Orlando",
                        "Philadelphia",
                        "PhoenixTucson",
                        "Pittsburgh",
                        "Portland",
                        "RaleighGreensboro",
                        "RichmondNorfolk",
                        "Roanoke",
                        "Sacramento",
                        "SanDiego",
                        "SanFrancisco",
                        "Seattle",
                        "Spokane",
                        "StLouis",
                        "Syracuse",
                        "Tampa"
                      ],
                      "lat": [
                        42.65116739999976,
                        33.74909870000007,
                        null,
                        null,
                        42.36048230000004,
                        null,
                        35.2270869000001,
                        41.8755546000001,
                        null,
                        39.96226009999986,
                        null,
                        39.7391536,
                        42.34866349999996,
                        42.963240500000126,
                        null,
                        null,
                        29.75893820000006,
                        39.768333099999936,
                        30.3321837999998,
                        36.16628589999988,
                        34.05371699999992,
                        38.254237600000074,
                        null,
                        null,
                        null,
                        40.73059909999995,
                        28.542117500000007,
                        39.952334999999955,
                        null,
                        40.44169409999996,
                        45.520247099999814,
                        null,
                        null,
                        37.27097300000004,
                        38.58157190000008,
                        32.717420899999986,
                        37.77927679999996,
                        47.60383210000002,
                        47.65886030000001,
                        38.62727329999985,
                        43.04812210000002,
                        27.947759499999982
                      ],
                      "legendgroup": "",
                      "lon": [
                        -73.7549680000003,
                        -84.39018490000012,
                        null,
                        null,
                        -71.05956779999998,
                        null,
                        -80.84312680000028,
                        -87.62442120000009,
                        null,
                        -83.00070650000033,
                        null,
                        -104.98470340000004,
                        -83.05673750000004,
                        -85.66786390000009,
                        null,
                        null,
                        -95.36769740000013,
                        -86.15835020000011,
                        -81.65565100000047,
                        -115.14922500000002,
                        -118.2427266,
                        -85.7594069999997,
                        null,
                        null,
                        null,
                        -73.98658119999989,
                        -81.37904619999989,
                        -75.16378900000014,
                        null,
                        -79.99008609999987,
                        -122.67419489999934,
                        null,
                        null,
                        -79.94143129999993,
                        -121.49439960000014,
                        -117.16277140000007,
                        -122.41927039999986,
                        -122.33006240000019,
                        -117.42471339999987,
                        -90.19788890000001,
                        -76.14742440000008,
                        -82.45844399999991
                      ],
                      "marker": {
                        "color": [
                          64017.272244898086,
                          354738.27438775497,
                          480922.31357142876,
                          49376.679183673456,
                          368326.9225510204,
                          95248.30112244897,
                          143965.5838775511,
                          436780.67132653063,
                          156646.0769387755,
                          120479.98765306137,
                          749564.9287755103,
                          472145.67285714304,
                          257222.88744897957,
                          101765.6413265307,
                          169643.9065306122,
                          191219.8918367347,
                          826865.7001020411,
                          112388.07020408168,
                          115771.86112244944,
                          182171.04591836742,
                          1540428.1306122453,
                          62870.19918367353,
                          412453.53346938756,
                          144724.8460204082,
                          162181.9354081632,
                          996007.693877551,
                          252191.00867346936,
                          286509.249897959,
                          664067.7748979592,
                          82390.89785714286,
                          346492.5505102044,
                          193538.6769387757,
                          163172.6777551021,
                          101738.08724489796,
                          271638.861632653,
                          269232.6293877552,
                          501810.6536734695,
                          319307.642142857,
                          50172.27744897962,
                          105040.41632653079,
                          45978.58734693882,
                          273352.8895918367
                        ],
                        "coloraxis": "coloraxis",
                        "size": [
                          0.44558651020790374,
                          0.28295549637192474,
                          0.3944228131245009,
                          0.5321177338188594,
                          0.491186776152138,
                          0.18281373586693572,
                          0.5316209988957186,
                          0.5172156861246648,
                          0.3225949432384825,
                          0.20467007248508828,
                          0.11704603204322339,
                          0.3155413073298965,
                          0.21530019984028015,
                          0.3396826245944917,
                          0.2758025134787112,
                          0.6647459582971924,
                          0.030415461447638514,
                          0.212220443316814,
                          0.376142967952952,
                          0.36442002376685556,
                          0.3826998689384,
                          0.29567191040430396,
                          0.29378431769637237,
                          0.25285336002965164,
                          0.2389447821817361,
                          0.5598355425300616,
                          0.3107726520677545,
                          0.4066424922337395,
                          0.12916636416783533,
                          0.2752064315709426,
                          0.4679395817491945,
                          0.6145757310600706,
                          0.22742053196489143,
                          0.2847437420952281,
                          0.49347175679858135,
                          0.5038038431998895,
                          0.6360346797397105,
                          0.5779166937323506,
                          0.530925570003324,
                          0.4447917343308787,
                          0.22016820208705057,
                          0.3051098739439606
                        ],
                        "sizemode": "area",
                        "sizeref": 0.0025
                      },
                      "name": "",
                      "showlegend": false,
                      "type": "scattergeo"
                    }
                  ],
                  "name": "2018"
                },
                {
                  "data": [
                    {
                      "geo": "geo",
                      "hoverlabel": {
                        "namelength": 0
                      },
                      "hovertemplate": "<b>%{hovertext}</b><br><br>year=2019<br>NormalizedAveragePrice=%{marker.size}<br>lat=%{lat}<br>lon=%{lon}<br>Total Volume=%{marker.color}",
                      "hovertext": [
                        "Albany",
                        "Atlanta",
                        "BaltimoreWashington",
                        "Boise",
                        "Boston",
                        "BuffaloRochester",
                        "Charlotte",
                        "Chicago",
                        "CincinnatiDayton",
                        "Columbus",
                        "DallasFtWorth",
                        "Denver",
                        "Detroit",
                        "GrandRapids",
                        "HarrisburgScranton",
                        "HartfordSpringfield",
                        "Houston",
                        "Indianapolis",
                        "Jacksonville",
                        "LasVegas",
                        "LosAngeles",
                        "Louisville",
                        "MiamiFtLauderdale",
                        "Nashville",
                        "NewOrleansMobile",
                        "NewYork",
                        "Orlando",
                        "Philadelphia",
                        "PhoenixTucson",
                        "Pittsburgh",
                        "Portland",
                        "RaleighGreensboro",
                        "RichmondNorfolk",
                        "Roanoke",
                        "Sacramento",
                        "SanDiego",
                        "SanFrancisco",
                        "Seattle",
                        "Spokane",
                        "StLouis",
                        "Syracuse",
                        "Tampa"
                      ],
                      "lat": [
                        42.65116739999976,
                        33.74909870000007,
                        null,
                        null,
                        42.36048230000005,
                        null,
                        35.227086900000096,
                        41.8755546000001,
                        null,
                        39.96226009999984,
                        null,
                        39.7391536,
                        42.34866349999995,
                        42.96324050000015,
                        null,
                        null,
                        29.75893820000006,
                        39.768333099999936,
                        30.332183799999775,
                        36.166285899999885,
                        34.05371699999992,
                        38.254237600000074,
                        null,
                        null,
                        null,
                        40.73059909999995,
                        28.542117500000003,
                        39.952334999999955,
                        null,
                        40.44169409999996,
                        45.520247099999786,
                        null,
                        null,
                        37.27097300000004,
                        38.58157190000008,
                        32.717420899999986,
                        37.77927679999996,
                        47.60383210000003,
                        47.65886030000001,
                        38.62727329999985,
                        43.0481221,
                        27.947759499999986
                      ],
                      "legendgroup": "",
                      "lon": [
                        -73.75496800000029,
                        -84.39018490000014,
                        null,
                        null,
                        -71.05956779999998,
                        null,
                        -80.84312680000026,
                        -87.62442120000009,
                        null,
                        -83.00070650000028,
                        null,
                        -104.98470340000006,
                        -83.05673750000004,
                        -85.66786390000011,
                        null,
                        null,
                        -95.36769740000011,
                        -86.15835020000013,
                        -81.65565100000046,
                        -115.149225,
                        -118.24272660000001,
                        -85.75940699999967,
                        null,
                        null,
                        null,
                        -73.98658119999989,
                        -81.3790461999999,
                        -75.16378900000014,
                        null,
                        -79.99008609999987,
                        -122.67419489999935,
                        null,
                        null,
                        -79.94143129999993,
                        -121.49439960000014,
                        -117.16277140000005,
                        -122.41927039999986,
                        -122.33006240000019,
                        -117.42471339999987,
                        -90.19788890000005,
                        -76.14742440000008,
                        -82.45844399999991
                      ],
                      "marker": {
                        "color": [
                          63269.676666666644,
                          377087.3769791666,
                          487898.64093750017,
                          52894.5513541667,
                          364774.72031249985,
                          94173.74520833335,
                          155560.90083333344,
                          387162.6812499999,
                          168893.51072916665,
                          121763.33874999973,
                          796815.5474999998,
                          475103.4732291665,
                          262206.1677083333,
                          99602.2022916667,
                          179746.3175000001,
                          184175.27479166663,
                          741440.6210416667,
                          125334.68489583337,
                          119677.45062500022,
                          188277.0579166666,
                          1586055.9228125007,
                          63994.693020833336,
                          487763.27875000006,
                          142670.22187499996,
                          170959.76500000004,
                          954458.8832291666,
                          268529.95041666663,
                          291551.0503124999,
                          654660.5578124999,
                          75810.62802083336,
                          337890.37999999995,
                          203376.6401041666,
                          166592.92708333334,
                          104381.82552083336,
                          251421.79989583333,
                          287726.8773958334,
                          477248.63958333345,
                          315030.6532291667,
                          50654.96510416667,
                          106782.50343749998,
                          44404.45291666668,
                          299219.41572916653
                        ],
                        "coloraxis": "coloraxis",
                        "size": [
                          0.4274246395806034,
                          0.29923391374898545,
                          0.4292501404231419,
                          0.6688978343631027,
                          0.5336079385882793,
                          0.32834051051613256,
                          0.5563252824065392,
                          0.5427354428009727,
                          0.3102883355176933,
                          0.26373806403295386,
                          0.11384416151781807,
                          0.4581539037633393,
                          0.29903108032203707,
                          0.437870561068463,
                          0.24609155588841047,
                          0.6910066779005177,
                          0.2324002995693688,
                          0.24893122386569266,
                          0.267794732571931,
                          0.4371606440741438,
                          0.4864491668226911,
                          0.3598811084066651,
                          0.26576639830243964,
                          0.28452849029520055,
                          0.12885383511202653,
                          0.628736815827249,
                          0.2042064532234915,
                          0.41505180053672897,
                          0.3380765150096734,
                          0.36566186107470555,
                          0.6590604131560867,
                          0.637560069899519,
                          0.2181005429694809,
                          0.2813845721774939,
                          0.5981089683579852,
                          0.5915168819821501,
                          0.7647366285963924,
                          0.7415122012107596,
                          0.6732587530425,
                          0.527421519066342,
                          0.3536946888847272,
                          0.15877176558696915
                        ],
                        "sizemode": "area",
                        "sizeref": 0.0025
                      },
                      "name": "",
                      "showlegend": false,
                      "type": "scattergeo"
                    }
                  ],
                  "name": "2019"
                }
              ],
              "layout": {
                "coloraxis": {
                  "colorbar": {
                    "title": {
                      "text": "Total Volume"
                    }
                  },
                  "colorscale": [
                    [
                      0,
                      "#0d0887"
                    ],
                    [
                      0.1111111111111111,
                      "#46039f"
                    ],
                    [
                      0.2222222222222222,
                      "#7201a8"
                    ],
                    [
                      0.3333333333333333,
                      "#9c179e"
                    ],
                    [
                      0.4444444444444444,
                      "#bd3786"
                    ],
                    [
                      0.5555555555555556,
                      "#d8576b"
                    ],
                    [
                      0.6666666666666666,
                      "#ed7953"
                    ],
                    [
                      0.7777777777777778,
                      "#fb9f3a"
                    ],
                    [
                      0.8888888888888888,
                      "#fdca26"
                    ],
                    [
                      1,
                      "#f0f921"
                    ]
                  ]
                },
                "geo": {
                  "center": {},
                  "domain": {
                    "x": [
                      0,
                      1
                    ],
                    "y": [
                      0,
                      1
                    ]
                  },
                  "projection": {
                    "type": "albers usa"
                  },
                  "scope": "usa"
                },
                "height": 600,
                "legend": {
                  "itemsizing": "constant",
                  "tracegroupgap": 0
                },
                "margin": {
                  "t": 60
                },
                "sliders": [
                  {
                    "active": 0,
                    "currentvalue": {
                      "prefix": "year="
                    },
                    "len": 0.9,
                    "pad": {
                      "b": 10,
                      "t": 60
                    },
                    "steps": [
                      {
                        "args": [
                          [
                            "2015"
                          ],
                          {
                            "frame": {
                              "duration": 0,
                              "redraw": true
                            },
                            "fromcurrent": true,
                            "mode": "immediate",
                            "transition": {
                              "duration": 0,
                              "easing": "linear"
                            }
                          }
                        ],
                        "label": "2015",
                        "method": "animate"
                      },
                      {
                        "args": [
                          [
                            "2016"
                          ],
                          {
                            "frame": {
                              "duration": 0,
                              "redraw": true
                            },
                            "fromcurrent": true,
                            "mode": "immediate",
                            "transition": {
                              "duration": 0,
                              "easing": "linear"
                            }
                          }
                        ],
                        "label": "2016",
                        "method": "animate"
                      },
                      {
                        "args": [
                          [
                            "2017"
                          ],
                          {
                            "frame": {
                              "duration": 0,
                              "redraw": true
                            },
                            "fromcurrent": true,
                            "mode": "immediate",
                            "transition": {
                              "duration": 0,
                              "easing": "linear"
                            }
                          }
                        ],
                        "label": "2017",
                        "method": "animate"
                      },
                      {
                        "args": [
                          [
                            "2018"
                          ],
                          {
                            "frame": {
                              "duration": 0,
                              "redraw": true
                            },
                            "fromcurrent": true,
                            "mode": "immediate",
                            "transition": {
                              "duration": 0,
                              "easing": "linear"
                            }
                          }
                        ],
                        "label": "2018",
                        "method": "animate"
                      },
                      {
                        "args": [
                          [
                            "2019"
                          ],
                          {
                            "frame": {
                              "duration": 0,
                              "redraw": true
                            },
                            "fromcurrent": true,
                            "mode": "immediate",
                            "transition": {
                              "duration": 0,
                              "easing": "linear"
                            }
                          }
                        ],
                        "label": "2019",
                        "method": "animate"
                      }
                    ],
                    "x": 0.1,
                    "xanchor": "left",
                    "y": 0,
                    "yanchor": "top"
                  }
                ],
                "template": {
                  "data": {
                    "bar": [
                      {
                        "error_x": {
                          "color": "#2a3f5f"
                        },
                        "error_y": {
                          "color": "#2a3f5f"
                        },
                        "marker": {
                          "line": {
                            "color": "#E5ECF6",
                            "width": 0.5
                          }
                        },
                        "type": "bar"
                      }
                    ],
                    "barpolar": [
                      {
                        "marker": {
                          "line": {
                            "color": "#E5ECF6",
                            "width": 0.5
                          }
                        },
                        "type": "barpolar"
                      }
                    ],
                    "carpet": [
                      {
                        "aaxis": {
                          "endlinecolor": "#2a3f5f",
                          "gridcolor": "white",
                          "linecolor": "white",
                          "minorgridcolor": "white",
                          "startlinecolor": "#2a3f5f"
                        },
                        "baxis": {
                          "endlinecolor": "#2a3f5f",
                          "gridcolor": "white",
                          "linecolor": "white",
                          "minorgridcolor": "white",
                          "startlinecolor": "#2a3f5f"
                        },
                        "type": "carpet"
                      }
                    ],
                    "choropleth": [
                      {
                        "colorbar": {
                          "outlinewidth": 0,
                          "ticks": ""
                        },
                        "type": "choropleth"
                      }
                    ],
                    "contour": [
                      {
                        "colorbar": {
                          "outlinewidth": 0,
                          "ticks": ""
                        },
                        "colorscale": [
                          [
                            0,
                            "#0d0887"
                          ],
                          [
                            0.1111111111111111,
                            "#46039f"
                          ],
                          [
                            0.2222222222222222,
                            "#7201a8"
                          ],
                          [
                            0.3333333333333333,
                            "#9c179e"
                          ],
                          [
                            0.4444444444444444,
                            "#bd3786"
                          ],
                          [
                            0.5555555555555556,
                            "#d8576b"
                          ],
                          [
                            0.6666666666666666,
                            "#ed7953"
                          ],
                          [
                            0.7777777777777778,
                            "#fb9f3a"
                          ],
                          [
                            0.8888888888888888,
                            "#fdca26"
                          ],
                          [
                            1,
                            "#f0f921"
                          ]
                        ],
                        "type": "contour"
                      }
                    ],
                    "contourcarpet": [
                      {
                        "colorbar": {
                          "outlinewidth": 0,
                          "ticks": ""
                        },
                        "type": "contourcarpet"
                      }
                    ],
                    "heatmap": [
                      {
                        "colorbar": {
                          "outlinewidth": 0,
                          "ticks": ""
                        },
                        "colorscale": [
                          [
                            0,
                            "#0d0887"
                          ],
                          [
                            0.1111111111111111,
                            "#46039f"
                          ],
                          [
                            0.2222222222222222,
                            "#7201a8"
                          ],
                          [
                            0.3333333333333333,
                            "#9c179e"
                          ],
                          [
                            0.4444444444444444,
                            "#bd3786"
                          ],
                          [
                            0.5555555555555556,
                            "#d8576b"
                          ],
                          [
                            0.6666666666666666,
                            "#ed7953"
                          ],
                          [
                            0.7777777777777778,
                            "#fb9f3a"
                          ],
                          [
                            0.8888888888888888,
                            "#fdca26"
                          ],
                          [
                            1,
                            "#f0f921"
                          ]
                        ],
                        "type": "heatmap"
                      }
                    ],
                    "heatmapgl": [
                      {
                        "colorbar": {
                          "outlinewidth": 0,
                          "ticks": ""
                        },
                        "colorscale": [
                          [
                            0,
                            "#0d0887"
                          ],
                          [
                            0.1111111111111111,
                            "#46039f"
                          ],
                          [
                            0.2222222222222222,
                            "#7201a8"
                          ],
                          [
                            0.3333333333333333,
                            "#9c179e"
                          ],
                          [
                            0.4444444444444444,
                            "#bd3786"
                          ],
                          [
                            0.5555555555555556,
                            "#d8576b"
                          ],
                          [
                            0.6666666666666666,
                            "#ed7953"
                          ],
                          [
                            0.7777777777777778,
                            "#fb9f3a"
                          ],
                          [
                            0.8888888888888888,
                            "#fdca26"
                          ],
                          [
                            1,
                            "#f0f921"
                          ]
                        ],
                        "type": "heatmapgl"
                      }
                    ],
                    "histogram": [
                      {
                        "marker": {
                          "colorbar": {
                            "outlinewidth": 0,
                            "ticks": ""
                          }
                        },
                        "type": "histogram"
                      }
                    ],
                    "histogram2d": [
                      {
                        "colorbar": {
                          "outlinewidth": 0,
                          "ticks": ""
                        },
                        "colorscale": [
                          [
                            0,
                            "#0d0887"
                          ],
                          [
                            0.1111111111111111,
                            "#46039f"
                          ],
                          [
                            0.2222222222222222,
                            "#7201a8"
                          ],
                          [
                            0.3333333333333333,
                            "#9c179e"
                          ],
                          [
                            0.4444444444444444,
                            "#bd3786"
                          ],
                          [
                            0.5555555555555556,
                            "#d8576b"
                          ],
                          [
                            0.6666666666666666,
                            "#ed7953"
                          ],
                          [
                            0.7777777777777778,
                            "#fb9f3a"
                          ],
                          [
                            0.8888888888888888,
                            "#fdca26"
                          ],
                          [
                            1,
                            "#f0f921"
                          ]
                        ],
                        "type": "histogram2d"
                      }
                    ],
                    "histogram2dcontour": [
                      {
                        "colorbar": {
                          "outlinewidth": 0,
                          "ticks": ""
                        },
                        "colorscale": [
                          [
                            0,
                            "#0d0887"
                          ],
                          [
                            0.1111111111111111,
                            "#46039f"
                          ],
                          [
                            0.2222222222222222,
                            "#7201a8"
                          ],
                          [
                            0.3333333333333333,
                            "#9c179e"
                          ],
                          [
                            0.4444444444444444,
                            "#bd3786"
                          ],
                          [
                            0.5555555555555556,
                            "#d8576b"
                          ],
                          [
                            0.6666666666666666,
                            "#ed7953"
                          ],
                          [
                            0.7777777777777778,
                            "#fb9f3a"
                          ],
                          [
                            0.8888888888888888,
                            "#fdca26"
                          ],
                          [
                            1,
                            "#f0f921"
                          ]
                        ],
                        "type": "histogram2dcontour"
                      }
                    ],
                    "mesh3d": [
                      {
                        "colorbar": {
                          "outlinewidth": 0,
                          "ticks": ""
                        },
                        "type": "mesh3d"
                      }
                    ],
                    "parcoords": [
                      {
                        "line": {
                          "colorbar": {
                            "outlinewidth": 0,
                            "ticks": ""
                          }
                        },
                        "type": "parcoords"
                      }
                    ],
                    "pie": [
                      {
                        "automargin": true,
                        "type": "pie"
                      }
                    ],
                    "scatter": [
                      {
                        "marker": {
                          "colorbar": {
                            "outlinewidth": 0,
                            "ticks": ""
                          }
                        },
                        "type": "scatter"
                      }
                    ],
                    "scatter3d": [
                      {
                        "line": {
                          "colorbar": {
                            "outlinewidth": 0,
                            "ticks": ""
                          }
                        },
                        "marker": {
                          "colorbar": {
                            "outlinewidth": 0,
                            "ticks": ""
                          }
                        },
                        "type": "scatter3d"
                      }
                    ],
                    "scattercarpet": [
                      {
                        "marker": {
                          "colorbar": {
                            "outlinewidth": 0,
                            "ticks": ""
                          }
                        },
                        "type": "scattercarpet"
                      }
                    ],
                    "scattergeo": [
                      {
                        "marker": {
                          "colorbar": {
                            "outlinewidth": 0,
                            "ticks": ""
                          }
                        },
                        "type": "scattergeo"
                      }
                    ],
                    "scattergl": [
                      {
                        "marker": {
                          "colorbar": {
                            "outlinewidth": 0,
                            "ticks": ""
                          }
                        },
                        "type": "scattergl"
                      }
                    ],
                    "scattermapbox": [
                      {
                        "marker": {
                          "colorbar": {
                            "outlinewidth": 0,
                            "ticks": ""
                          }
                        },
                        "type": "scattermapbox"
                      }
                    ],
                    "scatterpolar": [
                      {
                        "marker": {
                          "colorbar": {
                            "outlinewidth": 0,
                            "ticks": ""
                          }
                        },
                        "type": "scatterpolar"
                      }
                    ],
                    "scatterpolargl": [
                      {
                        "marker": {
                          "colorbar": {
                            "outlinewidth": 0,
                            "ticks": ""
                          }
                        },
                        "type": "scatterpolargl"
                      }
                    ],
                    "scatterternary": [
                      {
                        "marker": {
                          "colorbar": {
                            "outlinewidth": 0,
                            "ticks": ""
                          }
                        },
                        "type": "scatterternary"
                      }
                    ],
                    "surface": [
                      {
                        "colorbar": {
                          "outlinewidth": 0,
                          "ticks": ""
                        },
                        "colorscale": [
                          [
                            0,
                            "#0d0887"
                          ],
                          [
                            0.1111111111111111,
                            "#46039f"
                          ],
                          [
                            0.2222222222222222,
                            "#7201a8"
                          ],
                          [
                            0.3333333333333333,
                            "#9c179e"
                          ],
                          [
                            0.4444444444444444,
                            "#bd3786"
                          ],
                          [
                            0.5555555555555556,
                            "#d8576b"
                          ],
                          [
                            0.6666666666666666,
                            "#ed7953"
                          ],
                          [
                            0.7777777777777778,
                            "#fb9f3a"
                          ],
                          [
                            0.8888888888888888,
                            "#fdca26"
                          ],
                          [
                            1,
                            "#f0f921"
                          ]
                        ],
                        "type": "surface"
                      }
                    ],
                    "table": [
                      {
                        "cells": {
                          "fill": {
                            "color": "#EBF0F8"
                          },
                          "line": {
                            "color": "white"
                          }
                        },
                        "header": {
                          "fill": {
                            "color": "#C8D4E3"
                          },
                          "line": {
                            "color": "white"
                          }
                        },
                        "type": "table"
                      }
                    ]
                  },
                  "layout": {
                    "annotationdefaults": {
                      "arrowcolor": "#2a3f5f",
                      "arrowhead": 0,
                      "arrowwidth": 1
                    },
                    "coloraxis": {
                      "colorbar": {
                        "outlinewidth": 0,
                        "ticks": ""
                      }
                    },
                    "colorscale": {
                      "diverging": [
                        [
                          0,
                          "#8e0152"
                        ],
                        [
                          0.1,
                          "#c51b7d"
                        ],
                        [
                          0.2,
                          "#de77ae"
                        ],
                        [
                          0.3,
                          "#f1b6da"
                        ],
                        [
                          0.4,
                          "#fde0ef"
                        ],
                        [
                          0.5,
                          "#f7f7f7"
                        ],
                        [
                          0.6,
                          "#e6f5d0"
                        ],
                        [
                          0.7,
                          "#b8e186"
                        ],
                        [
                          0.8,
                          "#7fbc41"
                        ],
                        [
                          0.9,
                          "#4d9221"
                        ],
                        [
                          1,
                          "#276419"
                        ]
                      ],
                      "sequential": [
                        [
                          0,
                          "#0d0887"
                        ],
                        [
                          0.1111111111111111,
                          "#46039f"
                        ],
                        [
                          0.2222222222222222,
                          "#7201a8"
                        ],
                        [
                          0.3333333333333333,
                          "#9c179e"
                        ],
                        [
                          0.4444444444444444,
                          "#bd3786"
                        ],
                        [
                          0.5555555555555556,
                          "#d8576b"
                        ],
                        [
                          0.6666666666666666,
                          "#ed7953"
                        ],
                        [
                          0.7777777777777778,
                          "#fb9f3a"
                        ],
                        [
                          0.8888888888888888,
                          "#fdca26"
                        ],
                        [
                          1,
                          "#f0f921"
                        ]
                      ],
                      "sequentialminus": [
                        [
                          0,
                          "#0d0887"
                        ],
                        [
                          0.1111111111111111,
                          "#46039f"
                        ],
                        [
                          0.2222222222222222,
                          "#7201a8"
                        ],
                        [
                          0.3333333333333333,
                          "#9c179e"
                        ],
                        [
                          0.4444444444444444,
                          "#bd3786"
                        ],
                        [
                          0.5555555555555556,
                          "#d8576b"
                        ],
                        [
                          0.6666666666666666,
                          "#ed7953"
                        ],
                        [
                          0.7777777777777778,
                          "#fb9f3a"
                        ],
                        [
                          0.8888888888888888,
                          "#fdca26"
                        ],
                        [
                          1,
                          "#f0f921"
                        ]
                      ]
                    },
                    "colorway": [
                      "#636efa",
                      "#EF553B",
                      "#00cc96",
                      "#ab63fa",
                      "#FFA15A",
                      "#19d3f3",
                      "#FF6692",
                      "#B6E880",
                      "#FF97FF",
                      "#FECB52"
                    ],
                    "font": {
                      "color": "#2a3f5f"
                    },
                    "geo": {
                      "bgcolor": "white",
                      "lakecolor": "white",
                      "landcolor": "#E5ECF6",
                      "showlakes": true,
                      "showland": true,
                      "subunitcolor": "white"
                    },
                    "hoverlabel": {
                      "align": "left"
                    },
                    "hovermode": "closest",
                    "mapbox": {
                      "style": "light"
                    },
                    "paper_bgcolor": "white",
                    "plot_bgcolor": "#E5ECF6",
                    "polar": {
                      "angularaxis": {
                        "gridcolor": "white",
                        "linecolor": "white",
                        "ticks": ""
                      },
                      "bgcolor": "#E5ECF6",
                      "radialaxis": {
                        "gridcolor": "white",
                        "linecolor": "white",
                        "ticks": ""
                      }
                    },
                    "scene": {
                      "xaxis": {
                        "backgroundcolor": "#E5ECF6",
                        "gridcolor": "white",
                        "gridwidth": 2,
                        "linecolor": "white",
                        "showbackground": true,
                        "ticks": "",
                        "zerolinecolor": "white"
                      },
                      "yaxis": {
                        "backgroundcolor": "#E5ECF6",
                        "gridcolor": "white",
                        "gridwidth": 2,
                        "linecolor": "white",
                        "showbackground": true,
                        "ticks": "",
                        "zerolinecolor": "white"
                      },
                      "zaxis": {
                        "backgroundcolor": "#E5ECF6",
                        "gridcolor": "white",
                        "gridwidth": 2,
                        "linecolor": "white",
                        "showbackground": true,
                        "ticks": "",
                        "zerolinecolor": "white"
                      }
                    },
                    "shapedefaults": {
                      "line": {
                        "color": "#2a3f5f"
                      }
                    },
                    "ternary": {
                      "aaxis": {
                        "gridcolor": "white",
                        "linecolor": "white",
                        "ticks": ""
                      },
                      "baxis": {
                        "gridcolor": "white",
                        "linecolor": "white",
                        "ticks": ""
                      },
                      "bgcolor": "#E5ECF6",
                      "caxis": {
                        "gridcolor": "white",
                        "linecolor": "white",
                        "ticks": ""
                      }
                    },
                    "title": {
                      "x": 0.05
                    },
                    "xaxis": {
                      "automargin": true,
                      "gridcolor": "white",
                      "linecolor": "white",
                      "ticks": "",
                      "title": {
                        "standoff": 15
                      },
                      "zerolinecolor": "white",
                      "zerolinewidth": 2
                    },
                    "yaxis": {
                      "automargin": true,
                      "gridcolor": "white",
                      "linecolor": "white",
                      "ticks": "",
                      "title": {
                        "standoff": 15
                      },
                      "zerolinecolor": "white",
                      "zerolinewidth": 2
                    }
                  }
                },
                "updatemenus": [
                  {
                    "buttons": [
                      {
                        "args": [
                          null,
                          {
                            "frame": {
                              "duration": 500,
                              "redraw": true
                            },
                            "fromcurrent": true,
                            "mode": "immediate",
                            "transition": {
                              "duration": 500,
                              "easing": "linear"
                            }
                          }
                        ],
                        "label": "&#9654;",
                        "method": "animate"
                      },
                      {
                        "args": [
                          [
                            null
                          ],
                          {
                            "frame": {
                              "duration": 0,
                              "redraw": true
                            },
                            "fromcurrent": true,
                            "mode": "immediate",
                            "transition": {
                              "duration": 0,
                              "easing": "linear"
                            }
                          }
                        ],
                        "label": "&#9724;",
                        "method": "animate"
                      }
                    ],
                    "direction": "left",
                    "pad": {
                      "r": 10,
                      "t": 70
                    },
                    "showactive": false,
                    "type": "buttons",
                    "x": 0.1,
                    "xanchor": "right",
                    "y": 0,
                    "yanchor": "top"
                  }
                ]
              }
            },
            "text/html": [
              "<div>\n",
              "        \n",
              "        \n",
              "            <div id=\"29bff892-8f72-47b3-a70c-b6772e621c92\" class=\"plotly-graph-div\" style=\"height:600px; width:100%;\"></div>\n",
              "            <script type=\"text/javascript\">\n",
              "                require([\"plotly\"], function(Plotly) {\n",
              "                    window.PLOTLYENV=window.PLOTLYENV || {};\n",
              "                    \n",
              "                if (document.getElementById(\"29bff892-8f72-47b3-a70c-b6772e621c92\")) {\n",
              "                    Plotly.newPlot(\n",
              "                        '29bff892-8f72-47b3-a70c-b6772e621c92',\n",
              "                        [{\"geo\": \"geo\", \"hoverlabel\": {\"namelength\": 0}, \"hovertemplate\": \"<b>%{hovertext}</b><br><br>year=2015<br>NormalizedAveragePrice=%{marker.size}<br>lat=%{lat}<br>lon=%{lon}<br>Total Volume=%{marker.color}\", \"hovertext\": [\"Albany\", \"Atlanta\", \"BaltimoreWashington\", \"Boise\", \"Boston\", \"BuffaloRochester\", \"Charlotte\", \"Chicago\", \"CincinnatiDayton\", \"Columbus\", \"DallasFtWorth\", \"Denver\", \"Detroit\", \"GrandRapids\", \"HarrisburgScranton\", \"HartfordSpringfield\", \"Houston\", \"Indianapolis\", \"Jacksonville\", \"LasVegas\", \"LosAngeles\", \"Louisville\", \"MiamiFtLauderdale\", \"Nashville\", \"NewOrleansMobile\", \"NewYork\", \"Orlando\", \"Philadelphia\", \"PhoenixTucson\", \"Pittsburgh\", \"Portland\", \"RaleighGreensboro\", \"RichmondNorfolk\", \"Roanoke\", \"Sacramento\", \"SanDiego\", \"SanFrancisco\", \"Seattle\", \"Spokane\", \"StLouis\", \"Syracuse\", \"Tampa\"], \"lat\": [42.651167399999736, 33.74909870000007, null, null, 42.360482300000015, null, 35.22708690000012, 41.87555460000011, null, 39.962260099999924, null, 39.7391536, 42.34866349999996, 42.96324050000008, null, null, 29.758938200000063, 39.768333099999936, 30.332183799999875, 36.16628589999988, 34.05371699999991, 38.25423760000008, null, null, null, 40.73059909999996, 28.542117500000014, 39.952334999999955, null, 40.44169409999996, 45.52024709999989, null, null, 37.27097300000005, 38.581571900000085, 32.717420899999986, 37.77927679999996, 47.60383209999999, 47.65886030000001, 38.627273299999835, 43.04812210000007, 27.947759499999975], \"legendgroup\": \"\", \"lon\": [-73.75496800000036, -84.3901849000001, null, null, -71.05956779999998, null, -80.84312680000023, -87.62442120000009, null, -83.00070650000046, null, -104.98470340000001, -83.0567375, -85.66786389999999, null, null, -95.36769740000017, -86.15835020000007, -81.6556510000005, -115.14922500000009, -118.24272659999997, -85.7594069999998, null, null, null, -73.98658119999988, -81.37904619999989, -75.16378900000015, null, -79.99008609999987, -122.6741948999993, null, null, -79.94143129999992, -121.49439960000015, -117.1627714000001, -122.41927039999986, -122.33006240000019, -117.42471339999987, -90.19788889999992, -76.14742440000008, -82.45844399999993], \"marker\": {\"color\": [38749.00413461533, 223381.71269230772, 390822.8801923079, 36388.05134615382, 263990.30423076916, 56665.71730769232, 91224.45596153833, 398987.65894230775, 113040.15384615383, 75478.67423076913, 579916.4291346153, 376830.22519230755, 172880.57057692314, 93662.91490384628, 111902.93182692307, 145790.79798076925, 532571.840096154, 78740.98105769229, 69004.58346153876, 149446.42942307697, 1425198.9709615386, 41240.415096153854, 241985.69115384622, 83287.65528846146, 121772.19173076918, 678919.5760576925, 141534.38548076927, 200886.730673077, 549771.9757692305, 43653.84221153847, 268687.0706730769, 123243.59894230767, 112029.60307692311, 65180.89009615388, 211351.32576923078, 255631.9809615386, 379286.55557692295, 279395.18701923074, 40208.530480769245, 95217.06961538477, 26291.665961538478, 164726.90240384612], \"coloraxis\": \"coloraxis\", \"size\": [0.5323909380265883, 0.37839355925856544, 0.3669724770642191, 0.3717468638831676, 0.46891967796292766, 0.5381014791237599, 0.5684328777382519, 0.4012357236472568, 0.20483055607564093, 0.2744804343755862, 0.0836921924733196, 0.19069462647444313, 0.3372027710166634, 0.41321849840853875, 0.4670473694064785, 0.7359108781127122, 0.054671409848342956, 0.34178992697996624, 0.4976596143044394, 0.36697247706421976, 0.1563377644635835, 0.29451413592960196, 0.38129563752106366, 0.27775697434937285, 0.2684890469949446, 0.635367908631342, 0.4940086126193597, 0.5483991761842346, 0.16083130499906395, 0.4043250327653989, 0.3065905261187023, 0.445422205579479, 0.27513574237034244, 0.22898333645384739, 0.4499157461149599, 0.27485489608687463, 0.6125257442426506, 0.4189290395057108, 0.39767833739000125, 0.49794046058790453, 0.5229357798165142, 0.35508331773076196], \"sizemode\": \"area\", \"sizeref\": 0.0025}, \"name\": \"\", \"showlegend\": false, \"type\": \"scattergeo\"}],\n",
              "                        {\"coloraxis\": {\"colorbar\": {\"title\": {\"text\": \"Total Volume\"}}, \"colorscale\": [[0.0, \"#0d0887\"], [0.1111111111111111, \"#46039f\"], [0.2222222222222222, \"#7201a8\"], [0.3333333333333333, \"#9c179e\"], [0.4444444444444444, \"#bd3786\"], [0.5555555555555556, \"#d8576b\"], [0.6666666666666666, \"#ed7953\"], [0.7777777777777778, \"#fb9f3a\"], [0.8888888888888888, \"#fdca26\"], [1.0, \"#f0f921\"]]}, \"geo\": {\"center\": {}, \"domain\": {\"x\": [0.0, 1.0], \"y\": [0.0, 1.0]}, \"projection\": {\"type\": \"albers usa\"}, \"scope\": \"usa\"}, \"height\": 600, \"legend\": {\"itemsizing\": \"constant\", \"tracegroupgap\": 0}, \"margin\": {\"t\": 60}, \"sliders\": [{\"active\": 0, \"currentvalue\": {\"prefix\": \"year=\"}, \"len\": 0.9, \"pad\": {\"b\": 10, \"t\": 60}, \"steps\": [{\"args\": [[\"2015\"], {\"frame\": {\"duration\": 0, \"redraw\": true}, \"fromcurrent\": true, \"mode\": \"immediate\", \"transition\": {\"duration\": 0, \"easing\": \"linear\"}}], \"label\": \"2015\", \"method\": \"animate\"}, {\"args\": [[\"2016\"], {\"frame\": {\"duration\": 0, \"redraw\": true}, \"fromcurrent\": true, \"mode\": \"immediate\", \"transition\": {\"duration\": 0, \"easing\": \"linear\"}}], \"label\": \"2016\", \"method\": \"animate\"}, {\"args\": [[\"2017\"], {\"frame\": {\"duration\": 0, \"redraw\": true}, \"fromcurrent\": true, \"mode\": \"immediate\", \"transition\": {\"duration\": 0, \"easing\": \"linear\"}}], \"label\": \"2017\", \"method\": \"animate\"}, {\"args\": [[\"2018\"], {\"frame\": {\"duration\": 0, \"redraw\": true}, \"fromcurrent\": true, \"mode\": \"immediate\", \"transition\": {\"duration\": 0, \"easing\": \"linear\"}}], \"label\": \"2018\", \"method\": \"animate\"}, {\"args\": [[\"2019\"], {\"frame\": {\"duration\": 0, \"redraw\": true}, \"fromcurrent\": true, \"mode\": \"immediate\", \"transition\": {\"duration\": 0, \"easing\": \"linear\"}}], \"label\": \"2019\", \"method\": \"animate\"}], \"x\": 0.1, \"xanchor\": \"left\", \"y\": 0, \"yanchor\": \"top\"}], \"template\": {\"data\": {\"bar\": [{\"error_x\": {\"color\": \"#2a3f5f\"}, \"error_y\": {\"color\": \"#2a3f5f\"}, \"marker\": {\"line\": {\"color\": \"#E5ECF6\", \"width\": 0.5}}, \"type\": \"bar\"}], \"barpolar\": [{\"marker\": {\"line\": {\"color\": \"#E5ECF6\", \"width\": 0.5}}, \"type\": \"barpolar\"}], \"carpet\": [{\"aaxis\": {\"endlinecolor\": \"#2a3f5f\", \"gridcolor\": \"white\", \"linecolor\": \"white\", \"minorgridcolor\": \"white\", \"startlinecolor\": \"#2a3f5f\"}, \"baxis\": {\"endlinecolor\": \"#2a3f5f\", \"gridcolor\": \"white\", \"linecolor\": \"white\", \"minorgridcolor\": \"white\", \"startlinecolor\": \"#2a3f5f\"}, \"type\": \"carpet\"}], \"choropleth\": [{\"colorbar\": {\"outlinewidth\": 0, \"ticks\": \"\"}, \"type\": \"choropleth\"}], \"contour\": [{\"colorbar\": {\"outlinewidth\": 0, \"ticks\": \"\"}, \"colorscale\": [[0.0, \"#0d0887\"], [0.1111111111111111, \"#46039f\"], [0.2222222222222222, \"#7201a8\"], [0.3333333333333333, \"#9c179e\"], [0.4444444444444444, \"#bd3786\"], [0.5555555555555556, \"#d8576b\"], [0.6666666666666666, \"#ed7953\"], [0.7777777777777778, \"#fb9f3a\"], [0.8888888888888888, \"#fdca26\"], [1.0, \"#f0f921\"]], \"type\": \"contour\"}], \"contourcarpet\": [{\"colorbar\": {\"outlinewidth\": 0, \"ticks\": \"\"}, \"type\": \"contourcarpet\"}], \"heatmap\": [{\"colorbar\": {\"outlinewidth\": 0, \"ticks\": \"\"}, \"colorscale\": [[0.0, \"#0d0887\"], [0.1111111111111111, \"#46039f\"], [0.2222222222222222, \"#7201a8\"], [0.3333333333333333, \"#9c179e\"], [0.4444444444444444, \"#bd3786\"], [0.5555555555555556, \"#d8576b\"], [0.6666666666666666, \"#ed7953\"], [0.7777777777777778, \"#fb9f3a\"], [0.8888888888888888, \"#fdca26\"], [1.0, \"#f0f921\"]], \"type\": \"heatmap\"}], \"heatmapgl\": [{\"colorbar\": {\"outlinewidth\": 0, \"ticks\": \"\"}, \"colorscale\": [[0.0, \"#0d0887\"], [0.1111111111111111, \"#46039f\"], [0.2222222222222222, \"#7201a8\"], [0.3333333333333333, \"#9c179e\"], [0.4444444444444444, \"#bd3786\"], [0.5555555555555556, \"#d8576b\"], [0.6666666666666666, \"#ed7953\"], [0.7777777777777778, \"#fb9f3a\"], [0.8888888888888888, \"#fdca26\"], [1.0, \"#f0f921\"]], \"type\": \"heatmapgl\"}], \"histogram\": [{\"marker\": {\"colorbar\": {\"outlinewidth\": 0, \"ticks\": \"\"}}, \"type\": \"histogram\"}], \"histogram2d\": [{\"colorbar\": {\"outlinewidth\": 0, \"ticks\": \"\"}, \"colorscale\": [[0.0, \"#0d0887\"], [0.1111111111111111, \"#46039f\"], [0.2222222222222222, \"#7201a8\"], [0.3333333333333333, \"#9c179e\"], [0.4444444444444444, \"#bd3786\"], [0.5555555555555556, \"#d8576b\"], [0.6666666666666666, \"#ed7953\"], [0.7777777777777778, \"#fb9f3a\"], [0.8888888888888888, \"#fdca26\"], [1.0, \"#f0f921\"]], \"type\": \"histogram2d\"}], \"histogram2dcontour\": [{\"colorbar\": {\"outlinewidth\": 0, \"ticks\": \"\"}, \"colorscale\": [[0.0, \"#0d0887\"], [0.1111111111111111, \"#46039f\"], [0.2222222222222222, \"#7201a8\"], [0.3333333333333333, \"#9c179e\"], [0.4444444444444444, \"#bd3786\"], [0.5555555555555556, \"#d8576b\"], [0.6666666666666666, \"#ed7953\"], [0.7777777777777778, \"#fb9f3a\"], [0.8888888888888888, \"#fdca26\"], [1.0, \"#f0f921\"]], \"type\": \"histogram2dcontour\"}], \"mesh3d\": [{\"colorbar\": {\"outlinewidth\": 0, \"ticks\": \"\"}, \"type\": \"mesh3d\"}], \"parcoords\": [{\"line\": {\"colorbar\": {\"outlinewidth\": 0, \"ticks\": \"\"}}, \"type\": \"parcoords\"}], \"pie\": [{\"automargin\": true, \"type\": \"pie\"}], \"scatter\": [{\"marker\": {\"colorbar\": {\"outlinewidth\": 0, \"ticks\": \"\"}}, \"type\": \"scatter\"}], \"scatter3d\": [{\"line\": {\"colorbar\": {\"outlinewidth\": 0, \"ticks\": \"\"}}, \"marker\": {\"colorbar\": {\"outlinewidth\": 0, \"ticks\": \"\"}}, \"type\": \"scatter3d\"}], \"scattercarpet\": [{\"marker\": {\"colorbar\": {\"outlinewidth\": 0, \"ticks\": \"\"}}, \"type\": \"scattercarpet\"}], \"scattergeo\": [{\"marker\": {\"colorbar\": {\"outlinewidth\": 0, \"ticks\": \"\"}}, \"type\": \"scattergeo\"}], \"scattergl\": [{\"marker\": {\"colorbar\": {\"outlinewidth\": 0, \"ticks\": \"\"}}, \"type\": \"scattergl\"}], \"scattermapbox\": [{\"marker\": {\"colorbar\": {\"outlinewidth\": 0, \"ticks\": \"\"}}, \"type\": \"scattermapbox\"}], \"scatterpolar\": [{\"marker\": {\"colorbar\": {\"outlinewidth\": 0, \"ticks\": \"\"}}, \"type\": \"scatterpolar\"}], \"scatterpolargl\": [{\"marker\": {\"colorbar\": {\"outlinewidth\": 0, \"ticks\": \"\"}}, \"type\": \"scatterpolargl\"}], \"scatterternary\": [{\"marker\": {\"colorbar\": {\"outlinewidth\": 0, \"ticks\": \"\"}}, \"type\": \"scatterternary\"}], \"surface\": [{\"colorbar\": {\"outlinewidth\": 0, \"ticks\": \"\"}, \"colorscale\": [[0.0, \"#0d0887\"], [0.1111111111111111, \"#46039f\"], [0.2222222222222222, \"#7201a8\"], [0.3333333333333333, \"#9c179e\"], [0.4444444444444444, \"#bd3786\"], [0.5555555555555556, \"#d8576b\"], [0.6666666666666666, \"#ed7953\"], [0.7777777777777778, \"#fb9f3a\"], [0.8888888888888888, \"#fdca26\"], [1.0, \"#f0f921\"]], \"type\": \"surface\"}], \"table\": [{\"cells\": {\"fill\": {\"color\": \"#EBF0F8\"}, \"line\": {\"color\": \"white\"}}, \"header\": {\"fill\": {\"color\": \"#C8D4E3\"}, \"line\": {\"color\": \"white\"}}, \"type\": \"table\"}]}, \"layout\": {\"annotationdefaults\": {\"arrowcolor\": \"#2a3f5f\", \"arrowhead\": 0, \"arrowwidth\": 1}, \"coloraxis\": {\"colorbar\": {\"outlinewidth\": 0, \"ticks\": \"\"}}, \"colorscale\": {\"diverging\": [[0, \"#8e0152\"], [0.1, \"#c51b7d\"], [0.2, \"#de77ae\"], [0.3, \"#f1b6da\"], [0.4, \"#fde0ef\"], [0.5, \"#f7f7f7\"], [0.6, \"#e6f5d0\"], [0.7, \"#b8e186\"], [0.8, \"#7fbc41\"], [0.9, \"#4d9221\"], [1, \"#276419\"]], \"sequential\": [[0.0, \"#0d0887\"], [0.1111111111111111, \"#46039f\"], [0.2222222222222222, \"#7201a8\"], [0.3333333333333333, \"#9c179e\"], [0.4444444444444444, \"#bd3786\"], [0.5555555555555556, \"#d8576b\"], [0.6666666666666666, \"#ed7953\"], [0.7777777777777778, \"#fb9f3a\"], [0.8888888888888888, \"#fdca26\"], [1.0, \"#f0f921\"]], \"sequentialminus\": [[0.0, \"#0d0887\"], [0.1111111111111111, \"#46039f\"], [0.2222222222222222, \"#7201a8\"], [0.3333333333333333, \"#9c179e\"], [0.4444444444444444, \"#bd3786\"], [0.5555555555555556, \"#d8576b\"], [0.6666666666666666, \"#ed7953\"], [0.7777777777777778, \"#fb9f3a\"], [0.8888888888888888, \"#fdca26\"], [1.0, \"#f0f921\"]]}, \"colorway\": [\"#636efa\", \"#EF553B\", \"#00cc96\", \"#ab63fa\", \"#FFA15A\", \"#19d3f3\", \"#FF6692\", \"#B6E880\", \"#FF97FF\", \"#FECB52\"], \"font\": {\"color\": \"#2a3f5f\"}, \"geo\": {\"bgcolor\": \"white\", \"lakecolor\": \"white\", \"landcolor\": \"#E5ECF6\", \"showlakes\": true, \"showland\": true, \"subunitcolor\": \"white\"}, \"hoverlabel\": {\"align\": \"left\"}, \"hovermode\": \"closest\", \"mapbox\": {\"style\": \"light\"}, \"paper_bgcolor\": \"white\", \"plot_bgcolor\": \"#E5ECF6\", \"polar\": {\"angularaxis\": {\"gridcolor\": \"white\", \"linecolor\": \"white\", \"ticks\": \"\"}, \"bgcolor\": \"#E5ECF6\", \"radialaxis\": {\"gridcolor\": \"white\", \"linecolor\": \"white\", \"ticks\": \"\"}}, \"scene\": {\"xaxis\": {\"backgroundcolor\": \"#E5ECF6\", \"gridcolor\": \"white\", \"gridwidth\": 2, \"linecolor\": \"white\", \"showbackground\": true, \"ticks\": \"\", \"zerolinecolor\": \"white\"}, \"yaxis\": {\"backgroundcolor\": \"#E5ECF6\", \"gridcolor\": \"white\", \"gridwidth\": 2, \"linecolor\": \"white\", \"showbackground\": true, \"ticks\": \"\", \"zerolinecolor\": \"white\"}, \"zaxis\": {\"backgroundcolor\": \"#E5ECF6\", \"gridcolor\": \"white\", \"gridwidth\": 2, \"linecolor\": \"white\", \"showbackground\": true, \"ticks\": \"\", \"zerolinecolor\": \"white\"}}, \"shapedefaults\": {\"line\": {\"color\": \"#2a3f5f\"}}, \"ternary\": {\"aaxis\": {\"gridcolor\": \"white\", \"linecolor\": \"white\", \"ticks\": \"\"}, \"baxis\": {\"gridcolor\": \"white\", \"linecolor\": \"white\", \"ticks\": \"\"}, \"bgcolor\": \"#E5ECF6\", \"caxis\": {\"gridcolor\": \"white\", \"linecolor\": \"white\", \"ticks\": \"\"}}, \"title\": {\"x\": 0.05}, \"xaxis\": {\"automargin\": true, \"gridcolor\": \"white\", \"linecolor\": \"white\", \"ticks\": \"\", \"title\": {\"standoff\": 15}, \"zerolinecolor\": \"white\", \"zerolinewidth\": 2}, \"yaxis\": {\"automargin\": true, \"gridcolor\": \"white\", \"linecolor\": \"white\", \"ticks\": \"\", \"title\": {\"standoff\": 15}, \"zerolinecolor\": \"white\", \"zerolinewidth\": 2}}}, \"updatemenus\": [{\"buttons\": [{\"args\": [null, {\"frame\": {\"duration\": 500, \"redraw\": true}, \"fromcurrent\": true, \"mode\": \"immediate\", \"transition\": {\"duration\": 500, \"easing\": \"linear\"}}], \"label\": \"&#9654;\", \"method\": \"animate\"}, {\"args\": [[null], {\"frame\": {\"duration\": 0, \"redraw\": true}, \"fromcurrent\": true, \"mode\": \"immediate\", \"transition\": {\"duration\": 0, \"easing\": \"linear\"}}], \"label\": \"&#9724;\", \"method\": \"animate\"}], \"direction\": \"left\", \"pad\": {\"r\": 10, \"t\": 70}, \"showactive\": false, \"type\": \"buttons\", \"x\": 0.1, \"xanchor\": \"right\", \"y\": 0, \"yanchor\": \"top\"}]},\n",
              "                        {\"responsive\": true}\n",
              "                    ).then(function(){\n",
              "                            Plotly.addFrames('29bff892-8f72-47b3-a70c-b6772e621c92', [{\"data\": [{\"geo\": \"geo\", \"hoverlabel\": {\"namelength\": 0}, \"hovertemplate\": \"<b>%{hovertext}</b><br><br>year=2015<br>NormalizedAveragePrice=%{marker.size}<br>lat=%{lat}<br>lon=%{lon}<br>Total Volume=%{marker.color}\", \"hovertext\": [\"Albany\", \"Atlanta\", \"BaltimoreWashington\", \"Boise\", \"Boston\", \"BuffaloRochester\", \"Charlotte\", \"Chicago\", \"CincinnatiDayton\", \"Columbus\", \"DallasFtWorth\", \"Denver\", \"Detroit\", \"GrandRapids\", \"HarrisburgScranton\", \"HartfordSpringfield\", \"Houston\", \"Indianapolis\", \"Jacksonville\", \"LasVegas\", \"LosAngeles\", \"Louisville\", \"MiamiFtLauderdale\", \"Nashville\", \"NewOrleansMobile\", \"NewYork\", \"Orlando\", \"Philadelphia\", \"PhoenixTucson\", \"Pittsburgh\", \"Portland\", \"RaleighGreensboro\", \"RichmondNorfolk\", \"Roanoke\", \"Sacramento\", \"SanDiego\", \"SanFrancisco\", \"Seattle\", \"Spokane\", \"StLouis\", \"Syracuse\", \"Tampa\"], \"lat\": [42.651167399999736, 33.74909870000007, null, null, 42.360482300000015, null, 35.22708690000012, 41.87555460000011, null, 39.962260099999924, null, 39.7391536, 42.34866349999996, 42.96324050000008, null, null, 29.758938200000063, 39.768333099999936, 30.332183799999875, 36.16628589999988, 34.05371699999991, 38.25423760000008, null, null, null, 40.73059909999996, 28.542117500000014, 39.952334999999955, null, 40.44169409999996, 45.52024709999989, null, null, 37.27097300000005, 38.581571900000085, 32.717420899999986, 37.77927679999996, 47.60383209999999, 47.65886030000001, 38.627273299999835, 43.04812210000007, 27.947759499999975], \"legendgroup\": \"\", \"lon\": [-73.75496800000036, -84.3901849000001, null, null, -71.05956779999998, null, -80.84312680000023, -87.62442120000009, null, -83.00070650000046, null, -104.98470340000001, -83.0567375, -85.66786389999999, null, null, -95.36769740000017, -86.15835020000007, -81.6556510000005, -115.14922500000009, -118.24272659999997, -85.7594069999998, null, null, null, -73.98658119999988, -81.37904619999989, -75.16378900000015, null, -79.99008609999987, -122.6741948999993, null, null, -79.94143129999992, -121.49439960000015, -117.1627714000001, -122.41927039999986, -122.33006240000019, -117.42471339999987, -90.19788889999992, -76.14742440000008, -82.45844399999993], \"marker\": {\"color\": [38749.00413461533, 223381.71269230772, 390822.8801923079, 36388.05134615382, 263990.30423076916, 56665.71730769232, 91224.45596153833, 398987.65894230775, 113040.15384615383, 75478.67423076913, 579916.4291346153, 376830.22519230755, 172880.57057692314, 93662.91490384628, 111902.93182692307, 145790.79798076925, 532571.840096154, 78740.98105769229, 69004.58346153876, 149446.42942307697, 1425198.9709615386, 41240.415096153854, 241985.69115384622, 83287.65528846146, 121772.19173076918, 678919.5760576925, 141534.38548076927, 200886.730673077, 549771.9757692305, 43653.84221153847, 268687.0706730769, 123243.59894230767, 112029.60307692311, 65180.89009615388, 211351.32576923078, 255631.9809615386, 379286.55557692295, 279395.18701923074, 40208.530480769245, 95217.06961538477, 26291.665961538478, 164726.90240384612], \"coloraxis\": \"coloraxis\", \"size\": [0.5323909380265883, 0.37839355925856544, 0.3669724770642191, 0.3717468638831676, 0.46891967796292766, 0.5381014791237599, 0.5684328777382519, 0.4012357236472568, 0.20483055607564093, 0.2744804343755862, 0.0836921924733196, 0.19069462647444313, 0.3372027710166634, 0.41321849840853875, 0.4670473694064785, 0.7359108781127122, 0.054671409848342956, 0.34178992697996624, 0.4976596143044394, 0.36697247706421976, 0.1563377644635835, 0.29451413592960196, 0.38129563752106366, 0.27775697434937285, 0.2684890469949446, 0.635367908631342, 0.4940086126193597, 0.5483991761842346, 0.16083130499906395, 0.4043250327653989, 0.3065905261187023, 0.445422205579479, 0.27513574237034244, 0.22898333645384739, 0.4499157461149599, 0.27485489608687463, 0.6125257442426506, 0.4189290395057108, 0.39767833739000125, 0.49794046058790453, 0.5229357798165142, 0.35508331773076196], \"sizemode\": \"area\", \"sizeref\": 0.0025}, \"name\": \"\", \"showlegend\": false, \"type\": \"scattergeo\"}], \"name\": \"2015\"}, {\"data\": [{\"geo\": \"geo\", \"hoverlabel\": {\"namelength\": 0}, \"hovertemplate\": \"<b>%{hovertext}</b><br><br>year=2016<br>NormalizedAveragePrice=%{marker.size}<br>lat=%{lat}<br>lon=%{lon}<br>Total Volume=%{marker.color}\", \"hovertext\": [\"Albany\", \"Atlanta\", \"BaltimoreWashington\", \"Boise\", \"Boston\", \"BuffaloRochester\", \"Charlotte\", \"Chicago\", \"CincinnatiDayton\", \"Columbus\", \"DallasFtWorth\", \"Denver\", \"Detroit\", \"GrandRapids\", \"HarrisburgScranton\", \"HartfordSpringfield\", \"Houston\", \"Indianapolis\", \"Jacksonville\", \"LasVegas\", \"LosAngeles\", \"Louisville\", \"MiamiFtLauderdale\", \"Nashville\", \"NewOrleansMobile\", \"NewYork\", \"Orlando\", \"Philadelphia\", \"PhoenixTucson\", \"Pittsburgh\", \"Portland\", \"RaleighGreensboro\", \"RichmondNorfolk\", \"Roanoke\", \"Sacramento\", \"SanDiego\", \"SanFrancisco\", \"Seattle\", \"Spokane\", \"StLouis\", \"Syracuse\", \"Tampa\"], \"lat\": [42.651167399999736, 33.74909870000007, null, null, 42.360482300000015, null, 35.22708690000012, 41.87555460000011, null, 39.962260099999924, null, 39.7391536, 42.34866349999996, 42.96324050000008, null, null, 29.758938200000063, 39.768333099999936, 30.332183799999875, 36.16628589999988, 34.05371699999991, 38.25423760000008, null, null, null, 40.73059909999996, 28.542117500000014, 39.952334999999955, null, 40.44169409999996, 45.52024709999989, null, null, 37.27097300000005, 38.581571900000085, 32.717420899999986, 37.77927679999996, 47.60383209999999, 47.65886030000001, 38.627273299999835, 43.04812210000007, 27.947759499999975], \"legendgroup\": \"\", \"lon\": [-73.75496800000036, -84.3901849000001, null, null, -71.05956779999998, null, -80.84312680000023, -87.62442120000009, null, -83.00070650000046, null, -104.98470340000001, -83.0567375, -85.66786389999999, null, null, -95.36769740000017, -86.15835020000007, -81.6556510000005, -115.14922500000009, -118.24272659999997, -85.7594069999998, null, null, null, -73.98658119999988, -81.37904619999989, -75.16378900000015, null, -79.99008609999987, -122.6741948999993, null, null, -79.94143129999992, -121.49439960000015, -117.1627714000001, -122.41927039999986, -122.33006240000019, -117.42471339999987, -90.19788889999992, -76.14742440000008, -82.45844399999993], \"marker\": {\"color\": [50618.61144230799, 272373.8298076923, 393209.63769230765, 44745.283942307695, 293954.95259615406, 69279.92317307694, 101795.39423076925, 380890.7309615385, 134816.02288461535, 87110.25509615379, 612454.3257692308, 435651.5581730768, 181802.48557692315, 87950.69028846142, 126200.23028846148, 150941.82500000004, 564469.1002884615, 88119.74519230773, 93383.03951923051, 162567.43807692308, 1568675.9886538475, 48810.85365384619, 306587.1200961538, 100953.60480769226, 140772.7507692308, 687947.7224999996, 184757.56538461533, 212577.85019230784, 570035.4541346154, 53040.36384615384, 358764.53730769246, 140075.5220192308, 124404.09346153836, 73911.69740384616, 222336.830576923, 282096.64298076933, 399323.3446153845, 357580.94634615385, 48136.216730769265, 102350.72692307673, 32974.69942307689, 208468.74384615384], \"coloraxis\": \"coloraxis\", \"size\": [0.5277101666354613, 0.216345253697809, 0.5799475753604193, 0.1460400674031086, 0.4227672720464335, 0.47893652873993586, 0.4926043812020211, 0.5407227111027897, 0.09389627410597301, 0.18929039505710366, 0.00411907882419027, 0.09857704549709778, 0.17571615802284235, 0.503744617112901, 0.5059913873806399, 0.8364538475940833, 0.0, 0.30144167758846696, 0.36584909193035076, 0.3509642389065717, 0.089402733570493, 0.2138176371466014, 0.28028459090058, 0.12095113274667657, 0.24995319228608892, 0.7497659614304437, 0.36884478562067, 0.6648567683954305, 0.2597828122074517, 0.34216438869125665, 0.19443924358734344, 0.44383074330649697, 0.21344317543531188, 0.15146976221681308, 0.6583973038756787, 0.31333083692192476, 0.8658490919303496, 0.300224677026774, 0.3326156150533601, 0.1884478562067029, 0.4980340760157267, 0.2653997378768016], \"sizemode\": \"area\", \"sizeref\": 0.0025}, \"name\": \"\", \"showlegend\": false, \"type\": \"scattergeo\"}], \"name\": \"2016\"}, {\"data\": [{\"geo\": \"geo\", \"hoverlabel\": {\"namelength\": 0}, \"hovertemplate\": \"<b>%{hovertext}</b><br><br>year=2017<br>NormalizedAveragePrice=%{marker.size}<br>lat=%{lat}<br>lon=%{lon}<br>Total Volume=%{marker.color}\", \"hovertext\": [\"Albany\", \"Atlanta\", \"BaltimoreWashington\", \"Boise\", \"Boston\", \"BuffaloRochester\", \"Charlotte\", \"Chicago\", \"CincinnatiDayton\", \"Columbus\", \"DallasFtWorth\", \"Denver\", \"Detroit\", \"GrandRapids\", \"HarrisburgScranton\", \"HartfordSpringfield\", \"Houston\", \"Indianapolis\", \"Jacksonville\", \"LasVegas\", \"LosAngeles\", \"Louisville\", \"MiamiFtLauderdale\", \"Nashville\", \"NewOrleansMobile\", \"NewYork\", \"Orlando\", \"Philadelphia\", \"PhoenixTucson\", \"Pittsburgh\", \"Portland\", \"RaleighGreensboro\", \"RichmondNorfolk\", \"Roanoke\", \"Sacramento\", \"SanDiego\", \"SanFrancisco\", \"Seattle\", \"Spokane\", \"StLouis\", \"Syracuse\", \"Tampa\"], \"lat\": [42.651167399999736, 33.74909870000007, null, null, 42.360482300000015, null, 35.22708690000012, 41.87555460000011, null, 39.962260099999924, null, 39.7391536, 42.34866349999996, 42.96324050000008, null, null, 29.758938200000063, 39.768333099999936, 30.332183799999875, 36.16628589999988, 34.05371699999991, 38.25423760000008, null, null, null, 40.73059909999996, 28.542117500000014, 39.952334999999955, null, 40.44169409999996, 45.52024709999989, null, null, 37.27097300000005, 38.581571900000085, 32.717420899999986, 37.77927679999996, 47.60383209999999, 47.65886030000001, 38.627273299999835, 43.04812210000007, 27.947759499999975], \"legendgroup\": \"\", \"lon\": [-73.75496800000036, -84.3901849000001, null, null, -71.05956779999998, null, -80.84312680000023, -87.62442120000009, null, -83.00070650000046, null, -104.98470340000001, -83.0567375, -85.66786389999999, null, null, -95.36769740000017, -86.15835020000007, -81.6556510000005, -115.14922500000009, -118.24272659999997, -85.7594069999998, null, null, null, -73.98658119999988, -81.37904619999989, -75.16378900000015, null, -79.99008609999987, -122.6741948999993, null, null, -79.94143129999992, -121.49439960000015, -117.1627714000001, -122.41927039999986, -122.33006240000019, -117.42471339999987, -90.19788889999992, -76.14742440000008, -82.45844399999993], \"marker\": {\"color\": [62645.9424038461, 282119.7475000001, 360427.13298076915, 62018.51778846154, 275556.2092307693, 228681.1075961538, 125560.32846153848, 367750.1420192311, 140221.98076923078, 128159.18971153835, 610967.4599999998, 387629.48221153824, 187258.8826923077, 172494.1921153843, 125451.54249999997, 174240.7037499999, 616899.2510576921, 94470.87048076926, 88638.97057692328, 227203.50971153824, 1424517.7374999996, 63110.885673076875, 371446.28980769217, 125174.94538461532, 172796.11105769238, 797604.6129807691, 180944.51048076915, 222640.68932692322, 555508.7792307693, 113225.82067307699, 344511.87192307797, 147482.13192307687, 124503.96105769229, 84524.36105769234, 217292.4781730768, 269576.3265384616, 379365.44596153864, 327344.56894230755, 51493.53817307693, 81458.25269230774, 45311.54788461542, 1174944.1158653847], \"coloraxis\": \"coloraxis\", \"size\": [0.6710353866317165, 0.39393372027710205, 0.7262684890469937, 0.4387755102040811, 0.6581164575922116, 0.6249765961430447, 0.7526680396929413, 0.7044560943643507, 0.31679460775135704, 0.2938588279348413, 0.19612432128814783, 0.37043624789365226, 0.33654746302190564, 0.6335892155027145, 0.6128065905261186, 0.8628533982400295, 0.12544467328215658, 0.3652873993634145, 0.6462272982587547, 0.4189290395057095, 0.380921175809773, 0.3544280097360044, 0.6228234413031262, 0.22795356674780032, 0.4287586594270727, 0.7844972851525924, 0.6340572926418271, 0.6958434750046805, 0.26352742932035245, 0.4035761093428205, 0.4234225800411908, 0.7155027148474056, 0.41331211383636, 0.364538475940835, 0.7892716719715411, 0.5688073394495399, 1.0, 0.5571054109717279, 0.5854708856019466, 0.5374461711290006, 0.6194532859015154, 0.6085938962741055], \"sizemode\": \"area\", \"sizeref\": 0.0025}, \"name\": \"\", \"showlegend\": false, \"type\": \"scattergeo\"}], \"name\": \"2017\"}, {\"data\": [{\"geo\": \"geo\", \"hoverlabel\": {\"namelength\": 0}, \"hovertemplate\": \"<b>%{hovertext}</b><br><br>year=2018<br>NormalizedAveragePrice=%{marker.size}<br>lat=%{lat}<br>lon=%{lon}<br>Total Volume=%{marker.color}\", \"hovertext\": [\"Albany\", \"Atlanta\", \"BaltimoreWashington\", \"Boise\", \"Boston\", \"BuffaloRochester\", \"Charlotte\", \"Chicago\", \"CincinnatiDayton\", \"Columbus\", \"DallasFtWorth\", \"Denver\", \"Detroit\", \"GrandRapids\", \"HarrisburgScranton\", \"HartfordSpringfield\", \"Houston\", \"Indianapolis\", \"Jacksonville\", \"LasVegas\", \"LosAngeles\", \"Louisville\", \"MiamiFtLauderdale\", \"Nashville\", \"NewOrleansMobile\", \"NewYork\", \"Orlando\", \"Philadelphia\", \"PhoenixTucson\", \"Pittsburgh\", \"Portland\", \"RaleighGreensboro\", \"RichmondNorfolk\", \"Roanoke\", \"Sacramento\", \"SanDiego\", \"SanFrancisco\", \"Seattle\", \"Spokane\", \"StLouis\", \"Syracuse\", \"Tampa\"], \"lat\": [42.65116739999976, 33.74909870000007, null, null, 42.36048230000004, null, 35.2270869000001, 41.8755546000001, null, 39.96226009999986, null, 39.7391536, 42.34866349999996, 42.963240500000126, null, null, 29.75893820000006, 39.768333099999936, 30.3321837999998, 36.16628589999988, 34.05371699999992, 38.254237600000074, null, null, null, 40.73059909999995, 28.542117500000007, 39.952334999999955, null, 40.44169409999996, 45.520247099999814, null, null, 37.27097300000004, 38.58157190000008, 32.717420899999986, 37.77927679999996, 47.60383210000002, 47.65886030000001, 38.62727329999985, 43.04812210000002, 27.947759499999982], \"legendgroup\": \"\", \"lon\": [-73.7549680000003, -84.39018490000012, null, null, -71.05956779999998, null, -80.84312680000028, -87.62442120000009, null, -83.00070650000033, null, -104.98470340000004, -83.05673750000004, -85.66786390000009, null, null, -95.36769740000013, -86.15835020000011, -81.65565100000047, -115.14922500000002, -118.2427266, -85.7594069999997, null, null, null, -73.98658119999989, -81.37904619999989, -75.16378900000014, null, -79.99008609999987, -122.67419489999934, null, null, -79.94143129999993, -121.49439960000014, -117.16277140000007, -122.41927039999986, -122.33006240000019, -117.42471339999987, -90.19788890000001, -76.14742440000008, -82.45844399999991], \"marker\": {\"color\": [64017.272244898086, 354738.27438775497, 480922.31357142876, 49376.679183673456, 368326.9225510204, 95248.30112244897, 143965.5838775511, 436780.67132653063, 156646.0769387755, 120479.98765306137, 749564.9287755103, 472145.67285714304, 257222.88744897957, 101765.6413265307, 169643.9065306122, 191219.8918367347, 826865.7001020411, 112388.07020408168, 115771.86112244944, 182171.04591836742, 1540428.1306122453, 62870.19918367353, 412453.53346938756, 144724.8460204082, 162181.9354081632, 996007.693877551, 252191.00867346936, 286509.249897959, 664067.7748979592, 82390.89785714286, 346492.5505102044, 193538.6769387757, 163172.6777551021, 101738.08724489796, 271638.861632653, 269232.6293877552, 501810.6536734695, 319307.642142857, 50172.27744897962, 105040.41632653079, 45978.58734693882, 273352.8895918367], \"coloraxis\": \"coloraxis\", \"size\": [0.44558651020790374, 0.28295549637192474, 0.3944228131245009, 0.5321177338188594, 0.491186776152138, 0.18281373586693572, 0.5316209988957186, 0.5172156861246648, 0.3225949432384825, 0.20467007248508828, 0.11704603204322339, 0.3155413073298965, 0.21530019984028015, 0.3396826245944917, 0.2758025134787112, 0.6647459582971924, 0.030415461447638514, 0.212220443316814, 0.376142967952952, 0.36442002376685556, 0.3826998689384, 0.29567191040430396, 0.29378431769637237, 0.25285336002965164, 0.2389447821817361, 0.5598355425300616, 0.3107726520677545, 0.4066424922337395, 0.12916636416783533, 0.2752064315709426, 0.4679395817491945, 0.6145757310600706, 0.22742053196489143, 0.2847437420952281, 0.49347175679858135, 0.5038038431998895, 0.6360346797397105, 0.5779166937323506, 0.530925570003324, 0.4447917343308787, 0.22016820208705057, 0.3051098739439606], \"sizemode\": \"area\", \"sizeref\": 0.0025}, \"name\": \"\", \"showlegend\": false, \"type\": \"scattergeo\"}], \"name\": \"2018\"}, {\"data\": [{\"geo\": \"geo\", \"hoverlabel\": {\"namelength\": 0}, \"hovertemplate\": \"<b>%{hovertext}</b><br><br>year=2019<br>NormalizedAveragePrice=%{marker.size}<br>lat=%{lat}<br>lon=%{lon}<br>Total Volume=%{marker.color}\", \"hovertext\": [\"Albany\", \"Atlanta\", \"BaltimoreWashington\", \"Boise\", \"Boston\", \"BuffaloRochester\", \"Charlotte\", \"Chicago\", \"CincinnatiDayton\", \"Columbus\", \"DallasFtWorth\", \"Denver\", \"Detroit\", \"GrandRapids\", \"HarrisburgScranton\", \"HartfordSpringfield\", \"Houston\", \"Indianapolis\", \"Jacksonville\", \"LasVegas\", \"LosAngeles\", \"Louisville\", \"MiamiFtLauderdale\", \"Nashville\", \"NewOrleansMobile\", \"NewYork\", \"Orlando\", \"Philadelphia\", \"PhoenixTucson\", \"Pittsburgh\", \"Portland\", \"RaleighGreensboro\", \"RichmondNorfolk\", \"Roanoke\", \"Sacramento\", \"SanDiego\", \"SanFrancisco\", \"Seattle\", \"Spokane\", \"StLouis\", \"Syracuse\", \"Tampa\"], \"lat\": [42.65116739999976, 33.74909870000007, null, null, 42.36048230000005, null, 35.227086900000096, 41.8755546000001, null, 39.96226009999984, null, 39.7391536, 42.34866349999995, 42.96324050000015, null, null, 29.75893820000006, 39.768333099999936, 30.332183799999775, 36.166285899999885, 34.05371699999992, 38.254237600000074, null, null, null, 40.73059909999995, 28.542117500000003, 39.952334999999955, null, 40.44169409999996, 45.520247099999786, null, null, 37.27097300000004, 38.58157190000008, 32.717420899999986, 37.77927679999996, 47.60383210000003, 47.65886030000001, 38.62727329999985, 43.0481221, 27.947759499999986], \"legendgroup\": \"\", \"lon\": [-73.75496800000029, -84.39018490000014, null, null, -71.05956779999998, null, -80.84312680000026, -87.62442120000009, null, -83.00070650000028, null, -104.98470340000006, -83.05673750000004, -85.66786390000011, null, null, -95.36769740000011, -86.15835020000013, -81.65565100000046, -115.149225, -118.24272660000001, -85.75940699999967, null, null, null, -73.98658119999989, -81.3790461999999, -75.16378900000014, null, -79.99008609999987, -122.67419489999935, null, null, -79.94143129999993, -121.49439960000014, -117.16277140000005, -122.41927039999986, -122.33006240000019, -117.42471339999987, -90.19788890000005, -76.14742440000008, -82.45844399999991], \"marker\": {\"color\": [63269.676666666644, 377087.3769791666, 487898.64093750017, 52894.5513541667, 364774.72031249985, 94173.74520833335, 155560.90083333344, 387162.6812499999, 168893.51072916665, 121763.33874999973, 796815.5474999998, 475103.4732291665, 262206.1677083333, 99602.2022916667, 179746.3175000001, 184175.27479166663, 741440.6210416667, 125334.68489583337, 119677.45062500022, 188277.0579166666, 1586055.9228125007, 63994.693020833336, 487763.27875000006, 142670.22187499996, 170959.76500000004, 954458.8832291666, 268529.95041666663, 291551.0503124999, 654660.5578124999, 75810.62802083336, 337890.37999999995, 203376.6401041666, 166592.92708333334, 104381.82552083336, 251421.79989583333, 287726.8773958334, 477248.63958333345, 315030.6532291667, 50654.96510416667, 106782.50343749998, 44404.45291666668, 299219.41572916653], \"coloraxis\": \"coloraxis\", \"size\": [0.4274246395806034, 0.29923391374898545, 0.4292501404231419, 0.6688978343631027, 0.5336079385882793, 0.32834051051613256, 0.5563252824065392, 0.5427354428009727, 0.3102883355176933, 0.26373806403295386, 0.11384416151781807, 0.4581539037633393, 0.29903108032203707, 0.437870561068463, 0.24609155588841047, 0.6910066779005177, 0.2324002995693688, 0.24893122386569266, 0.267794732571931, 0.4371606440741438, 0.4864491668226911, 0.3598811084066651, 0.26576639830243964, 0.28452849029520055, 0.12885383511202653, 0.628736815827249, 0.2042064532234915, 0.41505180053672897, 0.3380765150096734, 0.36566186107470555, 0.6590604131560867, 0.637560069899519, 0.2181005429694809, 0.2813845721774939, 0.5981089683579852, 0.5915168819821501, 0.7647366285963924, 0.7415122012107596, 0.6732587530425, 0.527421519066342, 0.3536946888847272, 0.15877176558696915], \"sizemode\": \"area\", \"sizeref\": 0.0025}, \"name\": \"\", \"showlegend\": false, \"type\": \"scattergeo\"}], \"name\": \"2019\"}]);\n",
              "                        }).then(function(){\n",
              "                            \n",
              "var gd = document.getElementById('29bff892-8f72-47b3-a70c-b6772e621c92');\n",
              "var x = new MutationObserver(function (mutations, observer) {{\n",
              "        var display = window.getComputedStyle(gd).display;\n",
              "        if (!display || display === 'none') {{\n",
              "            console.log([gd, 'removed!']);\n",
              "            Plotly.purge(gd);\n",
              "            observer.disconnect();\n",
              "        }}\n",
              "}});\n",
              "\n",
              "// Listen for the removal of the full notebook cells\n",
              "var notebookContainer = gd.closest('#notebook-container');\n",
              "if (notebookContainer) {{\n",
              "    x.observe(notebookContainer, {childList: true});\n",
              "}}\n",
              "\n",
              "// Listen for the clearing of the current output cell\n",
              "var outputEl = gd.closest('.output');\n",
              "if (outputEl) {{\n",
              "    x.observe(outputEl, {childList: true});\n",
              "}}\n",
              "\n",
              "                        })\n",
              "                };\n",
              "                });\n",
              "            </script>\n",
              "        </div>"
            ]
          },
          "metadata": {
            "tags": []
          }
        }
      ]
    },
    {
      "cell_type": "markdown",
      "metadata": {
        "id": "DIMHk_gXLdcb",
        "colab_type": "text"
      },
      "source": [
        "    By just looking at the change of the pattern size, it seems like that there is a peak in 2017."
      ]
    },
    {
      "cell_type": "code",
      "metadata": {
        "id": "lHkH8dfKLdcb",
        "colab_type": "code",
        "colab": {}
      },
      "source": [
        ""
      ],
      "execution_count": 0,
      "outputs": []
    },
    {
      "cell_type": "markdown",
      "metadata": {
        "id": "r3cRWFvVLdcf",
        "colab_type": "text"
      },
      "source": [
        "### Column_Types"
      ]
    },
    {
      "cell_type": "markdown",
      "metadata": {
        "id": "rAbI4GAoLdcf",
        "colab_type": "text"
      },
      "source": [
        "Explore the price and volume of the conventional and organic avocado."
      ]
    },
    {
      "cell_type": "code",
      "metadata": {
        "id": "xWpPxYKpLdcg",
        "colab_type": "code",
        "colab": {},
        "outputId": "3d56669e-3add-4221-fb2c-b856d2ab4c28"
      },
      "source": [
        "conventional = df[df.type =='conventional']\n",
        "conventional_groupByDate = conventional.groupby('Date').mean()\n",
        "organic = df[df.type =='organic'].groupby('Date').mean()\n",
        "organic_groupByDate = organic.groupby('Date').mean()\n",
        "organic_groupByDate.head()"
      ],
      "execution_count": 0,
      "outputs": [
        {
          "output_type": "execute_result",
          "data": {
            "text/html": [
              "<div>\n",
              "<style scoped>\n",
              "    .dataframe tbody tr th:only-of-type {\n",
              "        vertical-align: middle;\n",
              "    }\n",
              "\n",
              "    .dataframe tbody tr th {\n",
              "        vertical-align: top;\n",
              "    }\n",
              "\n",
              "    .dataframe thead th {\n",
              "        text-align: right;\n",
              "    }\n",
              "</style>\n",
              "<table border=\"1\" class=\"dataframe\">\n",
              "  <thead>\n",
              "    <tr style=\"text-align: right;\">\n",
              "      <th></th>\n",
              "      <th>AveragePrice</th>\n",
              "      <th>Total Volume</th>\n",
              "      <th>4046</th>\n",
              "      <th>4225</th>\n",
              "      <th>4770</th>\n",
              "      <th>Total Bags</th>\n",
              "      <th>Small Bags</th>\n",
              "      <th>Large Bags</th>\n",
              "      <th>XLarge Bags</th>\n",
              "      <th>year</th>\n",
              "      <th>Month</th>\n",
              "      <th>pop</th>\n",
              "      <th>lat</th>\n",
              "      <th>lon</th>\n",
              "    </tr>\n",
              "    <tr>\n",
              "      <th>Date</th>\n",
              "      <th></th>\n",
              "      <th></th>\n",
              "      <th></th>\n",
              "      <th></th>\n",
              "      <th></th>\n",
              "      <th></th>\n",
              "      <th></th>\n",
              "      <th></th>\n",
              "      <th></th>\n",
              "      <th></th>\n",
              "      <th></th>\n",
              "      <th></th>\n",
              "      <th></th>\n",
              "      <th></th>\n",
              "    </tr>\n",
              "  </thead>\n",
              "  <tbody>\n",
              "    <tr>\n",
              "      <th>2015-01-04</th>\n",
              "      <td>1.606094</td>\n",
              "      <td>8157.813437</td>\n",
              "      <td>3544.819375</td>\n",
              "      <td>2993.934687</td>\n",
              "      <td>59.194375</td>\n",
              "      <td>1559.865000</td>\n",
              "      <td>968.250313</td>\n",
              "      <td>591.614687</td>\n",
              "      <td>0.0</td>\n",
              "      <td>2015</td>\n",
              "      <td>1</td>\n",
              "      <td>612212.196078</td>\n",
              "      <td>38.546966</td>\n",
              "      <td>-90.940838</td>\n",
              "    </tr>\n",
              "    <tr>\n",
              "      <th>2015-01-11</th>\n",
              "      <td>1.662031</td>\n",
              "      <td>9322.885781</td>\n",
              "      <td>3985.912500</td>\n",
              "      <td>3913.128438</td>\n",
              "      <td>51.988125</td>\n",
              "      <td>1371.856719</td>\n",
              "      <td>928.268125</td>\n",
              "      <td>443.588594</td>\n",
              "      <td>0.0</td>\n",
              "      <td>2015</td>\n",
              "      <td>1</td>\n",
              "      <td>612212.196078</td>\n",
              "      <td>38.546966</td>\n",
              "      <td>-90.940838</td>\n",
              "    </tr>\n",
              "    <tr>\n",
              "      <th>2015-01-18</th>\n",
              "      <td>1.694531</td>\n",
              "      <td>9902.903594</td>\n",
              "      <td>3291.175781</td>\n",
              "      <td>4840.920469</td>\n",
              "      <td>53.794844</td>\n",
              "      <td>1717.012500</td>\n",
              "      <td>825.704375</td>\n",
              "      <td>891.308125</td>\n",
              "      <td>0.0</td>\n",
              "      <td>2015</td>\n",
              "      <td>1</td>\n",
              "      <td>612212.196078</td>\n",
              "      <td>38.546966</td>\n",
              "      <td>-90.940838</td>\n",
              "    </tr>\n",
              "    <tr>\n",
              "      <th>2015-01-25</th>\n",
              "      <td>1.712031</td>\n",
              "      <td>7305.642812</td>\n",
              "      <td>3005.396563</td>\n",
              "      <td>2880.801875</td>\n",
              "      <td>64.042031</td>\n",
              "      <td>1355.402344</td>\n",
              "      <td>797.074375</td>\n",
              "      <td>558.327969</td>\n",
              "      <td>0.0</td>\n",
              "      <td>2015</td>\n",
              "      <td>1</td>\n",
              "      <td>612212.196078</td>\n",
              "      <td>38.546966</td>\n",
              "      <td>-90.940838</td>\n",
              "    </tr>\n",
              "    <tr>\n",
              "      <th>2015-02-01</th>\n",
              "      <td>1.578750</td>\n",
              "      <td>9862.181719</td>\n",
              "      <td>4258.845469</td>\n",
              "      <td>3526.075781</td>\n",
              "      <td>82.937656</td>\n",
              "      <td>1994.322813</td>\n",
              "      <td>1243.945938</td>\n",
              "      <td>750.376875</td>\n",
              "      <td>0.0</td>\n",
              "      <td>2015</td>\n",
              "      <td>2</td>\n",
              "      <td>612212.196078</td>\n",
              "      <td>38.546966</td>\n",
              "      <td>-90.940838</td>\n",
              "    </tr>\n",
              "  </tbody>\n",
              "</table>\n",
              "</div>"
            ],
            "text/plain": [
              "            AveragePrice  Total Volume         4046         4225       4770  \\\n",
              "Date                                                                          \n",
              "2015-01-04      1.606094   8157.813437  3544.819375  2993.934687  59.194375   \n",
              "2015-01-11      1.662031   9322.885781  3985.912500  3913.128438  51.988125   \n",
              "2015-01-18      1.694531   9902.903594  3291.175781  4840.920469  53.794844   \n",
              "2015-01-25      1.712031   7305.642812  3005.396563  2880.801875  64.042031   \n",
              "2015-02-01      1.578750   9862.181719  4258.845469  3526.075781  82.937656   \n",
              "\n",
              "             Total Bags   Small Bags  Large Bags  XLarge Bags  year  Month  \\\n",
              "Date                                                                         \n",
              "2015-01-04  1559.865000   968.250313  591.614687          0.0  2015      1   \n",
              "2015-01-11  1371.856719   928.268125  443.588594          0.0  2015      1   \n",
              "2015-01-18  1717.012500   825.704375  891.308125          0.0  2015      1   \n",
              "2015-01-25  1355.402344   797.074375  558.327969          0.0  2015      1   \n",
              "2015-02-01  1994.322813  1243.945938  750.376875          0.0  2015      2   \n",
              "\n",
              "                      pop        lat        lon  \n",
              "Date                                             \n",
              "2015-01-04  612212.196078  38.546966 -90.940838  \n",
              "2015-01-11  612212.196078  38.546966 -90.940838  \n",
              "2015-01-18  612212.196078  38.546966 -90.940838  \n",
              "2015-01-25  612212.196078  38.546966 -90.940838  \n",
              "2015-02-01  612212.196078  38.546966 -90.940838  "
            ]
          },
          "metadata": {
            "tags": []
          },
          "execution_count": 29
        }
      ]
    },
    {
      "cell_type": "code",
      "metadata": {
        "id": "iRpmp3CDLdci",
        "colab_type": "code",
        "colab": {},
        "outputId": "3ee75207-3c4c-4585-c20b-78abe1ac31f2"
      },
      "source": [
        "#Plot the time series of organic and conventional avocado price\n",
        "import plotly\n",
        "from plotly.offline import init_notebook_mode, iplot\n",
        "import plotly.graph_objs as go\n",
        "init_notebook_mode(connected=True)\n",
        "\n",
        "\n",
        "\n",
        "fig = go.Figure()\n",
        "\n",
        "\n",
        "\n",
        "scatter1=go.Scatter(x=conventional_groupByDate.index,y=conventional_groupByDate.AveragePrice,\n",
        "                   name='conventional',mode='lines+markers',marker=dict(\n",
        "                                 color='rgb(158,202,225)',\n",
        "                                 line=dict(\n",
        "                                 color='rgb(8,48,107)',\n",
        "                                 width=1.5)),\n",
        "                                opacity=0.8)\n",
        "scatter2=go.Scatter(x=\n",
        "organic_groupByDate.index,y=organic_groupByDate.AveragePrice,\n",
        "                   name='organic',mode='lines+markers',marker=dict(\n",
        "                                 color='rgb(248,146,146)',\n",
        "                                 line=dict(\n",
        "                                 color='rgb(249,52,52)',\n",
        "                                 width=1.5)),\n",
        "                                opacity=0.8)\n",
        "\n",
        "data=[scatter1,scatter2]\n",
        "\n",
        "layout = go.Layout(title='Time Series Plot for Mean Daily Price',\n",
        "                  xaxis={'title':'Date'},yaxis={'title':'Prices'})\n",
        "figure=go.Figure(data=data,layout=layout)\n",
        "iplot(figure)\n"
      ],
      "execution_count": 0,
      "outputs": [
        {
          "output_type": "display_data",
          "data": {
            "text/html": [
              "        <script type=\"text/javascript\">\n",
              "        window.PlotlyConfig = {MathJaxConfig: 'local'};\n",
              "        if (window.MathJax) {MathJax.Hub.Config({SVG: {font: \"STIX-Web\"}});}\n",
              "        if (typeof require !== 'undefined') {\n",
              "        require.undef(\"plotly\");\n",
              "        requirejs.config({\n",
              "            paths: {\n",
              "                'plotly': ['https://cdn.plot.ly/plotly-latest.min']\n",
              "            }\n",
              "        });\n",
              "        require(['plotly'], function(Plotly) {\n",
              "            window._Plotly = Plotly;\n",
              "        });\n",
              "        }\n",
              "        </script>\n",
              "        "
            ]
          },
          "metadata": {
            "tags": []
          }
        },
        {
          "output_type": "display_data",
          "data": {
            "application/vnd.plotly.v1+json": {
              "config": {
                "linkText": "Export to plot.ly",
                "plotlyServerURL": "https://plot.ly",
                "showLink": false
              },
              "data": [
                {
                  "marker": {
                    "color": "rgb(158,202,225)",
                    "line": {
                      "color": "rgb(8,48,107)",
                      "width": 1.5
                    }
                  },
                  "mode": "lines+markers",
                  "name": "conventional",
                  "opacity": 0.8,
                  "type": "scatter",
                  "x": [
                    "2015-01-04T00:00:00",
                    "2015-01-11T00:00:00",
                    "2015-01-18T00:00:00",
                    "2015-01-25T00:00:00",
                    "2015-02-01T00:00:00",
                    "2015-02-08T00:00:00",
                    "2015-02-15T00:00:00",
                    "2015-02-22T00:00:00",
                    "2015-03-01T00:00:00",
                    "2015-03-08T00:00:00",
                    "2015-03-15T00:00:00",
                    "2015-03-22T00:00:00",
                    "2015-03-29T00:00:00",
                    "2015-04-05T00:00:00",
                    "2015-04-12T00:00:00",
                    "2015-04-19T00:00:00",
                    "2015-04-26T00:00:00",
                    "2015-05-03T00:00:00",
                    "2015-05-10T00:00:00",
                    "2015-05-17T00:00:00",
                    "2015-05-24T00:00:00",
                    "2015-05-31T00:00:00",
                    "2015-06-07T00:00:00",
                    "2015-06-14T00:00:00",
                    "2015-06-21T00:00:00",
                    "2015-06-28T00:00:00",
                    "2015-07-05T00:00:00",
                    "2015-07-12T00:00:00",
                    "2015-07-19T00:00:00",
                    "2015-07-26T00:00:00",
                    "2015-08-02T00:00:00",
                    "2015-08-09T00:00:00",
                    "2015-08-16T00:00:00",
                    "2015-08-23T00:00:00",
                    "2015-08-30T00:00:00",
                    "2015-09-06T00:00:00",
                    "2015-09-13T00:00:00",
                    "2015-09-20T00:00:00",
                    "2015-09-27T00:00:00",
                    "2015-10-04T00:00:00",
                    "2015-10-11T00:00:00",
                    "2015-10-18T00:00:00",
                    "2015-10-25T00:00:00",
                    "2015-11-01T00:00:00",
                    "2015-11-08T00:00:00",
                    "2015-11-15T00:00:00",
                    "2015-11-22T00:00:00",
                    "2015-11-29T00:00:00",
                    "2015-12-06T00:00:00",
                    "2015-12-13T00:00:00",
                    "2015-12-20T00:00:00",
                    "2015-12-27T00:00:00",
                    "2016-01-04T00:00:00",
                    "2016-01-10T00:00:00",
                    "2016-01-17T00:00:00",
                    "2016-01-24T00:00:00",
                    "2016-01-31T00:00:00",
                    "2016-02-07T00:00:00",
                    "2016-02-14T00:00:00",
                    "2016-02-21T00:00:00",
                    "2016-02-28T00:00:00",
                    "2016-03-06T00:00:00",
                    "2016-03-13T00:00:00",
                    "2016-03-20T00:00:00",
                    "2016-03-27T00:00:00",
                    "2016-04-03T00:00:00",
                    "2016-04-10T00:00:00",
                    "2016-04-17T00:00:00",
                    "2016-04-24T00:00:00",
                    "2016-05-01T00:00:00",
                    "2016-05-08T00:00:00",
                    "2016-05-15T00:00:00",
                    "2016-05-22T00:00:00",
                    "2016-05-29T00:00:00",
                    "2016-06-05T00:00:00",
                    "2016-06-12T00:00:00",
                    "2016-06-19T00:00:00",
                    "2016-06-26T00:00:00",
                    "2016-07-03T00:00:00",
                    "2016-07-10T00:00:00",
                    "2016-07-17T00:00:00",
                    "2016-07-24T00:00:00",
                    "2016-07-31T00:00:00",
                    "2016-08-07T00:00:00",
                    "2016-08-14T00:00:00",
                    "2016-08-21T00:00:00",
                    "2016-08-28T00:00:00",
                    "2016-09-04T00:00:00",
                    "2016-09-11T00:00:00",
                    "2016-09-18T00:00:00",
                    "2016-09-25T00:00:00",
                    "2016-10-02T00:00:00",
                    "2016-10-09T00:00:00",
                    "2016-10-16T00:00:00",
                    "2016-10-23T00:00:00",
                    "2016-10-30T00:00:00",
                    "2016-11-06T00:00:00",
                    "2016-11-13T00:00:00",
                    "2016-11-20T00:00:00",
                    "2016-11-27T00:00:00",
                    "2016-12-04T00:00:00",
                    "2016-12-11T00:00:00",
                    "2016-12-18T00:00:00",
                    "2016-12-25T00:00:00",
                    "2017-01-02T00:00:00",
                    "2017-01-08T00:00:00",
                    "2017-01-15T00:00:00",
                    "2017-01-22T00:00:00",
                    "2017-01-29T00:00:00",
                    "2017-02-05T00:00:00",
                    "2017-02-12T00:00:00",
                    "2017-02-19T00:00:00",
                    "2017-02-26T00:00:00",
                    "2017-03-05T00:00:00",
                    "2017-03-12T00:00:00",
                    "2017-03-19T00:00:00",
                    "2017-03-26T00:00:00",
                    "2017-04-02T00:00:00",
                    "2017-04-09T00:00:00",
                    "2017-04-16T00:00:00",
                    "2017-04-23T00:00:00",
                    "2017-04-30T00:00:00",
                    "2017-05-07T00:00:00",
                    "2017-05-14T00:00:00",
                    "2017-05-21T00:00:00",
                    "2017-05-28T00:00:00",
                    "2017-06-04T00:00:00",
                    "2017-06-11T00:00:00",
                    "2017-06-18T00:00:00",
                    "2017-06-25T00:00:00",
                    "2017-07-02T00:00:00",
                    "2017-07-09T00:00:00",
                    "2017-07-16T00:00:00",
                    "2017-07-23T00:00:00",
                    "2017-07-30T00:00:00",
                    "2017-08-06T00:00:00",
                    "2017-08-13T00:00:00",
                    "2017-08-20T00:00:00",
                    "2017-08-27T00:00:00",
                    "2017-09-03T00:00:00",
                    "2017-09-10T00:00:00",
                    "2017-09-17T00:00:00",
                    "2017-09-24T00:00:00",
                    "2017-10-01T00:00:00",
                    "2017-10-08T00:00:00",
                    "2017-10-15T00:00:00",
                    "2017-10-22T00:00:00",
                    "2017-10-29T00:00:00",
                    "2017-11-05T00:00:00",
                    "2017-11-12T00:00:00",
                    "2017-11-19T00:00:00",
                    "2017-11-26T00:00:00",
                    "2017-12-03T00:00:00",
                    "2017-12-10T00:00:00",
                    "2017-12-17T00:00:00",
                    "2017-12-24T00:00:00",
                    "2018-01-01T00:00:00",
                    "2018-01-07T00:00:00",
                    "2018-01-14T00:00:00",
                    "2018-01-21T00:00:00",
                    "2018-01-28T00:00:00",
                    "2018-02-04T00:00:00",
                    "2018-02-11T00:00:00",
                    "2018-02-18T00:00:00",
                    "2018-02-25T00:00:00",
                    "2018-03-04T00:00:00",
                    "2018-03-11T00:00:00",
                    "2018-03-18T00:00:00",
                    "2018-03-25T00:00:00",
                    "2018-04-01T00:00:00",
                    "2018-04-08T00:00:00",
                    "2018-04-15T00:00:00",
                    "2018-04-22T00:00:00",
                    "2018-04-29T00:00:00",
                    "2018-05-06T00:00:00",
                    "2018-05-13T00:00:00",
                    "2018-05-20T00:00:00",
                    "2018-05-27T00:00:00",
                    "2018-06-03T00:00:00",
                    "2018-06-10T00:00:00",
                    "2018-06-17T00:00:00",
                    "2018-06-24T00:00:00",
                    "2018-07-01T00:00:00",
                    "2018-07-08T00:00:00",
                    "2018-07-15T00:00:00",
                    "2018-07-22T00:00:00",
                    "2018-07-29T00:00:00",
                    "2018-08-05T00:00:00",
                    "2018-08-12T00:00:00",
                    "2018-08-19T00:00:00",
                    "2018-08-26T00:00:00",
                    "2018-09-02T00:00:00",
                    "2018-09-09T00:00:00",
                    "2018-09-16T00:00:00",
                    "2018-09-23T00:00:00",
                    "2018-09-30T00:00:00",
                    "2018-10-07T00:00:00",
                    "2018-10-14T00:00:00",
                    "2018-10-21T00:00:00",
                    "2018-10-28T00:00:00",
                    "2018-11-04T00:00:00",
                    "2018-11-11T00:00:00",
                    "2018-11-18T00:00:00",
                    "2018-11-25T00:00:00",
                    "2018-12-02T00:00:00",
                    "2019-01-07T00:00:00",
                    "2019-01-13T00:00:00",
                    "2019-01-20T00:00:00",
                    "2019-01-27T00:00:00",
                    "2019-02-03T00:00:00",
                    "2019-02-10T00:00:00",
                    "2019-02-17T00:00:00",
                    "2019-02-24T00:00:00",
                    "2019-03-03T00:00:00",
                    "2019-03-10T00:00:00",
                    "2019-03-17T00:00:00",
                    "2019-03-24T00:00:00",
                    "2019-03-31T00:00:00",
                    "2019-04-07T00:00:00",
                    "2019-04-14T00:00:00",
                    "2019-04-21T00:00:00",
                    "2019-04-28T00:00:00",
                    "2019-05-05T00:00:00",
                    "2019-05-12T00:00:00",
                    "2019-05-19T00:00:00",
                    "2019-05-26T00:00:00",
                    "2019-06-02T00:00:00",
                    "2019-06-09T00:00:00",
                    "2019-06-16T00:00:00",
                    "2019-06-23T00:00:00",
                    "2019-06-30T00:00:00",
                    "2019-07-07T00:00:00",
                    "2019-07-14T00:00:00",
                    "2019-07-21T00:00:00",
                    "2019-07-28T00:00:00",
                    "2019-08-04T00:00:00",
                    "2019-08-11T00:00:00",
                    "2019-08-18T00:00:00",
                    "2019-08-25T00:00:00",
                    "2019-09-01T00:00:00",
                    "2019-09-08T00:00:00",
                    "2019-09-15T00:00:00",
                    "2019-09-22T00:00:00",
                    "2019-09-29T00:00:00",
                    "2019-10-06T00:00:00",
                    "2019-10-13T00:00:00",
                    "2019-10-20T00:00:00",
                    "2019-10-27T00:00:00",
                    "2019-11-03T00:00:00",
                    "2019-11-10T00:00:00",
                    "2019-11-17T00:00:00",
                    "2019-11-24T00:00:00",
                    "2019-12-01T00:00:00"
                  ],
                  "y": [
                    1.0217187499999998,
                    1.1339062500000001,
                    1.1614062500000004,
                    1.1375000000000006,
                    0.97265625,
                    1.06234375,
                    1.16015625,
                    1.1224999999999996,
                    1.04640625,
                    1.1346875,
                    1.17328125,
                    1.06203125,
                    1.1182812500000006,
                    1.1521875,
                    1.1076562499999991,
                    1.1153125000000004,
                    1.1526562500000004,
                    1.0343749999999998,
                    1.1360937500000001,
                    1.1593749999999998,
                    1.1043749999999994,
                    1.149375,
                    1.0921874999999999,
                    1.1173437499999999,
                    1.0910937500000002,
                    1.1421875,
                    1.1251562499999994,
                    1.1257812500000002,
                    1.1278124999999997,
                    1.1429687500000008,
                    1.1726562500000006,
                    1.09359375,
                    1.1362500000000002,
                    1.1567187499999998,
                    1.1400000000000001,
                    1.0834374999999998,
                    1.1076562499999998,
                    1.0801562499999995,
                    1.0949999999999998,
                    1.0832812500000004,
                    1.0412499999999993,
                    1.07859375,
                    1.1051562499999994,
                    1.01734375,
                    1.0518750000000003,
                    1.0403124999999998,
                    1.0564062499999993,
                    1.0621874999999996,
                    0.9932812500000001,
                    0.9999999999999998,
                    1.0884374999999997,
                    1.0410937499999997,
                    0.9617187500000001,
                    1.00890625,
                    1.0474999999999999,
                    0.9971875000000001,
                    0.9981250000000004,
                    0.82375,
                    0.9698437499999997,
                    1.0218749999999996,
                    0.98234375,
                    1.0328124999999997,
                    0.9817187500000001,
                    1.0335937500000003,
                    1.03359375,
                    0.9793750000000001,
                    0.9867187500000003,
                    0.9765624999999999,
                    0.9237499999999998,
                    0.8823437500000001,
                    0.89828125,
                    0.9339062499999997,
                    1.0245312500000003,
                    1.0175,
                    1.0467187500000004,
                    1.1279687500000004,
                    1.0926562499999997,
                    1.1265625000000001,
                    1.0964062500000005,
                    1.1423437499999998,
                    1.1956250000000002,
                    1.2465625,
                    1.2853124999999999,
                    1.2323437499999992,
                    1.1751562499999997,
                    1.1906249999999998,
                    1.1731250000000006,
                    1.1474999999999993,
                    1.1456250000000003,
                    1.1989062499999994,
                    1.2775,
                    1.2959375000000002,
                    1.30671875,
                    1.3162499999999997,
                    1.3440625000000008,
                    1.4203125000000008,
                    1.4770312499999998,
                    1.4101562500000004,
                    1.3640625000000004,
                    1.3096875,
                    1.1042187499999998,
                    1.0954687500000004,
                    1.0687500000000005,
                    1.0992187499999997,
                    0.9937499999999998,
                    1.0859375000000002,
                    1.11953125,
                    1.0473437499999994,
                    1.0867187499999995,
                    0.8876562499999998,
                    0.9751562500000002,
                    1.1529687499999997,
                    1.1142187499999998,
                    1.2250000000000003,
                    1.3428124999999997,
                    1.368281250000001,
                    1.3453125000000001,
                    1.3764062500000003,
                    1.3334375,
                    1.33953125,
                    1.32,
                    1.2689062500000006,
                    1.1792187500000002,
                    1.3162499999999997,
                    1.3289062500000002,
                    1.3689062499999998,
                    1.3632812500000004,
                    1.3178124999999992,
                    1.2734375000000002,
                    1.2393750000000003,
                    1.2612500000000002,
                    1.229375,
                    1.389218749999999,
                    1.3771875,
                    1.3903125000000003,
                    1.3996874999999998,
                    1.4587499999999995,
                    1.4796874999999998,
                    1.5140625000000005,
                    1.6639062500000008,
                    1.6606250000000007,
                    1.5959374999999993,
                    1.6287500000000001,
                    1.67390625,
                    1.6878124999999997,
                    1.6389062499999993,
                    1.5240625000000005,
                    1.3531250000000004,
                    1.3014062499999997,
                    1.2339062499999995,
                    1.2728125000000008,
                    1.3282812500000005,
                    1.1590624999999999,
                    1.1199999999999999,
                    1.1687500000000004,
                    1.2807812500000002,
                    1.0553124999999999,
                    1.1735937500000002,
                    1.2760937499999998,
                    1.1503124999999998,
                    1.2226562499999996,
                    0.9282812500000001,
                    1.0743749999999999,
                    1.1978125000000004,
                    1.1581249999999998,
                    1.154843749999999,
                    1.1462499999999995,
                    1.1135937499999997,
                    1.18421875,
                    1.175625,
                    1.0900000000000003,
                    1.1090625000000003,
                    1.12390625,
                    1.1092187500000001,
                    0.9387500000000002,
                    1.0812499999999998,
                    1.1065625000000006,
                    1.1146875000000005,
                    1.1418749999999995,
                    1.0976562500000002,
                    1.1565625,
                    1.0912500000000003,
                    1.0853125000000006,
                    1.1140624999999997,
                    1.13453125,
                    1.1159375000000002,
                    1.1571874999999996,
                    1.1953125000000009,
                    1.176406250000001,
                    1.1851562499999997,
                    1.3107812499999998,
                    1.37734375,
                    1.3256249999999998,
                    1.2784375000000003,
                    1.28390625,
                    1.1915625000000007,
                    1.1834375000000001,
                    1.1475000000000004,
                    1.1870312500000002,
                    1.0595312500000003,
                    1.0915625000000002,
                    1.1229687499999994,
                    1.2034375,
                    1.3010937499999997,
                    1.299687499999999,
                    1.07671875,
                    1.0301562499999997,
                    1.03125,
                    1.0987500000000003,
                    0.9085937500000002,
                    0.9623437499999998,
                    1.0275000000000003,
                    1.04921875,
                    1.0599999999999998,
                    1.0393750000000004,
                    1.01234375,
                    1.0609374999999996,
                    1.059375,
                    1.0162499999999997,
                    1.1495312500000006,
                    1.3465624999999994,
                    1.4457812499999998,
                    1.2573437500000004,
                    1.3068749999999998,
                    1.3278125,
                    1.3526562500000001,
                    1.2495312500000006,
                    1.2610937500000001,
                    1.37375,
                    1.416406249999999,
                    1.4468749999999997,
                    1.4948437499999996,
                    1.50515625,
                    1.5428124999999995,
                    1.5050000000000003,
                    1.4435937499999993,
                    1.3642187500000003,
                    1.3265624999999994,
                    1.286093750000001,
                    1.2707812499999998,
                    1.2629687500000004,
                    1.2521875000000005,
                    1.2587499999999996,
                    1.2103124999999997,
                    1.1614062499999998,
                    1.1848437499999998,
                    1.1328125,
                    1.0939062499999999,
                    1.0878124999999998,
                    1.0762499999999995,
                    1.06765625,
                    1.08890625,
                    1.0806249999999997
                  ]
                },
                {
                  "marker": {
                    "color": "rgb(248,146,146)",
                    "line": {
                      "color": "rgb(249,52,52)",
                      "width": 1.5
                    }
                  },
                  "mode": "lines+markers",
                  "name": "organic",
                  "opacity": 0.8,
                  "type": "scatter",
                  "x": [
                    "2015-01-04T00:00:00",
                    "2015-01-11T00:00:00",
                    "2015-01-18T00:00:00",
                    "2015-01-25T00:00:00",
                    "2015-02-01T00:00:00",
                    "2015-02-08T00:00:00",
                    "2015-02-15T00:00:00",
                    "2015-02-22T00:00:00",
                    "2015-03-01T00:00:00",
                    "2015-03-08T00:00:00",
                    "2015-03-15T00:00:00",
                    "2015-03-22T00:00:00",
                    "2015-03-29T00:00:00",
                    "2015-04-05T00:00:00",
                    "2015-04-12T00:00:00",
                    "2015-04-19T00:00:00",
                    "2015-04-26T00:00:00",
                    "2015-05-03T00:00:00",
                    "2015-05-10T00:00:00",
                    "2015-05-17T00:00:00",
                    "2015-05-24T00:00:00",
                    "2015-05-31T00:00:00",
                    "2015-06-07T00:00:00",
                    "2015-06-14T00:00:00",
                    "2015-06-21T00:00:00",
                    "2015-06-28T00:00:00",
                    "2015-07-05T00:00:00",
                    "2015-07-12T00:00:00",
                    "2015-07-19T00:00:00",
                    "2015-07-26T00:00:00",
                    "2015-08-02T00:00:00",
                    "2015-08-09T00:00:00",
                    "2015-08-16T00:00:00",
                    "2015-08-23T00:00:00",
                    "2015-08-30T00:00:00",
                    "2015-09-06T00:00:00",
                    "2015-09-13T00:00:00",
                    "2015-09-20T00:00:00",
                    "2015-09-27T00:00:00",
                    "2015-10-04T00:00:00",
                    "2015-10-11T00:00:00",
                    "2015-10-18T00:00:00",
                    "2015-10-25T00:00:00",
                    "2015-11-01T00:00:00",
                    "2015-11-08T00:00:00",
                    "2015-11-15T00:00:00",
                    "2015-11-22T00:00:00",
                    "2015-11-29T00:00:00",
                    "2015-12-06T00:00:00",
                    "2015-12-13T00:00:00",
                    "2015-12-20T00:00:00",
                    "2015-12-27T00:00:00",
                    "2016-01-04T00:00:00",
                    "2016-01-10T00:00:00",
                    "2016-01-17T00:00:00",
                    "2016-01-24T00:00:00",
                    "2016-01-31T00:00:00",
                    "2016-02-07T00:00:00",
                    "2016-02-14T00:00:00",
                    "2016-02-21T00:00:00",
                    "2016-02-28T00:00:00",
                    "2016-03-06T00:00:00",
                    "2016-03-13T00:00:00",
                    "2016-03-20T00:00:00",
                    "2016-03-27T00:00:00",
                    "2016-04-03T00:00:00",
                    "2016-04-10T00:00:00",
                    "2016-04-17T00:00:00",
                    "2016-04-24T00:00:00",
                    "2016-05-01T00:00:00",
                    "2016-05-08T00:00:00",
                    "2016-05-15T00:00:00",
                    "2016-05-22T00:00:00",
                    "2016-05-29T00:00:00",
                    "2016-06-05T00:00:00",
                    "2016-06-12T00:00:00",
                    "2016-06-19T00:00:00",
                    "2016-06-26T00:00:00",
                    "2016-07-03T00:00:00",
                    "2016-07-10T00:00:00",
                    "2016-07-17T00:00:00",
                    "2016-07-24T00:00:00",
                    "2016-07-31T00:00:00",
                    "2016-08-07T00:00:00",
                    "2016-08-14T00:00:00",
                    "2016-08-21T00:00:00",
                    "2016-08-28T00:00:00",
                    "2016-09-04T00:00:00",
                    "2016-09-11T00:00:00",
                    "2016-09-18T00:00:00",
                    "2016-09-25T00:00:00",
                    "2016-10-02T00:00:00",
                    "2016-10-09T00:00:00",
                    "2016-10-16T00:00:00",
                    "2016-10-23T00:00:00",
                    "2016-10-30T00:00:00",
                    "2016-11-06T00:00:00",
                    "2016-11-13T00:00:00",
                    "2016-11-20T00:00:00",
                    "2016-11-27T00:00:00",
                    "2016-12-04T00:00:00",
                    "2016-12-11T00:00:00",
                    "2016-12-18T00:00:00",
                    "2016-12-25T00:00:00",
                    "2017-01-02T00:00:00",
                    "2017-01-08T00:00:00",
                    "2017-01-15T00:00:00",
                    "2017-01-22T00:00:00",
                    "2017-01-29T00:00:00",
                    "2017-02-05T00:00:00",
                    "2017-02-12T00:00:00",
                    "2017-02-19T00:00:00",
                    "2017-02-26T00:00:00",
                    "2017-03-05T00:00:00",
                    "2017-03-12T00:00:00",
                    "2017-03-19T00:00:00",
                    "2017-03-26T00:00:00",
                    "2017-04-02T00:00:00",
                    "2017-04-09T00:00:00",
                    "2017-04-16T00:00:00",
                    "2017-04-23T00:00:00",
                    "2017-04-30T00:00:00",
                    "2017-05-07T00:00:00",
                    "2017-05-14T00:00:00",
                    "2017-05-21T00:00:00",
                    "2017-05-28T00:00:00",
                    "2017-06-04T00:00:00",
                    "2017-06-11T00:00:00",
                    "2017-06-18T00:00:00",
                    "2017-06-25T00:00:00",
                    "2017-07-02T00:00:00",
                    "2017-07-09T00:00:00",
                    "2017-07-16T00:00:00",
                    "2017-07-23T00:00:00",
                    "2017-07-30T00:00:00",
                    "2017-08-06T00:00:00",
                    "2017-08-13T00:00:00",
                    "2017-08-20T00:00:00",
                    "2017-08-27T00:00:00",
                    "2017-09-03T00:00:00",
                    "2017-09-10T00:00:00",
                    "2017-09-17T00:00:00",
                    "2017-09-24T00:00:00",
                    "2017-10-01T00:00:00",
                    "2017-10-08T00:00:00",
                    "2017-10-15T00:00:00",
                    "2017-10-22T00:00:00",
                    "2017-10-29T00:00:00",
                    "2017-11-05T00:00:00",
                    "2017-11-12T00:00:00",
                    "2017-11-19T00:00:00",
                    "2017-11-26T00:00:00",
                    "2017-12-03T00:00:00",
                    "2017-12-10T00:00:00",
                    "2017-12-17T00:00:00",
                    "2017-12-24T00:00:00",
                    "2018-01-01T00:00:00",
                    "2018-01-07T00:00:00",
                    "2018-01-14T00:00:00",
                    "2018-01-21T00:00:00",
                    "2018-01-28T00:00:00",
                    "2018-02-04T00:00:00",
                    "2018-02-11T00:00:00",
                    "2018-02-18T00:00:00",
                    "2018-02-25T00:00:00",
                    "2018-03-04T00:00:00",
                    "2018-03-11T00:00:00",
                    "2018-03-18T00:00:00",
                    "2018-03-25T00:00:00",
                    "2018-04-01T00:00:00",
                    "2018-04-08T00:00:00",
                    "2018-04-15T00:00:00",
                    "2018-04-22T00:00:00",
                    "2018-04-29T00:00:00",
                    "2018-05-06T00:00:00",
                    "2018-05-13T00:00:00",
                    "2018-05-20T00:00:00",
                    "2018-05-27T00:00:00",
                    "2018-06-03T00:00:00",
                    "2018-06-10T00:00:00",
                    "2018-06-17T00:00:00",
                    "2018-06-24T00:00:00",
                    "2018-07-01T00:00:00",
                    "2018-07-08T00:00:00",
                    "2018-07-15T00:00:00",
                    "2018-07-22T00:00:00",
                    "2018-07-29T00:00:00",
                    "2018-08-05T00:00:00",
                    "2018-08-12T00:00:00",
                    "2018-08-19T00:00:00",
                    "2018-08-26T00:00:00",
                    "2018-09-02T00:00:00",
                    "2018-09-09T00:00:00",
                    "2018-09-16T00:00:00",
                    "2018-09-23T00:00:00",
                    "2018-09-30T00:00:00",
                    "2018-10-07T00:00:00",
                    "2018-10-14T00:00:00",
                    "2018-10-21T00:00:00",
                    "2018-10-28T00:00:00",
                    "2018-11-04T00:00:00",
                    "2018-11-11T00:00:00",
                    "2018-11-18T00:00:00",
                    "2018-11-25T00:00:00",
                    "2018-12-02T00:00:00",
                    "2019-01-07T00:00:00",
                    "2019-01-13T00:00:00",
                    "2019-01-20T00:00:00",
                    "2019-01-27T00:00:00",
                    "2019-02-03T00:00:00",
                    "2019-02-10T00:00:00",
                    "2019-02-17T00:00:00",
                    "2019-02-24T00:00:00",
                    "2019-03-03T00:00:00",
                    "2019-03-10T00:00:00",
                    "2019-03-17T00:00:00",
                    "2019-03-24T00:00:00",
                    "2019-03-31T00:00:00",
                    "2019-04-07T00:00:00",
                    "2019-04-14T00:00:00",
                    "2019-04-21T00:00:00",
                    "2019-04-28T00:00:00",
                    "2019-05-05T00:00:00",
                    "2019-05-12T00:00:00",
                    "2019-05-19T00:00:00",
                    "2019-05-26T00:00:00",
                    "2019-06-02T00:00:00",
                    "2019-06-09T00:00:00",
                    "2019-06-16T00:00:00",
                    "2019-06-23T00:00:00",
                    "2019-06-30T00:00:00",
                    "2019-07-07T00:00:00",
                    "2019-07-14T00:00:00",
                    "2019-07-21T00:00:00",
                    "2019-07-28T00:00:00",
                    "2019-08-04T00:00:00",
                    "2019-08-11T00:00:00",
                    "2019-08-18T00:00:00",
                    "2019-08-25T00:00:00",
                    "2019-09-01T00:00:00",
                    "2019-09-08T00:00:00",
                    "2019-09-15T00:00:00",
                    "2019-09-22T00:00:00",
                    "2019-09-29T00:00:00",
                    "2019-10-06T00:00:00",
                    "2019-10-13T00:00:00",
                    "2019-10-20T00:00:00",
                    "2019-10-27T00:00:00",
                    "2019-11-03T00:00:00",
                    "2019-11-10T00:00:00",
                    "2019-11-17T00:00:00",
                    "2019-11-24T00:00:00",
                    "2019-12-01T00:00:00"
                  ],
                  "y": [
                    1.6060937500000005,
                    1.662031249999999,
                    1.6945312500000007,
                    1.7120312499999997,
                    1.5787500000000003,
                    1.616093750000001,
                    1.6784375,
                    1.6646874999999994,
                    1.6362499999999998,
                    1.6595312500000006,
                    1.6885937500000001,
                    1.6776562500000007,
                    1.7107812499999995,
                    1.7087500000000004,
                    1.6589062499999998,
                    1.6648437500000002,
                    1.66,
                    1.56265625,
                    1.5498437500000002,
                    1.5978125000000005,
                    1.7043749999999998,
                    1.66421875,
                    1.6760937499999997,
                    1.7512499999999998,
                    1.7424999999999997,
                    1.7159375000000003,
                    1.7559375,
                    1.7385937499999993,
                    1.6803125000000005,
                    1.7378124999999989,
                    1.8673437500000005,
                    1.844062499999999,
                    1.8110937500000002,
                    1.7873437499999993,
                    1.7092187500000002,
                    1.8253124999999992,
                    1.8835937500000002,
                    1.8562500000000004,
                    1.8614062500000002,
                    1.795,
                    1.7156250000000002,
                    1.7596874999999994,
                    1.6884374999999991,
                    1.602187500000001,
                    1.6499999999999995,
                    1.6981250000000006,
                    1.6407812500000005,
                    1.6537499999999998,
                    1.6409374999999997,
                    1.6081250000000007,
                    1.6571874999999998,
                    1.5978124999999999,
                    1.4889062499999999,
                    1.4920312500000004,
                    1.5448437500000003,
                    1.49640625,
                    1.5334375,
                    1.5401562500000003,
                    1.5254687500000002,
                    1.58421875,
                    1.6,
                    1.5398437500000002,
                    1.4434375000000002,
                    1.3918750000000004,
                    1.5096874999999992,
                    1.5046874999999997,
                    1.4068749999999994,
                    1.5198437499999997,
                    1.45703125,
                    1.4589062499999998,
                    1.4590625000000004,
                    1.5378124999999994,
                    1.4882812499999998,
                    1.5364062499999998,
                    1.507343749999999,
                    1.5421874999999996,
                    1.48578125,
                    1.5315625,
                    1.4710937499999996,
                    1.5820312499999996,
                    1.7076562499999994,
                    1.7896874999999994,
                    1.64765625,
                    1.67046875,
                    1.7387499999999998,
                    1.7134375000000002,
                    1.65203125,
                    1.6028125000000009,
                    1.5753124999999997,
                    1.6553125000000002,
                    1.7407812499999995,
                    1.8596875000000004,
                    1.6406250000000002,
                    1.5967187500000006,
                    1.6756249999999993,
                    1.9331249999999998,
                    1.6959375,
                    1.7454687499999995,
                    1.6265625000000004,
                    1.670625,
                    1.6128125000000002,
                    1.5284375000000001,
                    1.5046874999999995,
                    1.524062500000001,
                    1.54515625,
                    1.5198437500000004,
                    1.5415625000000004,
                    1.3851562499999996,
                    1.48359375,
                    1.4284375,
                    1.4426562499999998,
                    1.4275000000000004,
                    1.3975000000000006,
                    1.3667187500000006,
                    1.5560937499999996,
                    1.6193749999999996,
                    1.4476562500000003,
                    1.5492187499999996,
                    1.6671875,
                    1.6979687500000007,
                    1.7932812500000004,
                    1.8418750000000006,
                    1.77125,
                    1.8015625000000004,
                    1.8132812500000006,
                    1.82515625,
                    1.8157812500000008,
                    1.7564062499999995,
                    1.8404687499999992,
                    1.945000000000001,
                    1.916875,
                    1.8748437500000006,
                    1.8385937499999994,
                    1.7949999999999997,
                    1.7790625,
                    1.867343750000001,
                    1.90078125,
                    2.0498437499999995,
                    2.1526562499999997,
                    2.1571875000000005,
                    2.1364062500000003,
                    2.0760937500000005,
                    2.00609375,
                    2.0671874999999997,
                    2.005781249999999,
                    1.994843749999999,
                    1.8425000000000005,
                    1.8664062499999998,
                    1.8492187500000004,
                    1.7804687499999996,
                    1.7499999999999998,
                    1.6893749999999998,
                    1.6153124999999997,
                    1.5718750000000001,
                    1.5778125000000007,
                    1.6226562499999992,
                    1.50140625,
                    1.49625,
                    1.5724999999999991,
                    1.6387500000000002,
                    1.6270312499999993,
                    1.5439062499999991,
                    1.5793750000000009,
                    1.5948437500000001,
                    1.5956249999999998,
                    1.5828124999999997,
                    1.5354687500000002,
                    1.53421875,
                    1.5576562499999995,
                    1.5724999999999998,
                    1.57234375,
                    1.5518749999999997,
                    1.514999999999999,
                    1.5890625,
                    1.5829687500000005,
                    1.5043749999999998,
                    1.5053124999999998,
                    1.5046875,
                    1.4932812499999997,
                    1.5684374999999997,
                    1.4809375000000002,
                    1.4795312500000009,
                    1.5290625000000002,
                    1.5345312500000012,
                    1.5514062500000005,
                    1.565,
                    1.5645312500000006,
                    1.578281250000001,
                    1.63421875,
                    1.66484375,
                    1.6687499999999993,
                    1.70421875,
                    1.72578125,
                    1.7009374999999993,
                    1.7107812499999997,
                    1.6667187499999998,
                    1.6354687500000005,
                    1.576093750000001,
                    1.5418749999999994,
                    1.5156249999999996,
                    1.5232812499999995,
                    1.5382812500000007,
                    1.56921875,
                    1.6279687499999995,
                    1.5660937500000005,
                    1.4828124999999996,
                    1.4746874999999997,
                    1.5065625000000002,
                    1.45484375,
                    1.3918749999999998,
                    1.3962500000000002,
                    1.44734375,
                    1.4259374999999994,
                    1.3915624999999991,
                    1.3995312499999997,
                    1.3632812500000004,
                    1.3595312500000003,
                    1.47109375,
                    1.4795312499999997,
                    1.492812499999999,
                    1.7417187500000006,
                    1.8284375,
                    1.7978124999999998,
                    1.7203124999999997,
                    1.7914062500000005,
                    1.74359375,
                    1.5892187500000001,
                    1.6199999999999994,
                    1.7459375000000004,
                    1.8198437500000002,
                    1.8743750000000006,
                    1.9371875000000003,
                    1.9601562499999996,
                    1.9617187499999995,
                    1.9831249999999996,
                    1.9745312499999994,
                    1.9123437500000002,
                    1.7439062499999998,
                    1.7623437499999994,
                    1.7493749999999995,
                    1.68515625,
                    1.5842187500000002,
                    1.5831250000000001,
                    1.6371875000000002,
                    1.5240625000000005,
                    1.48640625,
                    1.4525000000000003,
                    1.4057812500000002,
                    1.3885937499999998,
                    1.500625,
                    1.5034375,
                    1.52203125,
                    1.48109375
                  ]
                }
              ],
              "layout": {
                "template": {
                  "data": {
                    "bar": [
                      {
                        "error_x": {
                          "color": "#2a3f5f"
                        },
                        "error_y": {
                          "color": "#2a3f5f"
                        },
                        "marker": {
                          "line": {
                            "color": "#E5ECF6",
                            "width": 0.5
                          }
                        },
                        "type": "bar"
                      }
                    ],
                    "barpolar": [
                      {
                        "marker": {
                          "line": {
                            "color": "#E5ECF6",
                            "width": 0.5
                          }
                        },
                        "type": "barpolar"
                      }
                    ],
                    "carpet": [
                      {
                        "aaxis": {
                          "endlinecolor": "#2a3f5f",
                          "gridcolor": "white",
                          "linecolor": "white",
                          "minorgridcolor": "white",
                          "startlinecolor": "#2a3f5f"
                        },
                        "baxis": {
                          "endlinecolor": "#2a3f5f",
                          "gridcolor": "white",
                          "linecolor": "white",
                          "minorgridcolor": "white",
                          "startlinecolor": "#2a3f5f"
                        },
                        "type": "carpet"
                      }
                    ],
                    "choropleth": [
                      {
                        "colorbar": {
                          "outlinewidth": 0,
                          "ticks": ""
                        },
                        "type": "choropleth"
                      }
                    ],
                    "contour": [
                      {
                        "colorbar": {
                          "outlinewidth": 0,
                          "ticks": ""
                        },
                        "colorscale": [
                          [
                            0,
                            "#0d0887"
                          ],
                          [
                            0.1111111111111111,
                            "#46039f"
                          ],
                          [
                            0.2222222222222222,
                            "#7201a8"
                          ],
                          [
                            0.3333333333333333,
                            "#9c179e"
                          ],
                          [
                            0.4444444444444444,
                            "#bd3786"
                          ],
                          [
                            0.5555555555555556,
                            "#d8576b"
                          ],
                          [
                            0.6666666666666666,
                            "#ed7953"
                          ],
                          [
                            0.7777777777777778,
                            "#fb9f3a"
                          ],
                          [
                            0.8888888888888888,
                            "#fdca26"
                          ],
                          [
                            1,
                            "#f0f921"
                          ]
                        ],
                        "type": "contour"
                      }
                    ],
                    "contourcarpet": [
                      {
                        "colorbar": {
                          "outlinewidth": 0,
                          "ticks": ""
                        },
                        "type": "contourcarpet"
                      }
                    ],
                    "heatmap": [
                      {
                        "colorbar": {
                          "outlinewidth": 0,
                          "ticks": ""
                        },
                        "colorscale": [
                          [
                            0,
                            "#0d0887"
                          ],
                          [
                            0.1111111111111111,
                            "#46039f"
                          ],
                          [
                            0.2222222222222222,
                            "#7201a8"
                          ],
                          [
                            0.3333333333333333,
                            "#9c179e"
                          ],
                          [
                            0.4444444444444444,
                            "#bd3786"
                          ],
                          [
                            0.5555555555555556,
                            "#d8576b"
                          ],
                          [
                            0.6666666666666666,
                            "#ed7953"
                          ],
                          [
                            0.7777777777777778,
                            "#fb9f3a"
                          ],
                          [
                            0.8888888888888888,
                            "#fdca26"
                          ],
                          [
                            1,
                            "#f0f921"
                          ]
                        ],
                        "type": "heatmap"
                      }
                    ],
                    "heatmapgl": [
                      {
                        "colorbar": {
                          "outlinewidth": 0,
                          "ticks": ""
                        },
                        "colorscale": [
                          [
                            0,
                            "#0d0887"
                          ],
                          [
                            0.1111111111111111,
                            "#46039f"
                          ],
                          [
                            0.2222222222222222,
                            "#7201a8"
                          ],
                          [
                            0.3333333333333333,
                            "#9c179e"
                          ],
                          [
                            0.4444444444444444,
                            "#bd3786"
                          ],
                          [
                            0.5555555555555556,
                            "#d8576b"
                          ],
                          [
                            0.6666666666666666,
                            "#ed7953"
                          ],
                          [
                            0.7777777777777778,
                            "#fb9f3a"
                          ],
                          [
                            0.8888888888888888,
                            "#fdca26"
                          ],
                          [
                            1,
                            "#f0f921"
                          ]
                        ],
                        "type": "heatmapgl"
                      }
                    ],
                    "histogram": [
                      {
                        "marker": {
                          "colorbar": {
                            "outlinewidth": 0,
                            "ticks": ""
                          }
                        },
                        "type": "histogram"
                      }
                    ],
                    "histogram2d": [
                      {
                        "colorbar": {
                          "outlinewidth": 0,
                          "ticks": ""
                        },
                        "colorscale": [
                          [
                            0,
                            "#0d0887"
                          ],
                          [
                            0.1111111111111111,
                            "#46039f"
                          ],
                          [
                            0.2222222222222222,
                            "#7201a8"
                          ],
                          [
                            0.3333333333333333,
                            "#9c179e"
                          ],
                          [
                            0.4444444444444444,
                            "#bd3786"
                          ],
                          [
                            0.5555555555555556,
                            "#d8576b"
                          ],
                          [
                            0.6666666666666666,
                            "#ed7953"
                          ],
                          [
                            0.7777777777777778,
                            "#fb9f3a"
                          ],
                          [
                            0.8888888888888888,
                            "#fdca26"
                          ],
                          [
                            1,
                            "#f0f921"
                          ]
                        ],
                        "type": "histogram2d"
                      }
                    ],
                    "histogram2dcontour": [
                      {
                        "colorbar": {
                          "outlinewidth": 0,
                          "ticks": ""
                        },
                        "colorscale": [
                          [
                            0,
                            "#0d0887"
                          ],
                          [
                            0.1111111111111111,
                            "#46039f"
                          ],
                          [
                            0.2222222222222222,
                            "#7201a8"
                          ],
                          [
                            0.3333333333333333,
                            "#9c179e"
                          ],
                          [
                            0.4444444444444444,
                            "#bd3786"
                          ],
                          [
                            0.5555555555555556,
                            "#d8576b"
                          ],
                          [
                            0.6666666666666666,
                            "#ed7953"
                          ],
                          [
                            0.7777777777777778,
                            "#fb9f3a"
                          ],
                          [
                            0.8888888888888888,
                            "#fdca26"
                          ],
                          [
                            1,
                            "#f0f921"
                          ]
                        ],
                        "type": "histogram2dcontour"
                      }
                    ],
                    "mesh3d": [
                      {
                        "colorbar": {
                          "outlinewidth": 0,
                          "ticks": ""
                        },
                        "type": "mesh3d"
                      }
                    ],
                    "parcoords": [
                      {
                        "line": {
                          "colorbar": {
                            "outlinewidth": 0,
                            "ticks": ""
                          }
                        },
                        "type": "parcoords"
                      }
                    ],
                    "pie": [
                      {
                        "automargin": true,
                        "type": "pie"
                      }
                    ],
                    "scatter": [
                      {
                        "marker": {
                          "colorbar": {
                            "outlinewidth": 0,
                            "ticks": ""
                          }
                        },
                        "type": "scatter"
                      }
                    ],
                    "scatter3d": [
                      {
                        "line": {
                          "colorbar": {
                            "outlinewidth": 0,
                            "ticks": ""
                          }
                        },
                        "marker": {
                          "colorbar": {
                            "outlinewidth": 0,
                            "ticks": ""
                          }
                        },
                        "type": "scatter3d"
                      }
                    ],
                    "scattercarpet": [
                      {
                        "marker": {
                          "colorbar": {
                            "outlinewidth": 0,
                            "ticks": ""
                          }
                        },
                        "type": "scattercarpet"
                      }
                    ],
                    "scattergeo": [
                      {
                        "marker": {
                          "colorbar": {
                            "outlinewidth": 0,
                            "ticks": ""
                          }
                        },
                        "type": "scattergeo"
                      }
                    ],
                    "scattergl": [
                      {
                        "marker": {
                          "colorbar": {
                            "outlinewidth": 0,
                            "ticks": ""
                          }
                        },
                        "type": "scattergl"
                      }
                    ],
                    "scattermapbox": [
                      {
                        "marker": {
                          "colorbar": {
                            "outlinewidth": 0,
                            "ticks": ""
                          }
                        },
                        "type": "scattermapbox"
                      }
                    ],
                    "scatterpolar": [
                      {
                        "marker": {
                          "colorbar": {
                            "outlinewidth": 0,
                            "ticks": ""
                          }
                        },
                        "type": "scatterpolar"
                      }
                    ],
                    "scatterpolargl": [
                      {
                        "marker": {
                          "colorbar": {
                            "outlinewidth": 0,
                            "ticks": ""
                          }
                        },
                        "type": "scatterpolargl"
                      }
                    ],
                    "scatterternary": [
                      {
                        "marker": {
                          "colorbar": {
                            "outlinewidth": 0,
                            "ticks": ""
                          }
                        },
                        "type": "scatterternary"
                      }
                    ],
                    "surface": [
                      {
                        "colorbar": {
                          "outlinewidth": 0,
                          "ticks": ""
                        },
                        "colorscale": [
                          [
                            0,
                            "#0d0887"
                          ],
                          [
                            0.1111111111111111,
                            "#46039f"
                          ],
                          [
                            0.2222222222222222,
                            "#7201a8"
                          ],
                          [
                            0.3333333333333333,
                            "#9c179e"
                          ],
                          [
                            0.4444444444444444,
                            "#bd3786"
                          ],
                          [
                            0.5555555555555556,
                            "#d8576b"
                          ],
                          [
                            0.6666666666666666,
                            "#ed7953"
                          ],
                          [
                            0.7777777777777778,
                            "#fb9f3a"
                          ],
                          [
                            0.8888888888888888,
                            "#fdca26"
                          ],
                          [
                            1,
                            "#f0f921"
                          ]
                        ],
                        "type": "surface"
                      }
                    ],
                    "table": [
                      {
                        "cells": {
                          "fill": {
                            "color": "#EBF0F8"
                          },
                          "line": {
                            "color": "white"
                          }
                        },
                        "header": {
                          "fill": {
                            "color": "#C8D4E3"
                          },
                          "line": {
                            "color": "white"
                          }
                        },
                        "type": "table"
                      }
                    ]
                  },
                  "layout": {
                    "annotationdefaults": {
                      "arrowcolor": "#2a3f5f",
                      "arrowhead": 0,
                      "arrowwidth": 1
                    },
                    "coloraxis": {
                      "colorbar": {
                        "outlinewidth": 0,
                        "ticks": ""
                      }
                    },
                    "colorscale": {
                      "diverging": [
                        [
                          0,
                          "#8e0152"
                        ],
                        [
                          0.1,
                          "#c51b7d"
                        ],
                        [
                          0.2,
                          "#de77ae"
                        ],
                        [
                          0.3,
                          "#f1b6da"
                        ],
                        [
                          0.4,
                          "#fde0ef"
                        ],
                        [
                          0.5,
                          "#f7f7f7"
                        ],
                        [
                          0.6,
                          "#e6f5d0"
                        ],
                        [
                          0.7,
                          "#b8e186"
                        ],
                        [
                          0.8,
                          "#7fbc41"
                        ],
                        [
                          0.9,
                          "#4d9221"
                        ],
                        [
                          1,
                          "#276419"
                        ]
                      ],
                      "sequential": [
                        [
                          0,
                          "#0d0887"
                        ],
                        [
                          0.1111111111111111,
                          "#46039f"
                        ],
                        [
                          0.2222222222222222,
                          "#7201a8"
                        ],
                        [
                          0.3333333333333333,
                          "#9c179e"
                        ],
                        [
                          0.4444444444444444,
                          "#bd3786"
                        ],
                        [
                          0.5555555555555556,
                          "#d8576b"
                        ],
                        [
                          0.6666666666666666,
                          "#ed7953"
                        ],
                        [
                          0.7777777777777778,
                          "#fb9f3a"
                        ],
                        [
                          0.8888888888888888,
                          "#fdca26"
                        ],
                        [
                          1,
                          "#f0f921"
                        ]
                      ],
                      "sequentialminus": [
                        [
                          0,
                          "#0d0887"
                        ],
                        [
                          0.1111111111111111,
                          "#46039f"
                        ],
                        [
                          0.2222222222222222,
                          "#7201a8"
                        ],
                        [
                          0.3333333333333333,
                          "#9c179e"
                        ],
                        [
                          0.4444444444444444,
                          "#bd3786"
                        ],
                        [
                          0.5555555555555556,
                          "#d8576b"
                        ],
                        [
                          0.6666666666666666,
                          "#ed7953"
                        ],
                        [
                          0.7777777777777778,
                          "#fb9f3a"
                        ],
                        [
                          0.8888888888888888,
                          "#fdca26"
                        ],
                        [
                          1,
                          "#f0f921"
                        ]
                      ]
                    },
                    "colorway": [
                      "#636efa",
                      "#EF553B",
                      "#00cc96",
                      "#ab63fa",
                      "#FFA15A",
                      "#19d3f3",
                      "#FF6692",
                      "#B6E880",
                      "#FF97FF",
                      "#FECB52"
                    ],
                    "font": {
                      "color": "#2a3f5f"
                    },
                    "geo": {
                      "bgcolor": "white",
                      "lakecolor": "white",
                      "landcolor": "#E5ECF6",
                      "showlakes": true,
                      "showland": true,
                      "subunitcolor": "white"
                    },
                    "hoverlabel": {
                      "align": "left"
                    },
                    "hovermode": "closest",
                    "mapbox": {
                      "style": "light"
                    },
                    "paper_bgcolor": "white",
                    "plot_bgcolor": "#E5ECF6",
                    "polar": {
                      "angularaxis": {
                        "gridcolor": "white",
                        "linecolor": "white",
                        "ticks": ""
                      },
                      "bgcolor": "#E5ECF6",
                      "radialaxis": {
                        "gridcolor": "white",
                        "linecolor": "white",
                        "ticks": ""
                      }
                    },
                    "scene": {
                      "xaxis": {
                        "backgroundcolor": "#E5ECF6",
                        "gridcolor": "white",
                        "gridwidth": 2,
                        "linecolor": "white",
                        "showbackground": true,
                        "ticks": "",
                        "zerolinecolor": "white"
                      },
                      "yaxis": {
                        "backgroundcolor": "#E5ECF6",
                        "gridcolor": "white",
                        "gridwidth": 2,
                        "linecolor": "white",
                        "showbackground": true,
                        "ticks": "",
                        "zerolinecolor": "white"
                      },
                      "zaxis": {
                        "backgroundcolor": "#E5ECF6",
                        "gridcolor": "white",
                        "gridwidth": 2,
                        "linecolor": "white",
                        "showbackground": true,
                        "ticks": "",
                        "zerolinecolor": "white"
                      }
                    },
                    "shapedefaults": {
                      "line": {
                        "color": "#2a3f5f"
                      }
                    },
                    "ternary": {
                      "aaxis": {
                        "gridcolor": "white",
                        "linecolor": "white",
                        "ticks": ""
                      },
                      "baxis": {
                        "gridcolor": "white",
                        "linecolor": "white",
                        "ticks": ""
                      },
                      "bgcolor": "#E5ECF6",
                      "caxis": {
                        "gridcolor": "white",
                        "linecolor": "white",
                        "ticks": ""
                      }
                    },
                    "title": {
                      "x": 0.05
                    },
                    "xaxis": {
                      "automargin": true,
                      "gridcolor": "white",
                      "linecolor": "white",
                      "ticks": "",
                      "title": {
                        "standoff": 15
                      },
                      "zerolinecolor": "white",
                      "zerolinewidth": 2
                    },
                    "yaxis": {
                      "automargin": true,
                      "gridcolor": "white",
                      "linecolor": "white",
                      "ticks": "",
                      "title": {
                        "standoff": 15
                      },
                      "zerolinecolor": "white",
                      "zerolinewidth": 2
                    }
                  }
                },
                "title": {
                  "text": "Time Series Plot for Mean Daily Price"
                },
                "xaxis": {
                  "title": {
                    "text": "Date"
                  }
                },
                "yaxis": {
                  "title": {
                    "text": "Prices"
                  }
                }
              }
            },
            "text/html": [
              "<div>\n",
              "        \n",
              "        \n",
              "            <div id=\"f9a97224-f803-497d-a459-dab68df547a8\" class=\"plotly-graph-div\" style=\"height:525px; width:100%;\"></div>\n",
              "            <script type=\"text/javascript\">\n",
              "                require([\"plotly\"], function(Plotly) {\n",
              "                    window.PLOTLYENV=window.PLOTLYENV || {};\n",
              "                    \n",
              "                if (document.getElementById(\"f9a97224-f803-497d-a459-dab68df547a8\")) {\n",
              "                    Plotly.newPlot(\n",
              "                        'f9a97224-f803-497d-a459-dab68df547a8',\n",
              "                        [{\"marker\": {\"color\": \"rgb(158,202,225)\", \"line\": {\"color\": \"rgb(8,48,107)\", \"width\": 1.5}}, \"mode\": \"lines+markers\", \"name\": \"conventional\", \"opacity\": 0.8, \"type\": \"scatter\", \"x\": [\"2015-01-04T00:00:00\", \"2015-01-11T00:00:00\", \"2015-01-18T00:00:00\", \"2015-01-25T00:00:00\", \"2015-02-01T00:00:00\", \"2015-02-08T00:00:00\", \"2015-02-15T00:00:00\", \"2015-02-22T00:00:00\", \"2015-03-01T00:00:00\", \"2015-03-08T00:00:00\", \"2015-03-15T00:00:00\", \"2015-03-22T00:00:00\", \"2015-03-29T00:00:00\", \"2015-04-05T00:00:00\", \"2015-04-12T00:00:00\", \"2015-04-19T00:00:00\", \"2015-04-26T00:00:00\", \"2015-05-03T00:00:00\", \"2015-05-10T00:00:00\", \"2015-05-17T00:00:00\", \"2015-05-24T00:00:00\", \"2015-05-31T00:00:00\", \"2015-06-07T00:00:00\", \"2015-06-14T00:00:00\", \"2015-06-21T00:00:00\", \"2015-06-28T00:00:00\", \"2015-07-05T00:00:00\", \"2015-07-12T00:00:00\", \"2015-07-19T00:00:00\", \"2015-07-26T00:00:00\", \"2015-08-02T00:00:00\", \"2015-08-09T00:00:00\", \"2015-08-16T00:00:00\", \"2015-08-23T00:00:00\", \"2015-08-30T00:00:00\", \"2015-09-06T00:00:00\", \"2015-09-13T00:00:00\", \"2015-09-20T00:00:00\", \"2015-09-27T00:00:00\", \"2015-10-04T00:00:00\", \"2015-10-11T00:00:00\", \"2015-10-18T00:00:00\", \"2015-10-25T00:00:00\", \"2015-11-01T00:00:00\", \"2015-11-08T00:00:00\", \"2015-11-15T00:00:00\", \"2015-11-22T00:00:00\", \"2015-11-29T00:00:00\", \"2015-12-06T00:00:00\", \"2015-12-13T00:00:00\", \"2015-12-20T00:00:00\", \"2015-12-27T00:00:00\", \"2016-01-04T00:00:00\", \"2016-01-10T00:00:00\", \"2016-01-17T00:00:00\", \"2016-01-24T00:00:00\", \"2016-01-31T00:00:00\", \"2016-02-07T00:00:00\", \"2016-02-14T00:00:00\", \"2016-02-21T00:00:00\", \"2016-02-28T00:00:00\", \"2016-03-06T00:00:00\", \"2016-03-13T00:00:00\", \"2016-03-20T00:00:00\", \"2016-03-27T00:00:00\", \"2016-04-03T00:00:00\", \"2016-04-10T00:00:00\", \"2016-04-17T00:00:00\", \"2016-04-24T00:00:00\", \"2016-05-01T00:00:00\", \"2016-05-08T00:00:00\", \"2016-05-15T00:00:00\", \"2016-05-22T00:00:00\", \"2016-05-29T00:00:00\", \"2016-06-05T00:00:00\", \"2016-06-12T00:00:00\", \"2016-06-19T00:00:00\", \"2016-06-26T00:00:00\", \"2016-07-03T00:00:00\", \"2016-07-10T00:00:00\", \"2016-07-17T00:00:00\", \"2016-07-24T00:00:00\", \"2016-07-31T00:00:00\", \"2016-08-07T00:00:00\", \"2016-08-14T00:00:00\", \"2016-08-21T00:00:00\", \"2016-08-28T00:00:00\", \"2016-09-04T00:00:00\", \"2016-09-11T00:00:00\", \"2016-09-18T00:00:00\", \"2016-09-25T00:00:00\", \"2016-10-02T00:00:00\", \"2016-10-09T00:00:00\", \"2016-10-16T00:00:00\", \"2016-10-23T00:00:00\", \"2016-10-30T00:00:00\", \"2016-11-06T00:00:00\", \"2016-11-13T00:00:00\", \"2016-11-20T00:00:00\", \"2016-11-27T00:00:00\", \"2016-12-04T00:00:00\", \"2016-12-11T00:00:00\", \"2016-12-18T00:00:00\", \"2016-12-25T00:00:00\", \"2017-01-02T00:00:00\", \"2017-01-08T00:00:00\", \"2017-01-15T00:00:00\", \"2017-01-22T00:00:00\", \"2017-01-29T00:00:00\", \"2017-02-05T00:00:00\", \"2017-02-12T00:00:00\", \"2017-02-19T00:00:00\", \"2017-02-26T00:00:00\", \"2017-03-05T00:00:00\", \"2017-03-12T00:00:00\", \"2017-03-19T00:00:00\", \"2017-03-26T00:00:00\", \"2017-04-02T00:00:00\", \"2017-04-09T00:00:00\", \"2017-04-16T00:00:00\", \"2017-04-23T00:00:00\", \"2017-04-30T00:00:00\", \"2017-05-07T00:00:00\", \"2017-05-14T00:00:00\", \"2017-05-21T00:00:00\", \"2017-05-28T00:00:00\", \"2017-06-04T00:00:00\", \"2017-06-11T00:00:00\", \"2017-06-18T00:00:00\", \"2017-06-25T00:00:00\", \"2017-07-02T00:00:00\", \"2017-07-09T00:00:00\", \"2017-07-16T00:00:00\", \"2017-07-23T00:00:00\", \"2017-07-30T00:00:00\", \"2017-08-06T00:00:00\", \"2017-08-13T00:00:00\", \"2017-08-20T00:00:00\", \"2017-08-27T00:00:00\", \"2017-09-03T00:00:00\", \"2017-09-10T00:00:00\", \"2017-09-17T00:00:00\", \"2017-09-24T00:00:00\", \"2017-10-01T00:00:00\", \"2017-10-08T00:00:00\", \"2017-10-15T00:00:00\", \"2017-10-22T00:00:00\", \"2017-10-29T00:00:00\", \"2017-11-05T00:00:00\", \"2017-11-12T00:00:00\", \"2017-11-19T00:00:00\", \"2017-11-26T00:00:00\", \"2017-12-03T00:00:00\", \"2017-12-10T00:00:00\", \"2017-12-17T00:00:00\", \"2017-12-24T00:00:00\", \"2018-01-01T00:00:00\", \"2018-01-07T00:00:00\", \"2018-01-14T00:00:00\", \"2018-01-21T00:00:00\", \"2018-01-28T00:00:00\", \"2018-02-04T00:00:00\", \"2018-02-11T00:00:00\", \"2018-02-18T00:00:00\", \"2018-02-25T00:00:00\", \"2018-03-04T00:00:00\", \"2018-03-11T00:00:00\", \"2018-03-18T00:00:00\", \"2018-03-25T00:00:00\", \"2018-04-01T00:00:00\", \"2018-04-08T00:00:00\", \"2018-04-15T00:00:00\", \"2018-04-22T00:00:00\", \"2018-04-29T00:00:00\", \"2018-05-06T00:00:00\", \"2018-05-13T00:00:00\", \"2018-05-20T00:00:00\", \"2018-05-27T00:00:00\", \"2018-06-03T00:00:00\", \"2018-06-10T00:00:00\", \"2018-06-17T00:00:00\", \"2018-06-24T00:00:00\", \"2018-07-01T00:00:00\", \"2018-07-08T00:00:00\", \"2018-07-15T00:00:00\", \"2018-07-22T00:00:00\", \"2018-07-29T00:00:00\", \"2018-08-05T00:00:00\", \"2018-08-12T00:00:00\", \"2018-08-19T00:00:00\", \"2018-08-26T00:00:00\", \"2018-09-02T00:00:00\", \"2018-09-09T00:00:00\", \"2018-09-16T00:00:00\", \"2018-09-23T00:00:00\", \"2018-09-30T00:00:00\", \"2018-10-07T00:00:00\", \"2018-10-14T00:00:00\", \"2018-10-21T00:00:00\", \"2018-10-28T00:00:00\", \"2018-11-04T00:00:00\", \"2018-11-11T00:00:00\", \"2018-11-18T00:00:00\", \"2018-11-25T00:00:00\", \"2018-12-02T00:00:00\", \"2019-01-07T00:00:00\", \"2019-01-13T00:00:00\", \"2019-01-20T00:00:00\", \"2019-01-27T00:00:00\", \"2019-02-03T00:00:00\", \"2019-02-10T00:00:00\", \"2019-02-17T00:00:00\", \"2019-02-24T00:00:00\", \"2019-03-03T00:00:00\", \"2019-03-10T00:00:00\", \"2019-03-17T00:00:00\", \"2019-03-24T00:00:00\", \"2019-03-31T00:00:00\", \"2019-04-07T00:00:00\", \"2019-04-14T00:00:00\", \"2019-04-21T00:00:00\", \"2019-04-28T00:00:00\", \"2019-05-05T00:00:00\", \"2019-05-12T00:00:00\", \"2019-05-19T00:00:00\", \"2019-05-26T00:00:00\", \"2019-06-02T00:00:00\", \"2019-06-09T00:00:00\", \"2019-06-16T00:00:00\", \"2019-06-23T00:00:00\", \"2019-06-30T00:00:00\", \"2019-07-07T00:00:00\", \"2019-07-14T00:00:00\", \"2019-07-21T00:00:00\", \"2019-07-28T00:00:00\", \"2019-08-04T00:00:00\", \"2019-08-11T00:00:00\", \"2019-08-18T00:00:00\", \"2019-08-25T00:00:00\", \"2019-09-01T00:00:00\", \"2019-09-08T00:00:00\", \"2019-09-15T00:00:00\", \"2019-09-22T00:00:00\", \"2019-09-29T00:00:00\", \"2019-10-06T00:00:00\", \"2019-10-13T00:00:00\", \"2019-10-20T00:00:00\", \"2019-10-27T00:00:00\", \"2019-11-03T00:00:00\", \"2019-11-10T00:00:00\", \"2019-11-17T00:00:00\", \"2019-11-24T00:00:00\", \"2019-12-01T00:00:00\"], \"y\": [1.0217187499999998, 1.1339062500000001, 1.1614062500000004, 1.1375000000000006, 0.97265625, 1.06234375, 1.16015625, 1.1224999999999996, 1.04640625, 1.1346875, 1.17328125, 1.06203125, 1.1182812500000006, 1.1521875, 1.1076562499999991, 1.1153125000000004, 1.1526562500000004, 1.0343749999999998, 1.1360937500000001, 1.1593749999999998, 1.1043749999999994, 1.149375, 1.0921874999999999, 1.1173437499999999, 1.0910937500000002, 1.1421875, 1.1251562499999994, 1.1257812500000002, 1.1278124999999997, 1.1429687500000008, 1.1726562500000006, 1.09359375, 1.1362500000000002, 1.1567187499999998, 1.1400000000000001, 1.0834374999999998, 1.1076562499999998, 1.0801562499999995, 1.0949999999999998, 1.0832812500000004, 1.0412499999999993, 1.07859375, 1.1051562499999994, 1.01734375, 1.0518750000000003, 1.0403124999999998, 1.0564062499999993, 1.0621874999999996, 0.9932812500000001, 0.9999999999999998, 1.0884374999999997, 1.0410937499999997, 0.9617187500000001, 1.00890625, 1.0474999999999999, 0.9971875000000001, 0.9981250000000004, 0.82375, 0.9698437499999997, 1.0218749999999996, 0.98234375, 1.0328124999999997, 0.9817187500000001, 1.0335937500000003, 1.03359375, 0.9793750000000001, 0.9867187500000003, 0.9765624999999999, 0.9237499999999998, 0.8823437500000001, 0.89828125, 0.9339062499999997, 1.0245312500000003, 1.0175, 1.0467187500000004, 1.1279687500000004, 1.0926562499999997, 1.1265625000000001, 1.0964062500000005, 1.1423437499999998, 1.1956250000000002, 1.2465625, 1.2853124999999999, 1.2323437499999992, 1.1751562499999997, 1.1906249999999998, 1.1731250000000006, 1.1474999999999993, 1.1456250000000003, 1.1989062499999994, 1.2775, 1.2959375000000002, 1.30671875, 1.3162499999999997, 1.3440625000000008, 1.4203125000000008, 1.4770312499999998, 1.4101562500000004, 1.3640625000000004, 1.3096875, 1.1042187499999998, 1.0954687500000004, 1.0687500000000005, 1.0992187499999997, 0.9937499999999998, 1.0859375000000002, 1.11953125, 1.0473437499999994, 1.0867187499999995, 0.8876562499999998, 0.9751562500000002, 1.1529687499999997, 1.1142187499999998, 1.2250000000000003, 1.3428124999999997, 1.368281250000001, 1.3453125000000001, 1.3764062500000003, 1.3334375, 1.33953125, 1.32, 1.2689062500000006, 1.1792187500000002, 1.3162499999999997, 1.3289062500000002, 1.3689062499999998, 1.3632812500000004, 1.3178124999999992, 1.2734375000000002, 1.2393750000000003, 1.2612500000000002, 1.229375, 1.389218749999999, 1.3771875, 1.3903125000000003, 1.3996874999999998, 1.4587499999999995, 1.4796874999999998, 1.5140625000000005, 1.6639062500000008, 1.6606250000000007, 1.5959374999999993, 1.6287500000000001, 1.67390625, 1.6878124999999997, 1.6389062499999993, 1.5240625000000005, 1.3531250000000004, 1.3014062499999997, 1.2339062499999995, 1.2728125000000008, 1.3282812500000005, 1.1590624999999999, 1.1199999999999999, 1.1687500000000004, 1.2807812500000002, 1.0553124999999999, 1.1735937500000002, 1.2760937499999998, 1.1503124999999998, 1.2226562499999996, 0.9282812500000001, 1.0743749999999999, 1.1978125000000004, 1.1581249999999998, 1.154843749999999, 1.1462499999999995, 1.1135937499999997, 1.18421875, 1.175625, 1.0900000000000003, 1.1090625000000003, 1.12390625, 1.1092187500000001, 0.9387500000000002, 1.0812499999999998, 1.1065625000000006, 1.1146875000000005, 1.1418749999999995, 1.0976562500000002, 1.1565625, 1.0912500000000003, 1.0853125000000006, 1.1140624999999997, 1.13453125, 1.1159375000000002, 1.1571874999999996, 1.1953125000000009, 1.176406250000001, 1.1851562499999997, 1.3107812499999998, 1.37734375, 1.3256249999999998, 1.2784375000000003, 1.28390625, 1.1915625000000007, 1.1834375000000001, 1.1475000000000004, 1.1870312500000002, 1.0595312500000003, 1.0915625000000002, 1.1229687499999994, 1.2034375, 1.3010937499999997, 1.299687499999999, 1.07671875, 1.0301562499999997, 1.03125, 1.0987500000000003, 0.9085937500000002, 0.9623437499999998, 1.0275000000000003, 1.04921875, 1.0599999999999998, 1.0393750000000004, 1.01234375, 1.0609374999999996, 1.059375, 1.0162499999999997, 1.1495312500000006, 1.3465624999999994, 1.4457812499999998, 1.2573437500000004, 1.3068749999999998, 1.3278125, 1.3526562500000001, 1.2495312500000006, 1.2610937500000001, 1.37375, 1.416406249999999, 1.4468749999999997, 1.4948437499999996, 1.50515625, 1.5428124999999995, 1.5050000000000003, 1.4435937499999993, 1.3642187500000003, 1.3265624999999994, 1.286093750000001, 1.2707812499999998, 1.2629687500000004, 1.2521875000000005, 1.2587499999999996, 1.2103124999999997, 1.1614062499999998, 1.1848437499999998, 1.1328125, 1.0939062499999999, 1.0878124999999998, 1.0762499999999995, 1.06765625, 1.08890625, 1.0806249999999997]}, {\"marker\": {\"color\": \"rgb(248,146,146)\", \"line\": {\"color\": \"rgb(249,52,52)\", \"width\": 1.5}}, \"mode\": \"lines+markers\", \"name\": \"organic\", \"opacity\": 0.8, \"type\": \"scatter\", \"x\": [\"2015-01-04T00:00:00\", \"2015-01-11T00:00:00\", \"2015-01-18T00:00:00\", \"2015-01-25T00:00:00\", \"2015-02-01T00:00:00\", \"2015-02-08T00:00:00\", \"2015-02-15T00:00:00\", \"2015-02-22T00:00:00\", \"2015-03-01T00:00:00\", \"2015-03-08T00:00:00\", \"2015-03-15T00:00:00\", \"2015-03-22T00:00:00\", \"2015-03-29T00:00:00\", \"2015-04-05T00:00:00\", \"2015-04-12T00:00:00\", \"2015-04-19T00:00:00\", \"2015-04-26T00:00:00\", \"2015-05-03T00:00:00\", \"2015-05-10T00:00:00\", \"2015-05-17T00:00:00\", \"2015-05-24T00:00:00\", \"2015-05-31T00:00:00\", \"2015-06-07T00:00:00\", \"2015-06-14T00:00:00\", \"2015-06-21T00:00:00\", \"2015-06-28T00:00:00\", \"2015-07-05T00:00:00\", \"2015-07-12T00:00:00\", \"2015-07-19T00:00:00\", \"2015-07-26T00:00:00\", \"2015-08-02T00:00:00\", \"2015-08-09T00:00:00\", \"2015-08-16T00:00:00\", \"2015-08-23T00:00:00\", \"2015-08-30T00:00:00\", \"2015-09-06T00:00:00\", \"2015-09-13T00:00:00\", \"2015-09-20T00:00:00\", \"2015-09-27T00:00:00\", \"2015-10-04T00:00:00\", \"2015-10-11T00:00:00\", \"2015-10-18T00:00:00\", \"2015-10-25T00:00:00\", \"2015-11-01T00:00:00\", \"2015-11-08T00:00:00\", \"2015-11-15T00:00:00\", \"2015-11-22T00:00:00\", \"2015-11-29T00:00:00\", \"2015-12-06T00:00:00\", \"2015-12-13T00:00:00\", \"2015-12-20T00:00:00\", \"2015-12-27T00:00:00\", \"2016-01-04T00:00:00\", \"2016-01-10T00:00:00\", \"2016-01-17T00:00:00\", \"2016-01-24T00:00:00\", \"2016-01-31T00:00:00\", \"2016-02-07T00:00:00\", \"2016-02-14T00:00:00\", \"2016-02-21T00:00:00\", \"2016-02-28T00:00:00\", \"2016-03-06T00:00:00\", \"2016-03-13T00:00:00\", \"2016-03-20T00:00:00\", \"2016-03-27T00:00:00\", \"2016-04-03T00:00:00\", \"2016-04-10T00:00:00\", \"2016-04-17T00:00:00\", \"2016-04-24T00:00:00\", \"2016-05-01T00:00:00\", \"2016-05-08T00:00:00\", \"2016-05-15T00:00:00\", \"2016-05-22T00:00:00\", \"2016-05-29T00:00:00\", \"2016-06-05T00:00:00\", \"2016-06-12T00:00:00\", \"2016-06-19T00:00:00\", \"2016-06-26T00:00:00\", \"2016-07-03T00:00:00\", \"2016-07-10T00:00:00\", \"2016-07-17T00:00:00\", \"2016-07-24T00:00:00\", \"2016-07-31T00:00:00\", \"2016-08-07T00:00:00\", \"2016-08-14T00:00:00\", \"2016-08-21T00:00:00\", \"2016-08-28T00:00:00\", \"2016-09-04T00:00:00\", \"2016-09-11T00:00:00\", \"2016-09-18T00:00:00\", \"2016-09-25T00:00:00\", \"2016-10-02T00:00:00\", \"2016-10-09T00:00:00\", \"2016-10-16T00:00:00\", \"2016-10-23T00:00:00\", \"2016-10-30T00:00:00\", \"2016-11-06T00:00:00\", \"2016-11-13T00:00:00\", \"2016-11-20T00:00:00\", \"2016-11-27T00:00:00\", \"2016-12-04T00:00:00\", \"2016-12-11T00:00:00\", \"2016-12-18T00:00:00\", \"2016-12-25T00:00:00\", \"2017-01-02T00:00:00\", \"2017-01-08T00:00:00\", \"2017-01-15T00:00:00\", \"2017-01-22T00:00:00\", \"2017-01-29T00:00:00\", \"2017-02-05T00:00:00\", \"2017-02-12T00:00:00\", \"2017-02-19T00:00:00\", \"2017-02-26T00:00:00\", \"2017-03-05T00:00:00\", \"2017-03-12T00:00:00\", \"2017-03-19T00:00:00\", \"2017-03-26T00:00:00\", \"2017-04-02T00:00:00\", \"2017-04-09T00:00:00\", \"2017-04-16T00:00:00\", \"2017-04-23T00:00:00\", \"2017-04-30T00:00:00\", \"2017-05-07T00:00:00\", \"2017-05-14T00:00:00\", \"2017-05-21T00:00:00\", \"2017-05-28T00:00:00\", \"2017-06-04T00:00:00\", \"2017-06-11T00:00:00\", \"2017-06-18T00:00:00\", \"2017-06-25T00:00:00\", \"2017-07-02T00:00:00\", \"2017-07-09T00:00:00\", \"2017-07-16T00:00:00\", \"2017-07-23T00:00:00\", \"2017-07-30T00:00:00\", \"2017-08-06T00:00:00\", \"2017-08-13T00:00:00\", \"2017-08-20T00:00:00\", \"2017-08-27T00:00:00\", \"2017-09-03T00:00:00\", \"2017-09-10T00:00:00\", \"2017-09-17T00:00:00\", \"2017-09-24T00:00:00\", \"2017-10-01T00:00:00\", \"2017-10-08T00:00:00\", \"2017-10-15T00:00:00\", \"2017-10-22T00:00:00\", \"2017-10-29T00:00:00\", \"2017-11-05T00:00:00\", \"2017-11-12T00:00:00\", \"2017-11-19T00:00:00\", \"2017-11-26T00:00:00\", \"2017-12-03T00:00:00\", \"2017-12-10T00:00:00\", \"2017-12-17T00:00:00\", \"2017-12-24T00:00:00\", \"2018-01-01T00:00:00\", \"2018-01-07T00:00:00\", \"2018-01-14T00:00:00\", \"2018-01-21T00:00:00\", \"2018-01-28T00:00:00\", \"2018-02-04T00:00:00\", \"2018-02-11T00:00:00\", \"2018-02-18T00:00:00\", \"2018-02-25T00:00:00\", \"2018-03-04T00:00:00\", \"2018-03-11T00:00:00\", \"2018-03-18T00:00:00\", \"2018-03-25T00:00:00\", \"2018-04-01T00:00:00\", \"2018-04-08T00:00:00\", \"2018-04-15T00:00:00\", \"2018-04-22T00:00:00\", \"2018-04-29T00:00:00\", \"2018-05-06T00:00:00\", \"2018-05-13T00:00:00\", \"2018-05-20T00:00:00\", \"2018-05-27T00:00:00\", \"2018-06-03T00:00:00\", \"2018-06-10T00:00:00\", \"2018-06-17T00:00:00\", \"2018-06-24T00:00:00\", \"2018-07-01T00:00:00\", \"2018-07-08T00:00:00\", \"2018-07-15T00:00:00\", \"2018-07-22T00:00:00\", \"2018-07-29T00:00:00\", \"2018-08-05T00:00:00\", \"2018-08-12T00:00:00\", \"2018-08-19T00:00:00\", \"2018-08-26T00:00:00\", \"2018-09-02T00:00:00\", \"2018-09-09T00:00:00\", \"2018-09-16T00:00:00\", \"2018-09-23T00:00:00\", \"2018-09-30T00:00:00\", \"2018-10-07T00:00:00\", \"2018-10-14T00:00:00\", \"2018-10-21T00:00:00\", \"2018-10-28T00:00:00\", \"2018-11-04T00:00:00\", \"2018-11-11T00:00:00\", \"2018-11-18T00:00:00\", \"2018-11-25T00:00:00\", \"2018-12-02T00:00:00\", \"2019-01-07T00:00:00\", \"2019-01-13T00:00:00\", \"2019-01-20T00:00:00\", \"2019-01-27T00:00:00\", \"2019-02-03T00:00:00\", \"2019-02-10T00:00:00\", \"2019-02-17T00:00:00\", \"2019-02-24T00:00:00\", \"2019-03-03T00:00:00\", \"2019-03-10T00:00:00\", \"2019-03-17T00:00:00\", \"2019-03-24T00:00:00\", \"2019-03-31T00:00:00\", \"2019-04-07T00:00:00\", \"2019-04-14T00:00:00\", \"2019-04-21T00:00:00\", \"2019-04-28T00:00:00\", \"2019-05-05T00:00:00\", \"2019-05-12T00:00:00\", \"2019-05-19T00:00:00\", \"2019-05-26T00:00:00\", \"2019-06-02T00:00:00\", \"2019-06-09T00:00:00\", \"2019-06-16T00:00:00\", \"2019-06-23T00:00:00\", \"2019-06-30T00:00:00\", \"2019-07-07T00:00:00\", \"2019-07-14T00:00:00\", \"2019-07-21T00:00:00\", \"2019-07-28T00:00:00\", \"2019-08-04T00:00:00\", \"2019-08-11T00:00:00\", \"2019-08-18T00:00:00\", \"2019-08-25T00:00:00\", \"2019-09-01T00:00:00\", \"2019-09-08T00:00:00\", \"2019-09-15T00:00:00\", \"2019-09-22T00:00:00\", \"2019-09-29T00:00:00\", \"2019-10-06T00:00:00\", \"2019-10-13T00:00:00\", \"2019-10-20T00:00:00\", \"2019-10-27T00:00:00\", \"2019-11-03T00:00:00\", \"2019-11-10T00:00:00\", \"2019-11-17T00:00:00\", \"2019-11-24T00:00:00\", \"2019-12-01T00:00:00\"], \"y\": [1.6060937500000005, 1.662031249999999, 1.6945312500000007, 1.7120312499999997, 1.5787500000000003, 1.616093750000001, 1.6784375, 1.6646874999999994, 1.6362499999999998, 1.6595312500000006, 1.6885937500000001, 1.6776562500000007, 1.7107812499999995, 1.7087500000000004, 1.6589062499999998, 1.6648437500000002, 1.66, 1.56265625, 1.5498437500000002, 1.5978125000000005, 1.7043749999999998, 1.66421875, 1.6760937499999997, 1.7512499999999998, 1.7424999999999997, 1.7159375000000003, 1.7559375, 1.7385937499999993, 1.6803125000000005, 1.7378124999999989, 1.8673437500000005, 1.844062499999999, 1.8110937500000002, 1.7873437499999993, 1.7092187500000002, 1.8253124999999992, 1.8835937500000002, 1.8562500000000004, 1.8614062500000002, 1.795, 1.7156250000000002, 1.7596874999999994, 1.6884374999999991, 1.602187500000001, 1.6499999999999995, 1.6981250000000006, 1.6407812500000005, 1.6537499999999998, 1.6409374999999997, 1.6081250000000007, 1.6571874999999998, 1.5978124999999999, 1.4889062499999999, 1.4920312500000004, 1.5448437500000003, 1.49640625, 1.5334375, 1.5401562500000003, 1.5254687500000002, 1.58421875, 1.6, 1.5398437500000002, 1.4434375000000002, 1.3918750000000004, 1.5096874999999992, 1.5046874999999997, 1.4068749999999994, 1.5198437499999997, 1.45703125, 1.4589062499999998, 1.4590625000000004, 1.5378124999999994, 1.4882812499999998, 1.5364062499999998, 1.507343749999999, 1.5421874999999996, 1.48578125, 1.5315625, 1.4710937499999996, 1.5820312499999996, 1.7076562499999994, 1.7896874999999994, 1.64765625, 1.67046875, 1.7387499999999998, 1.7134375000000002, 1.65203125, 1.6028125000000009, 1.5753124999999997, 1.6553125000000002, 1.7407812499999995, 1.8596875000000004, 1.6406250000000002, 1.5967187500000006, 1.6756249999999993, 1.9331249999999998, 1.6959375, 1.7454687499999995, 1.6265625000000004, 1.670625, 1.6128125000000002, 1.5284375000000001, 1.5046874999999995, 1.524062500000001, 1.54515625, 1.5198437500000004, 1.5415625000000004, 1.3851562499999996, 1.48359375, 1.4284375, 1.4426562499999998, 1.4275000000000004, 1.3975000000000006, 1.3667187500000006, 1.5560937499999996, 1.6193749999999996, 1.4476562500000003, 1.5492187499999996, 1.6671875, 1.6979687500000007, 1.7932812500000004, 1.8418750000000006, 1.77125, 1.8015625000000004, 1.8132812500000006, 1.82515625, 1.8157812500000008, 1.7564062499999995, 1.8404687499999992, 1.945000000000001, 1.916875, 1.8748437500000006, 1.8385937499999994, 1.7949999999999997, 1.7790625, 1.867343750000001, 1.90078125, 2.0498437499999995, 2.1526562499999997, 2.1571875000000005, 2.1364062500000003, 2.0760937500000005, 2.00609375, 2.0671874999999997, 2.005781249999999, 1.994843749999999, 1.8425000000000005, 1.8664062499999998, 1.8492187500000004, 1.7804687499999996, 1.7499999999999998, 1.6893749999999998, 1.6153124999999997, 1.5718750000000001, 1.5778125000000007, 1.6226562499999992, 1.50140625, 1.49625, 1.5724999999999991, 1.6387500000000002, 1.6270312499999993, 1.5439062499999991, 1.5793750000000009, 1.5948437500000001, 1.5956249999999998, 1.5828124999999997, 1.5354687500000002, 1.53421875, 1.5576562499999995, 1.5724999999999998, 1.57234375, 1.5518749999999997, 1.514999999999999, 1.5890625, 1.5829687500000005, 1.5043749999999998, 1.5053124999999998, 1.5046875, 1.4932812499999997, 1.5684374999999997, 1.4809375000000002, 1.4795312500000009, 1.5290625000000002, 1.5345312500000012, 1.5514062500000005, 1.565, 1.5645312500000006, 1.578281250000001, 1.63421875, 1.66484375, 1.6687499999999993, 1.70421875, 1.72578125, 1.7009374999999993, 1.7107812499999997, 1.6667187499999998, 1.6354687500000005, 1.576093750000001, 1.5418749999999994, 1.5156249999999996, 1.5232812499999995, 1.5382812500000007, 1.56921875, 1.6279687499999995, 1.5660937500000005, 1.4828124999999996, 1.4746874999999997, 1.5065625000000002, 1.45484375, 1.3918749999999998, 1.3962500000000002, 1.44734375, 1.4259374999999994, 1.3915624999999991, 1.3995312499999997, 1.3632812500000004, 1.3595312500000003, 1.47109375, 1.4795312499999997, 1.492812499999999, 1.7417187500000006, 1.8284375, 1.7978124999999998, 1.7203124999999997, 1.7914062500000005, 1.74359375, 1.5892187500000001, 1.6199999999999994, 1.7459375000000004, 1.8198437500000002, 1.8743750000000006, 1.9371875000000003, 1.9601562499999996, 1.9617187499999995, 1.9831249999999996, 1.9745312499999994, 1.9123437500000002, 1.7439062499999998, 1.7623437499999994, 1.7493749999999995, 1.68515625, 1.5842187500000002, 1.5831250000000001, 1.6371875000000002, 1.5240625000000005, 1.48640625, 1.4525000000000003, 1.4057812500000002, 1.3885937499999998, 1.500625, 1.5034375, 1.52203125, 1.48109375]}],\n",
              "                        {\"template\": {\"data\": {\"bar\": [{\"error_x\": {\"color\": \"#2a3f5f\"}, \"error_y\": {\"color\": \"#2a3f5f\"}, \"marker\": {\"line\": {\"color\": \"#E5ECF6\", \"width\": 0.5}}, \"type\": \"bar\"}], \"barpolar\": [{\"marker\": {\"line\": {\"color\": \"#E5ECF6\", \"width\": 0.5}}, \"type\": \"barpolar\"}], \"carpet\": [{\"aaxis\": {\"endlinecolor\": \"#2a3f5f\", \"gridcolor\": \"white\", \"linecolor\": \"white\", \"minorgridcolor\": \"white\", \"startlinecolor\": \"#2a3f5f\"}, \"baxis\": {\"endlinecolor\": \"#2a3f5f\", \"gridcolor\": \"white\", \"linecolor\": \"white\", \"minorgridcolor\": \"white\", \"startlinecolor\": \"#2a3f5f\"}, \"type\": \"carpet\"}], \"choropleth\": [{\"colorbar\": {\"outlinewidth\": 0, \"ticks\": \"\"}, \"type\": \"choropleth\"}], \"contour\": [{\"colorbar\": {\"outlinewidth\": 0, \"ticks\": \"\"}, \"colorscale\": [[0.0, \"#0d0887\"], [0.1111111111111111, \"#46039f\"], [0.2222222222222222, \"#7201a8\"], [0.3333333333333333, \"#9c179e\"], [0.4444444444444444, \"#bd3786\"], [0.5555555555555556, \"#d8576b\"], [0.6666666666666666, \"#ed7953\"], [0.7777777777777778, \"#fb9f3a\"], [0.8888888888888888, \"#fdca26\"], [1.0, \"#f0f921\"]], \"type\": \"contour\"}], \"contourcarpet\": [{\"colorbar\": {\"outlinewidth\": 0, \"ticks\": \"\"}, \"type\": \"contourcarpet\"}], \"heatmap\": [{\"colorbar\": {\"outlinewidth\": 0, \"ticks\": \"\"}, \"colorscale\": [[0.0, \"#0d0887\"], [0.1111111111111111, \"#46039f\"], [0.2222222222222222, \"#7201a8\"], [0.3333333333333333, \"#9c179e\"], [0.4444444444444444, \"#bd3786\"], [0.5555555555555556, \"#d8576b\"], [0.6666666666666666, \"#ed7953\"], [0.7777777777777778, \"#fb9f3a\"], [0.8888888888888888, \"#fdca26\"], [1.0, \"#f0f921\"]], \"type\": \"heatmap\"}], \"heatmapgl\": [{\"colorbar\": {\"outlinewidth\": 0, \"ticks\": \"\"}, \"colorscale\": [[0.0, \"#0d0887\"], [0.1111111111111111, \"#46039f\"], [0.2222222222222222, \"#7201a8\"], [0.3333333333333333, \"#9c179e\"], [0.4444444444444444, \"#bd3786\"], [0.5555555555555556, \"#d8576b\"], [0.6666666666666666, \"#ed7953\"], [0.7777777777777778, \"#fb9f3a\"], [0.8888888888888888, \"#fdca26\"], [1.0, \"#f0f921\"]], \"type\": \"heatmapgl\"}], \"histogram\": [{\"marker\": {\"colorbar\": {\"outlinewidth\": 0, \"ticks\": \"\"}}, \"type\": \"histogram\"}], \"histogram2d\": [{\"colorbar\": {\"outlinewidth\": 0, \"ticks\": \"\"}, \"colorscale\": [[0.0, \"#0d0887\"], [0.1111111111111111, \"#46039f\"], [0.2222222222222222, \"#7201a8\"], [0.3333333333333333, \"#9c179e\"], [0.4444444444444444, \"#bd3786\"], [0.5555555555555556, \"#d8576b\"], [0.6666666666666666, \"#ed7953\"], [0.7777777777777778, \"#fb9f3a\"], [0.8888888888888888, \"#fdca26\"], [1.0, \"#f0f921\"]], \"type\": \"histogram2d\"}], \"histogram2dcontour\": [{\"colorbar\": {\"outlinewidth\": 0, \"ticks\": \"\"}, \"colorscale\": [[0.0, \"#0d0887\"], [0.1111111111111111, \"#46039f\"], [0.2222222222222222, \"#7201a8\"], [0.3333333333333333, \"#9c179e\"], [0.4444444444444444, \"#bd3786\"], [0.5555555555555556, \"#d8576b\"], [0.6666666666666666, \"#ed7953\"], [0.7777777777777778, \"#fb9f3a\"], [0.8888888888888888, \"#fdca26\"], [1.0, \"#f0f921\"]], \"type\": \"histogram2dcontour\"}], \"mesh3d\": [{\"colorbar\": {\"outlinewidth\": 0, \"ticks\": \"\"}, \"type\": \"mesh3d\"}], \"parcoords\": [{\"line\": {\"colorbar\": {\"outlinewidth\": 0, \"ticks\": \"\"}}, \"type\": \"parcoords\"}], \"pie\": [{\"automargin\": true, \"type\": \"pie\"}], \"scatter\": [{\"marker\": {\"colorbar\": {\"outlinewidth\": 0, \"ticks\": \"\"}}, \"type\": \"scatter\"}], \"scatter3d\": [{\"line\": {\"colorbar\": {\"outlinewidth\": 0, \"ticks\": \"\"}}, \"marker\": {\"colorbar\": {\"outlinewidth\": 0, \"ticks\": \"\"}}, \"type\": \"scatter3d\"}], \"scattercarpet\": [{\"marker\": {\"colorbar\": {\"outlinewidth\": 0, \"ticks\": \"\"}}, \"type\": \"scattercarpet\"}], \"scattergeo\": [{\"marker\": {\"colorbar\": {\"outlinewidth\": 0, \"ticks\": \"\"}}, \"type\": \"scattergeo\"}], \"scattergl\": [{\"marker\": {\"colorbar\": {\"outlinewidth\": 0, \"ticks\": \"\"}}, \"type\": \"scattergl\"}], \"scattermapbox\": [{\"marker\": {\"colorbar\": {\"outlinewidth\": 0, \"ticks\": \"\"}}, \"type\": \"scattermapbox\"}], \"scatterpolar\": [{\"marker\": {\"colorbar\": {\"outlinewidth\": 0, \"ticks\": \"\"}}, \"type\": \"scatterpolar\"}], \"scatterpolargl\": [{\"marker\": {\"colorbar\": {\"outlinewidth\": 0, \"ticks\": \"\"}}, \"type\": \"scatterpolargl\"}], \"scatterternary\": [{\"marker\": {\"colorbar\": {\"outlinewidth\": 0, \"ticks\": \"\"}}, \"type\": \"scatterternary\"}], \"surface\": [{\"colorbar\": {\"outlinewidth\": 0, \"ticks\": \"\"}, \"colorscale\": [[0.0, \"#0d0887\"], [0.1111111111111111, \"#46039f\"], [0.2222222222222222, \"#7201a8\"], [0.3333333333333333, \"#9c179e\"], [0.4444444444444444, \"#bd3786\"], [0.5555555555555556, \"#d8576b\"], [0.6666666666666666, \"#ed7953\"], [0.7777777777777778, \"#fb9f3a\"], [0.8888888888888888, \"#fdca26\"], [1.0, \"#f0f921\"]], \"type\": \"surface\"}], \"table\": [{\"cells\": {\"fill\": {\"color\": \"#EBF0F8\"}, \"line\": {\"color\": \"white\"}}, \"header\": {\"fill\": {\"color\": \"#C8D4E3\"}, \"line\": {\"color\": \"white\"}}, \"type\": \"table\"}]}, \"layout\": {\"annotationdefaults\": {\"arrowcolor\": \"#2a3f5f\", \"arrowhead\": 0, \"arrowwidth\": 1}, \"coloraxis\": {\"colorbar\": {\"outlinewidth\": 0, \"ticks\": \"\"}}, \"colorscale\": {\"diverging\": [[0, \"#8e0152\"], [0.1, \"#c51b7d\"], [0.2, \"#de77ae\"], [0.3, \"#f1b6da\"], [0.4, \"#fde0ef\"], [0.5, \"#f7f7f7\"], [0.6, \"#e6f5d0\"], [0.7, \"#b8e186\"], [0.8, \"#7fbc41\"], [0.9, \"#4d9221\"], [1, \"#276419\"]], \"sequential\": [[0.0, \"#0d0887\"], [0.1111111111111111, \"#46039f\"], [0.2222222222222222, \"#7201a8\"], [0.3333333333333333, \"#9c179e\"], [0.4444444444444444, \"#bd3786\"], [0.5555555555555556, \"#d8576b\"], [0.6666666666666666, \"#ed7953\"], [0.7777777777777778, \"#fb9f3a\"], [0.8888888888888888, \"#fdca26\"], [1.0, \"#f0f921\"]], \"sequentialminus\": [[0.0, \"#0d0887\"], [0.1111111111111111, \"#46039f\"], [0.2222222222222222, \"#7201a8\"], [0.3333333333333333, \"#9c179e\"], [0.4444444444444444, \"#bd3786\"], [0.5555555555555556, \"#d8576b\"], [0.6666666666666666, \"#ed7953\"], [0.7777777777777778, \"#fb9f3a\"], [0.8888888888888888, \"#fdca26\"], [1.0, \"#f0f921\"]]}, \"colorway\": [\"#636efa\", \"#EF553B\", \"#00cc96\", \"#ab63fa\", \"#FFA15A\", \"#19d3f3\", \"#FF6692\", \"#B6E880\", \"#FF97FF\", \"#FECB52\"], \"font\": {\"color\": \"#2a3f5f\"}, \"geo\": {\"bgcolor\": \"white\", \"lakecolor\": \"white\", \"landcolor\": \"#E5ECF6\", \"showlakes\": true, \"showland\": true, \"subunitcolor\": \"white\"}, \"hoverlabel\": {\"align\": \"left\"}, \"hovermode\": \"closest\", \"mapbox\": {\"style\": \"light\"}, \"paper_bgcolor\": \"white\", \"plot_bgcolor\": \"#E5ECF6\", \"polar\": {\"angularaxis\": {\"gridcolor\": \"white\", \"linecolor\": \"white\", \"ticks\": \"\"}, \"bgcolor\": \"#E5ECF6\", \"radialaxis\": {\"gridcolor\": \"white\", \"linecolor\": \"white\", \"ticks\": \"\"}}, \"scene\": {\"xaxis\": {\"backgroundcolor\": \"#E5ECF6\", \"gridcolor\": \"white\", \"gridwidth\": 2, \"linecolor\": \"white\", \"showbackground\": true, \"ticks\": \"\", \"zerolinecolor\": \"white\"}, \"yaxis\": {\"backgroundcolor\": \"#E5ECF6\", \"gridcolor\": \"white\", \"gridwidth\": 2, \"linecolor\": \"white\", \"showbackground\": true, \"ticks\": \"\", \"zerolinecolor\": \"white\"}, \"zaxis\": {\"backgroundcolor\": \"#E5ECF6\", \"gridcolor\": \"white\", \"gridwidth\": 2, \"linecolor\": \"white\", \"showbackground\": true, \"ticks\": \"\", \"zerolinecolor\": \"white\"}}, \"shapedefaults\": {\"line\": {\"color\": \"#2a3f5f\"}}, \"ternary\": {\"aaxis\": {\"gridcolor\": \"white\", \"linecolor\": \"white\", \"ticks\": \"\"}, \"baxis\": {\"gridcolor\": \"white\", \"linecolor\": \"white\", \"ticks\": \"\"}, \"bgcolor\": \"#E5ECF6\", \"caxis\": {\"gridcolor\": \"white\", \"linecolor\": \"white\", \"ticks\": \"\"}}, \"title\": {\"x\": 0.05}, \"xaxis\": {\"automargin\": true, \"gridcolor\": \"white\", \"linecolor\": \"white\", \"ticks\": \"\", \"title\": {\"standoff\": 15}, \"zerolinecolor\": \"white\", \"zerolinewidth\": 2}, \"yaxis\": {\"automargin\": true, \"gridcolor\": \"white\", \"linecolor\": \"white\", \"ticks\": \"\", \"title\": {\"standoff\": 15}, \"zerolinecolor\": \"white\", \"zerolinewidth\": 2}}}, \"title\": {\"text\": \"Time Series Plot for Mean Daily Price\"}, \"xaxis\": {\"title\": {\"text\": \"Date\"}}, \"yaxis\": {\"title\": {\"text\": \"Prices\"}}},\n",
              "                        {\"responsive\": true}\n",
              "                    ).then(function(){\n",
              "                            \n",
              "var gd = document.getElementById('f9a97224-f803-497d-a459-dab68df547a8');\n",
              "var x = new MutationObserver(function (mutations, observer) {{\n",
              "        var display = window.getComputedStyle(gd).display;\n",
              "        if (!display || display === 'none') {{\n",
              "            console.log([gd, 'removed!']);\n",
              "            Plotly.purge(gd);\n",
              "            observer.disconnect();\n",
              "        }}\n",
              "}});\n",
              "\n",
              "// Listen for the removal of the full notebook cells\n",
              "var notebookContainer = gd.closest('#notebook-container');\n",
              "if (notebookContainer) {{\n",
              "    x.observe(notebookContainer, {childList: true});\n",
              "}}\n",
              "\n",
              "// Listen for the clearing of the current output cell\n",
              "var outputEl = gd.closest('.output');\n",
              "if (outputEl) {{\n",
              "    x.observe(outputEl, {childList: true});\n",
              "}}\n",
              "\n",
              "                        })\n",
              "                };\n",
              "                });\n",
              "            </script>\n",
              "        </div>"
            ]
          },
          "metadata": {
            "tags": []
          }
        }
      ]
    },
    {
      "cell_type": "code",
      "metadata": {
        "id": "52qYhzkHLdcl",
        "colab_type": "code",
        "colab": {},
        "outputId": "2e012ba9-fb49-4cf7-e1c0-a9e36c662e92"
      },
      "source": [
        "#Plot the time series of organic and conventional avocado Total Volumn\n",
        "import plotly\n",
        "from plotly.offline import init_notebook_mode, iplot\n",
        "import plotly.graph_objs as go\n",
        "init_notebook_mode(connected=True)\n",
        "\n",
        "fig = go.Figure()\n",
        "\n",
        "scatter1=go.Scatter(x=conventional_groupByDate.index,y=conventional_groupByDate['Total Volume'],\n",
        "                   name='conventional',mode='lines+markers',marker=dict(\n",
        "                                 color='rgb(158,202,225)',\n",
        "                                 line=dict(\n",
        "                                 color='rgb(8,48,107)',\n",
        "                                 width=1.5)),\n",
        "                                opacity=0.8)\n",
        "scatter2=go.Scatter(x=organic_groupByDate.index,y=organic_groupByDate['Total Volume'],\n",
        "                   name='organic',mode='lines+markers',marker=dict(\n",
        "                                 color='rgb(248,146,146)',\n",
        "                                 line=dict(\n",
        "                                 color='rgb(249,52,52)',\n",
        "                                 width=1.5)),\n",
        "                                opacity=0.8)\n",
        "\n",
        "data=[scatter1,scatter2]\n",
        "\n",
        "layout = go.Layout(title='Time Series Plot for Mean Daily Volume',\n",
        "                  xaxis={'title':'Date'},yaxis={'title':'Volume'})\n",
        "figure=go.Figure(data=data,layout=layout)\n",
        "iplot(figure)"
      ],
      "execution_count": 0,
      "outputs": [
        {
          "output_type": "display_data",
          "data": {
            "text/html": [
              "        <script type=\"text/javascript\">\n",
              "        window.PlotlyConfig = {MathJaxConfig: 'local'};\n",
              "        if (window.MathJax) {MathJax.Hub.Config({SVG: {font: \"STIX-Web\"}});}\n",
              "        if (typeof require !== 'undefined') {\n",
              "        require.undef(\"plotly\");\n",
              "        requirejs.config({\n",
              "            paths: {\n",
              "                'plotly': ['https://cdn.plot.ly/plotly-latest.min']\n",
              "            }\n",
              "        });\n",
              "        require(['plotly'], function(Plotly) {\n",
              "            window._Plotly = Plotly;\n",
              "        });\n",
              "        }\n",
              "        </script>\n",
              "        "
            ]
          },
          "metadata": {
            "tags": []
          }
        },
        {
          "output_type": "display_data",
          "data": {
            "application/vnd.plotly.v1+json": {
              "config": {
                "linkText": "Export to plot.ly",
                "plotlyServerURL": "https://plot.ly",
                "showLink": false
              },
              "data": [
                {
                  "marker": {
                    "color": "rgb(158,202,225)",
                    "line": {
                      "color": "rgb(8,48,107)",
                      "width": 1.5
                    }
                  },
                  "mode": "lines+markers",
                  "name": "conventional",
                  "opacity": 0.8,
                  "type": "scatter",
                  "x": [
                    "2015-01-04T00:00:00",
                    "2015-01-11T00:00:00",
                    "2015-01-18T00:00:00",
                    "2015-01-25T00:00:00",
                    "2015-02-01T00:00:00",
                    "2015-02-08T00:00:00",
                    "2015-02-15T00:00:00",
                    "2015-02-22T00:00:00",
                    "2015-03-01T00:00:00",
                    "2015-03-08T00:00:00",
                    "2015-03-15T00:00:00",
                    "2015-03-22T00:00:00",
                    "2015-03-29T00:00:00",
                    "2015-04-05T00:00:00",
                    "2015-04-12T00:00:00",
                    "2015-04-19T00:00:00",
                    "2015-04-26T00:00:00",
                    "2015-05-03T00:00:00",
                    "2015-05-10T00:00:00",
                    "2015-05-17T00:00:00",
                    "2015-05-24T00:00:00",
                    "2015-05-31T00:00:00",
                    "2015-06-07T00:00:00",
                    "2015-06-14T00:00:00",
                    "2015-06-21T00:00:00",
                    "2015-06-28T00:00:00",
                    "2015-07-05T00:00:00",
                    "2015-07-12T00:00:00",
                    "2015-07-19T00:00:00",
                    "2015-07-26T00:00:00",
                    "2015-08-02T00:00:00",
                    "2015-08-09T00:00:00",
                    "2015-08-16T00:00:00",
                    "2015-08-23T00:00:00",
                    "2015-08-30T00:00:00",
                    "2015-09-06T00:00:00",
                    "2015-09-13T00:00:00",
                    "2015-09-20T00:00:00",
                    "2015-09-27T00:00:00",
                    "2015-10-04T00:00:00",
                    "2015-10-11T00:00:00",
                    "2015-10-18T00:00:00",
                    "2015-10-25T00:00:00",
                    "2015-11-01T00:00:00",
                    "2015-11-08T00:00:00",
                    "2015-11-15T00:00:00",
                    "2015-11-22T00:00:00",
                    "2015-11-29T00:00:00",
                    "2015-12-06T00:00:00",
                    "2015-12-13T00:00:00",
                    "2015-12-20T00:00:00",
                    "2015-12-27T00:00:00",
                    "2016-01-04T00:00:00",
                    "2016-01-10T00:00:00",
                    "2016-01-17T00:00:00",
                    "2016-01-24T00:00:00",
                    "2016-01-31T00:00:00",
                    "2016-02-07T00:00:00",
                    "2016-02-14T00:00:00",
                    "2016-02-21T00:00:00",
                    "2016-02-28T00:00:00",
                    "2016-03-06T00:00:00",
                    "2016-03-13T00:00:00",
                    "2016-03-20T00:00:00",
                    "2016-03-27T00:00:00",
                    "2016-04-03T00:00:00",
                    "2016-04-10T00:00:00",
                    "2016-04-17T00:00:00",
                    "2016-04-24T00:00:00",
                    "2016-05-01T00:00:00",
                    "2016-05-08T00:00:00",
                    "2016-05-15T00:00:00",
                    "2016-05-22T00:00:00",
                    "2016-05-29T00:00:00",
                    "2016-06-05T00:00:00",
                    "2016-06-12T00:00:00",
                    "2016-06-19T00:00:00",
                    "2016-06-26T00:00:00",
                    "2016-07-03T00:00:00",
                    "2016-07-10T00:00:00",
                    "2016-07-17T00:00:00",
                    "2016-07-24T00:00:00",
                    "2016-07-31T00:00:00",
                    "2016-08-07T00:00:00",
                    "2016-08-14T00:00:00",
                    "2016-08-21T00:00:00",
                    "2016-08-28T00:00:00",
                    "2016-09-04T00:00:00",
                    "2016-09-11T00:00:00",
                    "2016-09-18T00:00:00",
                    "2016-09-25T00:00:00",
                    "2016-10-02T00:00:00",
                    "2016-10-09T00:00:00",
                    "2016-10-16T00:00:00",
                    "2016-10-23T00:00:00",
                    "2016-10-30T00:00:00",
                    "2016-11-06T00:00:00",
                    "2016-11-13T00:00:00",
                    "2016-11-20T00:00:00",
                    "2016-11-27T00:00:00",
                    "2016-12-04T00:00:00",
                    "2016-12-11T00:00:00",
                    "2016-12-18T00:00:00",
                    "2016-12-25T00:00:00",
                    "2017-01-02T00:00:00",
                    "2017-01-08T00:00:00",
                    "2017-01-15T00:00:00",
                    "2017-01-22T00:00:00",
                    "2017-01-29T00:00:00",
                    "2017-02-05T00:00:00",
                    "2017-02-12T00:00:00",
                    "2017-02-19T00:00:00",
                    "2017-02-26T00:00:00",
                    "2017-03-05T00:00:00",
                    "2017-03-12T00:00:00",
                    "2017-03-19T00:00:00",
                    "2017-03-26T00:00:00",
                    "2017-04-02T00:00:00",
                    "2017-04-09T00:00:00",
                    "2017-04-16T00:00:00",
                    "2017-04-23T00:00:00",
                    "2017-04-30T00:00:00",
                    "2017-05-07T00:00:00",
                    "2017-05-14T00:00:00",
                    "2017-05-21T00:00:00",
                    "2017-05-28T00:00:00",
                    "2017-06-04T00:00:00",
                    "2017-06-11T00:00:00",
                    "2017-06-18T00:00:00",
                    "2017-06-25T00:00:00",
                    "2017-07-02T00:00:00",
                    "2017-07-09T00:00:00",
                    "2017-07-16T00:00:00",
                    "2017-07-23T00:00:00",
                    "2017-07-30T00:00:00",
                    "2017-08-06T00:00:00",
                    "2017-08-13T00:00:00",
                    "2017-08-20T00:00:00",
                    "2017-08-27T00:00:00",
                    "2017-09-03T00:00:00",
                    "2017-09-10T00:00:00",
                    "2017-09-17T00:00:00",
                    "2017-09-24T00:00:00",
                    "2017-10-01T00:00:00",
                    "2017-10-08T00:00:00",
                    "2017-10-15T00:00:00",
                    "2017-10-22T00:00:00",
                    "2017-10-29T00:00:00",
                    "2017-11-05T00:00:00",
                    "2017-11-12T00:00:00",
                    "2017-11-19T00:00:00",
                    "2017-11-26T00:00:00",
                    "2017-12-03T00:00:00",
                    "2017-12-10T00:00:00",
                    "2017-12-17T00:00:00",
                    "2017-12-24T00:00:00",
                    "2018-01-01T00:00:00",
                    "2018-01-07T00:00:00",
                    "2018-01-14T00:00:00",
                    "2018-01-21T00:00:00",
                    "2018-01-28T00:00:00",
                    "2018-02-04T00:00:00",
                    "2018-02-11T00:00:00",
                    "2018-02-18T00:00:00",
                    "2018-02-25T00:00:00",
                    "2018-03-04T00:00:00",
                    "2018-03-11T00:00:00",
                    "2018-03-18T00:00:00",
                    "2018-03-25T00:00:00",
                    "2018-04-01T00:00:00",
                    "2018-04-08T00:00:00",
                    "2018-04-15T00:00:00",
                    "2018-04-22T00:00:00",
                    "2018-04-29T00:00:00",
                    "2018-05-06T00:00:00",
                    "2018-05-13T00:00:00",
                    "2018-05-20T00:00:00",
                    "2018-05-27T00:00:00",
                    "2018-06-03T00:00:00",
                    "2018-06-10T00:00:00",
                    "2018-06-17T00:00:00",
                    "2018-06-24T00:00:00",
                    "2018-07-01T00:00:00",
                    "2018-07-08T00:00:00",
                    "2018-07-15T00:00:00",
                    "2018-07-22T00:00:00",
                    "2018-07-29T00:00:00",
                    "2018-08-05T00:00:00",
                    "2018-08-12T00:00:00",
                    "2018-08-19T00:00:00",
                    "2018-08-26T00:00:00",
                    "2018-09-02T00:00:00",
                    "2018-09-09T00:00:00",
                    "2018-09-16T00:00:00",
                    "2018-09-23T00:00:00",
                    "2018-09-30T00:00:00",
                    "2018-10-07T00:00:00",
                    "2018-10-14T00:00:00",
                    "2018-10-21T00:00:00",
                    "2018-10-28T00:00:00",
                    "2018-11-04T00:00:00",
                    "2018-11-11T00:00:00",
                    "2018-11-18T00:00:00",
                    "2018-11-25T00:00:00",
                    "2018-12-02T00:00:00",
                    "2019-01-07T00:00:00",
                    "2019-01-13T00:00:00",
                    "2019-01-20T00:00:00",
                    "2019-01-27T00:00:00",
                    "2019-02-03T00:00:00",
                    "2019-02-10T00:00:00",
                    "2019-02-17T00:00:00",
                    "2019-02-24T00:00:00",
                    "2019-03-03T00:00:00",
                    "2019-03-10T00:00:00",
                    "2019-03-17T00:00:00",
                    "2019-03-24T00:00:00",
                    "2019-03-31T00:00:00",
                    "2019-04-07T00:00:00",
                    "2019-04-14T00:00:00",
                    "2019-04-21T00:00:00",
                    "2019-04-28T00:00:00",
                    "2019-05-05T00:00:00",
                    "2019-05-12T00:00:00",
                    "2019-05-19T00:00:00",
                    "2019-05-26T00:00:00",
                    "2019-06-02T00:00:00",
                    "2019-06-09T00:00:00",
                    "2019-06-16T00:00:00",
                    "2019-06-23T00:00:00",
                    "2019-06-30T00:00:00",
                    "2019-07-07T00:00:00",
                    "2019-07-14T00:00:00",
                    "2019-07-21T00:00:00",
                    "2019-07-28T00:00:00",
                    "2019-08-04T00:00:00",
                    "2019-08-11T00:00:00",
                    "2019-08-18T00:00:00",
                    "2019-08-25T00:00:00",
                    "2019-09-01T00:00:00",
                    "2019-09-08T00:00:00",
                    "2019-09-15T00:00:00",
                    "2019-09-22T00:00:00",
                    "2019-09-29T00:00:00",
                    "2019-10-06T00:00:00",
                    "2019-10-13T00:00:00",
                    "2019-10-20T00:00:00",
                    "2019-10-27T00:00:00",
                    "2019-11-03T00:00:00",
                    "2019-11-10T00:00:00",
                    "2019-11-17T00:00:00",
                    "2019-11-24T00:00:00",
                    "2019-12-01T00:00:00"
                  ],
                  "y": [
                    372397.5834375,
                    333583.12890625006,
                    323254.0151562501,
                    319078.9546874999,
                    515223.59234375,
                    358125.7603124999,
                    312991.84078124975,
                    341786.4596875001,
                    385663.9907812502,
                    333674.03328125,
                    328719.5434375001,
                    371134.6132812502,
                    333810.1696875,
                    351142.84843749984,
                    358009.56609375007,
                    381389.93390624993,
                    354814.1303125,
                    483849.1446875001,
                    424031.03109375003,
                    361895.1046875001,
                    409347.3946875,
                    393904.44843750005,
                    423182.41000000015,
                    423638.6599999998,
                    416984.90406250005,
                    366442.3828124999,
                    437286.40765624994,
                    363030.5809374999,
                    367260.1740625001,
                    345819.0360937499,
                    349992.24953125004,
                    388012.1315624998,
                    368549.29265625,
                    343968.15421875,
                    344748.16703125014,
                    384491.8221875001,
                    366316.25562500005,
                    351887.52656249976,
                    323017.4703124999,
                    329616.40421875013,
                    351547.94187499996,
                    349697.0501562501,
                    305638.3089062501,
                    375047.11437499995,
                    334455.0559375,
                    341182.34578125004,
                    293371.31453125004,
                    267427.09937500005,
                    354350.4140624999,
                    328638.19453125005,
                    292181.76828125,
                    314312.03437500005,
                    455500.3918750001,
                    421565.05,
                    409588.4803124999,
                    409762.70406250027,
                    411095.33015624987,
                    622886.3735937496,
                    422927.92921875,
                    396686.3821875,
                    443373.3470312503,
                    417944.14890624996,
                    431823.27515625,
                    420046.2453124999,
                    426358.19531249994,
                    400871.59640625014,
                    429905.92046875,
                    443426.72874999995,
                    472936.90046875004,
                    522371.04625,
                    556898.4296875002,
                    480894.6023437499,
                    430684.8214062502,
                    478818.6926562502,
                    484440.33734375006,
                    412693.1173437499,
                    447001.789375,
                    430725.9723437498,
                    471113.6825000001,
                    413873.10812499985,
                    380771.19765625,
                    378683.09218750003,
                    367968.8120312499,
                    397259.6609375002,
                    406141.0953125,
                    399083.25406250026,
                    401967.3735937501,
                    433812.99890624994,
                    405057.74593750015,
                    367374.47390625,
                    369006.77640625,
                    374118.60046875,
                    343426.2121875,
                    331949.54578125,
                    300004.0042187499,
                    249203.33421875004,
                    264040.0265625,
                    287912.68515624997,
                    300194.28312499984,
                    274479.67562500003,
                    380808.04984375,
                    372968.5289062502,
                    348471.46906250005,
                    351714.7992187498,
                    461579.69609375007,
                    453960.9864062501,
                    447464.8196874999,
                    501563.34828125,
                    468094.04765624995,
                    726595.6253124998,
                    483506.4748437501,
                    398196.0395312499,
                    436228.48281250027,
                    399925.4095312501,
                    385138.5120312499,
                    366192.12953125016,
                    377783.2349999999,
                    399707.6468749998,
                    407712.735625,
                    413017.95906250004,
                    413548.12671875,
                    462778.08484375005,
                    561785.5868749997,
                    433535.8046875,
                    408591.02453125,
                    441432.783125,
                    436291.2635937499,
                    429998.063125,
                    449784.06515624985,
                    444120.3743749999,
                    444314.75765625015,
                    474440.5704687502,
                    369434.4610937498,
                    376476.03656250006,
                    366078.4815625,
                    373151.70140624983,
                    371995.97671874973,
                    355983.3146875001,
                    336941.8204687501,
                    309587.66156250006,
                    305672.10359375,
                    1039504.4076562503,
                    1017163.8614062499,
                    1004562.1845312503,
                    989916.7382812502,
                    301121.88703125005,
                    315453.32890624984,
                    362637.6564062501,
                    383378.41984374996,
                    377023.640625,
                    340488.3125,
                    288605.453125,
                    404760.046875,
                    416513.51734375,
                    356159.81999999995,
                    329892.9415625,
                    441483.3362499998,
                    423139.05296875,
                    428740.3317187499,
                    500121.6264062498,
                    455695.1140625,
                    740183.7329687501,
                    490193.5342187498,
                    421630.50953125017,
                    463794.50109374983,
                    466651.5990625,
                    471112.49968749983,
                    483891.1909374999,
                    492209.6495312499,
                    468546.0562500002,
                    514133.45390625007,
                    552871.1356249999,
                    511611.1831249999,
                    522722.7531250002,
                    751458.2989062497,
                    540994.8578125,
                    528479.4478125,
                    551268.2340625,
                    520024.9384375001,
                    534074.4043750002,
                    507358.94156249997,
                    530235.00734375,
                    528422.1078125,
                    541158.11625,
                    496785.1778124998,
                    493929.4464062499,
                    478976.5645312501,
                    460822.46593749983,
                    480520.39749999985,
                    476798.95359374967,
                    425876.11109375,
                    422216.13921875006,
                    439334.3596875001,
                    425655.5445312499,
                    399765.7867187502,
                    448276.50437499996,
                    440603.9435937501,
                    437868.0334374999,
                    396207.5648437501,
                    479142.4753125001,
                    450795.775,
                    439956.5726562501,
                    353627.4731250001,
                    261007.44203124993,
                    322711.76218749996,
                    524701.9989062499,
                    564344.3481249998,
                    549670.4515624999,
                    503510.73328124965,
                    728790.4114062497,
                    554507.0582812498,
                    491063.53328125004,
                    505539.78796875017,
                    518559.35484375,
                    534542.2260937501,
                    571586.4528124998,
                    558691.1771875,
                    524049.08140624996,
                    577700.6853124999,
                    539740.5618749999,
                    449180.65359375,
                    404411.3185937502,
                    583142.5857812498,
                    503026.08609374997,
                    443637.73359375,
                    473782.5224999999,
                    511188.4225000001,
                    509352.73968749994,
                    453839.71718749974,
                    438046.04703124997,
                    436256.2256250001,
                    445118.2243749999,
                    407011.41687499994,
                    394358.12109375023,
                    407072.65859375003,
                    418613.5753125,
                    432135.05093749985,
                    436732.42593750014,
                    460078.5057812499,
                    475465.0332812498,
                    457127.21734374977,
                    456222.01703125,
                    438798.5978124999,
                    461242.7339062499,
                    472987.17250000016,
                    452170.73390625004,
                    466548.4273437499,
                    465880.6753125,
                    447792.2429687501,
                    463279.015625,
                    448137.59375,
                    413603.9375,
                    370011.671875
                  ]
                },
                {
                  "marker": {
                    "color": "rgb(248,146,146)",
                    "line": {
                      "color": "rgb(249,52,52)",
                      "width": 1.5
                    }
                  },
                  "mode": "lines+markers",
                  "name": "organic",
                  "opacity": 0.8,
                  "type": "scatter",
                  "x": [
                    "2015-01-04T00:00:00",
                    "2015-01-11T00:00:00",
                    "2015-01-18T00:00:00",
                    "2015-01-25T00:00:00",
                    "2015-02-01T00:00:00",
                    "2015-02-08T00:00:00",
                    "2015-02-15T00:00:00",
                    "2015-02-22T00:00:00",
                    "2015-03-01T00:00:00",
                    "2015-03-08T00:00:00",
                    "2015-03-15T00:00:00",
                    "2015-03-22T00:00:00",
                    "2015-03-29T00:00:00",
                    "2015-04-05T00:00:00",
                    "2015-04-12T00:00:00",
                    "2015-04-19T00:00:00",
                    "2015-04-26T00:00:00",
                    "2015-05-03T00:00:00",
                    "2015-05-10T00:00:00",
                    "2015-05-17T00:00:00",
                    "2015-05-24T00:00:00",
                    "2015-05-31T00:00:00",
                    "2015-06-07T00:00:00",
                    "2015-06-14T00:00:00",
                    "2015-06-21T00:00:00",
                    "2015-06-28T00:00:00",
                    "2015-07-05T00:00:00",
                    "2015-07-12T00:00:00",
                    "2015-07-19T00:00:00",
                    "2015-07-26T00:00:00",
                    "2015-08-02T00:00:00",
                    "2015-08-09T00:00:00",
                    "2015-08-16T00:00:00",
                    "2015-08-23T00:00:00",
                    "2015-08-30T00:00:00",
                    "2015-09-06T00:00:00",
                    "2015-09-13T00:00:00",
                    "2015-09-20T00:00:00",
                    "2015-09-27T00:00:00",
                    "2015-10-04T00:00:00",
                    "2015-10-11T00:00:00",
                    "2015-10-18T00:00:00",
                    "2015-10-25T00:00:00",
                    "2015-11-01T00:00:00",
                    "2015-11-08T00:00:00",
                    "2015-11-15T00:00:00",
                    "2015-11-22T00:00:00",
                    "2015-11-29T00:00:00",
                    "2015-12-06T00:00:00",
                    "2015-12-13T00:00:00",
                    "2015-12-20T00:00:00",
                    "2015-12-27T00:00:00",
                    "2016-01-04T00:00:00",
                    "2016-01-10T00:00:00",
                    "2016-01-17T00:00:00",
                    "2016-01-24T00:00:00",
                    "2016-01-31T00:00:00",
                    "2016-02-07T00:00:00",
                    "2016-02-14T00:00:00",
                    "2016-02-21T00:00:00",
                    "2016-02-28T00:00:00",
                    "2016-03-06T00:00:00",
                    "2016-03-13T00:00:00",
                    "2016-03-20T00:00:00",
                    "2016-03-27T00:00:00",
                    "2016-04-03T00:00:00",
                    "2016-04-10T00:00:00",
                    "2016-04-17T00:00:00",
                    "2016-04-24T00:00:00",
                    "2016-05-01T00:00:00",
                    "2016-05-08T00:00:00",
                    "2016-05-15T00:00:00",
                    "2016-05-22T00:00:00",
                    "2016-05-29T00:00:00",
                    "2016-06-05T00:00:00",
                    "2016-06-12T00:00:00",
                    "2016-06-19T00:00:00",
                    "2016-06-26T00:00:00",
                    "2016-07-03T00:00:00",
                    "2016-07-10T00:00:00",
                    "2016-07-17T00:00:00",
                    "2016-07-24T00:00:00",
                    "2016-07-31T00:00:00",
                    "2016-08-07T00:00:00",
                    "2016-08-14T00:00:00",
                    "2016-08-21T00:00:00",
                    "2016-08-28T00:00:00",
                    "2016-09-04T00:00:00",
                    "2016-09-11T00:00:00",
                    "2016-09-18T00:00:00",
                    "2016-09-25T00:00:00",
                    "2016-10-02T00:00:00",
                    "2016-10-09T00:00:00",
                    "2016-10-16T00:00:00",
                    "2016-10-23T00:00:00",
                    "2016-10-30T00:00:00",
                    "2016-11-06T00:00:00",
                    "2016-11-13T00:00:00",
                    "2016-11-20T00:00:00",
                    "2016-11-27T00:00:00",
                    "2016-12-04T00:00:00",
                    "2016-12-11T00:00:00",
                    "2016-12-18T00:00:00",
                    "2016-12-25T00:00:00",
                    "2017-01-02T00:00:00",
                    "2017-01-08T00:00:00",
                    "2017-01-15T00:00:00",
                    "2017-01-22T00:00:00",
                    "2017-01-29T00:00:00",
                    "2017-02-05T00:00:00",
                    "2017-02-12T00:00:00",
                    "2017-02-19T00:00:00",
                    "2017-02-26T00:00:00",
                    "2017-03-05T00:00:00",
                    "2017-03-12T00:00:00",
                    "2017-03-19T00:00:00",
                    "2017-03-26T00:00:00",
                    "2017-04-02T00:00:00",
                    "2017-04-09T00:00:00",
                    "2017-04-16T00:00:00",
                    "2017-04-23T00:00:00",
                    "2017-04-30T00:00:00",
                    "2017-05-07T00:00:00",
                    "2017-05-14T00:00:00",
                    "2017-05-21T00:00:00",
                    "2017-05-28T00:00:00",
                    "2017-06-04T00:00:00",
                    "2017-06-11T00:00:00",
                    "2017-06-18T00:00:00",
                    "2017-06-25T00:00:00",
                    "2017-07-02T00:00:00",
                    "2017-07-09T00:00:00",
                    "2017-07-16T00:00:00",
                    "2017-07-23T00:00:00",
                    "2017-07-30T00:00:00",
                    "2017-08-06T00:00:00",
                    "2017-08-13T00:00:00",
                    "2017-08-20T00:00:00",
                    "2017-08-27T00:00:00",
                    "2017-09-03T00:00:00",
                    "2017-09-10T00:00:00",
                    "2017-09-17T00:00:00",
                    "2017-09-24T00:00:00",
                    "2017-10-01T00:00:00",
                    "2017-10-08T00:00:00",
                    "2017-10-15T00:00:00",
                    "2017-10-22T00:00:00",
                    "2017-10-29T00:00:00",
                    "2017-11-05T00:00:00",
                    "2017-11-12T00:00:00",
                    "2017-11-19T00:00:00",
                    "2017-11-26T00:00:00",
                    "2017-12-03T00:00:00",
                    "2017-12-10T00:00:00",
                    "2017-12-17T00:00:00",
                    "2017-12-24T00:00:00",
                    "2018-01-01T00:00:00",
                    "2018-01-07T00:00:00",
                    "2018-01-14T00:00:00",
                    "2018-01-21T00:00:00",
                    "2018-01-28T00:00:00",
                    "2018-02-04T00:00:00",
                    "2018-02-11T00:00:00",
                    "2018-02-18T00:00:00",
                    "2018-02-25T00:00:00",
                    "2018-03-04T00:00:00",
                    "2018-03-11T00:00:00",
                    "2018-03-18T00:00:00",
                    "2018-03-25T00:00:00",
                    "2018-04-01T00:00:00",
                    "2018-04-08T00:00:00",
                    "2018-04-15T00:00:00",
                    "2018-04-22T00:00:00",
                    "2018-04-29T00:00:00",
                    "2018-05-06T00:00:00",
                    "2018-05-13T00:00:00",
                    "2018-05-20T00:00:00",
                    "2018-05-27T00:00:00",
                    "2018-06-03T00:00:00",
                    "2018-06-10T00:00:00",
                    "2018-06-17T00:00:00",
                    "2018-06-24T00:00:00",
                    "2018-07-01T00:00:00",
                    "2018-07-08T00:00:00",
                    "2018-07-15T00:00:00",
                    "2018-07-22T00:00:00",
                    "2018-07-29T00:00:00",
                    "2018-08-05T00:00:00",
                    "2018-08-12T00:00:00",
                    "2018-08-19T00:00:00",
                    "2018-08-26T00:00:00",
                    "2018-09-02T00:00:00",
                    "2018-09-09T00:00:00",
                    "2018-09-16T00:00:00",
                    "2018-09-23T00:00:00",
                    "2018-09-30T00:00:00",
                    "2018-10-07T00:00:00",
                    "2018-10-14T00:00:00",
                    "2018-10-21T00:00:00",
                    "2018-10-28T00:00:00",
                    "2018-11-04T00:00:00",
                    "2018-11-11T00:00:00",
                    "2018-11-18T00:00:00",
                    "2018-11-25T00:00:00",
                    "2018-12-02T00:00:00",
                    "2019-01-07T00:00:00",
                    "2019-01-13T00:00:00",
                    "2019-01-20T00:00:00",
                    "2019-01-27T00:00:00",
                    "2019-02-03T00:00:00",
                    "2019-02-10T00:00:00",
                    "2019-02-17T00:00:00",
                    "2019-02-24T00:00:00",
                    "2019-03-03T00:00:00",
                    "2019-03-10T00:00:00",
                    "2019-03-17T00:00:00",
                    "2019-03-24T00:00:00",
                    "2019-03-31T00:00:00",
                    "2019-04-07T00:00:00",
                    "2019-04-14T00:00:00",
                    "2019-04-21T00:00:00",
                    "2019-04-28T00:00:00",
                    "2019-05-05T00:00:00",
                    "2019-05-12T00:00:00",
                    "2019-05-19T00:00:00",
                    "2019-05-26T00:00:00",
                    "2019-06-02T00:00:00",
                    "2019-06-09T00:00:00",
                    "2019-06-16T00:00:00",
                    "2019-06-23T00:00:00",
                    "2019-06-30T00:00:00",
                    "2019-07-07T00:00:00",
                    "2019-07-14T00:00:00",
                    "2019-07-21T00:00:00",
                    "2019-07-28T00:00:00",
                    "2019-08-04T00:00:00",
                    "2019-08-11T00:00:00",
                    "2019-08-18T00:00:00",
                    "2019-08-25T00:00:00",
                    "2019-09-01T00:00:00",
                    "2019-09-08T00:00:00",
                    "2019-09-15T00:00:00",
                    "2019-09-22T00:00:00",
                    "2019-09-29T00:00:00",
                    "2019-10-06T00:00:00",
                    "2019-10-13T00:00:00",
                    "2019-10-20T00:00:00",
                    "2019-10-27T00:00:00",
                    "2019-11-03T00:00:00",
                    "2019-11-10T00:00:00",
                    "2019-11-17T00:00:00",
                    "2019-11-24T00:00:00",
                    "2019-12-01T00:00:00"
                  ],
                  "y": [
                    8157.8134375,
                    9322.885781250003,
                    9902.903593750001,
                    7305.642812499999,
                    9862.181718749996,
                    10319.448593750005,
                    7660.012343749999,
                    8338.130156249996,
                    9707.385312499999,
                    11175.749843750003,
                    7804.767031249999,
                    10201.95328125,
                    10146.602968750001,
                    8312.639374999999,
                    12285.913749999998,
                    8948.62109375,
                    11350.338437499999,
                    12575.611562499997,
                    12085.207031250002,
                    10104.5596875,
                    9069.138906250002,
                    10118.433125000003,
                    8759.366875,
                    8254.802656250002,
                    8550.119062500002,
                    9242.675625000002,
                    8339.71234375,
                    7768.607656249995,
                    9893.306093750001,
                    7602.8440625,
                    7103.419531249997,
                    7554.191718750001,
                    8590.838593749997,
                    8239.024375000006,
                    9931.342812500003,
                    7584.513281250003,
                    6881.463593749998,
                    6405.953124999999,
                    6312.250156249998,
                    7710.79015625,
                    7035.528124999998,
                    6525.1209375,
                    6994.310156250003,
                    10215.109687500004,
                    7577.127187499999,
                    6257.60046875,
                    9390.76296875,
                    6512.887968750002,
                    6303.457499999999,
                    10406.844531250003,
                    7209.239687499998,
                    7485.5735937499985,
                    9548.442031249999,
                    10998.496249999998,
                    9144.988749999997,
                    9699.062812500002,
                    9873.064999999999,
                    9957.542656249998,
                    12679.809531250003,
                    9022.798281250003,
                    10386.565937499998,
                    12982.813906249998,
                    13595.039531249999,
                    16593.458593750005,
                    11820.523906250004,
                    12744.509218749998,
                    17301.03343749999,
                    12526.721562500004,
                    18555.398906250008,
                    16652.897031250002,
                    14530.793749999999,
                    12993.359375,
                    15850.348593750005,
                    14175.009687500002,
                    13057.095468750005,
                    12537.970625000004,
                    14964.805937499996,
                    13307.215156250002,
                    14575.51484375,
                    13449.655781250001,
                    13426.45203125,
                    11402.71296875,
                    12316.554687500004,
                    12992.455156250004,
                    13085.079062499994,
                    12575.5990625,
                    11577.189375000005,
                    13998.515937499997,
                    14913.115624999999,
                    11365.602968749996,
                    10192.722343749998,
                    10261.125156250002,
                    11169.323593750001,
                    10936.762343749997,
                    8307.551875000003,
                    7885.069218750002,
                    11966.015000000001,
                    10651.856874999998,
                    11463.895937499998,
                    9852.76953125,
                    10812.651718749998,
                    10883.907968750003,
                    10934.439843749999,
                    13730.369375,
                    10942.282812500001,
                    13512.761093749994,
                    13109.623124999998,
                    13320.685781249998,
                    12835.11921875,
                    13971.772968749994,
                    13688.435312500005,
                    23020.013437499994,
                    18343.70859375,
                    23160.333437500005,
                    17595.936250000002,
                    16753.582343749997,
                    22593.95609375,
                    20665.300312500014,
                    17411.6353125,
                    19465.73921875,
                    15849.32703125,
                    17070.200156249994,
                    18520.412968750003,
                    17603.504531249997,
                    16126.705468750004,
                    17994.975781249992,
                    18342.526718749996,
                    18787.744531250013,
                    16771.1153125,
                    13420.592812499995,
                    14800.386406250007,
                    14490.649374999995,
                    14287.565312500003,
                    15372.714687499996,
                    13602.884218750003,
                    12975.484375,
                    12183.252656249997,
                    12903.42,
                    12498.497031250008,
                    13292.393749999994,
                    13598.388125000003,
                    45444.2346875,
                    48590.74031250001,
                    45698.31765625,
                    49327.806249999994,
                    14030.633125,
                    14260.629531250006,
                    13502.689843750006,
                    13121.750781249995,
                    12707.26953125001,
                    11863.2034375,
                    12219.198437500007,
                    14398.283750000004,
                    15927.588593750004,
                    14291.396249999998,
                    14861.43953125,
                    15673.507187499998,
                    19183.626562499998,
                    17483.55734375,
                    14951.505937499998,
                    16049.310312499998,
                    17710.996562499997,
                    16731.174843750003,
                    24299.181562499998,
                    18000.208749999994,
                    21003.469218749993,
                    20975.31484375001,
                    22021.150781250002,
                    20010.6484375,
                    20025.357656250002,
                    19088.99828125,
                    20546.507343749992,
                    22426.5753125,
                    21315.96296875001,
                    19205.40109375,
                    19941.756093749995,
                    20400.80375,
                    26513.527343750004,
                    27627.30843750001,
                    22038.73015625,
                    27215.902968749997,
                    20575.25484374999,
                    19573.508281249993,
                    20170.636874999997,
                    19352.419531249994,
                    18282.038593750003,
                    18191.343750000004,
                    19140.164531249997,
                    18244.884531249994,
                    18239.892187500005,
                    17790.11531249999,
                    19164.774062500008,
                    18661.032031250004,
                    17778.2025,
                    17899.6053125,
                    18769.91437500001,
                    19204.823124999995,
                    18983.3778125,
                    18608.574843749997,
                    18651.0325,
                    18161.964531249992,
                    19110.873125000002,
                    20877.810156249994,
                    15166.484531249998,
                    15984.352500000003,
                    21408.26484375,
                    20286.275156250013,
                    21027.459531249995,
                    21660.104218749995,
                    20106.772656249996,
                    21617.928749999995,
                    16813.792656249996,
                    20525.96515625001,
                    22139.979531250003,
                    20427.334531250002,
                    21618.50968750001,
                    20812.652031250007,
                    19787.793125000007,
                    20551.32968749999,
                    25202.34374999998,
                    18733.26625,
                    16071.867812499997,
                    16663.005000000005,
                    16971.053750000006,
                    14497.245156250001,
                    17853.528906250005,
                    20237.652812500004,
                    18352.362499999996,
                    17175.138281249994,
                    15897.354062499991,
                    18109.354843749996,
                    16803.95625,
                    14898.096874999997,
                    14429.955156249998,
                    14351.899062499993,
                    15476.242343750002,
                    15465.6428125,
                    18744.11921875,
                    17358.28437500001,
                    16906.011250000003,
                    19105.687968750004,
                    19617.404687499995,
                    19941.717031249987,
                    19401.826875000006,
                    19051.32015625,
                    19223.540937500005,
                    18565.660312500004,
                    21751.46015625001,
                    21537.510937500007,
                    18601,
                    18538.453125,
                    15469.078125,
                    16170.25
                  ]
                }
              ],
              "layout": {
                "template": {
                  "data": {
                    "bar": [
                      {
                        "error_x": {
                          "color": "#2a3f5f"
                        },
                        "error_y": {
                          "color": "#2a3f5f"
                        },
                        "marker": {
                          "line": {
                            "color": "#E5ECF6",
                            "width": 0.5
                          }
                        },
                        "type": "bar"
                      }
                    ],
                    "barpolar": [
                      {
                        "marker": {
                          "line": {
                            "color": "#E5ECF6",
                            "width": 0.5
                          }
                        },
                        "type": "barpolar"
                      }
                    ],
                    "carpet": [
                      {
                        "aaxis": {
                          "endlinecolor": "#2a3f5f",
                          "gridcolor": "white",
                          "linecolor": "white",
                          "minorgridcolor": "white",
                          "startlinecolor": "#2a3f5f"
                        },
                        "baxis": {
                          "endlinecolor": "#2a3f5f",
                          "gridcolor": "white",
                          "linecolor": "white",
                          "minorgridcolor": "white",
                          "startlinecolor": "#2a3f5f"
                        },
                        "type": "carpet"
                      }
                    ],
                    "choropleth": [
                      {
                        "colorbar": {
                          "outlinewidth": 0,
                          "ticks": ""
                        },
                        "type": "choropleth"
                      }
                    ],
                    "contour": [
                      {
                        "colorbar": {
                          "outlinewidth": 0,
                          "ticks": ""
                        },
                        "colorscale": [
                          [
                            0,
                            "#0d0887"
                          ],
                          [
                            0.1111111111111111,
                            "#46039f"
                          ],
                          [
                            0.2222222222222222,
                            "#7201a8"
                          ],
                          [
                            0.3333333333333333,
                            "#9c179e"
                          ],
                          [
                            0.4444444444444444,
                            "#bd3786"
                          ],
                          [
                            0.5555555555555556,
                            "#d8576b"
                          ],
                          [
                            0.6666666666666666,
                            "#ed7953"
                          ],
                          [
                            0.7777777777777778,
                            "#fb9f3a"
                          ],
                          [
                            0.8888888888888888,
                            "#fdca26"
                          ],
                          [
                            1,
                            "#f0f921"
                          ]
                        ],
                        "type": "contour"
                      }
                    ],
                    "contourcarpet": [
                      {
                        "colorbar": {
                          "outlinewidth": 0,
                          "ticks": ""
                        },
                        "type": "contourcarpet"
                      }
                    ],
                    "heatmap": [
                      {
                        "colorbar": {
                          "outlinewidth": 0,
                          "ticks": ""
                        },
                        "colorscale": [
                          [
                            0,
                            "#0d0887"
                          ],
                          [
                            0.1111111111111111,
                            "#46039f"
                          ],
                          [
                            0.2222222222222222,
                            "#7201a8"
                          ],
                          [
                            0.3333333333333333,
                            "#9c179e"
                          ],
                          [
                            0.4444444444444444,
                            "#bd3786"
                          ],
                          [
                            0.5555555555555556,
                            "#d8576b"
                          ],
                          [
                            0.6666666666666666,
                            "#ed7953"
                          ],
                          [
                            0.7777777777777778,
                            "#fb9f3a"
                          ],
                          [
                            0.8888888888888888,
                            "#fdca26"
                          ],
                          [
                            1,
                            "#f0f921"
                          ]
                        ],
                        "type": "heatmap"
                      }
                    ],
                    "heatmapgl": [
                      {
                        "colorbar": {
                          "outlinewidth": 0,
                          "ticks": ""
                        },
                        "colorscale": [
                          [
                            0,
                            "#0d0887"
                          ],
                          [
                            0.1111111111111111,
                            "#46039f"
                          ],
                          [
                            0.2222222222222222,
                            "#7201a8"
                          ],
                          [
                            0.3333333333333333,
                            "#9c179e"
                          ],
                          [
                            0.4444444444444444,
                            "#bd3786"
                          ],
                          [
                            0.5555555555555556,
                            "#d8576b"
                          ],
                          [
                            0.6666666666666666,
                            "#ed7953"
                          ],
                          [
                            0.7777777777777778,
                            "#fb9f3a"
                          ],
                          [
                            0.8888888888888888,
                            "#fdca26"
                          ],
                          [
                            1,
                            "#f0f921"
                          ]
                        ],
                        "type": "heatmapgl"
                      }
                    ],
                    "histogram": [
                      {
                        "marker": {
                          "colorbar": {
                            "outlinewidth": 0,
                            "ticks": ""
                          }
                        },
                        "type": "histogram"
                      }
                    ],
                    "histogram2d": [
                      {
                        "colorbar": {
                          "outlinewidth": 0,
                          "ticks": ""
                        },
                        "colorscale": [
                          [
                            0,
                            "#0d0887"
                          ],
                          [
                            0.1111111111111111,
                            "#46039f"
                          ],
                          [
                            0.2222222222222222,
                            "#7201a8"
                          ],
                          [
                            0.3333333333333333,
                            "#9c179e"
                          ],
                          [
                            0.4444444444444444,
                            "#bd3786"
                          ],
                          [
                            0.5555555555555556,
                            "#d8576b"
                          ],
                          [
                            0.6666666666666666,
                            "#ed7953"
                          ],
                          [
                            0.7777777777777778,
                            "#fb9f3a"
                          ],
                          [
                            0.8888888888888888,
                            "#fdca26"
                          ],
                          [
                            1,
                            "#f0f921"
                          ]
                        ],
                        "type": "histogram2d"
                      }
                    ],
                    "histogram2dcontour": [
                      {
                        "colorbar": {
                          "outlinewidth": 0,
                          "ticks": ""
                        },
                        "colorscale": [
                          [
                            0,
                            "#0d0887"
                          ],
                          [
                            0.1111111111111111,
                            "#46039f"
                          ],
                          [
                            0.2222222222222222,
                            "#7201a8"
                          ],
                          [
                            0.3333333333333333,
                            "#9c179e"
                          ],
                          [
                            0.4444444444444444,
                            "#bd3786"
                          ],
                          [
                            0.5555555555555556,
                            "#d8576b"
                          ],
                          [
                            0.6666666666666666,
                            "#ed7953"
                          ],
                          [
                            0.7777777777777778,
                            "#fb9f3a"
                          ],
                          [
                            0.8888888888888888,
                            "#fdca26"
                          ],
                          [
                            1,
                            "#f0f921"
                          ]
                        ],
                        "type": "histogram2dcontour"
                      }
                    ],
                    "mesh3d": [
                      {
                        "colorbar": {
                          "outlinewidth": 0,
                          "ticks": ""
                        },
                        "type": "mesh3d"
                      }
                    ],
                    "parcoords": [
                      {
                        "line": {
                          "colorbar": {
                            "outlinewidth": 0,
                            "ticks": ""
                          }
                        },
                        "type": "parcoords"
                      }
                    ],
                    "pie": [
                      {
                        "automargin": true,
                        "type": "pie"
                      }
                    ],
                    "scatter": [
                      {
                        "marker": {
                          "colorbar": {
                            "outlinewidth": 0,
                            "ticks": ""
                          }
                        },
                        "type": "scatter"
                      }
                    ],
                    "scatter3d": [
                      {
                        "line": {
                          "colorbar": {
                            "outlinewidth": 0,
                            "ticks": ""
                          }
                        },
                        "marker": {
                          "colorbar": {
                            "outlinewidth": 0,
                            "ticks": ""
                          }
                        },
                        "type": "scatter3d"
                      }
                    ],
                    "scattercarpet": [
                      {
                        "marker": {
                          "colorbar": {
                            "outlinewidth": 0,
                            "ticks": ""
                          }
                        },
                        "type": "scattercarpet"
                      }
                    ],
                    "scattergeo": [
                      {
                        "marker": {
                          "colorbar": {
                            "outlinewidth": 0,
                            "ticks": ""
                          }
                        },
                        "type": "scattergeo"
                      }
                    ],
                    "scattergl": [
                      {
                        "marker": {
                          "colorbar": {
                            "outlinewidth": 0,
                            "ticks": ""
                          }
                        },
                        "type": "scattergl"
                      }
                    ],
                    "scattermapbox": [
                      {
                        "marker": {
                          "colorbar": {
                            "outlinewidth": 0,
                            "ticks": ""
                          }
                        },
                        "type": "scattermapbox"
                      }
                    ],
                    "scatterpolar": [
                      {
                        "marker": {
                          "colorbar": {
                            "outlinewidth": 0,
                            "ticks": ""
                          }
                        },
                        "type": "scatterpolar"
                      }
                    ],
                    "scatterpolargl": [
                      {
                        "marker": {
                          "colorbar": {
                            "outlinewidth": 0,
                            "ticks": ""
                          }
                        },
                        "type": "scatterpolargl"
                      }
                    ],
                    "scatterternary": [
                      {
                        "marker": {
                          "colorbar": {
                            "outlinewidth": 0,
                            "ticks": ""
                          }
                        },
                        "type": "scatterternary"
                      }
                    ],
                    "surface": [
                      {
                        "colorbar": {
                          "outlinewidth": 0,
                          "ticks": ""
                        },
                        "colorscale": [
                          [
                            0,
                            "#0d0887"
                          ],
                          [
                            0.1111111111111111,
                            "#46039f"
                          ],
                          [
                            0.2222222222222222,
                            "#7201a8"
                          ],
                          [
                            0.3333333333333333,
                            "#9c179e"
                          ],
                          [
                            0.4444444444444444,
                            "#bd3786"
                          ],
                          [
                            0.5555555555555556,
                            "#d8576b"
                          ],
                          [
                            0.6666666666666666,
                            "#ed7953"
                          ],
                          [
                            0.7777777777777778,
                            "#fb9f3a"
                          ],
                          [
                            0.8888888888888888,
                            "#fdca26"
                          ],
                          [
                            1,
                            "#f0f921"
                          ]
                        ],
                        "type": "surface"
                      }
                    ],
                    "table": [
                      {
                        "cells": {
                          "fill": {
                            "color": "#EBF0F8"
                          },
                          "line": {
                            "color": "white"
                          }
                        },
                        "header": {
                          "fill": {
                            "color": "#C8D4E3"
                          },
                          "line": {
                            "color": "white"
                          }
                        },
                        "type": "table"
                      }
                    ]
                  },
                  "layout": {
                    "annotationdefaults": {
                      "arrowcolor": "#2a3f5f",
                      "arrowhead": 0,
                      "arrowwidth": 1
                    },
                    "coloraxis": {
                      "colorbar": {
                        "outlinewidth": 0,
                        "ticks": ""
                      }
                    },
                    "colorscale": {
                      "diverging": [
                        [
                          0,
                          "#8e0152"
                        ],
                        [
                          0.1,
                          "#c51b7d"
                        ],
                        [
                          0.2,
                          "#de77ae"
                        ],
                        [
                          0.3,
                          "#f1b6da"
                        ],
                        [
                          0.4,
                          "#fde0ef"
                        ],
                        [
                          0.5,
                          "#f7f7f7"
                        ],
                        [
                          0.6,
                          "#e6f5d0"
                        ],
                        [
                          0.7,
                          "#b8e186"
                        ],
                        [
                          0.8,
                          "#7fbc41"
                        ],
                        [
                          0.9,
                          "#4d9221"
                        ],
                        [
                          1,
                          "#276419"
                        ]
                      ],
                      "sequential": [
                        [
                          0,
                          "#0d0887"
                        ],
                        [
                          0.1111111111111111,
                          "#46039f"
                        ],
                        [
                          0.2222222222222222,
                          "#7201a8"
                        ],
                        [
                          0.3333333333333333,
                          "#9c179e"
                        ],
                        [
                          0.4444444444444444,
                          "#bd3786"
                        ],
                        [
                          0.5555555555555556,
                          "#d8576b"
                        ],
                        [
                          0.6666666666666666,
                          "#ed7953"
                        ],
                        [
                          0.7777777777777778,
                          "#fb9f3a"
                        ],
                        [
                          0.8888888888888888,
                          "#fdca26"
                        ],
                        [
                          1,
                          "#f0f921"
                        ]
                      ],
                      "sequentialminus": [
                        [
                          0,
                          "#0d0887"
                        ],
                        [
                          0.1111111111111111,
                          "#46039f"
                        ],
                        [
                          0.2222222222222222,
                          "#7201a8"
                        ],
                        [
                          0.3333333333333333,
                          "#9c179e"
                        ],
                        [
                          0.4444444444444444,
                          "#bd3786"
                        ],
                        [
                          0.5555555555555556,
                          "#d8576b"
                        ],
                        [
                          0.6666666666666666,
                          "#ed7953"
                        ],
                        [
                          0.7777777777777778,
                          "#fb9f3a"
                        ],
                        [
                          0.8888888888888888,
                          "#fdca26"
                        ],
                        [
                          1,
                          "#f0f921"
                        ]
                      ]
                    },
                    "colorway": [
                      "#636efa",
                      "#EF553B",
                      "#00cc96",
                      "#ab63fa",
                      "#FFA15A",
                      "#19d3f3",
                      "#FF6692",
                      "#B6E880",
                      "#FF97FF",
                      "#FECB52"
                    ],
                    "font": {
                      "color": "#2a3f5f"
                    },
                    "geo": {
                      "bgcolor": "white",
                      "lakecolor": "white",
                      "landcolor": "#E5ECF6",
                      "showlakes": true,
                      "showland": true,
                      "subunitcolor": "white"
                    },
                    "hoverlabel": {
                      "align": "left"
                    },
                    "hovermode": "closest",
                    "mapbox": {
                      "style": "light"
                    },
                    "paper_bgcolor": "white",
                    "plot_bgcolor": "#E5ECF6",
                    "polar": {
                      "angularaxis": {
                        "gridcolor": "white",
                        "linecolor": "white",
                        "ticks": ""
                      },
                      "bgcolor": "#E5ECF6",
                      "radialaxis": {
                        "gridcolor": "white",
                        "linecolor": "white",
                        "ticks": ""
                      }
                    },
                    "scene": {
                      "xaxis": {
                        "backgroundcolor": "#E5ECF6",
                        "gridcolor": "white",
                        "gridwidth": 2,
                        "linecolor": "white",
                        "showbackground": true,
                        "ticks": "",
                        "zerolinecolor": "white"
                      },
                      "yaxis": {
                        "backgroundcolor": "#E5ECF6",
                        "gridcolor": "white",
                        "gridwidth": 2,
                        "linecolor": "white",
                        "showbackground": true,
                        "ticks": "",
                        "zerolinecolor": "white"
                      },
                      "zaxis": {
                        "backgroundcolor": "#E5ECF6",
                        "gridcolor": "white",
                        "gridwidth": 2,
                        "linecolor": "white",
                        "showbackground": true,
                        "ticks": "",
                        "zerolinecolor": "white"
                      }
                    },
                    "shapedefaults": {
                      "line": {
                        "color": "#2a3f5f"
                      }
                    },
                    "ternary": {
                      "aaxis": {
                        "gridcolor": "white",
                        "linecolor": "white",
                        "ticks": ""
                      },
                      "baxis": {
                        "gridcolor": "white",
                        "linecolor": "white",
                        "ticks": ""
                      },
                      "bgcolor": "#E5ECF6",
                      "caxis": {
                        "gridcolor": "white",
                        "linecolor": "white",
                        "ticks": ""
                      }
                    },
                    "title": {
                      "x": 0.05
                    },
                    "xaxis": {
                      "automargin": true,
                      "gridcolor": "white",
                      "linecolor": "white",
                      "ticks": "",
                      "title": {
                        "standoff": 15
                      },
                      "zerolinecolor": "white",
                      "zerolinewidth": 2
                    },
                    "yaxis": {
                      "automargin": true,
                      "gridcolor": "white",
                      "linecolor": "white",
                      "ticks": "",
                      "title": {
                        "standoff": 15
                      },
                      "zerolinecolor": "white",
                      "zerolinewidth": 2
                    }
                  }
                },
                "title": {
                  "text": "Time Series Plot for Mean Daily Volume"
                },
                "xaxis": {
                  "title": {
                    "text": "Date"
                  }
                },
                "yaxis": {
                  "title": {
                    "text": "Volume"
                  }
                }
              }
            },
            "text/html": [
              "<div>\n",
              "        \n",
              "        \n",
              "            <div id=\"86b9c461-de0c-4833-bd91-6b790951d0dc\" class=\"plotly-graph-div\" style=\"height:525px; width:100%;\"></div>\n",
              "            <script type=\"text/javascript\">\n",
              "                require([\"plotly\"], function(Plotly) {\n",
              "                    window.PLOTLYENV=window.PLOTLYENV || {};\n",
              "                    \n",
              "                if (document.getElementById(\"86b9c461-de0c-4833-bd91-6b790951d0dc\")) {\n",
              "                    Plotly.newPlot(\n",
              "                        '86b9c461-de0c-4833-bd91-6b790951d0dc',\n",
              "                        [{\"marker\": {\"color\": \"rgb(158,202,225)\", \"line\": {\"color\": \"rgb(8,48,107)\", \"width\": 1.5}}, \"mode\": \"lines+markers\", \"name\": \"conventional\", \"opacity\": 0.8, \"type\": \"scatter\", \"x\": [\"2015-01-04T00:00:00\", \"2015-01-11T00:00:00\", \"2015-01-18T00:00:00\", \"2015-01-25T00:00:00\", \"2015-02-01T00:00:00\", \"2015-02-08T00:00:00\", \"2015-02-15T00:00:00\", \"2015-02-22T00:00:00\", \"2015-03-01T00:00:00\", \"2015-03-08T00:00:00\", \"2015-03-15T00:00:00\", \"2015-03-22T00:00:00\", \"2015-03-29T00:00:00\", \"2015-04-05T00:00:00\", \"2015-04-12T00:00:00\", \"2015-04-19T00:00:00\", \"2015-04-26T00:00:00\", \"2015-05-03T00:00:00\", \"2015-05-10T00:00:00\", \"2015-05-17T00:00:00\", \"2015-05-24T00:00:00\", \"2015-05-31T00:00:00\", \"2015-06-07T00:00:00\", \"2015-06-14T00:00:00\", \"2015-06-21T00:00:00\", \"2015-06-28T00:00:00\", \"2015-07-05T00:00:00\", \"2015-07-12T00:00:00\", \"2015-07-19T00:00:00\", \"2015-07-26T00:00:00\", \"2015-08-02T00:00:00\", \"2015-08-09T00:00:00\", \"2015-08-16T00:00:00\", \"2015-08-23T00:00:00\", \"2015-08-30T00:00:00\", \"2015-09-06T00:00:00\", \"2015-09-13T00:00:00\", \"2015-09-20T00:00:00\", \"2015-09-27T00:00:00\", \"2015-10-04T00:00:00\", \"2015-10-11T00:00:00\", \"2015-10-18T00:00:00\", \"2015-10-25T00:00:00\", \"2015-11-01T00:00:00\", \"2015-11-08T00:00:00\", \"2015-11-15T00:00:00\", \"2015-11-22T00:00:00\", \"2015-11-29T00:00:00\", \"2015-12-06T00:00:00\", \"2015-12-13T00:00:00\", \"2015-12-20T00:00:00\", \"2015-12-27T00:00:00\", \"2016-01-04T00:00:00\", \"2016-01-10T00:00:00\", \"2016-01-17T00:00:00\", \"2016-01-24T00:00:00\", \"2016-01-31T00:00:00\", \"2016-02-07T00:00:00\", \"2016-02-14T00:00:00\", \"2016-02-21T00:00:00\", \"2016-02-28T00:00:00\", \"2016-03-06T00:00:00\", \"2016-03-13T00:00:00\", \"2016-03-20T00:00:00\", \"2016-03-27T00:00:00\", \"2016-04-03T00:00:00\", \"2016-04-10T00:00:00\", \"2016-04-17T00:00:00\", \"2016-04-24T00:00:00\", \"2016-05-01T00:00:00\", \"2016-05-08T00:00:00\", \"2016-05-15T00:00:00\", \"2016-05-22T00:00:00\", \"2016-05-29T00:00:00\", \"2016-06-05T00:00:00\", \"2016-06-12T00:00:00\", \"2016-06-19T00:00:00\", \"2016-06-26T00:00:00\", \"2016-07-03T00:00:00\", \"2016-07-10T00:00:00\", \"2016-07-17T00:00:00\", \"2016-07-24T00:00:00\", \"2016-07-31T00:00:00\", \"2016-08-07T00:00:00\", \"2016-08-14T00:00:00\", \"2016-08-21T00:00:00\", \"2016-08-28T00:00:00\", \"2016-09-04T00:00:00\", \"2016-09-11T00:00:00\", \"2016-09-18T00:00:00\", \"2016-09-25T00:00:00\", \"2016-10-02T00:00:00\", \"2016-10-09T00:00:00\", \"2016-10-16T00:00:00\", \"2016-10-23T00:00:00\", \"2016-10-30T00:00:00\", \"2016-11-06T00:00:00\", \"2016-11-13T00:00:00\", \"2016-11-20T00:00:00\", \"2016-11-27T00:00:00\", \"2016-12-04T00:00:00\", \"2016-12-11T00:00:00\", \"2016-12-18T00:00:00\", \"2016-12-25T00:00:00\", \"2017-01-02T00:00:00\", \"2017-01-08T00:00:00\", \"2017-01-15T00:00:00\", \"2017-01-22T00:00:00\", \"2017-01-29T00:00:00\", \"2017-02-05T00:00:00\", \"2017-02-12T00:00:00\", \"2017-02-19T00:00:00\", \"2017-02-26T00:00:00\", \"2017-03-05T00:00:00\", \"2017-03-12T00:00:00\", \"2017-03-19T00:00:00\", \"2017-03-26T00:00:00\", \"2017-04-02T00:00:00\", \"2017-04-09T00:00:00\", \"2017-04-16T00:00:00\", \"2017-04-23T00:00:00\", \"2017-04-30T00:00:00\", \"2017-05-07T00:00:00\", \"2017-05-14T00:00:00\", \"2017-05-21T00:00:00\", \"2017-05-28T00:00:00\", \"2017-06-04T00:00:00\", \"2017-06-11T00:00:00\", \"2017-06-18T00:00:00\", \"2017-06-25T00:00:00\", \"2017-07-02T00:00:00\", \"2017-07-09T00:00:00\", \"2017-07-16T00:00:00\", \"2017-07-23T00:00:00\", \"2017-07-30T00:00:00\", \"2017-08-06T00:00:00\", \"2017-08-13T00:00:00\", \"2017-08-20T00:00:00\", \"2017-08-27T00:00:00\", \"2017-09-03T00:00:00\", \"2017-09-10T00:00:00\", \"2017-09-17T00:00:00\", \"2017-09-24T00:00:00\", \"2017-10-01T00:00:00\", \"2017-10-08T00:00:00\", \"2017-10-15T00:00:00\", \"2017-10-22T00:00:00\", \"2017-10-29T00:00:00\", \"2017-11-05T00:00:00\", \"2017-11-12T00:00:00\", \"2017-11-19T00:00:00\", \"2017-11-26T00:00:00\", \"2017-12-03T00:00:00\", \"2017-12-10T00:00:00\", \"2017-12-17T00:00:00\", \"2017-12-24T00:00:00\", \"2018-01-01T00:00:00\", \"2018-01-07T00:00:00\", \"2018-01-14T00:00:00\", \"2018-01-21T00:00:00\", \"2018-01-28T00:00:00\", \"2018-02-04T00:00:00\", \"2018-02-11T00:00:00\", \"2018-02-18T00:00:00\", \"2018-02-25T00:00:00\", \"2018-03-04T00:00:00\", \"2018-03-11T00:00:00\", \"2018-03-18T00:00:00\", \"2018-03-25T00:00:00\", \"2018-04-01T00:00:00\", \"2018-04-08T00:00:00\", \"2018-04-15T00:00:00\", \"2018-04-22T00:00:00\", \"2018-04-29T00:00:00\", \"2018-05-06T00:00:00\", \"2018-05-13T00:00:00\", \"2018-05-20T00:00:00\", \"2018-05-27T00:00:00\", \"2018-06-03T00:00:00\", \"2018-06-10T00:00:00\", \"2018-06-17T00:00:00\", \"2018-06-24T00:00:00\", \"2018-07-01T00:00:00\", \"2018-07-08T00:00:00\", \"2018-07-15T00:00:00\", \"2018-07-22T00:00:00\", \"2018-07-29T00:00:00\", \"2018-08-05T00:00:00\", \"2018-08-12T00:00:00\", \"2018-08-19T00:00:00\", \"2018-08-26T00:00:00\", \"2018-09-02T00:00:00\", \"2018-09-09T00:00:00\", \"2018-09-16T00:00:00\", \"2018-09-23T00:00:00\", \"2018-09-30T00:00:00\", \"2018-10-07T00:00:00\", \"2018-10-14T00:00:00\", \"2018-10-21T00:00:00\", \"2018-10-28T00:00:00\", \"2018-11-04T00:00:00\", \"2018-11-11T00:00:00\", \"2018-11-18T00:00:00\", \"2018-11-25T00:00:00\", \"2018-12-02T00:00:00\", \"2019-01-07T00:00:00\", \"2019-01-13T00:00:00\", \"2019-01-20T00:00:00\", \"2019-01-27T00:00:00\", \"2019-02-03T00:00:00\", \"2019-02-10T00:00:00\", \"2019-02-17T00:00:00\", \"2019-02-24T00:00:00\", \"2019-03-03T00:00:00\", \"2019-03-10T00:00:00\", \"2019-03-17T00:00:00\", \"2019-03-24T00:00:00\", \"2019-03-31T00:00:00\", \"2019-04-07T00:00:00\", \"2019-04-14T00:00:00\", \"2019-04-21T00:00:00\", \"2019-04-28T00:00:00\", \"2019-05-05T00:00:00\", \"2019-05-12T00:00:00\", \"2019-05-19T00:00:00\", \"2019-05-26T00:00:00\", \"2019-06-02T00:00:00\", \"2019-06-09T00:00:00\", \"2019-06-16T00:00:00\", \"2019-06-23T00:00:00\", \"2019-06-30T00:00:00\", \"2019-07-07T00:00:00\", \"2019-07-14T00:00:00\", \"2019-07-21T00:00:00\", \"2019-07-28T00:00:00\", \"2019-08-04T00:00:00\", \"2019-08-11T00:00:00\", \"2019-08-18T00:00:00\", \"2019-08-25T00:00:00\", \"2019-09-01T00:00:00\", \"2019-09-08T00:00:00\", \"2019-09-15T00:00:00\", \"2019-09-22T00:00:00\", \"2019-09-29T00:00:00\", \"2019-10-06T00:00:00\", \"2019-10-13T00:00:00\", \"2019-10-20T00:00:00\", \"2019-10-27T00:00:00\", \"2019-11-03T00:00:00\", \"2019-11-10T00:00:00\", \"2019-11-17T00:00:00\", \"2019-11-24T00:00:00\", \"2019-12-01T00:00:00\"], \"y\": [372397.5834375, 333583.12890625006, 323254.0151562501, 319078.9546874999, 515223.59234375, 358125.7603124999, 312991.84078124975, 341786.4596875001, 385663.9907812502, 333674.03328125, 328719.5434375001, 371134.6132812502, 333810.1696875, 351142.84843749984, 358009.56609375007, 381389.93390624993, 354814.1303125, 483849.1446875001, 424031.03109375003, 361895.1046875001, 409347.3946875, 393904.44843750005, 423182.41000000015, 423638.6599999998, 416984.90406250005, 366442.3828124999, 437286.40765624994, 363030.5809374999, 367260.1740625001, 345819.0360937499, 349992.24953125004, 388012.1315624998, 368549.29265625, 343968.15421875, 344748.16703125014, 384491.8221875001, 366316.25562500005, 351887.52656249976, 323017.4703124999, 329616.40421875013, 351547.94187499996, 349697.0501562501, 305638.3089062501, 375047.11437499995, 334455.0559375, 341182.34578125004, 293371.31453125004, 267427.09937500005, 354350.4140624999, 328638.19453125005, 292181.76828125, 314312.03437500005, 455500.3918750001, 421565.05, 409588.4803124999, 409762.70406250027, 411095.33015624987, 622886.3735937496, 422927.92921875, 396686.3821875, 443373.3470312503, 417944.14890624996, 431823.27515625, 420046.2453124999, 426358.19531249994, 400871.59640625014, 429905.92046875, 443426.72874999995, 472936.90046875004, 522371.04625, 556898.4296875002, 480894.6023437499, 430684.8214062502, 478818.6926562502, 484440.33734375006, 412693.1173437499, 447001.789375, 430725.9723437498, 471113.6825000001, 413873.10812499985, 380771.19765625, 378683.09218750003, 367968.8120312499, 397259.6609375002, 406141.0953125, 399083.25406250026, 401967.3735937501, 433812.99890624994, 405057.74593750015, 367374.47390625, 369006.77640625, 374118.60046875, 343426.2121875, 331949.54578125, 300004.0042187499, 249203.33421875004, 264040.0265625, 287912.68515624997, 300194.28312499984, 274479.67562500003, 380808.04984375, 372968.5289062502, 348471.46906250005, 351714.7992187498, 461579.69609375007, 453960.9864062501, 447464.8196874999, 501563.34828125, 468094.04765624995, 726595.6253124998, 483506.4748437501, 398196.0395312499, 436228.48281250027, 399925.4095312501, 385138.5120312499, 366192.12953125016, 377783.2349999999, 399707.6468749998, 407712.735625, 413017.95906250004, 413548.12671875, 462778.08484375005, 561785.5868749997, 433535.8046875, 408591.02453125, 441432.783125, 436291.2635937499, 429998.063125, 449784.06515624985, 444120.3743749999, 444314.75765625015, 474440.5704687502, 369434.4610937498, 376476.03656250006, 366078.4815625, 373151.70140624983, 371995.97671874973, 355983.3146875001, 336941.8204687501, 309587.66156250006, 305672.10359375, 1039504.4076562503, 1017163.8614062499, 1004562.1845312503, 989916.7382812502, 301121.88703125005, 315453.32890624984, 362637.6564062501, 383378.41984374996, 377023.640625, 340488.3125, 288605.453125, 404760.046875, 416513.51734375, 356159.81999999995, 329892.9415625, 441483.3362499998, 423139.05296875, 428740.3317187499, 500121.6264062498, 455695.1140625, 740183.7329687501, 490193.5342187498, 421630.50953125017, 463794.50109374983, 466651.5990625, 471112.49968749983, 483891.1909374999, 492209.6495312499, 468546.0562500002, 514133.45390625007, 552871.1356249999, 511611.1831249999, 522722.7531250002, 751458.2989062497, 540994.8578125, 528479.4478125, 551268.2340625, 520024.9384375001, 534074.4043750002, 507358.94156249997, 530235.00734375, 528422.1078125, 541158.11625, 496785.1778124998, 493929.4464062499, 478976.5645312501, 460822.46593749983, 480520.39749999985, 476798.95359374967, 425876.11109375, 422216.13921875006, 439334.3596875001, 425655.5445312499, 399765.7867187502, 448276.50437499996, 440603.9435937501, 437868.0334374999, 396207.5648437501, 479142.4753125001, 450795.775, 439956.5726562501, 353627.4731250001, 261007.44203124993, 322711.76218749996, 524701.9989062499, 564344.3481249998, 549670.4515624999, 503510.73328124965, 728790.4114062497, 554507.0582812498, 491063.53328125004, 505539.78796875017, 518559.35484375, 534542.2260937501, 571586.4528124998, 558691.1771875, 524049.08140624996, 577700.6853124999, 539740.5618749999, 449180.65359375, 404411.3185937502, 583142.5857812498, 503026.08609374997, 443637.73359375, 473782.5224999999, 511188.4225000001, 509352.73968749994, 453839.71718749974, 438046.04703124997, 436256.2256250001, 445118.2243749999, 407011.41687499994, 394358.12109375023, 407072.65859375003, 418613.5753125, 432135.05093749985, 436732.42593750014, 460078.5057812499, 475465.0332812498, 457127.21734374977, 456222.01703125, 438798.5978124999, 461242.7339062499, 472987.17250000016, 452170.73390625004, 466548.4273437499, 465880.6753125, 447792.2429687501, 463279.015625, 448137.59375, 413603.9375, 370011.671875]}, {\"marker\": {\"color\": \"rgb(248,146,146)\", \"line\": {\"color\": \"rgb(249,52,52)\", \"width\": 1.5}}, \"mode\": \"lines+markers\", \"name\": \"organic\", \"opacity\": 0.8, \"type\": \"scatter\", \"x\": [\"2015-01-04T00:00:00\", \"2015-01-11T00:00:00\", \"2015-01-18T00:00:00\", \"2015-01-25T00:00:00\", \"2015-02-01T00:00:00\", \"2015-02-08T00:00:00\", \"2015-02-15T00:00:00\", \"2015-02-22T00:00:00\", \"2015-03-01T00:00:00\", \"2015-03-08T00:00:00\", \"2015-03-15T00:00:00\", \"2015-03-22T00:00:00\", \"2015-03-29T00:00:00\", \"2015-04-05T00:00:00\", \"2015-04-12T00:00:00\", \"2015-04-19T00:00:00\", \"2015-04-26T00:00:00\", \"2015-05-03T00:00:00\", \"2015-05-10T00:00:00\", \"2015-05-17T00:00:00\", \"2015-05-24T00:00:00\", \"2015-05-31T00:00:00\", \"2015-06-07T00:00:00\", \"2015-06-14T00:00:00\", \"2015-06-21T00:00:00\", \"2015-06-28T00:00:00\", \"2015-07-05T00:00:00\", \"2015-07-12T00:00:00\", \"2015-07-19T00:00:00\", \"2015-07-26T00:00:00\", \"2015-08-02T00:00:00\", \"2015-08-09T00:00:00\", \"2015-08-16T00:00:00\", \"2015-08-23T00:00:00\", \"2015-08-30T00:00:00\", \"2015-09-06T00:00:00\", \"2015-09-13T00:00:00\", \"2015-09-20T00:00:00\", \"2015-09-27T00:00:00\", \"2015-10-04T00:00:00\", \"2015-10-11T00:00:00\", \"2015-10-18T00:00:00\", \"2015-10-25T00:00:00\", \"2015-11-01T00:00:00\", \"2015-11-08T00:00:00\", \"2015-11-15T00:00:00\", \"2015-11-22T00:00:00\", \"2015-11-29T00:00:00\", \"2015-12-06T00:00:00\", \"2015-12-13T00:00:00\", \"2015-12-20T00:00:00\", \"2015-12-27T00:00:00\", \"2016-01-04T00:00:00\", \"2016-01-10T00:00:00\", \"2016-01-17T00:00:00\", \"2016-01-24T00:00:00\", \"2016-01-31T00:00:00\", \"2016-02-07T00:00:00\", \"2016-02-14T00:00:00\", \"2016-02-21T00:00:00\", \"2016-02-28T00:00:00\", \"2016-03-06T00:00:00\", \"2016-03-13T00:00:00\", \"2016-03-20T00:00:00\", \"2016-03-27T00:00:00\", \"2016-04-03T00:00:00\", \"2016-04-10T00:00:00\", \"2016-04-17T00:00:00\", \"2016-04-24T00:00:00\", \"2016-05-01T00:00:00\", \"2016-05-08T00:00:00\", \"2016-05-15T00:00:00\", \"2016-05-22T00:00:00\", \"2016-05-29T00:00:00\", \"2016-06-05T00:00:00\", \"2016-06-12T00:00:00\", \"2016-06-19T00:00:00\", \"2016-06-26T00:00:00\", \"2016-07-03T00:00:00\", \"2016-07-10T00:00:00\", \"2016-07-17T00:00:00\", \"2016-07-24T00:00:00\", \"2016-07-31T00:00:00\", \"2016-08-07T00:00:00\", \"2016-08-14T00:00:00\", \"2016-08-21T00:00:00\", \"2016-08-28T00:00:00\", \"2016-09-04T00:00:00\", \"2016-09-11T00:00:00\", \"2016-09-18T00:00:00\", \"2016-09-25T00:00:00\", \"2016-10-02T00:00:00\", \"2016-10-09T00:00:00\", \"2016-10-16T00:00:00\", \"2016-10-23T00:00:00\", \"2016-10-30T00:00:00\", \"2016-11-06T00:00:00\", \"2016-11-13T00:00:00\", \"2016-11-20T00:00:00\", \"2016-11-27T00:00:00\", \"2016-12-04T00:00:00\", \"2016-12-11T00:00:00\", \"2016-12-18T00:00:00\", \"2016-12-25T00:00:00\", \"2017-01-02T00:00:00\", \"2017-01-08T00:00:00\", \"2017-01-15T00:00:00\", \"2017-01-22T00:00:00\", \"2017-01-29T00:00:00\", \"2017-02-05T00:00:00\", \"2017-02-12T00:00:00\", \"2017-02-19T00:00:00\", \"2017-02-26T00:00:00\", \"2017-03-05T00:00:00\", \"2017-03-12T00:00:00\", \"2017-03-19T00:00:00\", \"2017-03-26T00:00:00\", \"2017-04-02T00:00:00\", \"2017-04-09T00:00:00\", \"2017-04-16T00:00:00\", \"2017-04-23T00:00:00\", \"2017-04-30T00:00:00\", \"2017-05-07T00:00:00\", \"2017-05-14T00:00:00\", \"2017-05-21T00:00:00\", \"2017-05-28T00:00:00\", \"2017-06-04T00:00:00\", \"2017-06-11T00:00:00\", \"2017-06-18T00:00:00\", \"2017-06-25T00:00:00\", \"2017-07-02T00:00:00\", \"2017-07-09T00:00:00\", \"2017-07-16T00:00:00\", \"2017-07-23T00:00:00\", \"2017-07-30T00:00:00\", \"2017-08-06T00:00:00\", \"2017-08-13T00:00:00\", \"2017-08-20T00:00:00\", \"2017-08-27T00:00:00\", \"2017-09-03T00:00:00\", \"2017-09-10T00:00:00\", \"2017-09-17T00:00:00\", \"2017-09-24T00:00:00\", \"2017-10-01T00:00:00\", \"2017-10-08T00:00:00\", \"2017-10-15T00:00:00\", \"2017-10-22T00:00:00\", \"2017-10-29T00:00:00\", \"2017-11-05T00:00:00\", \"2017-11-12T00:00:00\", \"2017-11-19T00:00:00\", \"2017-11-26T00:00:00\", \"2017-12-03T00:00:00\", \"2017-12-10T00:00:00\", \"2017-12-17T00:00:00\", \"2017-12-24T00:00:00\", \"2018-01-01T00:00:00\", \"2018-01-07T00:00:00\", \"2018-01-14T00:00:00\", \"2018-01-21T00:00:00\", \"2018-01-28T00:00:00\", \"2018-02-04T00:00:00\", \"2018-02-11T00:00:00\", \"2018-02-18T00:00:00\", \"2018-02-25T00:00:00\", \"2018-03-04T00:00:00\", \"2018-03-11T00:00:00\", \"2018-03-18T00:00:00\", \"2018-03-25T00:00:00\", \"2018-04-01T00:00:00\", \"2018-04-08T00:00:00\", \"2018-04-15T00:00:00\", \"2018-04-22T00:00:00\", \"2018-04-29T00:00:00\", \"2018-05-06T00:00:00\", \"2018-05-13T00:00:00\", \"2018-05-20T00:00:00\", \"2018-05-27T00:00:00\", \"2018-06-03T00:00:00\", \"2018-06-10T00:00:00\", \"2018-06-17T00:00:00\", \"2018-06-24T00:00:00\", \"2018-07-01T00:00:00\", \"2018-07-08T00:00:00\", \"2018-07-15T00:00:00\", \"2018-07-22T00:00:00\", \"2018-07-29T00:00:00\", \"2018-08-05T00:00:00\", \"2018-08-12T00:00:00\", \"2018-08-19T00:00:00\", \"2018-08-26T00:00:00\", \"2018-09-02T00:00:00\", \"2018-09-09T00:00:00\", \"2018-09-16T00:00:00\", \"2018-09-23T00:00:00\", \"2018-09-30T00:00:00\", \"2018-10-07T00:00:00\", \"2018-10-14T00:00:00\", \"2018-10-21T00:00:00\", \"2018-10-28T00:00:00\", \"2018-11-04T00:00:00\", \"2018-11-11T00:00:00\", \"2018-11-18T00:00:00\", \"2018-11-25T00:00:00\", \"2018-12-02T00:00:00\", \"2019-01-07T00:00:00\", \"2019-01-13T00:00:00\", \"2019-01-20T00:00:00\", \"2019-01-27T00:00:00\", \"2019-02-03T00:00:00\", \"2019-02-10T00:00:00\", \"2019-02-17T00:00:00\", \"2019-02-24T00:00:00\", \"2019-03-03T00:00:00\", \"2019-03-10T00:00:00\", \"2019-03-17T00:00:00\", \"2019-03-24T00:00:00\", \"2019-03-31T00:00:00\", \"2019-04-07T00:00:00\", \"2019-04-14T00:00:00\", \"2019-04-21T00:00:00\", \"2019-04-28T00:00:00\", \"2019-05-05T00:00:00\", \"2019-05-12T00:00:00\", \"2019-05-19T00:00:00\", \"2019-05-26T00:00:00\", \"2019-06-02T00:00:00\", \"2019-06-09T00:00:00\", \"2019-06-16T00:00:00\", \"2019-06-23T00:00:00\", \"2019-06-30T00:00:00\", \"2019-07-07T00:00:00\", \"2019-07-14T00:00:00\", \"2019-07-21T00:00:00\", \"2019-07-28T00:00:00\", \"2019-08-04T00:00:00\", \"2019-08-11T00:00:00\", \"2019-08-18T00:00:00\", \"2019-08-25T00:00:00\", \"2019-09-01T00:00:00\", \"2019-09-08T00:00:00\", \"2019-09-15T00:00:00\", \"2019-09-22T00:00:00\", \"2019-09-29T00:00:00\", \"2019-10-06T00:00:00\", \"2019-10-13T00:00:00\", \"2019-10-20T00:00:00\", \"2019-10-27T00:00:00\", \"2019-11-03T00:00:00\", \"2019-11-10T00:00:00\", \"2019-11-17T00:00:00\", \"2019-11-24T00:00:00\", \"2019-12-01T00:00:00\"], \"y\": [8157.8134375, 9322.885781250003, 9902.903593750001, 7305.642812499999, 9862.181718749996, 10319.448593750005, 7660.012343749999, 8338.130156249996, 9707.385312499999, 11175.749843750003, 7804.767031249999, 10201.95328125, 10146.602968750001, 8312.639374999999, 12285.913749999998, 8948.62109375, 11350.338437499999, 12575.611562499997, 12085.207031250002, 10104.5596875, 9069.138906250002, 10118.433125000003, 8759.366875, 8254.802656250002, 8550.119062500002, 9242.675625000002, 8339.71234375, 7768.607656249995, 9893.306093750001, 7602.8440625, 7103.419531249997, 7554.191718750001, 8590.838593749997, 8239.024375000006, 9931.342812500003, 7584.513281250003, 6881.463593749998, 6405.953124999999, 6312.250156249998, 7710.79015625, 7035.528124999998, 6525.1209375, 6994.310156250003, 10215.109687500004, 7577.127187499999, 6257.60046875, 9390.76296875, 6512.887968750002, 6303.457499999999, 10406.844531250003, 7209.239687499998, 7485.5735937499985, 9548.442031249999, 10998.496249999998, 9144.988749999997, 9699.062812500002, 9873.064999999999, 9957.542656249998, 12679.809531250003, 9022.798281250003, 10386.565937499998, 12982.813906249998, 13595.039531249999, 16593.458593750005, 11820.523906250004, 12744.509218749998, 17301.03343749999, 12526.721562500004, 18555.398906250008, 16652.897031250002, 14530.793749999999, 12993.359375, 15850.348593750005, 14175.009687500002, 13057.095468750005, 12537.970625000004, 14964.805937499996, 13307.215156250002, 14575.51484375, 13449.655781250001, 13426.45203125, 11402.71296875, 12316.554687500004, 12992.455156250004, 13085.079062499994, 12575.5990625, 11577.189375000005, 13998.515937499997, 14913.115624999999, 11365.602968749996, 10192.722343749998, 10261.125156250002, 11169.323593750001, 10936.762343749997, 8307.551875000003, 7885.069218750002, 11966.015000000001, 10651.856874999998, 11463.895937499998, 9852.76953125, 10812.651718749998, 10883.907968750003, 10934.439843749999, 13730.369375, 10942.282812500001, 13512.761093749994, 13109.623124999998, 13320.685781249998, 12835.11921875, 13971.772968749994, 13688.435312500005, 23020.013437499994, 18343.70859375, 23160.333437500005, 17595.936250000002, 16753.582343749997, 22593.95609375, 20665.300312500014, 17411.6353125, 19465.73921875, 15849.32703125, 17070.200156249994, 18520.412968750003, 17603.504531249997, 16126.705468750004, 17994.975781249992, 18342.526718749996, 18787.744531250013, 16771.1153125, 13420.592812499995, 14800.386406250007, 14490.649374999995, 14287.565312500003, 15372.714687499996, 13602.884218750003, 12975.484375, 12183.252656249997, 12903.42, 12498.497031250008, 13292.393749999994, 13598.388125000003, 45444.2346875, 48590.74031250001, 45698.31765625, 49327.806249999994, 14030.633125, 14260.629531250006, 13502.689843750006, 13121.750781249995, 12707.26953125001, 11863.2034375, 12219.198437500007, 14398.283750000004, 15927.588593750004, 14291.396249999998, 14861.43953125, 15673.507187499998, 19183.626562499998, 17483.55734375, 14951.505937499998, 16049.310312499998, 17710.996562499997, 16731.174843750003, 24299.181562499998, 18000.208749999994, 21003.469218749993, 20975.31484375001, 22021.150781250002, 20010.6484375, 20025.357656250002, 19088.99828125, 20546.507343749992, 22426.5753125, 21315.96296875001, 19205.40109375, 19941.756093749995, 20400.80375, 26513.527343750004, 27627.30843750001, 22038.73015625, 27215.902968749997, 20575.25484374999, 19573.508281249993, 20170.636874999997, 19352.419531249994, 18282.038593750003, 18191.343750000004, 19140.164531249997, 18244.884531249994, 18239.892187500005, 17790.11531249999, 19164.774062500008, 18661.032031250004, 17778.2025, 17899.6053125, 18769.91437500001, 19204.823124999995, 18983.3778125, 18608.574843749997, 18651.0325, 18161.964531249992, 19110.873125000002, 20877.810156249994, 15166.484531249998, 15984.352500000003, 21408.26484375, 20286.275156250013, 21027.459531249995, 21660.104218749995, 20106.772656249996, 21617.928749999995, 16813.792656249996, 20525.96515625001, 22139.979531250003, 20427.334531250002, 21618.50968750001, 20812.652031250007, 19787.793125000007, 20551.32968749999, 25202.34374999998, 18733.26625, 16071.867812499997, 16663.005000000005, 16971.053750000006, 14497.245156250001, 17853.528906250005, 20237.652812500004, 18352.362499999996, 17175.138281249994, 15897.354062499991, 18109.354843749996, 16803.95625, 14898.096874999997, 14429.955156249998, 14351.899062499993, 15476.242343750002, 15465.6428125, 18744.11921875, 17358.28437500001, 16906.011250000003, 19105.687968750004, 19617.404687499995, 19941.717031249987, 19401.826875000006, 19051.32015625, 19223.540937500005, 18565.660312500004, 21751.46015625001, 21537.510937500007, 18601.0, 18538.453125, 15469.078125, 16170.25]}],\n",
              "                        {\"template\": {\"data\": {\"bar\": [{\"error_x\": {\"color\": \"#2a3f5f\"}, \"error_y\": {\"color\": \"#2a3f5f\"}, \"marker\": {\"line\": {\"color\": \"#E5ECF6\", \"width\": 0.5}}, \"type\": \"bar\"}], \"barpolar\": [{\"marker\": {\"line\": {\"color\": \"#E5ECF6\", \"width\": 0.5}}, \"type\": \"barpolar\"}], \"carpet\": [{\"aaxis\": {\"endlinecolor\": \"#2a3f5f\", \"gridcolor\": \"white\", \"linecolor\": \"white\", \"minorgridcolor\": \"white\", \"startlinecolor\": \"#2a3f5f\"}, \"baxis\": {\"endlinecolor\": \"#2a3f5f\", \"gridcolor\": \"white\", \"linecolor\": \"white\", \"minorgridcolor\": \"white\", \"startlinecolor\": \"#2a3f5f\"}, \"type\": \"carpet\"}], \"choropleth\": [{\"colorbar\": {\"outlinewidth\": 0, \"ticks\": \"\"}, \"type\": \"choropleth\"}], \"contour\": [{\"colorbar\": {\"outlinewidth\": 0, \"ticks\": \"\"}, \"colorscale\": [[0.0, \"#0d0887\"], [0.1111111111111111, \"#46039f\"], [0.2222222222222222, \"#7201a8\"], [0.3333333333333333, \"#9c179e\"], [0.4444444444444444, \"#bd3786\"], [0.5555555555555556, \"#d8576b\"], [0.6666666666666666, \"#ed7953\"], [0.7777777777777778, \"#fb9f3a\"], [0.8888888888888888, \"#fdca26\"], [1.0, \"#f0f921\"]], \"type\": \"contour\"}], \"contourcarpet\": [{\"colorbar\": {\"outlinewidth\": 0, \"ticks\": \"\"}, \"type\": \"contourcarpet\"}], \"heatmap\": [{\"colorbar\": {\"outlinewidth\": 0, \"ticks\": \"\"}, \"colorscale\": [[0.0, \"#0d0887\"], [0.1111111111111111, \"#46039f\"], [0.2222222222222222, \"#7201a8\"], [0.3333333333333333, \"#9c179e\"], [0.4444444444444444, \"#bd3786\"], [0.5555555555555556, \"#d8576b\"], [0.6666666666666666, \"#ed7953\"], [0.7777777777777778, \"#fb9f3a\"], [0.8888888888888888, \"#fdca26\"], [1.0, \"#f0f921\"]], \"type\": \"heatmap\"}], \"heatmapgl\": [{\"colorbar\": {\"outlinewidth\": 0, \"ticks\": \"\"}, \"colorscale\": [[0.0, \"#0d0887\"], [0.1111111111111111, \"#46039f\"], [0.2222222222222222, \"#7201a8\"], [0.3333333333333333, \"#9c179e\"], [0.4444444444444444, \"#bd3786\"], [0.5555555555555556, \"#d8576b\"], [0.6666666666666666, \"#ed7953\"], [0.7777777777777778, \"#fb9f3a\"], [0.8888888888888888, \"#fdca26\"], [1.0, \"#f0f921\"]], \"type\": \"heatmapgl\"}], \"histogram\": [{\"marker\": {\"colorbar\": {\"outlinewidth\": 0, \"ticks\": \"\"}}, \"type\": \"histogram\"}], \"histogram2d\": [{\"colorbar\": {\"outlinewidth\": 0, \"ticks\": \"\"}, \"colorscale\": [[0.0, \"#0d0887\"], [0.1111111111111111, \"#46039f\"], [0.2222222222222222, \"#7201a8\"], [0.3333333333333333, \"#9c179e\"], [0.4444444444444444, \"#bd3786\"], [0.5555555555555556, \"#d8576b\"], [0.6666666666666666, \"#ed7953\"], [0.7777777777777778, \"#fb9f3a\"], [0.8888888888888888, \"#fdca26\"], [1.0, \"#f0f921\"]], \"type\": \"histogram2d\"}], \"histogram2dcontour\": [{\"colorbar\": {\"outlinewidth\": 0, \"ticks\": \"\"}, \"colorscale\": [[0.0, \"#0d0887\"], [0.1111111111111111, \"#46039f\"], [0.2222222222222222, \"#7201a8\"], [0.3333333333333333, \"#9c179e\"], [0.4444444444444444, \"#bd3786\"], [0.5555555555555556, \"#d8576b\"], [0.6666666666666666, \"#ed7953\"], [0.7777777777777778, \"#fb9f3a\"], [0.8888888888888888, \"#fdca26\"], [1.0, \"#f0f921\"]], \"type\": \"histogram2dcontour\"}], \"mesh3d\": [{\"colorbar\": {\"outlinewidth\": 0, \"ticks\": \"\"}, \"type\": \"mesh3d\"}], \"parcoords\": [{\"line\": {\"colorbar\": {\"outlinewidth\": 0, \"ticks\": \"\"}}, \"type\": \"parcoords\"}], \"pie\": [{\"automargin\": true, \"type\": \"pie\"}], \"scatter\": [{\"marker\": {\"colorbar\": {\"outlinewidth\": 0, \"ticks\": \"\"}}, \"type\": \"scatter\"}], \"scatter3d\": [{\"line\": {\"colorbar\": {\"outlinewidth\": 0, \"ticks\": \"\"}}, \"marker\": {\"colorbar\": {\"outlinewidth\": 0, \"ticks\": \"\"}}, \"type\": \"scatter3d\"}], \"scattercarpet\": [{\"marker\": {\"colorbar\": {\"outlinewidth\": 0, \"ticks\": \"\"}}, \"type\": \"scattercarpet\"}], \"scattergeo\": [{\"marker\": {\"colorbar\": {\"outlinewidth\": 0, \"ticks\": \"\"}}, \"type\": \"scattergeo\"}], \"scattergl\": [{\"marker\": {\"colorbar\": {\"outlinewidth\": 0, \"ticks\": \"\"}}, \"type\": \"scattergl\"}], \"scattermapbox\": [{\"marker\": {\"colorbar\": {\"outlinewidth\": 0, \"ticks\": \"\"}}, \"type\": \"scattermapbox\"}], \"scatterpolar\": [{\"marker\": {\"colorbar\": {\"outlinewidth\": 0, \"ticks\": \"\"}}, \"type\": \"scatterpolar\"}], \"scatterpolargl\": [{\"marker\": {\"colorbar\": {\"outlinewidth\": 0, \"ticks\": \"\"}}, \"type\": \"scatterpolargl\"}], \"scatterternary\": [{\"marker\": {\"colorbar\": {\"outlinewidth\": 0, \"ticks\": \"\"}}, \"type\": \"scatterternary\"}], \"surface\": [{\"colorbar\": {\"outlinewidth\": 0, \"ticks\": \"\"}, \"colorscale\": [[0.0, \"#0d0887\"], [0.1111111111111111, \"#46039f\"], [0.2222222222222222, \"#7201a8\"], [0.3333333333333333, \"#9c179e\"], [0.4444444444444444, \"#bd3786\"], [0.5555555555555556, \"#d8576b\"], [0.6666666666666666, \"#ed7953\"], [0.7777777777777778, \"#fb9f3a\"], [0.8888888888888888, \"#fdca26\"], [1.0, \"#f0f921\"]], \"type\": \"surface\"}], \"table\": [{\"cells\": {\"fill\": {\"color\": \"#EBF0F8\"}, \"line\": {\"color\": \"white\"}}, \"header\": {\"fill\": {\"color\": \"#C8D4E3\"}, \"line\": {\"color\": \"white\"}}, \"type\": \"table\"}]}, \"layout\": {\"annotationdefaults\": {\"arrowcolor\": \"#2a3f5f\", \"arrowhead\": 0, \"arrowwidth\": 1}, \"coloraxis\": {\"colorbar\": {\"outlinewidth\": 0, \"ticks\": \"\"}}, \"colorscale\": {\"diverging\": [[0, \"#8e0152\"], [0.1, \"#c51b7d\"], [0.2, \"#de77ae\"], [0.3, \"#f1b6da\"], [0.4, \"#fde0ef\"], [0.5, \"#f7f7f7\"], [0.6, \"#e6f5d0\"], [0.7, \"#b8e186\"], [0.8, \"#7fbc41\"], [0.9, \"#4d9221\"], [1, \"#276419\"]], \"sequential\": [[0.0, \"#0d0887\"], [0.1111111111111111, \"#46039f\"], [0.2222222222222222, \"#7201a8\"], [0.3333333333333333, \"#9c179e\"], [0.4444444444444444, \"#bd3786\"], [0.5555555555555556, \"#d8576b\"], [0.6666666666666666, \"#ed7953\"], [0.7777777777777778, \"#fb9f3a\"], [0.8888888888888888, \"#fdca26\"], [1.0, \"#f0f921\"]], \"sequentialminus\": [[0.0, \"#0d0887\"], [0.1111111111111111, \"#46039f\"], [0.2222222222222222, \"#7201a8\"], [0.3333333333333333, \"#9c179e\"], [0.4444444444444444, \"#bd3786\"], [0.5555555555555556, \"#d8576b\"], [0.6666666666666666, \"#ed7953\"], [0.7777777777777778, \"#fb9f3a\"], [0.8888888888888888, \"#fdca26\"], [1.0, \"#f0f921\"]]}, \"colorway\": [\"#636efa\", \"#EF553B\", \"#00cc96\", \"#ab63fa\", \"#FFA15A\", \"#19d3f3\", \"#FF6692\", \"#B6E880\", \"#FF97FF\", \"#FECB52\"], \"font\": {\"color\": \"#2a3f5f\"}, \"geo\": {\"bgcolor\": \"white\", \"lakecolor\": \"white\", \"landcolor\": \"#E5ECF6\", \"showlakes\": true, \"showland\": true, \"subunitcolor\": \"white\"}, \"hoverlabel\": {\"align\": \"left\"}, \"hovermode\": \"closest\", \"mapbox\": {\"style\": \"light\"}, \"paper_bgcolor\": \"white\", \"plot_bgcolor\": \"#E5ECF6\", \"polar\": {\"angularaxis\": {\"gridcolor\": \"white\", \"linecolor\": \"white\", \"ticks\": \"\"}, \"bgcolor\": \"#E5ECF6\", \"radialaxis\": {\"gridcolor\": \"white\", \"linecolor\": \"white\", \"ticks\": \"\"}}, \"scene\": {\"xaxis\": {\"backgroundcolor\": \"#E5ECF6\", \"gridcolor\": \"white\", \"gridwidth\": 2, \"linecolor\": \"white\", \"showbackground\": true, \"ticks\": \"\", \"zerolinecolor\": \"white\"}, \"yaxis\": {\"backgroundcolor\": \"#E5ECF6\", \"gridcolor\": \"white\", \"gridwidth\": 2, \"linecolor\": \"white\", \"showbackground\": true, \"ticks\": \"\", \"zerolinecolor\": \"white\"}, \"zaxis\": {\"backgroundcolor\": \"#E5ECF6\", \"gridcolor\": \"white\", \"gridwidth\": 2, \"linecolor\": \"white\", \"showbackground\": true, \"ticks\": \"\", \"zerolinecolor\": \"white\"}}, \"shapedefaults\": {\"line\": {\"color\": \"#2a3f5f\"}}, \"ternary\": {\"aaxis\": {\"gridcolor\": \"white\", \"linecolor\": \"white\", \"ticks\": \"\"}, \"baxis\": {\"gridcolor\": \"white\", \"linecolor\": \"white\", \"ticks\": \"\"}, \"bgcolor\": \"#E5ECF6\", \"caxis\": {\"gridcolor\": \"white\", \"linecolor\": \"white\", \"ticks\": \"\"}}, \"title\": {\"x\": 0.05}, \"xaxis\": {\"automargin\": true, \"gridcolor\": \"white\", \"linecolor\": \"white\", \"ticks\": \"\", \"title\": {\"standoff\": 15}, \"zerolinecolor\": \"white\", \"zerolinewidth\": 2}, \"yaxis\": {\"automargin\": true, \"gridcolor\": \"white\", \"linecolor\": \"white\", \"ticks\": \"\", \"title\": {\"standoff\": 15}, \"zerolinecolor\": \"white\", \"zerolinewidth\": 2}}}, \"title\": {\"text\": \"Time Series Plot for Mean Daily Volume\"}, \"xaxis\": {\"title\": {\"text\": \"Date\"}}, \"yaxis\": {\"title\": {\"text\": \"Volume\"}}},\n",
              "                        {\"responsive\": true}\n",
              "                    ).then(function(){\n",
              "                            \n",
              "var gd = document.getElementById('86b9c461-de0c-4833-bd91-6b790951d0dc');\n",
              "var x = new MutationObserver(function (mutations, observer) {{\n",
              "        var display = window.getComputedStyle(gd).display;\n",
              "        if (!display || display === 'none') {{\n",
              "            console.log([gd, 'removed!']);\n",
              "            Plotly.purge(gd);\n",
              "            observer.disconnect();\n",
              "        }}\n",
              "}});\n",
              "\n",
              "// Listen for the removal of the full notebook cells\n",
              "var notebookContainer = gd.closest('#notebook-container');\n",
              "if (notebookContainer) {{\n",
              "    x.observe(notebookContainer, {childList: true});\n",
              "}}\n",
              "\n",
              "// Listen for the clearing of the current output cell\n",
              "var outputEl = gd.closest('.output');\n",
              "if (outputEl) {{\n",
              "    x.observe(outputEl, {childList: true});\n",
              "}}\n",
              "\n",
              "                        })\n",
              "                };\n",
              "                });\n",
              "            </script>\n",
              "        </div>"
            ]
          },
          "metadata": {
            "tags": []
          }
        }
      ]
    },
    {
      "cell_type": "markdown",
      "metadata": {
        "id": "dw98LTBqLdcn",
        "colab_type": "text"
      },
      "source": [
        " The conventional avocado volume is more than 10 times higher than that of organic one. We want to focus on predicting the price of the conventional avocado. "
      ]
    },
    {
      "cell_type": "markdown",
      "metadata": {
        "id": "PKrcIFZ3Ldco",
        "colab_type": "text"
      },
      "source": [
        "# Export data"
      ]
    },
    {
      "cell_type": "code",
      "metadata": {
        "id": "98CAKZ1uLdco",
        "colab_type": "code",
        "colab": {}
      },
      "source": [
        "#Above are the general data cleansing and feature creation. Let's save the dataframe\n",
        "\n",
        "df.to_csv('/Users/liujing/Desktop/Coursera/Captone/AfterCleansingFeatureCreation_AvocadoPriceUSA20152019.csv')\n",
        "conventional.to_csv('/Users/liujing/Desktop/Coursera/Captone/conventional.csv')\n",
        "organic.to_csv('/Users/liujing/Desktop/Coursera/Captone/organic.csv')\n",
        "\n"
      ],
      "execution_count": 0,
      "outputs": []
    },
    {
      "cell_type": "code",
      "metadata": {
        "id": "bqb-Y_r7Ldcr",
        "colab_type": "code",
        "colab": {},
        "outputId": "d092cb57-e403-4bae-8053-05fbd2ea25c8"
      },
      "source": [
        "df = pd.read_csv('../Captone/AfterCleansingFeatureCreation_AvocadoPriceUSA20152019.csv',index_col=0)\n",
        "df.head()"
      ],
      "execution_count": 0,
      "outputs": [
        {
          "output_type": "execute_result",
          "data": {
            "text/html": [
              "<div>\n",
              "<style scoped>\n",
              "    .dataframe tbody tr th:only-of-type {\n",
              "        vertical-align: middle;\n",
              "    }\n",
              "\n",
              "    .dataframe tbody tr th {\n",
              "        vertical-align: top;\n",
              "    }\n",
              "\n",
              "    .dataframe thead th {\n",
              "        text-align: right;\n",
              "    }\n",
              "</style>\n",
              "<table border=\"1\" class=\"dataframe\">\n",
              "  <thead>\n",
              "    <tr style=\"text-align: right;\">\n",
              "      <th></th>\n",
              "      <th>Date</th>\n",
              "      <th>AveragePrice</th>\n",
              "      <th>Total Volume</th>\n",
              "      <th>4046</th>\n",
              "      <th>4225</th>\n",
              "      <th>4770</th>\n",
              "      <th>Total Bags</th>\n",
              "      <th>Small Bags</th>\n",
              "      <th>Large Bags</th>\n",
              "      <th>XLarge Bags</th>\n",
              "      <th>type</th>\n",
              "      <th>year</th>\n",
              "      <th>region</th>\n",
              "      <th>Month</th>\n",
              "      <th>Region</th>\n",
              "      <th>name</th>\n",
              "      <th>pop</th>\n",
              "      <th>lat</th>\n",
              "      <th>lon</th>\n",
              "    </tr>\n",
              "  </thead>\n",
              "  <tbody>\n",
              "    <tr>\n",
              "      <th>0</th>\n",
              "      <td>2015-01-04</td>\n",
              "      <td>1.22</td>\n",
              "      <td>40873.28</td>\n",
              "      <td>2819.50</td>\n",
              "      <td>28287.42</td>\n",
              "      <td>49.90</td>\n",
              "      <td>9716.46</td>\n",
              "      <td>9186.93</td>\n",
              "      <td>529.53</td>\n",
              "      <td>0.0</td>\n",
              "      <td>conventional</td>\n",
              "      <td>2015</td>\n",
              "      <td>Albany</td>\n",
              "      <td>1</td>\n",
              "      <td>Albany</td>\n",
              "      <td>Albany</td>\n",
              "      <td>98012.0</td>\n",
              "      <td>42.651167</td>\n",
              "      <td>-73.754968</td>\n",
              "    </tr>\n",
              "    <tr>\n",
              "      <th>1</th>\n",
              "      <td>2015-01-04</td>\n",
              "      <td>1.22</td>\n",
              "      <td>40873.28</td>\n",
              "      <td>2819.50</td>\n",
              "      <td>28287.42</td>\n",
              "      <td>49.90</td>\n",
              "      <td>9716.46</td>\n",
              "      <td>9186.93</td>\n",
              "      <td>529.53</td>\n",
              "      <td>0.0</td>\n",
              "      <td>conventional</td>\n",
              "      <td>2015</td>\n",
              "      <td>Albany</td>\n",
              "      <td>1</td>\n",
              "      <td>Albany</td>\n",
              "      <td>Albany</td>\n",
              "      <td>77746.0</td>\n",
              "      <td>42.651167</td>\n",
              "      <td>-73.754968</td>\n",
              "    </tr>\n",
              "    <tr>\n",
              "      <th>2</th>\n",
              "      <td>2015-01-04</td>\n",
              "      <td>1.22</td>\n",
              "      <td>40873.28</td>\n",
              "      <td>2819.50</td>\n",
              "      <td>28287.42</td>\n",
              "      <td>49.90</td>\n",
              "      <td>9716.46</td>\n",
              "      <td>9186.93</td>\n",
              "      <td>529.53</td>\n",
              "      <td>0.0</td>\n",
              "      <td>conventional</td>\n",
              "      <td>2015</td>\n",
              "      <td>Albany</td>\n",
              "      <td>1</td>\n",
              "      <td>Albany</td>\n",
              "      <td>Albany</td>\n",
              "      <td>51053.0</td>\n",
              "      <td>42.651167</td>\n",
              "      <td>-73.754968</td>\n",
              "    </tr>\n",
              "    <tr>\n",
              "      <th>3</th>\n",
              "      <td>2015-01-04</td>\n",
              "      <td>1.22</td>\n",
              "      <td>40873.28</td>\n",
              "      <td>2819.50</td>\n",
              "      <td>28287.42</td>\n",
              "      <td>49.90</td>\n",
              "      <td>9716.46</td>\n",
              "      <td>9186.93</td>\n",
              "      <td>529.53</td>\n",
              "      <td>0.0</td>\n",
              "      <td>conventional</td>\n",
              "      <td>2015</td>\n",
              "      <td>Albany</td>\n",
              "      <td>1</td>\n",
              "      <td>Albany</td>\n",
              "      <td>Albany</td>\n",
              "      <td>18767.0</td>\n",
              "      <td>42.651167</td>\n",
              "      <td>-73.754968</td>\n",
              "    </tr>\n",
              "    <tr>\n",
              "      <th>4</th>\n",
              "      <td>2015-01-11</td>\n",
              "      <td>1.24</td>\n",
              "      <td>41195.08</td>\n",
              "      <td>1002.85</td>\n",
              "      <td>31640.34</td>\n",
              "      <td>127.12</td>\n",
              "      <td>8424.77</td>\n",
              "      <td>8036.04</td>\n",
              "      <td>388.73</td>\n",
              "      <td>0.0</td>\n",
              "      <td>conventional</td>\n",
              "      <td>2015</td>\n",
              "      <td>Albany</td>\n",
              "      <td>1</td>\n",
              "      <td>Albany</td>\n",
              "      <td>Albany</td>\n",
              "      <td>98012.0</td>\n",
              "      <td>42.651167</td>\n",
              "      <td>-73.754968</td>\n",
              "    </tr>\n",
              "  </tbody>\n",
              "</table>\n",
              "</div>"
            ],
            "text/plain": [
              "         Date  AveragePrice  Total Volume     4046      4225    4770  \\\n",
              "0  2015-01-04          1.22      40873.28  2819.50  28287.42   49.90   \n",
              "1  2015-01-04          1.22      40873.28  2819.50  28287.42   49.90   \n",
              "2  2015-01-04          1.22      40873.28  2819.50  28287.42   49.90   \n",
              "3  2015-01-04          1.22      40873.28  2819.50  28287.42   49.90   \n",
              "4  2015-01-11          1.24      41195.08  1002.85  31640.34  127.12   \n",
              "\n",
              "   Total Bags  Small Bags  Large Bags  XLarge Bags          type  year  \\\n",
              "0     9716.46     9186.93      529.53          0.0  conventional  2015   \n",
              "1     9716.46     9186.93      529.53          0.0  conventional  2015   \n",
              "2     9716.46     9186.93      529.53          0.0  conventional  2015   \n",
              "3     9716.46     9186.93      529.53          0.0  conventional  2015   \n",
              "4     8424.77     8036.04      388.73          0.0  conventional  2015   \n",
              "\n",
              "   region  Month  Region     name      pop        lat        lon  \n",
              "0  Albany      1  Albany  Albany   98012.0  42.651167 -73.754968  \n",
              "1  Albany      1  Albany  Albany   77746.0  42.651167 -73.754968  \n",
              "2  Albany      1  Albany  Albany   51053.0  42.651167 -73.754968  \n",
              "3  Albany      1  Albany  Albany   18767.0  42.651167 -73.754968  \n",
              "4  Albany      1  Albany  Albany   98012.0  42.651167 -73.754968  "
            ]
          },
          "metadata": {
            "tags": []
          },
          "execution_count": 129
        }
      ]
    },
    {
      "cell_type": "code",
      "metadata": {
        "id": "AliATGlxLdct",
        "colab_type": "code",
        "colab": {},
        "outputId": "2c54ac14-bd4d-47d3-a12c-6e99671be8d5"
      },
      "source": [
        "df.columns"
      ],
      "execution_count": 0,
      "outputs": [
        {
          "output_type": "execute_result",
          "data": {
            "text/plain": [
              "Index(['Date', 'AveragePrice', 'Total Volume', '4046', '4225', '4770',\n",
              "       'Total Bags', 'Small Bags', 'Large Bags', 'XLarge Bags', 'type', 'year',\n",
              "       'region', 'Month', 'Region', 'name', 'pop', 'lat', 'lon'],\n",
              "      dtype='object')"
            ]
          },
          "metadata": {
            "tags": []
          },
          "execution_count": 130
        }
      ]
    },
    {
      "cell_type": "code",
      "metadata": {
        "id": "5zVUBZnILdcx",
        "colab_type": "code",
        "colab": {}
      },
      "source": [
        ""
      ],
      "execution_count": 0,
      "outputs": []
    }
  ]
}