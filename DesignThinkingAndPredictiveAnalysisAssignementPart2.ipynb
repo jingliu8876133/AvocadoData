{
 "cells": [
  {
   "cell_type": "markdown",
   "metadata": {
    "colab_type": "text",
    "id": "S8-JA3GHPDYJ"
   },
   "source": [
    "# Topic: Time Series Analysis of Avocado Price in the US from 2015 to 2019\n",
    "\n",
    "\n",
    "## Goal1: Predict the price of the avocado (Autoregression)\n",
    "## Goal 2: Classify the trend of the avocado price time series (KNN)\n",
    "\n",
    "\n",
    "    \n",
    "##### Input data：AfterCleansingFeatureCreation_AvocadoPriceUSA20152019.csv#####\n",
    "    After the Part 1 of data cleansing and some general feature creation, I created a dataset called AfterCleansingFeatureCreation_AvocadoPriceUSA20152019.csv b\n",
    "    The original data I used in this project is from Kaggle page (https://www.kaggle.com/alanluo418/avocado-prices-20152019). All the data was obtained from the Hass Avocado Board website in January of 2020.\n",
    "    The above page refers to an earlier Kaggle page about Avocado price (https://www.kaggle.com/neuromusic/avocado-prices).\n",
    "\n",
    "\n",
    "\n"
   ]
  },
  {
   "cell_type": "markdown",
   "metadata": {
    "colab_type": "text",
    "id": "7JoCHj-6xxDH"
   },
   "source": [
    "# Preprocessing data"
   ]
  },
  {
   "cell_type": "code",
   "execution_count": 2,
   "metadata": {
    "colab": {
     "base_uri": "https://localhost:8080/",
     "height": 71
    },
    "colab_type": "code",
    "executionInfo": {
     "elapsed": 2904,
     "status": "ok",
     "timestamp": 1589183634488,
     "user": {
      "displayName": "Jing Liu",
      "photoUrl": "https://lh3.googleusercontent.com/a-/AOh14GhyTpMzsrKe3AM61tWhoZJTwUCAu1SRYrLmTi-j=s64",
      "userId": "02177799334043281395"
     },
     "user_tz": -120
    },
    "id": "RU-UYeEIPDYQ",
    "outputId": "7003bbf3-38fd-498f-e083-98201890dc03"
   },
   "outputs": [],
   "source": [
    "import numpy as np\n",
    "import pandas as pd\n",
    "import seaborn as sns\n",
    "sns.set_style('white')\n",
    "import matplotlib.pyplot as plt\n",
    "import tensorflow as tf\n",
    "import numpy as np\n",
    "from numpy import concatenate\n",
    "from matplotlib import pyplot\n",
    "from pandas import read_csv\n",
    "from pandas import DataFrame\n",
    "from pandas import concat\n",
    "import sklearn\n",
    "from sklearn.preprocessing import MinMaxScaler\n",
    "from sklearn.metrics import mean_squared_error\n",
    "from tensorflow.keras.models import Sequential\n",
    "from tensorflow.keras.layers import Dense, Dropout\n",
    "from tensorflow.keras.layers import LSTM\n",
    "from tensorflow.keras.layers import Bidirectional\n",
    "from tensorflow.keras.callbacks import Callback\n",
    "from tensorflow.keras.models import Sequential\n",
    "from tensorflow.keras.layers import LSTM, Dense, Activation\n",
    "import pickle\n",
    "import matplotlib.pyplot as plt\n",
    "from mpl_toolkits.mplot3d import Axes3D\n",
    "import sys\n",
    "from queue import Queue\n",
    "import pandas as pd\n",
    "import json\n",
    "%matplotlib inline"
   ]
  },
  {
   "cell_type": "code",
   "execution_count": 3,
   "metadata": {
    "colab": {
     "base_uri": "https://localhost:8080/",
     "height": 326
    },
    "colab_type": "code",
    "executionInfo": {
     "elapsed": 1739,
     "status": "ok",
     "timestamp": 1589183643529,
     "user": {
      "displayName": "Jing Liu",
      "photoUrl": "https://lh3.googleusercontent.com/a-/AOh14GhyTpMzsrKe3AM61tWhoZJTwUCAu1SRYrLmTi-j=s64",
      "userId": "02177799334043281395"
     },
     "user_tz": -120
    },
    "id": "-ejHmf8suEqd",
    "outputId": "1c999f5a-d890-4d3c-caff-a0cc39121618"
   },
   "outputs": [
    {
     "data": {
      "text/html": [
       "<div>\n",
       "<style scoped>\n",
       "    .dataframe tbody tr th:only-of-type {\n",
       "        vertical-align: middle;\n",
       "    }\n",
       "\n",
       "    .dataframe tbody tr th {\n",
       "        vertical-align: top;\n",
       "    }\n",
       "\n",
       "    .dataframe thead th {\n",
       "        text-align: right;\n",
       "    }\n",
       "</style>\n",
       "<table border=\"1\" class=\"dataframe\">\n",
       "  <thead>\n",
       "    <tr style=\"text-align: right;\">\n",
       "      <th></th>\n",
       "      <th>AveragePrice</th>\n",
       "      <th>Total Volume</th>\n",
       "      <th>4046</th>\n",
       "      <th>4225</th>\n",
       "      <th>4770</th>\n",
       "      <th>Total Bags</th>\n",
       "      <th>Small Bags</th>\n",
       "      <th>Large Bags</th>\n",
       "      <th>XLarge Bags</th>\n",
       "      <th>type</th>\n",
       "      <th>year</th>\n",
       "      <th>Month</th>\n",
       "      <th>Region</th>\n",
       "      <th>lat</th>\n",
       "      <th>lon</th>\n",
       "      <th>pop</th>\n",
       "    </tr>\n",
       "    <tr>\n",
       "      <th>Date</th>\n",
       "      <th></th>\n",
       "      <th></th>\n",
       "      <th></th>\n",
       "      <th></th>\n",
       "      <th></th>\n",
       "      <th></th>\n",
       "      <th></th>\n",
       "      <th></th>\n",
       "      <th></th>\n",
       "      <th></th>\n",
       "      <th></th>\n",
       "      <th></th>\n",
       "      <th></th>\n",
       "      <th></th>\n",
       "      <th></th>\n",
       "      <th></th>\n",
       "    </tr>\n",
       "  </thead>\n",
       "  <tbody>\n",
       "    <tr>\n",
       "      <th>2015-01-04</th>\n",
       "      <td>1.22</td>\n",
       "      <td>40873.28</td>\n",
       "      <td>2819.50</td>\n",
       "      <td>28287.42</td>\n",
       "      <td>49.90</td>\n",
       "      <td>9716.46</td>\n",
       "      <td>9186.93</td>\n",
       "      <td>529.53</td>\n",
       "      <td>0.0</td>\n",
       "      <td>conventional</td>\n",
       "      <td>2015</td>\n",
       "      <td>1</td>\n",
       "      <td>Albany</td>\n",
       "      <td>42.651167</td>\n",
       "      <td>-73.754968</td>\n",
       "      <td>61394.5</td>\n",
       "    </tr>\n",
       "    <tr>\n",
       "      <th>2015-01-11</th>\n",
       "      <td>1.24</td>\n",
       "      <td>41195.08</td>\n",
       "      <td>1002.85</td>\n",
       "      <td>31640.34</td>\n",
       "      <td>127.12</td>\n",
       "      <td>8424.77</td>\n",
       "      <td>8036.04</td>\n",
       "      <td>388.73</td>\n",
       "      <td>0.0</td>\n",
       "      <td>conventional</td>\n",
       "      <td>2015</td>\n",
       "      <td>1</td>\n",
       "      <td>Albany</td>\n",
       "      <td>42.651167</td>\n",
       "      <td>-73.754968</td>\n",
       "      <td>61394.5</td>\n",
       "    </tr>\n",
       "    <tr>\n",
       "      <th>2015-01-18</th>\n",
       "      <td>1.17</td>\n",
       "      <td>44511.28</td>\n",
       "      <td>914.14</td>\n",
       "      <td>31540.32</td>\n",
       "      <td>135.77</td>\n",
       "      <td>11921.05</td>\n",
       "      <td>11651.09</td>\n",
       "      <td>269.96</td>\n",
       "      <td>0.0</td>\n",
       "      <td>conventional</td>\n",
       "      <td>2015</td>\n",
       "      <td>1</td>\n",
       "      <td>Albany</td>\n",
       "      <td>42.651167</td>\n",
       "      <td>-73.754968</td>\n",
       "      <td>61394.5</td>\n",
       "    </tr>\n",
       "    <tr>\n",
       "      <th>2015-01-25</th>\n",
       "      <td>1.06</td>\n",
       "      <td>45147.50</td>\n",
       "      <td>941.38</td>\n",
       "      <td>33196.16</td>\n",
       "      <td>164.14</td>\n",
       "      <td>10845.82</td>\n",
       "      <td>10103.35</td>\n",
       "      <td>742.47</td>\n",
       "      <td>0.0</td>\n",
       "      <td>conventional</td>\n",
       "      <td>2015</td>\n",
       "      <td>1</td>\n",
       "      <td>Albany</td>\n",
       "      <td>42.651167</td>\n",
       "      <td>-73.754968</td>\n",
       "      <td>61394.5</td>\n",
       "    </tr>\n",
       "    <tr>\n",
       "      <th>2015-02-01</th>\n",
       "      <td>0.99</td>\n",
       "      <td>70873.60</td>\n",
       "      <td>1353.90</td>\n",
       "      <td>60017.20</td>\n",
       "      <td>179.32</td>\n",
       "      <td>9323.18</td>\n",
       "      <td>9170.82</td>\n",
       "      <td>152.36</td>\n",
       "      <td>0.0</td>\n",
       "      <td>conventional</td>\n",
       "      <td>2015</td>\n",
       "      <td>2</td>\n",
       "      <td>Albany</td>\n",
       "      <td>42.651167</td>\n",
       "      <td>-73.754968</td>\n",
       "      <td>61394.5</td>\n",
       "    </tr>\n",
       "    <tr>\n",
       "      <th>2015-02-08</th>\n",
       "      <td>0.99</td>\n",
       "      <td>51253.97</td>\n",
       "      <td>1357.37</td>\n",
       "      <td>39111.81</td>\n",
       "      <td>163.25</td>\n",
       "      <td>10621.54</td>\n",
       "      <td>10113.10</td>\n",
       "      <td>508.44</td>\n",
       "      <td>0.0</td>\n",
       "      <td>conventional</td>\n",
       "      <td>2015</td>\n",
       "      <td>2</td>\n",
       "      <td>Albany</td>\n",
       "      <td>42.651167</td>\n",
       "      <td>-73.754968</td>\n",
       "      <td>61394.5</td>\n",
       "    </tr>\n",
       "    <tr>\n",
       "      <th>2015-02-15</th>\n",
       "      <td>1.06</td>\n",
       "      <td>41567.62</td>\n",
       "      <td>986.66</td>\n",
       "      <td>30045.51</td>\n",
       "      <td>222.42</td>\n",
       "      <td>10313.03</td>\n",
       "      <td>9979.87</td>\n",
       "      <td>333.16</td>\n",
       "      <td>0.0</td>\n",
       "      <td>conventional</td>\n",
       "      <td>2015</td>\n",
       "      <td>2</td>\n",
       "      <td>Albany</td>\n",
       "      <td>42.651167</td>\n",
       "      <td>-73.754968</td>\n",
       "      <td>61394.5</td>\n",
       "    </tr>\n",
       "    <tr>\n",
       "      <th>2015-02-22</th>\n",
       "      <td>1.07</td>\n",
       "      <td>45675.05</td>\n",
       "      <td>1088.38</td>\n",
       "      <td>35056.13</td>\n",
       "      <td>151.00</td>\n",
       "      <td>9379.54</td>\n",
       "      <td>9000.16</td>\n",
       "      <td>379.38</td>\n",
       "      <td>0.0</td>\n",
       "      <td>conventional</td>\n",
       "      <td>2015</td>\n",
       "      <td>2</td>\n",
       "      <td>Albany</td>\n",
       "      <td>42.651167</td>\n",
       "      <td>-73.754968</td>\n",
       "      <td>61394.5</td>\n",
       "    </tr>\n",
       "    <tr>\n",
       "      <th>2015-03-01</th>\n",
       "      <td>0.99</td>\n",
       "      <td>55595.74</td>\n",
       "      <td>629.46</td>\n",
       "      <td>45633.34</td>\n",
       "      <td>181.49</td>\n",
       "      <td>9151.45</td>\n",
       "      <td>8986.06</td>\n",
       "      <td>165.39</td>\n",
       "      <td>0.0</td>\n",
       "      <td>conventional</td>\n",
       "      <td>2015</td>\n",
       "      <td>3</td>\n",
       "      <td>Albany</td>\n",
       "      <td>42.651167</td>\n",
       "      <td>-73.754968</td>\n",
       "      <td>61394.5</td>\n",
       "    </tr>\n",
       "    <tr>\n",
       "      <th>2015-03-08</th>\n",
       "      <td>1.07</td>\n",
       "      <td>40507.36</td>\n",
       "      <td>795.68</td>\n",
       "      <td>30370.64</td>\n",
       "      <td>159.05</td>\n",
       "      <td>9181.99</td>\n",
       "      <td>8827.55</td>\n",
       "      <td>354.44</td>\n",
       "      <td>0.0</td>\n",
       "      <td>conventional</td>\n",
       "      <td>2015</td>\n",
       "      <td>3</td>\n",
       "      <td>Albany</td>\n",
       "      <td>42.651167</td>\n",
       "      <td>-73.754968</td>\n",
       "      <td>61394.5</td>\n",
       "    </tr>\n",
       "  </tbody>\n",
       "</table>\n",
       "</div>"
      ],
      "text/plain": [
       "            AveragePrice  Total Volume     4046      4225    4770  Total Bags  \\\n",
       "Date                                                                            \n",
       "2015-01-04          1.22      40873.28  2819.50  28287.42   49.90     9716.46   \n",
       "2015-01-11          1.24      41195.08  1002.85  31640.34  127.12     8424.77   \n",
       "2015-01-18          1.17      44511.28   914.14  31540.32  135.77    11921.05   \n",
       "2015-01-25          1.06      45147.50   941.38  33196.16  164.14    10845.82   \n",
       "2015-02-01          0.99      70873.60  1353.90  60017.20  179.32     9323.18   \n",
       "2015-02-08          0.99      51253.97  1357.37  39111.81  163.25    10621.54   \n",
       "2015-02-15          1.06      41567.62   986.66  30045.51  222.42    10313.03   \n",
       "2015-02-22          1.07      45675.05  1088.38  35056.13  151.00     9379.54   \n",
       "2015-03-01          0.99      55595.74   629.46  45633.34  181.49     9151.45   \n",
       "2015-03-08          1.07      40507.36   795.68  30370.64  159.05     9181.99   \n",
       "\n",
       "            Small Bags  Large Bags  XLarge Bags          type  year  Month  \\\n",
       "Date                                                                         \n",
       "2015-01-04     9186.93      529.53          0.0  conventional  2015      1   \n",
       "2015-01-11     8036.04      388.73          0.0  conventional  2015      1   \n",
       "2015-01-18    11651.09      269.96          0.0  conventional  2015      1   \n",
       "2015-01-25    10103.35      742.47          0.0  conventional  2015      1   \n",
       "2015-02-01     9170.82      152.36          0.0  conventional  2015      2   \n",
       "2015-02-08    10113.10      508.44          0.0  conventional  2015      2   \n",
       "2015-02-15     9979.87      333.16          0.0  conventional  2015      2   \n",
       "2015-02-22     9000.16      379.38          0.0  conventional  2015      2   \n",
       "2015-03-01     8986.06      165.39          0.0  conventional  2015      3   \n",
       "2015-03-08     8827.55      354.44          0.0  conventional  2015      3   \n",
       "\n",
       "            Region        lat        lon      pop  \n",
       "Date                                               \n",
       "2015-01-04  Albany  42.651167 -73.754968  61394.5  \n",
       "2015-01-11  Albany  42.651167 -73.754968  61394.5  \n",
       "2015-01-18  Albany  42.651167 -73.754968  61394.5  \n",
       "2015-01-25  Albany  42.651167 -73.754968  61394.5  \n",
       "2015-02-01  Albany  42.651167 -73.754968  61394.5  \n",
       "2015-02-08  Albany  42.651167 -73.754968  61394.5  \n",
       "2015-02-15  Albany  42.651167 -73.754968  61394.5  \n",
       "2015-02-22  Albany  42.651167 -73.754968  61394.5  \n",
       "2015-03-01  Albany  42.651167 -73.754968  61394.5  \n",
       "2015-03-08  Albany  42.651167 -73.754968  61394.5  "
      ]
     },
     "execution_count": 3,
     "metadata": {},
     "output_type": "execute_result"
    }
   ],
   "source": [
    "import pandas as pd\n",
    "url = 'https://raw.githubusercontent.com/jingliu8876133/AvocadoData/DesignThinkingCourse/AfterCleansingFeatureCreation_AvocadoPriceUSA20152019.csv'\n",
    "df = pd.read_csv(url,index_col=0)\n",
    "df.head(10)"
   ]
  },
  {
   "cell_type": "code",
   "execution_count": 4,
   "metadata": {
    "colab": {
     "base_uri": "https://localhost:8080/",
     "height": 337
    },
    "colab_type": "code",
    "executionInfo": {
     "elapsed": 868,
     "status": "ok",
     "timestamp": 1589183645728,
     "user": {
      "displayName": "Jing Liu",
      "photoUrl": "https://lh3.googleusercontent.com/a-/AOh14GhyTpMzsrKe3AM61tWhoZJTwUCAu1SRYrLmTi-j=s64",
      "userId": "02177799334043281395"
     },
     "user_tz": -120
    },
    "id": "jvVkGCFnPDYc",
    "outputId": "110a5fbe-3438-4305-824b-ce3bdfdfe995"
   },
   "outputs": [
    {
     "name": "stdout",
     "output_type": "stream",
     "text": [
      "<class 'pandas.core.frame.DataFrame'>\n",
      "Index: 21252 entries, 2015-01-04 to 2019-12-01\n",
      "Data columns (total 16 columns):\n",
      "AveragePrice    21252 non-null float64\n",
      "Total Volume    21252 non-null float64\n",
      "4046            21252 non-null float64\n",
      "4225            21252 non-null float64\n",
      "4770            21252 non-null float64\n",
      "Total Bags      21252 non-null float64\n",
      "Small Bags      21252 non-null float64\n",
      "Large Bags      21252 non-null float64\n",
      "XLarge Bags     21252 non-null float64\n",
      "type            21252 non-null object\n",
      "year            21252 non-null int64\n",
      "Month           21252 non-null int64\n",
      "Region          21252 non-null object\n",
      "lat             14674 non-null float64\n",
      "lon             14674 non-null float64\n",
      "pop             14674 non-null float64\n",
      "dtypes: float64(12), int64(2), object(2)\n",
      "memory usage: 2.8+ MB\n"
     ]
    }
   ],
   "source": [
    "df.info()"
   ]
  },
  {
   "cell_type": "code",
   "execution_count": 5,
   "metadata": {
    "colab": {
     "base_uri": "https://localhost:8080/",
     "height": 337
    },
    "colab_type": "code",
    "executionInfo": {
     "elapsed": 909,
     "status": "ok",
     "timestamp": 1589183773771,
     "user": {
      "displayName": "Jing Liu",
      "photoUrl": "https://lh3.googleusercontent.com/a-/AOh14GhyTpMzsrKe3AM61tWhoZJTwUCAu1SRYrLmTi-j=s64",
      "userId": "02177799334043281395"
     },
     "user_tz": -120
    },
    "id": "ptuFs1cVPDYg",
    "outputId": "f25f0c10-80ad-4cea-c267-bbde276d8d95",
    "scrolled": true
   },
   "outputs": [
    {
     "data": {
      "text/html": [
       "<div>\n",
       "<style scoped>\n",
       "    .dataframe tbody tr th:only-of-type {\n",
       "        vertical-align: middle;\n",
       "    }\n",
       "\n",
       "    .dataframe tbody tr th {\n",
       "        vertical-align: top;\n",
       "    }\n",
       "\n",
       "    .dataframe thead th {\n",
       "        text-align: right;\n",
       "    }\n",
       "</style>\n",
       "<table border=\"1\" class=\"dataframe\">\n",
       "  <thead>\n",
       "    <tr style=\"text-align: right;\">\n",
       "      <th></th>\n",
       "      <th>AveragePrice</th>\n",
       "      <th>Total Volume</th>\n",
       "      <th>4046</th>\n",
       "      <th>4225</th>\n",
       "      <th>4770</th>\n",
       "      <th>Total Bags</th>\n",
       "      <th>Small Bags</th>\n",
       "      <th>Large Bags</th>\n",
       "      <th>XLarge Bags</th>\n",
       "      <th>year</th>\n",
       "      <th>Month</th>\n",
       "      <th>lat</th>\n",
       "      <th>lon</th>\n",
       "      <th>pop</th>\n",
       "    </tr>\n",
       "    <tr>\n",
       "      <th>Date</th>\n",
       "      <th></th>\n",
       "      <th></th>\n",
       "      <th></th>\n",
       "      <th></th>\n",
       "      <th></th>\n",
       "      <th></th>\n",
       "      <th></th>\n",
       "      <th></th>\n",
       "      <th></th>\n",
       "      <th></th>\n",
       "      <th></th>\n",
       "      <th></th>\n",
       "      <th></th>\n",
       "      <th></th>\n",
       "    </tr>\n",
       "  </thead>\n",
       "  <tbody>\n",
       "    <tr>\n",
       "      <th>2015-01-04</th>\n",
       "      <td>1.590952</td>\n",
       "      <td>8973.370714</td>\n",
       "      <td>3872.599286</td>\n",
       "      <td>3292.416429</td>\n",
       "      <td>67.307143</td>\n",
       "      <td>1741.047857</td>\n",
       "      <td>1126.128095</td>\n",
       "      <td>614.919762</td>\n",
       "      <td>0.0</td>\n",
       "      <td>2015</td>\n",
       "      <td>1</td>\n",
       "      <td>38.470086</td>\n",
       "      <td>-93.085705</td>\n",
       "      <td>931920.211494</td>\n",
       "    </tr>\n",
       "    <tr>\n",
       "      <th>2015-01-11</th>\n",
       "      <td>1.631190</td>\n",
       "      <td>9970.927143</td>\n",
       "      <td>4415.711667</td>\n",
       "      <td>4020.298810</td>\n",
       "      <td>58.582381</td>\n",
       "      <td>1476.334286</td>\n",
       "      <td>1106.319286</td>\n",
       "      <td>370.015000</td>\n",
       "      <td>0.0</td>\n",
       "      <td>2015</td>\n",
       "      <td>1</td>\n",
       "      <td>38.470086</td>\n",
       "      <td>-93.085705</td>\n",
       "      <td>931920.211494</td>\n",
       "    </tr>\n",
       "    <tr>\n",
       "      <th>2015-01-18</th>\n",
       "      <td>1.650952</td>\n",
       "      <td>10376.154048</td>\n",
       "      <td>3882.991667</td>\n",
       "      <td>4813.279286</td>\n",
       "      <td>62.782857</td>\n",
       "      <td>1617.100238</td>\n",
       "      <td>1001.213571</td>\n",
       "      <td>615.886667</td>\n",
       "      <td>0.0</td>\n",
       "      <td>2015</td>\n",
       "      <td>1</td>\n",
       "      <td>38.470086</td>\n",
       "      <td>-93.085705</td>\n",
       "      <td>931920.211494</td>\n",
       "    </tr>\n",
       "    <tr>\n",
       "      <th>2015-01-25</th>\n",
       "      <td>1.681190</td>\n",
       "      <td>7816.676190</td>\n",
       "      <td>3195.160952</td>\n",
       "      <td>3058.375714</td>\n",
       "      <td>74.775952</td>\n",
       "      <td>1488.363571</td>\n",
       "      <td>963.052143</td>\n",
       "      <td>525.311429</td>\n",
       "      <td>0.0</td>\n",
       "      <td>2015</td>\n",
       "      <td>1</td>\n",
       "      <td>38.470086</td>\n",
       "      <td>-93.085705</td>\n",
       "      <td>931920.211494</td>\n",
       "    </tr>\n",
       "    <tr>\n",
       "      <th>2015-02-01</th>\n",
       "      <td>1.530952</td>\n",
       "      <td>10987.513571</td>\n",
       "      <td>4773.649762</td>\n",
       "      <td>3946.240476</td>\n",
       "      <td>90.515952</td>\n",
       "      <td>2177.107381</td>\n",
       "      <td>1525.291429</td>\n",
       "      <td>651.815952</td>\n",
       "      <td>0.0</td>\n",
       "      <td>2015</td>\n",
       "      <td>2</td>\n",
       "      <td>38.470086</td>\n",
       "      <td>-93.085705</td>\n",
       "      <td>931920.211494</td>\n",
       "    </tr>\n",
       "  </tbody>\n",
       "</table>\n",
       "</div>"
      ],
      "text/plain": [
       "            AveragePrice  Total Volume         4046         4225       4770  \\\n",
       "Date                                                                          \n",
       "2015-01-04      1.590952   8973.370714  3872.599286  3292.416429  67.307143   \n",
       "2015-01-11      1.631190   9970.927143  4415.711667  4020.298810  58.582381   \n",
       "2015-01-18      1.650952  10376.154048  3882.991667  4813.279286  62.782857   \n",
       "2015-01-25      1.681190   7816.676190  3195.160952  3058.375714  74.775952   \n",
       "2015-02-01      1.530952  10987.513571  4773.649762  3946.240476  90.515952   \n",
       "\n",
       "             Total Bags   Small Bags  Large Bags  XLarge Bags  year  Month  \\\n",
       "Date                                                                         \n",
       "2015-01-04  1741.047857  1126.128095  614.919762          0.0  2015      1   \n",
       "2015-01-11  1476.334286  1106.319286  370.015000          0.0  2015      1   \n",
       "2015-01-18  1617.100238  1001.213571  615.886667          0.0  2015      1   \n",
       "2015-01-25  1488.363571   963.052143  525.311429          0.0  2015      1   \n",
       "2015-02-01  2177.107381  1525.291429  651.815952          0.0  2015      2   \n",
       "\n",
       "                  lat        lon            pop  \n",
       "Date                                             \n",
       "2015-01-04  38.470086 -93.085705  931920.211494  \n",
       "2015-01-11  38.470086 -93.085705  931920.211494  \n",
       "2015-01-18  38.470086 -93.085705  931920.211494  \n",
       "2015-01-25  38.470086 -93.085705  931920.211494  \n",
       "2015-02-01  38.470086 -93.085705  931920.211494  "
      ]
     },
     "execution_count": 5,
     "metadata": {},
     "output_type": "execute_result"
    }
   ],
   "source": [
    "#Create conventional and organic avocado dataframes\n",
    "#These will be used to analyse the region-dependent price\n",
    "conventional = df[df.type =='conventional']\n",
    "organic = df[df.type =='organic']\n",
    "\n",
    "#Create mean conventional and organic avocado dataframes (average over all the regions)\n",
    "#These will be used to analyse the overall price\n",
    "conventional_groupByDate = conventional.groupby(conventional.index).mean()\n",
    "organic_groupByDate = organic.groupby(organic.index).mean()\n",
    "\n",
    "organic_groupByDate.head()\n",
    "\n",
    "\n"
   ]
  },
  {
   "cell_type": "code",
   "execution_count": 6,
   "metadata": {},
   "outputs": [
    {
     "data": {
      "text/html": [
       "<div>\n",
       "<style scoped>\n",
       "    .dataframe tbody tr th:only-of-type {\n",
       "        vertical-align: middle;\n",
       "    }\n",
       "\n",
       "    .dataframe tbody tr th {\n",
       "        vertical-align: top;\n",
       "    }\n",
       "\n",
       "    .dataframe thead th {\n",
       "        text-align: right;\n",
       "    }\n",
       "</style>\n",
       "<table border=\"1\" class=\"dataframe\">\n",
       "  <thead>\n",
       "    <tr style=\"text-align: right;\">\n",
       "      <th></th>\n",
       "      <th>AveragePrice</th>\n",
       "      <th>Total Volume</th>\n",
       "      <th>4046</th>\n",
       "      <th>4225</th>\n",
       "      <th>4770</th>\n",
       "      <th>Total Bags</th>\n",
       "      <th>Small Bags</th>\n",
       "      <th>Large Bags</th>\n",
       "      <th>XLarge Bags</th>\n",
       "      <th>type</th>\n",
       "      <th>year</th>\n",
       "      <th>Month</th>\n",
       "      <th>Region</th>\n",
       "      <th>lat</th>\n",
       "      <th>lon</th>\n",
       "      <th>pop</th>\n",
       "    </tr>\n",
       "    <tr>\n",
       "      <th>Date</th>\n",
       "      <th></th>\n",
       "      <th></th>\n",
       "      <th></th>\n",
       "      <th></th>\n",
       "      <th></th>\n",
       "      <th></th>\n",
       "      <th></th>\n",
       "      <th></th>\n",
       "      <th></th>\n",
       "      <th></th>\n",
       "      <th></th>\n",
       "      <th></th>\n",
       "      <th></th>\n",
       "      <th></th>\n",
       "      <th></th>\n",
       "      <th></th>\n",
       "    </tr>\n",
       "  </thead>\n",
       "  <tbody>\n",
       "    <tr>\n",
       "      <th>2015-01-04</th>\n",
       "      <td>1.22</td>\n",
       "      <td>40873.28</td>\n",
       "      <td>2819.50</td>\n",
       "      <td>28287.42</td>\n",
       "      <td>49.90</td>\n",
       "      <td>9716.46</td>\n",
       "      <td>9186.93</td>\n",
       "      <td>529.53</td>\n",
       "      <td>0.0</td>\n",
       "      <td>conventional</td>\n",
       "      <td>2015</td>\n",
       "      <td>1</td>\n",
       "      <td>Albany</td>\n",
       "      <td>42.651167</td>\n",
       "      <td>-73.754968</td>\n",
       "      <td>61394.5</td>\n",
       "    </tr>\n",
       "    <tr>\n",
       "      <th>2015-01-11</th>\n",
       "      <td>1.24</td>\n",
       "      <td>41195.08</td>\n",
       "      <td>1002.85</td>\n",
       "      <td>31640.34</td>\n",
       "      <td>127.12</td>\n",
       "      <td>8424.77</td>\n",
       "      <td>8036.04</td>\n",
       "      <td>388.73</td>\n",
       "      <td>0.0</td>\n",
       "      <td>conventional</td>\n",
       "      <td>2015</td>\n",
       "      <td>1</td>\n",
       "      <td>Albany</td>\n",
       "      <td>42.651167</td>\n",
       "      <td>-73.754968</td>\n",
       "      <td>61394.5</td>\n",
       "    </tr>\n",
       "    <tr>\n",
       "      <th>2015-01-18</th>\n",
       "      <td>1.17</td>\n",
       "      <td>44511.28</td>\n",
       "      <td>914.14</td>\n",
       "      <td>31540.32</td>\n",
       "      <td>135.77</td>\n",
       "      <td>11921.05</td>\n",
       "      <td>11651.09</td>\n",
       "      <td>269.96</td>\n",
       "      <td>0.0</td>\n",
       "      <td>conventional</td>\n",
       "      <td>2015</td>\n",
       "      <td>1</td>\n",
       "      <td>Albany</td>\n",
       "      <td>42.651167</td>\n",
       "      <td>-73.754968</td>\n",
       "      <td>61394.5</td>\n",
       "    </tr>\n",
       "    <tr>\n",
       "      <th>2015-01-25</th>\n",
       "      <td>1.06</td>\n",
       "      <td>45147.50</td>\n",
       "      <td>941.38</td>\n",
       "      <td>33196.16</td>\n",
       "      <td>164.14</td>\n",
       "      <td>10845.82</td>\n",
       "      <td>10103.35</td>\n",
       "      <td>742.47</td>\n",
       "      <td>0.0</td>\n",
       "      <td>conventional</td>\n",
       "      <td>2015</td>\n",
       "      <td>1</td>\n",
       "      <td>Albany</td>\n",
       "      <td>42.651167</td>\n",
       "      <td>-73.754968</td>\n",
       "      <td>61394.5</td>\n",
       "    </tr>\n",
       "    <tr>\n",
       "      <th>2015-02-01</th>\n",
       "      <td>0.99</td>\n",
       "      <td>70873.60</td>\n",
       "      <td>1353.90</td>\n",
       "      <td>60017.20</td>\n",
       "      <td>179.32</td>\n",
       "      <td>9323.18</td>\n",
       "      <td>9170.82</td>\n",
       "      <td>152.36</td>\n",
       "      <td>0.0</td>\n",
       "      <td>conventional</td>\n",
       "      <td>2015</td>\n",
       "      <td>2</td>\n",
       "      <td>Albany</td>\n",
       "      <td>42.651167</td>\n",
       "      <td>-73.754968</td>\n",
       "      <td>61394.5</td>\n",
       "    </tr>\n",
       "  </tbody>\n",
       "</table>\n",
       "</div>"
      ],
      "text/plain": [
       "            AveragePrice  Total Volume     4046      4225    4770  Total Bags  \\\n",
       "Date                                                                            \n",
       "2015-01-04          1.22      40873.28  2819.50  28287.42   49.90     9716.46   \n",
       "2015-01-11          1.24      41195.08  1002.85  31640.34  127.12     8424.77   \n",
       "2015-01-18          1.17      44511.28   914.14  31540.32  135.77    11921.05   \n",
       "2015-01-25          1.06      45147.50   941.38  33196.16  164.14    10845.82   \n",
       "2015-02-01          0.99      70873.60  1353.90  60017.20  179.32     9323.18   \n",
       "\n",
       "            Small Bags  Large Bags  XLarge Bags          type  year  Month  \\\n",
       "Date                                                                         \n",
       "2015-01-04     9186.93      529.53          0.0  conventional  2015      1   \n",
       "2015-01-11     8036.04      388.73          0.0  conventional  2015      1   \n",
       "2015-01-18    11651.09      269.96          0.0  conventional  2015      1   \n",
       "2015-01-25    10103.35      742.47          0.0  conventional  2015      1   \n",
       "2015-02-01     9170.82      152.36          0.0  conventional  2015      2   \n",
       "\n",
       "            Region        lat        lon      pop  \n",
       "Date                                               \n",
       "2015-01-04  Albany  42.651167 -73.754968  61394.5  \n",
       "2015-01-11  Albany  42.651167 -73.754968  61394.5  \n",
       "2015-01-18  Albany  42.651167 -73.754968  61394.5  \n",
       "2015-01-25  Albany  42.651167 -73.754968  61394.5  \n",
       "2015-02-01  Albany  42.651167 -73.754968  61394.5  "
      ]
     },
     "execution_count": 6,
     "metadata": {},
     "output_type": "execute_result"
    }
   ],
   "source": [
    "conventional.head()"
   ]
  },
  {
   "cell_type": "markdown",
   "metadata": {},
   "source": [
    "## Overall price\n",
    "The conventional avocado total volume is more than 10 times higher than that of organic one. \n",
    "So it is more interesting to focus on analyse the price of the conventional ones. "
   ]
  },
  {
   "cell_type": "code",
   "execution_count": 7,
   "metadata": {
    "colab": {
     "base_uri": "https://localhost:8080/",
     "height": 717
    },
    "colab_type": "code",
    "executionInfo": {
     "elapsed": 980,
     "status": "ok",
     "timestamp": 1589183782108,
     "user": {
      "displayName": "Jing Liu",
      "photoUrl": "https://lh3.googleusercontent.com/a-/AOh14GhyTpMzsrKe3AM61tWhoZJTwUCAu1SRYrLmTi-j=s64",
      "userId": "02177799334043281395"
     },
     "user_tz": -120
    },
    "id": "Eubuq8WhPDYk",
    "outputId": "4ee473c9-3d6b-4f95-e26f-087279e8f596",
    "scrolled": true
   },
   "outputs": [
    {
     "data": {
      "image/png": "[encoded data removed]"
     },
     "metadata": {},
     "output_type": "display_data"
    }
   ],
   "source": [
    "from plotly.subplots import make_subplots\n",
    "import plotly.graph_objects as go\n",
    "\n",
    "fig = make_subplots(rows=2, cols=1)\n",
    "\n",
    "\n",
    "fig.append_trace(go.Scatter(\n",
    "    x=conventional_groupByDate.index,y=conventional_groupByDate.AveragePrice,\n",
    "                   name='conventional',legendgroup='train',mode='lines+markers',marker=dict(\n",
    "                                 color='rgb(158,202,225)',\n",
    "                                 line=dict(\n",
    "                                 color='rgb(8,48,107)',\n",
    "                                 width=1.5)),\n",
    "                                opacity=0.8), row=1, col=1)\n",
    "\n",
    "fig.append_trace(go.Scatter(\n",
    "    x=organic_groupByDate.index,y=organic_groupByDate.AveragePrice,\n",
    "                   name='organic',legendgroup='test',mode='lines+markers',marker=dict(\n",
    "                                 color='rgb(248,146,146)',\n",
    "                                 line=dict(\n",
    "                                 color='rgb(249,52,52)',\n",
    "                                 width=1.5)),\n",
    "                                opacity=0.8), row=1, col=1)\n",
    "\n",
    "\n",
    "fig.append_trace(go.Scatter(\n",
    "    x=conventional_groupByDate.index,y=conventional_groupByDate['Total Volume'],\n",
    "                   name='conventional',showlegend=False, mode='lines+markers',marker=dict(\n",
    "                                 color='rgb(158,202,225)',\n",
    "                                 line=dict(\n",
    "                                 color='rgb(8,48,107)',\n",
    "                                 width=1.5)),\n",
    "                                opacity=0.8), row=2, col=1)\n",
    "\n",
    "fig.append_trace(go.Scatter(\n",
    "    x=organic_groupByDate.index,y=organic_groupByDate['Total Volume'],\n",
    "                   name='organic',showlegend=False, mode='lines+markers',marker=dict(\n",
    "                                 color='rgb(248,146,146)',\n",
    "                                 line=dict(\n",
    "                                 color='rgb(249,52,52)',\n",
    "                                 width=1.5)),\n",
    "                                opacity=0.8), row=2, col=1)\n",
    "\n",
    "# Update xaxis properties\n",
    "fig.update_xaxes(title_text=\"Date\", row=1, col=1)\n",
    "fig.update_xaxes(title_text=\"Date\", row=2, col=1)\n",
    "# Update yaxis properties\n",
    "fig.update_yaxes(title_text=\"Average Price\", row=1, col=1)\n",
    "fig.update_yaxes(title_text=\"Total Volume\",  row=2, col=1)\n",
    "\n",
    "fig.update_layout(height=700, width=1000, title_text=\"Overview of the Average Price and Total Volume of conventional and organic avocados\"\n",
    "                 )\n",
    "# iplot(fig) #Makes it interactive in the notebook.\n",
    "fig.show('png')#To show in output pdf.\n",
    "    \n",
    "    "
   ]
  },
  {
   "cell_type": "markdown",
   "metadata": {},
   "source": [
    "# Model deployment"
   ]
  },
  {
   "cell_type": "markdown",
   "metadata": {},
   "source": [
    "## Applying autoregression to the overall price for conventional avocado"
   ]
  },
  {
   "cell_type": "code",
   "execution_count": 8,
   "metadata": {
    "colab": {
     "base_uri": "https://localhost:8080/",
     "height": 357
    },
    "colab_type": "code",
    "executionInfo": {
     "elapsed": 1311,
     "status": "ok",
     "timestamp": 1589186083617,
     "user": {
      "displayName": "Jing Liu",
      "photoUrl": "https://lh3.googleusercontent.com/a-/AOh14GhyTpMzsrKe3AM61tWhoZJTwUCAu1SRYrLmTi-j=s64",
      "userId": "02177799334043281395"
     },
     "user_tz": -120
    },
    "id": "lql3Az2rhU6E",
    "outputId": "635d1135-15be-4587-a1ba-c654cb5a42eb"
   },
   "outputs": [
    {
     "data": {
      "text/html": [
       "<div>\n",
       "<style scoped>\n",
       "    .dataframe tbody tr th:only-of-type {\n",
       "        vertical-align: middle;\n",
       "    }\n",
       "\n",
       "    .dataframe tbody tr th {\n",
       "        vertical-align: top;\n",
       "    }\n",
       "\n",
       "    .dataframe thead th {\n",
       "        text-align: right;\n",
       "    }\n",
       "</style>\n",
       "<table border=\"1\" class=\"dataframe\">\n",
       "  <thead>\n",
       "    <tr style=\"text-align: right;\">\n",
       "      <th></th>\n",
       "      <th>AveragePrice</th>\n",
       "      <th>Total Volume</th>\n",
       "      <th>4046</th>\n",
       "      <th>4225</th>\n",
       "      <th>4770</th>\n",
       "      <th>Total Bags</th>\n",
       "      <th>Small Bags</th>\n",
       "      <th>Large Bags</th>\n",
       "      <th>XLarge Bags</th>\n",
       "      <th>year</th>\n",
       "      <th>Month</th>\n",
       "      <th>lat</th>\n",
       "      <th>lon</th>\n",
       "      <th>pop</th>\n",
       "    </tr>\n",
       "    <tr>\n",
       "      <th>Date</th>\n",
       "      <th></th>\n",
       "      <th></th>\n",
       "      <th></th>\n",
       "      <th></th>\n",
       "      <th></th>\n",
       "      <th></th>\n",
       "      <th></th>\n",
       "      <th></th>\n",
       "      <th></th>\n",
       "      <th></th>\n",
       "      <th></th>\n",
       "      <th></th>\n",
       "      <th></th>\n",
       "      <th></th>\n",
       "    </tr>\n",
       "  </thead>\n",
       "  <tbody>\n",
       "    <tr>\n",
       "      <th>2015-01-04</th>\n",
       "      <td>1.023095</td>\n",
       "      <td>452792.309048</td>\n",
       "      <td>169999.238571</td>\n",
       "      <td>204010.985238</td>\n",
       "      <td>13105.187619</td>\n",
       "      <td>65676.897619</td>\n",
       "      <td>51942.525476</td>\n",
       "      <td>13419.825238</td>\n",
       "      <td>314.546905</td>\n",
       "      <td>2015</td>\n",
       "      <td>1</td>\n",
       "      <td>38.470086</td>\n",
       "      <td>-93.085705</td>\n",
       "      <td>931920.211494</td>\n",
       "    </tr>\n",
       "    <tr>\n",
       "      <th>2015-01-11</th>\n",
       "      <td>1.129286</td>\n",
       "      <td>416093.166190</td>\n",
       "      <td>159302.855238</td>\n",
       "      <td>176420.070952</td>\n",
       "      <td>13413.688810</td>\n",
       "      <td>66956.551190</td>\n",
       "      <td>55923.859286</td>\n",
       "      <td>10754.162381</td>\n",
       "      <td>278.529524</td>\n",
       "      <td>2015</td>\n",
       "      <td>1</td>\n",
       "      <td>38.470086</td>\n",
       "      <td>-93.085705</td>\n",
       "      <td>931920.211494</td>\n",
       "    </tr>\n",
       "    <tr>\n",
       "      <th>2015-01-18</th>\n",
       "      <td>1.155714</td>\n",
       "      <td>407344.573095</td>\n",
       "      <td>160297.792143</td>\n",
       "      <td>167029.106667</td>\n",
       "      <td>12076.014524</td>\n",
       "      <td>67941.659762</td>\n",
       "      <td>56556.129762</td>\n",
       "      <td>11255.201905</td>\n",
       "      <td>130.328095</td>\n",
       "      <td>2015</td>\n",
       "      <td>1</td>\n",
       "      <td>38.470086</td>\n",
       "      <td>-93.085705</td>\n",
       "      <td>931920.211494</td>\n",
       "    </tr>\n",
       "    <tr>\n",
       "      <th>2015-01-25</th>\n",
       "      <td>1.135238</td>\n",
       "      <td>398688.421190</td>\n",
       "      <td>159704.543095</td>\n",
       "      <td>154715.784048</td>\n",
       "      <td>12052.642381</td>\n",
       "      <td>72215.451667</td>\n",
       "      <td>59854.894048</td>\n",
       "      <td>12211.712619</td>\n",
       "      <td>148.845000</td>\n",
       "      <td>2015</td>\n",
       "      <td>1</td>\n",
       "      <td>38.470086</td>\n",
       "      <td>-93.085705</td>\n",
       "      <td>931920.211494</td>\n",
       "    </tr>\n",
       "    <tr>\n",
       "      <th>2015-02-01</th>\n",
       "      <td>0.976190</td>\n",
       "      <td>628154.752381</td>\n",
       "      <td>255211.957381</td>\n",
       "      <td>272599.320000</td>\n",
       "      <td>20644.239524</td>\n",
       "      <td>79699.235476</td>\n",
       "      <td>62604.844762</td>\n",
       "      <td>16334.742619</td>\n",
       "      <td>759.648095</td>\n",
       "      <td>2015</td>\n",
       "      <td>2</td>\n",
       "      <td>38.470086</td>\n",
       "      <td>-93.085705</td>\n",
       "      <td>931920.211494</td>\n",
       "    </tr>\n",
       "  </tbody>\n",
       "</table>\n",
       "</div>"
      ],
      "text/plain": [
       "            AveragePrice   Total Volume           4046           4225  \\\n",
       "Date                                                                    \n",
       "2015-01-04      1.023095  452792.309048  169999.238571  204010.985238   \n",
       "2015-01-11      1.129286  416093.166190  159302.855238  176420.070952   \n",
       "2015-01-18      1.155714  407344.573095  160297.792143  167029.106667   \n",
       "2015-01-25      1.135238  398688.421190  159704.543095  154715.784048   \n",
       "2015-02-01      0.976190  628154.752381  255211.957381  272599.320000   \n",
       "\n",
       "                    4770    Total Bags    Small Bags    Large Bags  \\\n",
       "Date                                                                 \n",
       "2015-01-04  13105.187619  65676.897619  51942.525476  13419.825238   \n",
       "2015-01-11  13413.688810  66956.551190  55923.859286  10754.162381   \n",
       "2015-01-18  12076.014524  67941.659762  56556.129762  11255.201905   \n",
       "2015-01-25  12052.642381  72215.451667  59854.894048  12211.712619   \n",
       "2015-02-01  20644.239524  79699.235476  62604.844762  16334.742619   \n",
       "\n",
       "            XLarge Bags  year  Month        lat        lon            pop  \n",
       "Date                                                                       \n",
       "2015-01-04   314.546905  2015      1  38.470086 -93.085705  931920.211494  \n",
       "2015-01-11   278.529524  2015      1  38.470086 -93.085705  931920.211494  \n",
       "2015-01-18   130.328095  2015      1  38.470086 -93.085705  931920.211494  \n",
       "2015-01-25   148.845000  2015      1  38.470086 -93.085705  931920.211494  \n",
       "2015-02-01   759.648095  2015      2  38.470086 -93.085705  931920.211494  "
      ]
     },
     "execution_count": 8,
     "metadata": {},
     "output_type": "execute_result"
    }
   ],
   "source": [
    "conventional_groupByDate.head()\n",
    "#The data were taken on every sunday."
   ]
  },
  {
   "cell_type": "code",
   "execution_count": 9,
   "metadata": {
    "colab": {
     "base_uri": "https://localhost:8080/",
     "height": 286
    },
    "colab_type": "code",
    "executionInfo": {
     "elapsed": 1052,
     "status": "ok",
     "timestamp": 1589186086977,
     "user": {
      "displayName": "Jing Liu",
      "photoUrl": "https://lh3.googleusercontent.com/a-/AOh14GhyTpMzsrKe3AM61tWhoZJTwUCAu1SRYrLmTi-j=s64",
      "userId": "02177799334043281395"
     },
     "user_tz": -120
    },
    "id": "0cJOzN60lKr-",
    "outputId": "6a53ee8c-543a-4efe-9d9e-2bffaa550b6c"
   },
   "outputs": [
    {
     "data": {
      "text/plain": [
       "<matplotlib.axes._subplots.AxesSubplot at 0x1a3746b090>"
      ]
     },
     "execution_count": 9,
     "metadata": {},
     "output_type": "execute_result"
    },
    {
     "data": {
      "image/png": "[encoded data removed]",
      "text/plain": [
       "<Figure size 432x288 with 1 Axes>"
      ]
     },
     "metadata": {
      "needs_background": "light"
     },
     "output_type": "display_data"
    }
   ],
   "source": [
    "#Let's have a quick look at the time series of the averageprice we want to predict. It is a weekly frequency data.\n",
    "conventional_AveragePrice = conventional_groupByDate['AveragePrice']\n",
    "conventional_AveragePrice.plot()"
   ]
  },
  {
   "cell_type": "code",
   "execution_count": 10,
   "metadata": {
    "colab": {
     "base_uri": "https://localhost:8080/",
     "height": 235
    },
    "colab_type": "code",
    "executionInfo": {
     "elapsed": 502,
     "status": "ok",
     "timestamp": 1589186087418,
     "user": {
      "displayName": "Jing Liu",
      "photoUrl": "https://lh3.googleusercontent.com/a-/AOh14GhyTpMzsrKe3AM61tWhoZJTwUCAu1SRYrLmTi-j=s64",
      "userId": "02177799334043281395"
     },
     "user_tz": -120
    },
    "id": "Gy4_gkAUleP7",
    "outputId": "7af8d2f7-cbf2-419e-b4ad-d72d604d9b51",
    "scrolled": true
   },
   "outputs": [
    {
     "data": {
      "text/html": [
       "<div>\n",
       "<style scoped>\n",
       "    .dataframe tbody tr th:only-of-type {\n",
       "        vertical-align: middle;\n",
       "    }\n",
       "\n",
       "    .dataframe tbody tr th {\n",
       "        vertical-align: top;\n",
       "    }\n",
       "\n",
       "    .dataframe thead th {\n",
       "        text-align: right;\n",
       "    }\n",
       "</style>\n",
       "<table border=\"1\" class=\"dataframe\">\n",
       "  <thead>\n",
       "    <tr style=\"text-align: right;\">\n",
       "      <th></th>\n",
       "      <th>AveragePrice</th>\n",
       "    </tr>\n",
       "    <tr>\n",
       "      <th>Date</th>\n",
       "      <th></th>\n",
       "    </tr>\n",
       "  </thead>\n",
       "  <tbody>\n",
       "    <tr>\n",
       "      <th>2015-01-04</th>\n",
       "      <td>1.023095</td>\n",
       "    </tr>\n",
       "    <tr>\n",
       "      <th>2015-01-11</th>\n",
       "      <td>1.129286</td>\n",
       "    </tr>\n",
       "    <tr>\n",
       "      <th>2015-01-18</th>\n",
       "      <td>1.155714</td>\n",
       "    </tr>\n",
       "    <tr>\n",
       "      <th>2015-01-25</th>\n",
       "      <td>1.135238</td>\n",
       "    </tr>\n",
       "    <tr>\n",
       "      <th>2015-02-01</th>\n",
       "      <td>0.976190</td>\n",
       "    </tr>\n",
       "  </tbody>\n",
       "</table>\n",
       "</div>"
      ],
      "text/plain": [
       "            AveragePrice\n",
       "Date                    \n",
       "2015-01-04      1.023095\n",
       "2015-01-11      1.129286\n",
       "2015-01-18      1.155714\n",
       "2015-01-25      1.135238\n",
       "2015-02-01      0.976190"
      ]
     },
     "execution_count": 10,
     "metadata": {},
     "output_type": "execute_result"
    }
   ],
   "source": [
    " #conventional_AveragePrice.to_frame().values\n",
    "df = conventional_AveragePrice.copy()\n",
    "df = df.to_frame()\n",
    "df.head()"
   ]
  },
  {
   "cell_type": "markdown",
   "metadata": {},
   "source": [
    "### Exploration"
   ]
  },
  {
   "cell_type": "code",
   "execution_count": 11,
   "metadata": {},
   "outputs": [
    {
     "data": {
      "image/png": "[encoded data removed]",
      "text/plain": [
       "<Figure size 432x288 with 4 Axes>"
      ]
     },
     "metadata": {
      "needs_background": "light"
     },
     "output_type": "display_data"
    }
   ],
   "source": [
    "from statsmodels.tsa.seasonal import seasonal_decompose\n",
    "decomposed = seasonal_decompose(df['AveragePrice'], model='additive',period=48)\n",
    "x = decomposed.plot() #See note below about this"
   ]
  },
  {
   "cell_type": "code",
   "execution_count": 12,
   "metadata": {},
   "outputs": [
    {
     "name": "stdout",
     "output_type": "stream",
     "text": [
      "          t-1       t+1\n",
      "t-1  1.000000  0.907343\n",
      "t+1  0.907343  1.000000\n"
     ]
    }
   ],
   "source": [
    "# create lagged dataset\n",
    "values = DataFrame(df.values)\n",
    "dataframe = concat([values.shift(1), values], axis=1)\n",
    "dataframe.columns = ['t-1', 't+1']\n",
    "result = dataframe.corr()\n",
    "print(result)"
   ]
  },
  {
   "cell_type": "code",
   "execution_count": 13,
   "metadata": {},
   "outputs": [
    {
     "data": {
      "image/png": "[encoded data removed]",
      "text/plain": [
       "<Figure size 432x288 with 1 Axes>"
      ]
     },
     "metadata": {
      "needs_background": "light"
     },
     "output_type": "display_data"
    }
   ],
   "source": [
    "from pandas.plotting import autocorrelation_plot\n",
    "autocorrelation_plot(df)\n",
    "pyplot.show()"
   ]
  },
  {
   "cell_type": "markdown",
   "metadata": {},
   "source": [
    "The plot provides the lag number along the x-axis and the correlation coefficient value between -1 and 1 on the y-axis. The plot also includes solid and dashed lines that indicate the 95% and 99% confidence interval for the correlation values. Correlation values above these lines are more significant than those below the line, providing a threshold or cutoff for selecting more relevant lag values."
   ]
  },
  {
   "cell_type": "code",
   "execution_count": 14,
   "metadata": {},
   "outputs": [
    {
     "data": {
      "image/png": "[encoded data removed]",
      "text/plain": [
       "<Figure size 432x288 with 1 Axes>"
      ]
     },
     "metadata": {
      "needs_background": "light"
     },
     "output_type": "display_data"
    }
   ],
   "source": [
    "from statsmodels.graphics.tsaplots import plot_acf\n",
    "plot_acf(df, lags=48)\n",
    "pyplot.show()"
   ]
  },
  {
   "cell_type": "markdown",
   "metadata": {},
   "source": [
    "### Autoregression Model"
   ]
  },
  {
   "cell_type": "code",
   "execution_count": 15,
   "metadata": {},
   "outputs": [
    {
     "name": "stdout",
     "output_type": "stream",
     "text": [
      "Coefficients: [0.1087444 0.9082185]\n",
      "Coefficients: [0.1064432  0.89155838 0.01854626]\n",
      "Coefficients: [ 0.09547362  0.89003485 -0.07515389  0.10467842]\n",
      "Coefficients: [ 0.10612441  0.89599372 -0.07573954  0.17851776 -0.08774981]\n",
      "Coefficients: [ 0.11012061  0.89851546 -0.07183127  0.17334748 -0.0431607  -0.04946393]\n",
      "Coefficients: [ 0.11760772  0.89098554 -0.06040411  0.17897187 -0.05043207  0.02248087\n",
      " -0.08094893]\n",
      "Coefficients: [ 0.10944626  0.89770557 -0.06240876  0.17884431 -0.06156126  0.02766102\n",
      " -0.13883749  0.06634127]\n",
      "Coefficients: [ 0.10681407  0.89463864 -0.05227754  0.17632855 -0.07164555  0.02827187\n",
      " -0.13510626  0.03988674  0.0301823 ]\n",
      "Coefficients: [ 0.10315024  0.89779675 -0.0554656   0.17398901 -0.07134943  0.04033745\n",
      " -0.14513938  0.04048702  0.01286273  0.01967879]\n",
      "Best lag number is:  6\n"
     ]
    },
    {
     "data": {
      "image/png": "[encoded data removed]",
      "text/plain": [
       "<Figure size 432x288 with 1 Axes>"
      ]
     },
     "metadata": {
      "needs_background": "light"
     },
     "output_type": "display_data"
    },
    {
     "data": {
      "image/png": "[encoded data removed]",
      "text/plain": [
       "<Figure size 432x288 with 1 Axes>"
      ]
     },
     "metadata": {
      "needs_background": "light"
     },
     "output_type": "display_data"
    }
   ],
   "source": [
    "# create and evaluate a static autoregressive model\n",
    "from pandas import read_csv\n",
    "from matplotlib import pyplot\n",
    "from statsmodels.tsa.ar_model import AutoReg\n",
    "from sklearn.metrics import mean_squared_error\n",
    "from math import sqrt\n",
    "# # load dataset\n",
    "# series = read_csv('daily-minimum-temperatures.csv', header=0, index_col=0, parse_dates=True, squeeze=True)\n",
    "# split dataset\n",
    "\n",
    "X = df.values\n",
    "train, test = X[1:len(X)-12], X[len(X)-12:]\n",
    "# Find the best lag\n",
    "# train autoregression\n",
    "cols = ['lags', 'rmse']\n",
    "lst = []\n",
    "#10 is chosen based on plt_pcf\n",
    "for lag in range(1,10):\n",
    "    model = AutoReg(train, lags=lag)\n",
    "    model_fit = model.fit()\n",
    "    print('Coefficients: %s' % model_fit.params)\n",
    "    # make predictions\n",
    "    predictions = model_fit.predict(start=len(train), end=len(train)+len(test)-1, dynamic=False)\n",
    "    rmse = sqrt(mean_squared_error(test, predictions))\n",
    "    lst.append([lag, rmse])\n",
    "\n",
    "    # plot results\n",
    "    pyplot.plot(test)\n",
    "    pyplot.plot(predictions, color='red')\n",
    "#     pyplot.show()\n",
    "best_lag_num = pd.DataFrame(lst, columns=cols)\n",
    "best_lag_num.plot(x='lags',y='rmse')\n",
    "best_lag = best_lag_num[best_lag_num.rmse==best_lag_num.rmse.min()].lags.values[0]\n",
    "print('Best lag number is: ',best_lag)"
   ]
  },
  {
   "cell_type": "code",
   "execution_count": 16,
   "metadata": {},
   "outputs": [
    {
     "name": "stdout",
     "output_type": "stream",
     "text": [
      "Coefficients: [ 0.11760772  0.89098554 -0.06040411  0.17897187 -0.05043207  0.02248087\n",
      " -0.08094893]\n",
      "Test RMSE: 0.104\n",
      "Number of lags: 6\n"
     ]
    },
    {
     "data": {
      "text/plain": [
       "<matplotlib.axes._subplots.AxesSubplot at 0x1c39156b90>"
      ]
     },
     "execution_count": 16,
     "metadata": {},
     "output_type": "execute_result"
    },
    {
     "data": {
      "image/png": "[encoded data removed]",
      "text/plain": [
       "<Figure size 720x360 with 1 Axes>"
      ]
     },
     "metadata": {
      "needs_background": "light"
     },
     "output_type": "display_data"
    }
   ],
   "source": [
    "# # make predictions only for the testset part\n",
    "# predictions = model_fit.predict(start=len(train, end=len(train)+len(test)-1, dynamic=False)\n",
    "# make predictions beyond the testset.\n",
    "model = AutoReg(train, lags=best_lag)\n",
    "model_fit = model.fit()\n",
    "print('Coefficients: %s' % model_fit.params)\n",
    "rmse = sqrt(mean_squared_error(test, predictions))\n",
    "predictions = model_fit.predict(start=0, end=len(df), dynamic=False)\n",
    "print('Test RMSE: %.3f' % rmse)\n",
    "print('Number of lags: %.0f' % len(model_fit.ar_lags))\n",
    "# plot results\n",
    "\n",
    "#Make a dataframe for the results of the predictions\n",
    "pred_result_df=df.copy()\n",
    "#Prediction column\n",
    "pred_result_df.loc[-predictions.shape[0]:,'predictions']=predictions\n",
    "#Train column\n",
    "pred_result_df.loc[:train.shape[0],'train']=train.reshape(1,-1)\n",
    "#Test column\n",
    "pred_result_df.loc[-test.shape[0]:,'test']=test.reshape(1,-1)\n",
    "pred_result_df.plot(y=['train', 'test','predictions'],figsize=(10,5), grid=True)"
   ]
  },
  {
   "cell_type": "markdown",
   "metadata": {},
   "source": [
    "## Classification of the trend of the time series\n",
    "We create a feature which describes the trend of the time series: by comparing to the last time stamp with the values from the current timestamp. We can say if the Avocado Price has been Increased, Decreased or Flat (has not changed)"
   ]
  },
  {
   "cell_type": "code",
   "execution_count": 84,
   "metadata": {},
   "outputs": [
    {
     "data": {
      "text/html": [
       "<div>\n",
       "<style scoped>\n",
       "    .dataframe tbody tr th:only-of-type {\n",
       "        vertical-align: middle;\n",
       "    }\n",
       "\n",
       "    .dataframe tbody tr th {\n",
       "        vertical-align: top;\n",
       "    }\n",
       "\n",
       "    .dataframe thead th {\n",
       "        text-align: right;\n",
       "    }\n",
       "</style>\n",
       "<table border=\"1\" class=\"dataframe\">\n",
       "  <thead>\n",
       "    <tr style=\"text-align: right;\">\n",
       "      <th></th>\n",
       "      <th>AveragePrice</th>\n",
       "      <th>Total Volume</th>\n",
       "      <th>4046</th>\n",
       "      <th>4225</th>\n",
       "      <th>4770</th>\n",
       "      <th>Total Bags</th>\n",
       "      <th>Small Bags</th>\n",
       "      <th>Large Bags</th>\n",
       "      <th>XLarge Bags</th>\n",
       "      <th>year</th>\n",
       "      <th>Month</th>\n",
       "      <th>lat</th>\n",
       "      <th>lon</th>\n",
       "      <th>pop</th>\n",
       "      <th>PriceDiff</th>\n",
       "      <th>Trend</th>\n",
       "    </tr>\n",
       "    <tr>\n",
       "      <th>Date</th>\n",
       "      <th></th>\n",
       "      <th></th>\n",
       "      <th></th>\n",
       "      <th></th>\n",
       "      <th></th>\n",
       "      <th></th>\n",
       "      <th></th>\n",
       "      <th></th>\n",
       "      <th></th>\n",
       "      <th></th>\n",
       "      <th></th>\n",
       "      <th></th>\n",
       "      <th></th>\n",
       "      <th></th>\n",
       "      <th></th>\n",
       "      <th></th>\n",
       "    </tr>\n",
       "  </thead>\n",
       "  <tbody>\n",
       "    <tr>\n",
       "      <th>2015-01-04</th>\n",
       "      <td>1.023095</td>\n",
       "      <td>452792.309048</td>\n",
       "      <td>169999.238571</td>\n",
       "      <td>204010.985238</td>\n",
       "      <td>13105.187619</td>\n",
       "      <td>65676.897619</td>\n",
       "      <td>51942.525476</td>\n",
       "      <td>13419.825238</td>\n",
       "      <td>314.546905</td>\n",
       "      <td>2015</td>\n",
       "      <td>1</td>\n",
       "      <td>38.470086</td>\n",
       "      <td>-93.085705</td>\n",
       "      <td>931920.211494</td>\n",
       "      <td>NaN</td>\n",
       "      <td>Not sure</td>\n",
       "    </tr>\n",
       "    <tr>\n",
       "      <th>2015-01-11</th>\n",
       "      <td>1.129286</td>\n",
       "      <td>416093.166190</td>\n",
       "      <td>159302.855238</td>\n",
       "      <td>176420.070952</td>\n",
       "      <td>13413.688810</td>\n",
       "      <td>66956.551190</td>\n",
       "      <td>55923.859286</td>\n",
       "      <td>10754.162381</td>\n",
       "      <td>278.529524</td>\n",
       "      <td>2015</td>\n",
       "      <td>1</td>\n",
       "      <td>38.470086</td>\n",
       "      <td>-93.085705</td>\n",
       "      <td>931920.211494</td>\n",
       "      <td>0.106190</td>\n",
       "      <td>Increased</td>\n",
       "    </tr>\n",
       "    <tr>\n",
       "      <th>2015-01-18</th>\n",
       "      <td>1.155714</td>\n",
       "      <td>407344.573095</td>\n",
       "      <td>160297.792143</td>\n",
       "      <td>167029.106667</td>\n",
       "      <td>12076.014524</td>\n",
       "      <td>67941.659762</td>\n",
       "      <td>56556.129762</td>\n",
       "      <td>11255.201905</td>\n",
       "      <td>130.328095</td>\n",
       "      <td>2015</td>\n",
       "      <td>1</td>\n",
       "      <td>38.470086</td>\n",
       "      <td>-93.085705</td>\n",
       "      <td>931920.211494</td>\n",
       "      <td>0.026429</td>\n",
       "      <td>Increased</td>\n",
       "    </tr>\n",
       "    <tr>\n",
       "      <th>2015-01-25</th>\n",
       "      <td>1.135238</td>\n",
       "      <td>398688.421190</td>\n",
       "      <td>159704.543095</td>\n",
       "      <td>154715.784048</td>\n",
       "      <td>12052.642381</td>\n",
       "      <td>72215.451667</td>\n",
       "      <td>59854.894048</td>\n",
       "      <td>12211.712619</td>\n",
       "      <td>148.845000</td>\n",
       "      <td>2015</td>\n",
       "      <td>1</td>\n",
       "      <td>38.470086</td>\n",
       "      <td>-93.085705</td>\n",
       "      <td>931920.211494</td>\n",
       "      <td>-0.020476</td>\n",
       "      <td>Decreased</td>\n",
       "    </tr>\n",
       "    <tr>\n",
       "      <th>2015-02-01</th>\n",
       "      <td>0.976190</td>\n",
       "      <td>628154.752381</td>\n",
       "      <td>255211.957381</td>\n",
       "      <td>272599.320000</td>\n",
       "      <td>20644.239524</td>\n",
       "      <td>79699.235476</td>\n",
       "      <td>62604.844762</td>\n",
       "      <td>16334.742619</td>\n",
       "      <td>759.648095</td>\n",
       "      <td>2015</td>\n",
       "      <td>2</td>\n",
       "      <td>38.470086</td>\n",
       "      <td>-93.085705</td>\n",
       "      <td>931920.211494</td>\n",
       "      <td>-0.159048</td>\n",
       "      <td>Decreased</td>\n",
       "    </tr>\n",
       "  </tbody>\n",
       "</table>\n",
       "</div>"
      ],
      "text/plain": [
       "            AveragePrice   Total Volume           4046           4225  \\\n",
       "Date                                                                    \n",
       "2015-01-04      1.023095  452792.309048  169999.238571  204010.985238   \n",
       "2015-01-11      1.129286  416093.166190  159302.855238  176420.070952   \n",
       "2015-01-18      1.155714  407344.573095  160297.792143  167029.106667   \n",
       "2015-01-25      1.135238  398688.421190  159704.543095  154715.784048   \n",
       "2015-02-01      0.976190  628154.752381  255211.957381  272599.320000   \n",
       "\n",
       "                    4770    Total Bags    Small Bags    Large Bags  \\\n",
       "Date                                                                 \n",
       "2015-01-04  13105.187619  65676.897619  51942.525476  13419.825238   \n",
       "2015-01-11  13413.688810  66956.551190  55923.859286  10754.162381   \n",
       "2015-01-18  12076.014524  67941.659762  56556.129762  11255.201905   \n",
       "2015-01-25  12052.642381  72215.451667  59854.894048  12211.712619   \n",
       "2015-02-01  20644.239524  79699.235476  62604.844762  16334.742619   \n",
       "\n",
       "            XLarge Bags  year  Month        lat        lon            pop  \\\n",
       "Date                                                                        \n",
       "2015-01-04   314.546905  2015      1  38.470086 -93.085705  931920.211494   \n",
       "2015-01-11   278.529524  2015      1  38.470086 -93.085705  931920.211494   \n",
       "2015-01-18   130.328095  2015      1  38.470086 -93.085705  931920.211494   \n",
       "2015-01-25   148.845000  2015      1  38.470086 -93.085705  931920.211494   \n",
       "2015-02-01   759.648095  2015      2  38.470086 -93.085705  931920.211494   \n",
       "\n",
       "            PriceDiff      Trend  \n",
       "Date                              \n",
       "2015-01-04        NaN   Not sure  \n",
       "2015-01-11   0.106190  Increased  \n",
       "2015-01-18   0.026429  Increased  \n",
       "2015-01-25  -0.020476  Decreased  \n",
       "2015-02-01  -0.159048  Decreased  "
      ]
     },
     "execution_count": 84,
     "metadata": {},
     "output_type": "execute_result"
    }
   ],
   "source": [
    "conventional_groupByDate.head()"
   ]
  },
  {
   "cell_type": "code",
   "execution_count": 85,
   "metadata": {},
   "outputs": [],
   "source": [
    "conventional_groupByDate['PriceDiff'] =conventional_groupByDate.AveragePrice.diff()"
   ]
  },
  {
   "cell_type": "code",
   "execution_count": 89,
   "metadata": {},
   "outputs": [
    {
     "data": {
      "text/html": [
       "<div>\n",
       "<style scoped>\n",
       "    .dataframe tbody tr th:only-of-type {\n",
       "        vertical-align: middle;\n",
       "    }\n",
       "\n",
       "    .dataframe tbody tr th {\n",
       "        vertical-align: top;\n",
       "    }\n",
       "\n",
       "    .dataframe thead th {\n",
       "        text-align: right;\n",
       "    }\n",
       "</style>\n",
       "<table border=\"1\" class=\"dataframe\">\n",
       "  <thead>\n",
       "    <tr style=\"text-align: right;\">\n",
       "      <th></th>\n",
       "      <th>AveragePrice</th>\n",
       "      <th>Total Volume</th>\n",
       "      <th>4046</th>\n",
       "      <th>4225</th>\n",
       "      <th>4770</th>\n",
       "      <th>Total Bags</th>\n",
       "      <th>Small Bags</th>\n",
       "      <th>Large Bags</th>\n",
       "      <th>XLarge Bags</th>\n",
       "      <th>year</th>\n",
       "      <th>Month</th>\n",
       "      <th>lat</th>\n",
       "      <th>lon</th>\n",
       "      <th>pop</th>\n",
       "      <th>PriceDiff</th>\n",
       "      <th>Trend</th>\n",
       "    </tr>\n",
       "    <tr>\n",
       "      <th>Date</th>\n",
       "      <th></th>\n",
       "      <th></th>\n",
       "      <th></th>\n",
       "      <th></th>\n",
       "      <th></th>\n",
       "      <th></th>\n",
       "      <th></th>\n",
       "      <th></th>\n",
       "      <th></th>\n",
       "      <th></th>\n",
       "      <th></th>\n",
       "      <th></th>\n",
       "      <th></th>\n",
       "      <th></th>\n",
       "      <th></th>\n",
       "      <th></th>\n",
       "    </tr>\n",
       "  </thead>\n",
       "  <tbody>\n",
       "    <tr>\n",
       "      <th>2015-01-04</th>\n",
       "      <td>1.023095</td>\n",
       "      <td>452792.309048</td>\n",
       "      <td>169999.238571</td>\n",
       "      <td>204010.985238</td>\n",
       "      <td>13105.187619</td>\n",
       "      <td>65676.897619</td>\n",
       "      <td>51942.525476</td>\n",
       "      <td>13419.825238</td>\n",
       "      <td>314.546905</td>\n",
       "      <td>2015</td>\n",
       "      <td>1</td>\n",
       "      <td>38.470086</td>\n",
       "      <td>-93.085705</td>\n",
       "      <td>931920.211494</td>\n",
       "      <td>NaN</td>\n",
       "      <td>Not sure</td>\n",
       "    </tr>\n",
       "    <tr>\n",
       "      <th>2015-01-11</th>\n",
       "      <td>1.129286</td>\n",
       "      <td>416093.166190</td>\n",
       "      <td>159302.855238</td>\n",
       "      <td>176420.070952</td>\n",
       "      <td>13413.688810</td>\n",
       "      <td>66956.551190</td>\n",
       "      <td>55923.859286</td>\n",
       "      <td>10754.162381</td>\n",
       "      <td>278.529524</td>\n",
       "      <td>2015</td>\n",
       "      <td>1</td>\n",
       "      <td>38.470086</td>\n",
       "      <td>-93.085705</td>\n",
       "      <td>931920.211494</td>\n",
       "      <td>0.106190</td>\n",
       "      <td>Increased</td>\n",
       "    </tr>\n",
       "    <tr>\n",
       "      <th>2015-01-18</th>\n",
       "      <td>1.155714</td>\n",
       "      <td>407344.573095</td>\n",
       "      <td>160297.792143</td>\n",
       "      <td>167029.106667</td>\n",
       "      <td>12076.014524</td>\n",
       "      <td>67941.659762</td>\n",
       "      <td>56556.129762</td>\n",
       "      <td>11255.201905</td>\n",
       "      <td>130.328095</td>\n",
       "      <td>2015</td>\n",
       "      <td>1</td>\n",
       "      <td>38.470086</td>\n",
       "      <td>-93.085705</td>\n",
       "      <td>931920.211494</td>\n",
       "      <td>0.026429</td>\n",
       "      <td>Increased</td>\n",
       "    </tr>\n",
       "    <tr>\n",
       "      <th>2015-01-25</th>\n",
       "      <td>1.135238</td>\n",
       "      <td>398688.421190</td>\n",
       "      <td>159704.543095</td>\n",
       "      <td>154715.784048</td>\n",
       "      <td>12052.642381</td>\n",
       "      <td>72215.451667</td>\n",
       "      <td>59854.894048</td>\n",
       "      <td>12211.712619</td>\n",
       "      <td>148.845000</td>\n",
       "      <td>2015</td>\n",
       "      <td>1</td>\n",
       "      <td>38.470086</td>\n",
       "      <td>-93.085705</td>\n",
       "      <td>931920.211494</td>\n",
       "      <td>-0.020476</td>\n",
       "      <td>Decreased</td>\n",
       "    </tr>\n",
       "    <tr>\n",
       "      <th>2015-02-01</th>\n",
       "      <td>0.976190</td>\n",
       "      <td>628154.752381</td>\n",
       "      <td>255211.957381</td>\n",
       "      <td>272599.320000</td>\n",
       "      <td>20644.239524</td>\n",
       "      <td>79699.235476</td>\n",
       "      <td>62604.844762</td>\n",
       "      <td>16334.742619</td>\n",
       "      <td>759.648095</td>\n",
       "      <td>2015</td>\n",
       "      <td>2</td>\n",
       "      <td>38.470086</td>\n",
       "      <td>-93.085705</td>\n",
       "      <td>931920.211494</td>\n",
       "      <td>-0.159048</td>\n",
       "      <td>Decreased</td>\n",
       "    </tr>\n",
       "  </tbody>\n",
       "</table>\n",
       "</div>"
      ],
      "text/plain": [
       "            AveragePrice   Total Volume           4046           4225  \\\n",
       "Date                                                                    \n",
       "2015-01-04      1.023095  452792.309048  169999.238571  204010.985238   \n",
       "2015-01-11      1.129286  416093.166190  159302.855238  176420.070952   \n",
       "2015-01-18      1.155714  407344.573095  160297.792143  167029.106667   \n",
       "2015-01-25      1.135238  398688.421190  159704.543095  154715.784048   \n",
       "2015-02-01      0.976190  628154.752381  255211.957381  272599.320000   \n",
       "\n",
       "                    4770    Total Bags    Small Bags    Large Bags  \\\n",
       "Date                                                                 \n",
       "2015-01-04  13105.187619  65676.897619  51942.525476  13419.825238   \n",
       "2015-01-11  13413.688810  66956.551190  55923.859286  10754.162381   \n",
       "2015-01-18  12076.014524  67941.659762  56556.129762  11255.201905   \n",
       "2015-01-25  12052.642381  72215.451667  59854.894048  12211.712619   \n",
       "2015-02-01  20644.239524  79699.235476  62604.844762  16334.742619   \n",
       "\n",
       "            XLarge Bags  year  Month        lat        lon            pop  \\\n",
       "Date                                                                        \n",
       "2015-01-04   314.546905  2015      1  38.470086 -93.085705  931920.211494   \n",
       "2015-01-11   278.529524  2015      1  38.470086 -93.085705  931920.211494   \n",
       "2015-01-18   130.328095  2015      1  38.470086 -93.085705  931920.211494   \n",
       "2015-01-25   148.845000  2015      1  38.470086 -93.085705  931920.211494   \n",
       "2015-02-01   759.648095  2015      2  38.470086 -93.085705  931920.211494   \n",
       "\n",
       "            PriceDiff      Trend  \n",
       "Date                              \n",
       "2015-01-04        NaN   Not sure  \n",
       "2015-01-11   0.106190  Increased  \n",
       "2015-01-18   0.026429  Increased  \n",
       "2015-01-25  -0.020476  Decreased  \n",
       "2015-02-01  -0.159048  Decreased  "
      ]
     },
     "execution_count": 89,
     "metadata": {},
     "output_type": "execute_result"
    }
   ],
   "source": [
    "def determine_trend(x):\n",
    "    if x > 0.000001:\n",
    "        return 'Increased'\n",
    "    elif x < -0.000001:\n",
    "        return 'Decreased'\n",
    "    elif x >-0.000001 and x < 0.000001:\n",
    "        return 'Flat'\n",
    "    return 'Not sure'\n",
    "\n",
    "conventional_groupByDate['Trend'] = conventional_groupByDate['PriceDiff'].apply(determine_trend)\n",
    "\n",
    "conventional_groupByDate.head()"
   ]
  },
  {
   "cell_type": "code",
   "execution_count": 90,
   "metadata": {},
   "outputs": [
    {
     "data": {
      "text/plain": [
       "Index(['AveragePrice', 'Total Volume', '4046', '4225', '4770', 'Total Bags',\n",
       "       'Small Bags', 'Large Bags', 'XLarge Bags', 'year', 'Month', 'lat',\n",
       "       'lon', 'pop', 'PriceDiff', 'Trend'],\n",
       "      dtype='object')"
      ]
     },
     "execution_count": 90,
     "metadata": {},
     "output_type": "execute_result"
    }
   ],
   "source": [
    "conventional_groupByDate.columns"
   ]
  },
  {
   "cell_type": "code",
   "execution_count": 91,
   "metadata": {},
   "outputs": [],
   "source": [
    "class_X = conventional_groupByDate[['AveragePrice','Total Volume', '4046', '4225', '4770', 'Total Bags',\n",
    "       'Small Bags', 'Large Bags', 'XLarge Bags', 'year', 'Month', 'lat',\n",
    "       'lon', 'pop']]\n",
    "class_y = conventional_groupByDate[['Trend']]"
   ]
  },
  {
   "cell_type": "code",
   "execution_count": 92,
   "metadata": {},
   "outputs": [],
   "source": [
    "from sklearn.preprocessing import OneHotEncoder\n",
    "ohe = OneHotEncoder(sparse=False)\n",
    "class_y = ohe.fit_transform(class_y)"
   ]
  },
  {
   "cell_type": "code",
   "execution_count": 93,
   "metadata": {},
   "outputs": [],
   "source": [
    "from sklearn.preprocessing import MinMaxScaler\n",
    "scaler = MinMaxScaler(feature_range=(0,1))\n",
    "scaler.fit(class_X)\n",
    "class_X = scaler.transform(class_X)"
   ]
  },
  {
   "cell_type": "code",
   "execution_count": 94,
   "metadata": {},
   "outputs": [],
   "source": [
    "from sklearn.model_selection import train_test_split"
   ]
  },
  {
   "cell_type": "code",
   "execution_count": 95,
   "metadata": {},
   "outputs": [],
   "source": [
    "X_train, X_test, y_train, y_test = train_test_split(class_X, class_y, test_size=0.3, random_state=101)"
   ]
  },
  {
   "cell_type": "code",
   "execution_count": 96,
   "metadata": {},
   "outputs": [],
   "source": [
    "from sklearn.neighbors import KNeighborsClassifier"
   ]
  },
  {
   "cell_type": "code",
   "execution_count": 97,
   "metadata": {},
   "outputs": [],
   "source": [
    "knn = KNeighborsClassifier(n_neighbors=1)"
   ]
  },
  {
   "cell_type": "code",
   "execution_count": 98,
   "metadata": {},
   "outputs": [
    {
     "data": {
      "text/plain": [
       "KNeighborsClassifier(algorithm='auto', leaf_size=30, metric='minkowski',\n",
       "                     metric_params=None, n_jobs=None, n_neighbors=1, p=2,\n",
       "                     weights='uniform')"
      ]
     },
     "execution_count": 98,
     "metadata": {},
     "output_type": "execute_result"
    }
   ],
   "source": [
    "knn.fit(X_train,y_train)"
   ]
  },
  {
   "cell_type": "code",
   "execution_count": 99,
   "metadata": {},
   "outputs": [],
   "source": [
    "pred = knn.predict(X_test)"
   ]
  },
  {
   "cell_type": "code",
   "execution_count": 113,
   "metadata": {},
   "outputs": [
    {
     "name": "stdout",
     "output_type": "stream",
     "text": [
      "[ True  True  True  True]\n"
     ]
    }
   ],
   "source": [
    "print(pred[2]==y_test[1])\n"
   ]
  },
  {
   "cell_type": "code",
   "execution_count": 105,
   "metadata": {},
   "outputs": [
    {
     "data": {
      "text/plain": [
       "array([1., 0., 0., 0.])"
      ]
     },
     "execution_count": 105,
     "metadata": {},
     "output_type": "execute_result"
    }
   ],
   "source": [
    "y_test[1]"
   ]
  },
  {
   "cell_type": "code",
   "execution_count": 76,
   "metadata": {},
   "outputs": [],
   "source": [
    "# pred = ohe.inverse_transform(pred)\n",
    "y_test = ohe.inverse_transform(y_test)"
   ]
  },
  {
   "cell_type": "code",
   "execution_count": 69,
   "metadata": {},
   "outputs": [],
   "source": [
    "#Evaluation\n",
    "from sklearn.metrics import classification_report, confusion_matrix\n",
    "\n"
   ]
  },
  {
   "cell_type": "code",
   "execution_count": 78,
   "metadata": {},
   "outputs": [
    {
     "name": "stdout",
     "output_type": "stream",
     "text": [
      "[[13  0 20]\n",
      " [ 0  0  1]\n",
      " [14  0 28]]\n",
      "              precision    recall  f1-score   support\n",
      "\n",
      "   Decreased       0.48      0.39      0.43        33\n",
      "        Flat       0.00      0.00      0.00         1\n",
      "   Increased       0.57      0.67      0.62        42\n",
      "\n",
      "    accuracy                           0.54        76\n",
      "   macro avg       0.35      0.35      0.35        76\n",
      "weighted avg       0.52      0.54      0.53        76\n",
      "\n"
     ]
    }
   ],
   "source": [
    "print(confusion_matrix(y_test,pred))\n",
    "print(classification_report(y_test,pred))"
   ]
  },
  {
   "cell_type": "code",
   "execution_count": 114,
   "metadata": {},
   "outputs": [],
   "source": [
    "#Choose correct K values\n",
    "error_rate = []\n",
    "\n",
    "for i in range(1,40):\n",
    "    knn=KNeighborsClassifier(n_neighbors=i)\n",
    "    knn.fit(X_train,y_train)\n",
    "    pred_i=knn.predict(X_test)\n",
    "    error_rate.append(np.mean(ohe.inverse_transform(pred_i)!=ohe.inverse_transform(y_test)))\n",
    "    "
   ]
  },
  {
   "cell_type": "code",
   "execution_count": 115,
   "metadata": {
    "scrolled": true
   },
   "outputs": [
    {
     "data": {
      "text/plain": [
       "Text(0, 0.5, 'Error Rate')"
      ]
     },
     "execution_count": 115,
     "metadata": {},
     "output_type": "execute_result"
    },
    {
     "data": {
      "image/png": "[encoded data removed]",
      "text/plain": [
       "<Figure size 720x432 with 1 Axes>"
      ]
     },
     "metadata": {
      "needs_background": "light"
     },
     "output_type": "display_data"
    }
   ],
   "source": [
    "plt.figure(figsize=(10,6))\n",
    "plt.plot(range(1,40),error_rate,color='blue',ls='dashed',marker='o',markerfacecolor='red',markersize=10)\n",
    "plt.title('Error Rate vs K Value')\n",
    "plt.xlabel('K')\n",
    "plt.ylabel('Error Rate')"
   ]
  },
  {
   "cell_type": "code",
   "execution_count": 117,
   "metadata": {},
   "outputs": [
    {
     "name": "stdout",
     "output_type": "stream",
     "text": [
      "[[18  0 15]\n",
      " [ 0  0  1]\n",
      " [ 9  0 33]]\n",
      "\n",
      "\n",
      "              precision    recall  f1-score   support\n",
      "\n",
      "   Decreased       0.67      0.55      0.60        33\n",
      "        Flat       0.00      0.00      0.00         1\n",
      "   Increased       0.67      0.79      0.73        42\n",
      "\n",
      "    accuracy                           0.67        76\n",
      "   macro avg       0.45      0.44      0.44        76\n",
      "weighted avg       0.66      0.67      0.66        76\n",
      "\n"
     ]
    },
    {
     "name": "stderr",
     "output_type": "stream",
     "text": [
      "/Users/liujing/opt/anaconda3/lib/python3.7/site-packages/sklearn/metrics/_classification.py:1268: UndefinedMetricWarning:\n",
      "\n",
      "Precision and F-score are ill-defined and being set to 0.0 in labels with no predicted samples. Use `zero_division` parameter to control this behavior.\n",
      "\n"
     ]
    }
   ],
   "source": [
    "# If we choose k=3 where error rate is the lowest\n",
    "knn = KNeighborsClassifier(n_neighbors=3)\n",
    "knn.fit(X_train,y_train)\n",
    "pred = knn.predict(X_test)\n",
    "\n",
    "print(confusion_matrix(ohe.inverse_transform(y_test),ohe.inverse_transform(pred)))\n",
    "print('\\n')\n",
    "print(classification_report(ohe.inverse_transform(y_test),ohe.inverse_transform(pred)))"
   ]
  }
 ],
 "metadata": {
  "colab": {
   "collapsed_sections": [],
   "name": "2AvocadoModelDefinitionDeployment.ipynb",
   "provenance": []
  },
  "kernelspec": {
   "display_name": "Python 3",
   "language": "python",
   "name": "python3"
  },
  "language_info": {
   "codemirror_mode": {
    "name": "ipython",
    "version": 3
   },
   "file_extension": ".py",
   "mimetype": "text/x-python",
   "name": "python",
   "nbconvert_exporter": "python",
   "pygments_lexer": "ipython3",
   "version": "3.7.5"
  }
 },
 "nbformat": 4,
 "nbformat_minor": 1
}
